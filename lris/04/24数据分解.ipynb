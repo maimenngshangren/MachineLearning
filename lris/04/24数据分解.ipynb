{
 "cells": [
  {
   "cell_type": "code",
   "execution_count": 1,
   "id": "initial_id",
   "metadata": {
    "collapsed": true,
    "ExecuteTime": {
     "end_time": "2024-01-29T11:50:18.499240900Z",
     "start_time": "2024-01-29T11:50:18.283269700Z"
    }
   },
   "outputs": [],
   "source": [
    "# Bk4_Ch24_01_A\n",
    "\n",
    "import numpy as np\n",
    "import matplotlib.pyplot as plt\n",
    "import pandas as pd\n",
    "from sklearn.datasets import load_iris\n",
    "\n",
    "# A copy from Seaborn\n",
    "iris = load_iris()\n",
    "\n",
    "X = iris.data\n",
    "y = iris.target\n",
    "\n",
    "feature_names = ['Sepal length, x1', 'Sepal width, x2',\n",
    "                 'Petal length, x3', 'Petal width, x4']\n",
    "\n",
    "# Convert X array to dataframe\n",
    "X_df = pd.DataFrame(X, columns=feature_names)\n",
    "\n",
    "X = X_df.to_numpy();\n",
    "\n",
    "G = X.T @ X\n",
    "\n",
    "# from sklearn.metrics.pairwise import cosine_similarity\n",
    "# C = cosine_similarity(X)\n",
    "from numpy.linalg import inv\n",
    "\n",
    "# 计算标准化矩阵\n",
    "S_norm = np.diag(np.sqrt(np.diag(G)))\n",
    "# scaling matrix, diagnal element is the norm of x_j\n",
    "# 计算余弦相似度\n",
    "C = inv(S_norm) @ G @ inv(S_norm)\n",
    "# 归一化数据\n",
    "E_X = X_df.mean().to_frame().T\n",
    "X_c = X_df.sub(X_df.mean())\n",
    "# 协方差矩阵\n",
    "SIGMA = X_df.cov()\n",
    "# 相关矩阵\n",
    "RHO = X_df.corr()\n",
    "\n",
    "from scipy.stats import zscore\n",
    "# 标准化\n",
    "Z_X = zscore(X_df)\n"
   ]
  },
  {
   "cell_type": "code",
   "outputs": [],
   "source": [
    "# Bk4_Ch24_01_B\n",
    "\n",
    "from numpy.linalg import qr\n",
    "\n",
    "Q, R = qr(X_df, mode='reduced')\n"
   ],
   "metadata": {
    "collapsed": false,
    "ExecuteTime": {
     "end_time": "2024-01-29T15:35:27.349246100Z",
     "start_time": "2024-01-29T15:35:27.340943900Z"
    }
   },
   "id": "ff283c6b060375f8",
   "execution_count": 2
  },
  {
   "cell_type": "code",
   "outputs": [],
   "source": [
    "# Bk4_Ch24_01_C\n",
    "\n",
    "from numpy.linalg import cholesky as chol\n",
    "\n",
    "L_G = chol(G)\n",
    "R_G = L_G.T\n",
    "\n",
    "L_Sigma = chol(SIGMA)\n",
    "\n",
    "R_Sigma = L_Sigma.T\n"
   ],
   "metadata": {
    "collapsed": false,
    "ExecuteTime": {
     "end_time": "2024-01-29T15:35:43.386334800Z",
     "start_time": "2024-01-29T15:35:43.378759800Z"
    }
   },
   "id": "584cf3cc071225cb",
   "execution_count": 3
  },
  {
   "cell_type": "code",
   "outputs": [],
   "source": [
    "# Bk4_Ch24_01_D\n",
    "\n",
    "from numpy.linalg import eig\n",
    "\n",
    "Lambs_G, V_G = eig(G)\n",
    "Lambs_G = np.diag(Lambs_G)\n",
    "\n",
    "Lambs_sigma, V_sigma = eig(SIGMA)\n",
    "Lambs_sigma = np.diag(Lambs_sigma)\n",
    "\n",
    "Lambs_P, V_P = eig(RHO)\n",
    "Lambs_P = np.diag(Lambs_P)\n"
   ],
   "metadata": {
    "collapsed": false,
    "ExecuteTime": {
     "end_time": "2024-01-29T15:35:54.885722400Z",
     "start_time": "2024-01-29T15:35:54.878461500Z"
    }
   },
   "id": "cb9dba170a625b4a",
   "execution_count": 4
  },
  {
   "cell_type": "code",
   "outputs": [],
   "source": [
    "# Bk4_Ch24_01_E\n",
    "\n",
    "from numpy.linalg import svd\n",
    "\n",
    "U_X, S_X_, V_X = svd(X_df, full_matrices=False)\n",
    "V_X = V_X.T\n",
    "\n",
    "# full_matrices=True\n",
    "# indices_diagonal = np.diag_indices(4)\n",
    "# S_X = np.zeros_like(X_df)\n",
    "# S_X[indices_diagonal] = S_X_\n",
    "\n",
    "# full_matrices=False\n",
    "S_X = np.diag(S_X_)\n",
    "\n",
    "U_Xc, S_Xc, V_Xc = svd(X_c, full_matrices=False)\n",
    "V_Xc = V_Xc.T\n",
    "S_Xc = np.diag(S_Xc)\n",
    "\n",
    "U_Z, S_Z, V_Z = svd(Z_X, full_matrices=False)\n",
    "V_Z = V_Z.T\n",
    "S_Z = np.diag(S_Z)\n"
   ],
   "metadata": {
    "collapsed": false
   },
   "id": "5e59ee3b47629e76"
  }
 ],
 "metadata": {
  "kernelspec": {
   "display_name": "Python 3",
   "language": "python",
   "name": "python3"
  },
  "language_info": {
   "codemirror_mode": {
    "name": "ipython",
    "version": 2
   },
   "file_extension": ".py",
   "mimetype": "text/x-python",
   "name": "python",
   "nbconvert_exporter": "python",
   "pygments_lexer": "ipython2",
   "version": "2.7.6"
  }
 },
 "nbformat": 4,
 "nbformat_minor": 5
}
