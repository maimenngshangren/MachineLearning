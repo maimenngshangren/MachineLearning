{
 "cells": [
  {
   "cell_type": "markdown",
   "source": [
    "#### 矩阵乘法"
   ],
   "metadata": {
    "collapsed": false
   },
   "id": "7678f356fe4d1392"
  },
  {
   "cell_type": "code",
   "execution_count": 2,
   "id": "initial_id",
   "metadata": {
    "collapsed": true,
    "ExecuteTime": {
     "end_time": "2024-01-25T13:29:47.940175700Z",
     "start_time": "2024-01-25T13:29:47.934010300Z"
    }
   },
   "outputs": [
    {
     "name": "stdout",
     "output_type": "stream",
     "text": [
      "6\n",
      "6\n"
     ]
    }
   ],
   "source": [
    "# Bk4_Ch5_01.py\n",
    "\n",
    "import numpy as np\n",
    "\n",
    "a = np.array([[1],\n",
    "              [2],\n",
    "              [3]])\n",
    "\n",
    "a_1D = np.array([1, 2, 3])\n",
    "\n",
    "b = np.array([[-4],\n",
    "              [-5],\n",
    "              [-6]])\n",
    "\n",
    "b_1D = np.array([-4, -5, -6])\n",
    "\n",
    "# np.einsum() 爱因斯坦求和约定\n",
    "print(np.einsum('ij->', a))\n",
    "print(np.einsum('i->', a_1D))\n"
   ]
  },
  {
   "cell_type": "code",
   "outputs": [
    {
     "name": "stdout",
     "output_type": "stream",
     "text": [
      "[[ -4]\n",
      " [-10]\n",
      " [-18]]\n",
      "[ -4 -10 -18]\n"
     ]
    }
   ],
   "source": [
    "print(np.einsum('ij,ij->ij', a, b))\n",
    "print(np.einsum('i,i->i', a_1D, b_1D))\n"
   ],
   "metadata": {
    "collapsed": false,
    "ExecuteTime": {
     "end_time": "2024-01-25T13:29:59.304580800Z",
     "start_time": "2024-01-25T13:29:59.279491400Z"
    }
   },
   "id": "6a309afe6e1d976d",
   "execution_count": 3
  },
  {
   "cell_type": "code",
   "outputs": [
    {
     "name": "stdout",
     "output_type": "stream",
     "text": [
      "-32\n",
      "-32\n"
     ]
    }
   ],
   "source": [
    "print(np.einsum('ij,ij->', a, b))\n",
    "print(np.einsum('i,i->', a_1D, b_1D))\n"
   ],
   "metadata": {
    "collapsed": false,
    "ExecuteTime": {
     "end_time": "2024-01-25T13:30:24.945485800Z",
     "start_time": "2024-01-25T13:30:24.930072100Z"
    }
   },
   "id": "7f09cedc9f09ff8b",
   "execution_count": 5
  },
  {
   "cell_type": "code",
   "outputs": [
    {
     "name": "stdout",
     "output_type": "stream",
     "text": [
      "[[1 2 3]\n",
      " [2 4 6]\n",
      " [3 6 9]]\n",
      "[[1 2 3]\n",
      " [2 4 6]\n",
      " [3 6 9]]\n"
     ]
    }
   ],
   "source": [
    "print(np.einsum('ij,ji->ij', a, a))\n",
    "print(np.einsum('i,j->ij', a_1D, a_1D))\n"
   ],
   "metadata": {
    "collapsed": false,
    "ExecuteTime": {
     "end_time": "2024-01-25T13:30:36.310500700Z",
     "start_time": "2024-01-25T13:30:36.301342900Z"
    }
   },
   "id": "7f4b0298eb6ad304",
   "execution_count": 6
  },
  {
   "cell_type": "code",
   "outputs": [
    {
     "name": "stdout",
     "output_type": "stream",
     "text": [
      "[[ -4  -5  -6]\n",
      " [ -8 -10 -12]\n",
      " [-12 -15 -18]]\n",
      "[[ -4  -5  -6]\n",
      " [ -8 -10 -12]\n",
      " [-12 -15 -18]]\n"
     ]
    }
   ],
   "source": [
    "print(np.einsum('ij,ji->ij', a, b))\n",
    "print(np.einsum('i,j->ij', a_1D, b_1D))"
   ],
   "metadata": {
    "collapsed": false,
    "ExecuteTime": {
     "end_time": "2024-01-25T13:30:43.556000900Z",
     "start_time": "2024-01-25T13:30:43.509674200Z"
    }
   },
   "id": "f941ba3de79d8cc0",
   "execution_count": 7
  },
  {
   "cell_type": "code",
   "outputs": [
    {
     "name": "stdout",
     "output_type": "stream",
     "text": [
      "[[1 4 7]\n",
      " [2 5 8]\n",
      " [3 6 9]]\n"
     ]
    }
   ],
   "source": [
    "# A is a square matrix\n",
    "A = np.array([[1, 2, 3],\n",
    "              [4, 5, 6],\n",
    "              [7, 8, 9]])\n",
    "\n",
    "B = np.array([[-1, -4, -7],\n",
    "              [-2, -5, -8],\n",
    "              [-3, -6, -9]])\n",
    "\n",
    "print(np.einsum('ji', A))\n"
   ],
   "metadata": {
    "collapsed": false,
    "ExecuteTime": {
     "end_time": "2024-01-25T13:31:13.704997800Z",
     "start_time": "2024-01-25T13:31:13.684851300Z"
    }
   },
   "id": "9930c6bf60a6c509",
   "execution_count": 8
  },
  {
   "cell_type": "code",
   "outputs": [
    {
     "name": "stdout",
     "output_type": "stream",
     "text": [
      "45\n"
     ]
    }
   ],
   "source": [
    "print(np.einsum('ij->', A))\n"
   ],
   "metadata": {
    "collapsed": false,
    "ExecuteTime": {
     "end_time": "2024-01-25T13:31:24.196294500Z",
     "start_time": "2024-01-25T13:31:24.173811200Z"
    }
   },
   "id": "2acaa3bcb2855b0d",
   "execution_count": 9
  },
  {
   "cell_type": "code",
   "outputs": [
    {
     "name": "stdout",
     "output_type": "stream",
     "text": [
      "[12 15 18]\n"
     ]
    }
   ],
   "source": [
    "print(np.einsum('ij->j', A))\n"
   ],
   "metadata": {
    "collapsed": false,
    "ExecuteTime": {
     "end_time": "2024-01-25T13:31:31.312590300Z",
     "start_time": "2024-01-25T13:31:31.302994800Z"
    }
   },
   "id": "14f12652be5e1b75",
   "execution_count": 10
  },
  {
   "cell_type": "code",
   "outputs": [
    {
     "name": "stdout",
     "output_type": "stream",
     "text": [
      "[ 6 15 24]\n"
     ]
    }
   ],
   "source": [
    "print(np.einsum('ij->i', A))\n"
   ],
   "metadata": {
    "collapsed": false,
    "ExecuteTime": {
     "end_time": "2024-01-25T13:31:37.590389400Z",
     "start_time": "2024-01-25T13:31:37.580529300Z"
    }
   },
   "id": "c5c1945e6a046996",
   "execution_count": 11
  },
  {
   "cell_type": "code",
   "outputs": [
    {
     "name": "stdout",
     "output_type": "stream",
     "text": [
      "[1 5 9]\n"
     ]
    }
   ],
   "source": [
    "print(np.einsum('ii->i', A))\n"
   ],
   "metadata": {
    "collapsed": false,
    "ExecuteTime": {
     "end_time": "2024-01-25T13:31:42.155107Z",
     "start_time": "2024-01-25T13:31:42.147015600Z"
    }
   },
   "id": "5c315a866ade5bd5",
   "execution_count": 12
  },
  {
   "cell_type": "code",
   "outputs": [
    {
     "name": "stdout",
     "output_type": "stream",
     "text": [
      "15\n"
     ]
    }
   ],
   "source": [
    "print(np.einsum('ii->', A))\n"
   ],
   "metadata": {
    "collapsed": false,
    "ExecuteTime": {
     "end_time": "2024-01-25T13:31:49.747509300Z",
     "start_time": "2024-01-25T13:31:49.716102500Z"
    }
   },
   "id": "dacb58858c254e4c",
   "execution_count": 13
  },
  {
   "cell_type": "code",
   "outputs": [
    {
     "name": "stdout",
     "output_type": "stream",
     "text": [
      "[[ -14  -32  -50]\n",
      " [ -32  -77 -122]\n",
      " [ -50 -122 -194]]\n"
     ]
    }
   ],
   "source": [
    "print(np.einsum('ij,jk->ik', A, B))\n"
   ],
   "metadata": {
    "collapsed": false,
    "ExecuteTime": {
     "end_time": "2024-01-25T13:31:55.515767700Z",
     "start_time": "2024-01-25T13:31:55.505998500Z"
    }
   },
   "id": "3f9ffa1cb23b9c90",
   "execution_count": 14
  },
  {
   "cell_type": "code",
   "outputs": [
    {
     "name": "stdout",
     "output_type": "stream",
     "text": [
      "-693\n"
     ]
    }
   ],
   "source": [
    "print(np.einsum('ij,jk->', A, B))\n"
   ],
   "metadata": {
    "collapsed": false,
    "ExecuteTime": {
     "end_time": "2024-01-25T13:31:59.882797400Z",
     "start_time": "2024-01-25T13:31:59.876222400Z"
    }
   },
   "id": "a265cd2247d1145d",
   "execution_count": 15
  },
  {
   "cell_type": "code",
   "outputs": [
    {
     "name": "stdout",
     "output_type": "stream",
     "text": [
      "[[ -14  -32  -50]\n",
      " [ -32  -77 -122]\n",
      " [ -50 -122 -194]]\n"
     ]
    }
   ],
   "source": [
    "print(np.einsum('ij,jk->ki', A, B))\n"
   ],
   "metadata": {
    "collapsed": false,
    "ExecuteTime": {
     "end_time": "2024-01-25T13:32:06.421391Z",
     "start_time": "2024-01-25T13:32:06.397864900Z"
    }
   },
   "id": "3412f8c9b2e29d99",
   "execution_count": 16
  },
  {
   "cell_type": "code",
   "outputs": [
    {
     "name": "stdout",
     "output_type": "stream",
     "text": [
      "[[ -1  -8 -21]\n",
      " [ -8 -25 -48]\n",
      " [-21 -48 -81]]\n"
     ]
    }
   ],
   "source": [
    "print(np.einsum('ij,ij->ij', A, B))"
   ],
   "metadata": {
    "collapsed": false,
    "ExecuteTime": {
     "end_time": "2024-01-25T13:32:09.413818200Z",
     "start_time": "2024-01-25T13:32:09.403859100Z"
    }
   },
   "id": "6a14600391221c37",
   "execution_count": 17
  },
  {
   "cell_type": "code",
   "outputs": [],
   "source": [],
   "metadata": {
    "collapsed": false
   },
   "id": "56212cf1d271984f"
  }
 ],
 "metadata": {
  "kernelspec": {
   "display_name": "Python 3",
   "language": "python",
   "name": "python3"
  },
  "language_info": {
   "codemirror_mode": {
    "name": "ipython",
    "version": 2
   },
   "file_extension": ".py",
   "mimetype": "text/x-python",
   "name": "python",
   "nbconvert_exporter": "python",
   "pygments_lexer": "ipython2",
   "version": "2.7.6"
  }
 },
 "nbformat": 4,
 "nbformat_minor": 5
}
