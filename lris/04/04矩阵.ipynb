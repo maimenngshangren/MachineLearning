{
 "cells": [
  {
   "cell_type": "markdown",
   "source": [
    "#### 矩阵"
   ],
   "metadata": {
    "collapsed": false
   },
   "id": "e4603a5441da039"
  },
  {
   "cell_type": "code",
   "execution_count": 1,
   "id": "initial_id",
   "metadata": {
    "collapsed": true,
    "ExecuteTime": {
     "end_time": "2024-01-25T12:19:06.327398900Z",
     "start_time": "2024-01-25T12:19:06.243314400Z"
    }
   },
   "outputs": [
    {
     "name": "stdout",
     "output_type": "stream",
     "text": [
      "(2, 2)\n",
      "<class 'numpy.matrix'>\n",
      "(2,)\n",
      "<class 'numpy.ndarray'>\n",
      "(2, 2)\n",
      "<class 'numpy.ndarray'>\n",
      "(3, 2, 2)\n",
      "<class 'numpy.ndarray'>\n"
     ]
    }
   ],
   "source": [
    "# Bk4_Ch4_01.py\n",
    "\n",
    "import numpy as np\n",
    "\n",
    "# 2d matrix\n",
    "A_matrix = np.matrix([[2,4],\n",
    "                      [6,8]])\n",
    "print(A_matrix.shape)\n",
    "print(type(A_matrix))\n",
    "\n",
    "# 1d array\n",
    "A_1d = np.array([2,4])\n",
    "print(A_1d.shape)\n",
    "print(type(A_1d))\n",
    "\n",
    "# 2d array\n",
    "A_2d = np.array([[2,4],\n",
    "                 [6,8]])\n",
    "print(A_2d.shape)\n",
    "print(type(A_2d))\n",
    "\n",
    "# 3d array\n",
    "A1 = [[2,4],\n",
    "      [6,8]]\n",
    "\n",
    "A2 = [[1,3],\n",
    "      [5,7]]\n",
    "\n",
    "A3 = [[1,0],\n",
    "      [0,1]]\n",
    "A_3d = np.array([A1,A2,A3])\n",
    "print(A_3d.shape)\n",
    "print(type(A_3d))"
   ]
  },
  {
   "cell_type": "markdown",
   "source": [
    "#### 对角线元素"
   ],
   "metadata": {
    "collapsed": false
   },
   "id": "f4dea13c00ed5042"
  },
  {
   "cell_type": "code",
   "outputs": [
    {
     "data": {
      "text/plain": "array([[1, 0, 0],\n       [0, 5, 0],\n       [0, 0, 9]])"
     },
     "execution_count": 14,
     "metadata": {},
     "output_type": "execute_result"
    }
   ],
   "source": [
    "# Bk4_Ch4_02.py\n",
    "\n",
    "import numpy as np\n",
    "\n",
    "A = np.matrix([[1,2,3],\n",
    "              [4,5,6],\n",
    "              [7,8,9]])\n",
    "\n",
    "# extract diagonal elements\n",
    "a = np.diag(A)\n",
    "\n",
    "# construct a diagonal matrix\n",
    "np.diag(a)"
   ],
   "metadata": {
    "collapsed": false,
    "ExecuteTime": {
     "end_time": "2024-01-25T12:31:46.843304300Z",
     "start_time": "2024-01-25T12:31:46.832300500Z"
    }
   },
   "id": "15611d231ef66975",
   "execution_count": 14
  },
  {
   "cell_type": "markdown",
   "source": [
    "#### 矩阵加法"
   ],
   "metadata": {
    "collapsed": false
   },
   "id": "be4cf9f8fd22210a"
  },
  {
   "cell_type": "code",
   "outputs": [
    {
     "data": {
      "text/plain": "(matrix([[ 3,  8],\n         [ 7, 12]]),\n matrix([[ 3,  8],\n         [ 7, 12]]),\n matrix([[-1, -4],\n         [-1, -4]]),\n matrix([[-1, -4],\n         [-1, -4]]))"
     },
     "execution_count": 15,
     "metadata": {},
     "output_type": "execute_result"
    }
   ],
   "source": [
    "# Bk4_Ch4_03.py\n",
    "\n",
    "import numpy as np\n",
    "\n",
    "# define matrix\n",
    "A = np.matrix([[1, 2], [3, 4]])\n",
    "B = np.matrix([[2, 6], [4, 8]])\n",
    "\n",
    "# matrix addition\n",
    "A_plus_B = np.add(A,B)\n",
    "A_plus_B_2 = A + B\n",
    "\n",
    "\n",
    "# matrix subtraction\n",
    "A_minus_B = np.subtract(A,B)\n",
    "A_minus_B_2 = A - B\n",
    "\n",
    "A_plus_B, A_plus_B_2, A_minus_B, A_minus_B_2"
   ],
   "metadata": {
    "collapsed": false,
    "ExecuteTime": {
     "end_time": "2024-01-25T12:34:37.489369100Z",
     "start_time": "2024-01-25T12:34:37.468900300Z"
    }
   },
   "id": "1ca93bc90a2ddd08",
   "execution_count": 15
  },
  {
   "cell_type": "markdown",
   "source": [
    "#### 标量乘法"
   ],
   "metadata": {
    "collapsed": false
   },
   "id": "76b600f9a0f68a6b"
  },
  {
   "cell_type": "code",
   "outputs": [],
   "source": [
    "# Bk4_Ch4_04.py\n",
    "\n",
    "import numpy as np\n",
    "\n",
    "k = 2\n",
    "X = [[1,2],\n",
    "     [3,4]]\n",
    "\n",
    "# scalar multiplication\n",
    "k_times_X = np.dot(k,X)\n",
    "k_times_X_2 = k*np.matrix(X)"
   ],
   "metadata": {
    "collapsed": false,
    "ExecuteTime": {
     "end_time": "2024-01-25T12:19:06.382276600Z",
     "start_time": "2024-01-25T12:19:06.359388900Z"
    }
   },
   "id": "6712be240bb84861",
   "execution_count": 4
  },
  {
   "cell_type": "markdown",
   "source": [
    "#### 广播原则"
   ],
   "metadata": {
    "collapsed": false
   },
   "id": "2aeeae050521fc44"
  },
  {
   "cell_type": "code",
   "outputs": [
    {
     "data": {
      "text/plain": "(matrix([[3, 4],\n         [5, 6],\n         [7, 8]]),\n matrix([[4, 5],\n         [5, 6],\n         [6, 7]]),\n matrix([[3, 3],\n         [5, 5],\n         [7, 7]]),\n array([[5, 4],\n        [4, 3],\n        [3, 2]]))"
     },
     "execution_count": 16,
     "metadata": {},
     "output_type": "execute_result"
    }
   ],
   "source": [
    "# Bk4_Ch4_05.py\n",
    "\n",
    "import numpy as np\n",
    "\n",
    "# define matrix\n",
    "A = np.matrix([[1, 2], \n",
    "               [3, 4],\n",
    "               [5, 6]])\n",
    "\n",
    "# scaler\n",
    "k = 2;\n",
    "\n",
    "# column vector c\n",
    "c = np.array([[3],\n",
    "              [2],\n",
    "              [1]])\n",
    "\n",
    "# row vector r\n",
    "r = np.array([[2,1]])\n",
    "\n",
    "# broadcasting principles\n",
    "\n",
    "# matrix A plus scalar k\n",
    "A_plus_k = A + k\n",
    "\n",
    "# matrix A plus column vector c\n",
    "A_plus_a = A + c\n",
    "\n",
    "# matrix A plus row vector r\n",
    "A_plus_r = A + r\n",
    "\n",
    "# column vector c plus row vector r\n",
    "c_plus_r = c + r\n",
    "\n",
    "A_plus_k, A_plus_a, A_plus_r, c_plus_r"
   ],
   "metadata": {
    "collapsed": false,
    "ExecuteTime": {
     "end_time": "2024-01-25T12:41:22.159230600Z",
     "start_time": "2024-01-25T12:41:22.114965200Z"
    }
   },
   "id": "cf7fd2205480602a",
   "execution_count": 16
  },
  {
   "cell_type": "markdown",
   "source": [
    "#### 标量乘法"
   ],
   "metadata": {
    "collapsed": false
   },
   "id": "e5efff9a7404fc7d"
  },
  {
   "cell_type": "code",
   "outputs": [
    {
     "data": {
      "text/plain": "(array([[ 4, 10],\n        [10, 24]]),\n array([[ 4, 10],\n        [10, 24]]))"
     },
     "execution_count": 17,
     "metadata": {},
     "output_type": "execute_result"
    }
   ],
   "source": [
    "# Bk4_Ch4_06.py\n",
    "\n",
    "import numpy as np\n",
    "\n",
    "A = np.array([[1, 2],\n",
    "              [3, 4]])\n",
    "\n",
    "B = np.array([[2, 4],\n",
    "              [1, 3]])\n",
    "\n",
    "# matrix multiplication\n",
    "A_times_B = np.matmul(A, B)\n",
    "A_times_B_2 = A@B\n",
    "\n",
    "A_times_B, A_times_B_2"
   ],
   "metadata": {
    "collapsed": false,
    "ExecuteTime": {
     "end_time": "2024-01-25T12:44:17.797450600Z",
     "start_time": "2024-01-25T12:44:17.765068Z"
    }
   },
   "id": "454c65469ed29b5b",
   "execution_count": 17
  },
  {
   "cell_type": "markdown",
   "source": [
    "#### 乘法例子 **"
   ],
   "metadata": {
    "collapsed": false
   },
   "id": "435daeaeeb506bc8"
  },
  {
   "cell_type": "code",
   "outputs": [
    {
     "name": "stdout",
     "output_type": "stream",
     "text": [
      "[[ 5 12]\n",
      " [ 8 18]]\n",
      "[[21 24]]\n",
      "[[21 24]]\n"
     ]
    }
   ],
   "source": [
    "# Bk4_Ch4_07.py\n",
    "\n",
    "import numpy as np\n",
    "\n",
    "A = np.array([[1, 2]])\n",
    "\n",
    "B = np.array([[5, 6], \n",
    "              [8, 9]])\n",
    "\n",
    "print(A*B)\n",
    "\n",
    "A = np.array([[1, 2]])\n",
    "\n",
    "B = np.matrix([[5, 6], \n",
    "              [8, 9]])\n",
    "\n",
    "print(A*B)\n",
    "\n",
    "A = np.matrix([[1, 2]])\n",
    "\n",
    "B = np.matrix([[5, 6], \n",
    "              [8, 9]])\n",
    "\n",
    "print(A*B)"
   ],
   "metadata": {
    "collapsed": false,
    "ExecuteTime": {
     "end_time": "2024-01-25T12:19:06.446350700Z",
     "start_time": "2024-01-25T12:19:06.406769700Z"
    }
   },
   "id": "9b8fdbe9605c734",
   "execution_count": 7
  },
  {
   "cell_type": "markdown",
   "source": [
    "#### 矩阵乘幂"
   ],
   "metadata": {
    "collapsed": false
   },
   "id": "bc0f593abe6a4657"
  },
  {
   "cell_type": "code",
   "outputs": [
    {
     "data": {
      "text/plain": "(array([[ 37.,  54.],\n        [ 81., 118.]]),\n array([[ 37.,  54.],\n        [ 81., 118.]]),\n array([[ 1.,  8.],\n        [27., 64.]]))"
     },
     "execution_count": 18,
     "metadata": {},
     "output_type": "execute_result"
    }
   ],
   "source": [
    "# Bk4_Ch4_08.py\n",
    "\n",
    "from numpy.linalg import matrix_power as pw\n",
    "\n",
    "A = np.array([[1., 2.], \n",
    "              [3., 4.]])\n",
    "\n",
    "# matrix inverse\n",
    "A_3 = pw(A,3)\n",
    "A_3_v3 = A@A@A\n",
    "\n",
    "# piecewise power\n",
    "A_3_piecewise = A**3\n",
    "\n",
    "A_3, A_3_v3, A_3_piecewise"
   ],
   "metadata": {
    "collapsed": false,
    "ExecuteTime": {
     "end_time": "2024-01-25T13:17:21.476174600Z",
     "start_time": "2024-01-25T13:17:21.437969300Z"
    }
   },
   "id": "3ff361161865b4c3",
   "execution_count": 18
  },
  {
   "cell_type": "code",
   "outputs": [
    {
     "name": "stdout",
     "output_type": "stream",
     "text": [
      "[[ 7 15]\n",
      " [10 22]]\n",
      "[[ 1  9]\n",
      " [ 4 16]]\n"
     ]
    }
   ],
   "source": [
    "# Bk4_Ch4_09.py\n",
    "\n",
    "import numpy as np\n",
    "\n",
    "A = np.matrix([[1,3],\n",
    "               [2,4]])\n",
    "\n",
    "print(A**2)\n",
    "\n",
    "B = np.array([[1,3],\n",
    "              [2,4]])\n",
    "\n",
    "print(B**2)"
   ],
   "metadata": {
    "collapsed": false,
    "ExecuteTime": {
     "end_time": "2024-01-25T12:19:06.462339100Z",
     "start_time": "2024-01-25T12:19:06.436899600Z"
    }
   },
   "id": "1ec9542a62626f87",
   "execution_count": 9
  },
  {
   "cell_type": "markdown",
   "source": [
    "#### 矩阵转置"
   ],
   "metadata": {
    "collapsed": false
   },
   "id": "3686055338d44d03"
  },
  {
   "cell_type": "code",
   "outputs": [],
   "source": [
    "# Bk4_Ch4_10.py\n",
    "\n",
    "import numpy as np\n",
    "\n",
    "A = np.array([[1, 2],\n",
    "              [3, 4],\n",
    "              [5, 6]])\n",
    "\n",
    "# matrix transpose\n",
    "A_T = A.transpose()\n",
    "A_T_2 = A.T"
   ],
   "metadata": {
    "collapsed": false,
    "ExecuteTime": {
     "end_time": "2024-01-25T12:19:06.493315900Z",
     "start_time": "2024-01-25T12:19:06.453065300Z"
    }
   },
   "id": "3ef3b8a57dd6c10b",
   "execution_count": 10
  },
  {
   "cell_type": "markdown",
   "source": [
    "#### 矩阵的逆"
   ],
   "metadata": {
    "collapsed": false
   },
   "id": "6d0978b556d7510f"
  },
  {
   "cell_type": "code",
   "outputs": [
    {
     "data": {
      "text/plain": "(array([[-2. ,  1. ],\n        [ 1.5, -0.5]]),\n array([[1.00000000e+00, 1.11022302e-16],\n        [0.00000000e+00, 1.00000000e+00]]))"
     },
     "execution_count": 19,
     "metadata": {},
     "output_type": "execute_result"
    }
   ],
   "source": [
    "# Bk4_Ch4_11.py\n",
    "\n",
    "from numpy.linalg import inv\n",
    "A = np.array([[1., 2.], \n",
    "              [3., 4.]])\n",
    "\n",
    "# matrix inverse\n",
    "A_inverse = inv(A)\n",
    "A_times_A_inv = A@A_inverse\n",
    "\n",
    "A_inverse, A_times_A_inv"
   ],
   "metadata": {
    "collapsed": false,
    "ExecuteTime": {
     "end_time": "2024-01-25T13:22:00.422246400Z",
     "start_time": "2024-01-25T13:22:00.413809Z"
    }
   },
   "id": "b37e579cffd6ead5",
   "execution_count": 19
  },
  {
   "cell_type": "code",
   "outputs": [
    {
     "name": "stdout",
     "output_type": "stream",
     "text": [
      "[[-2.   1. ]\n",
      " [ 1.5 -0.5]]\n"
     ]
    }
   ],
   "source": [
    "# Bk4_Ch4_12.py\n",
    "\n",
    "import numpy as np\n",
    "\n",
    "A = np.matrix([[1, 2], \n",
    "               [3, 4]])\n",
    "\n",
    "print(A.I)\n",
    "\n",
    "# B = np.array([[1, 2], \n",
    "#               [3, 4]])\n",
    "# \n",
    "# print(B.I)\n",
    "\n",
    "# 如果使用 np.matrix 创建矩阵，可以使用 .I 属性进行求逆操作；对于使用 np.array 创建的数组，应该使用 numpy.linalg.inv 函数"
   ],
   "metadata": {
    "collapsed": false,
    "ExecuteTime": {
     "end_time": "2024-01-25T13:23:28.437352100Z",
     "start_time": "2024-01-25T13:23:28.404197700Z"
    }
   },
   "id": "8c95fe3425339fbf",
   "execution_count": 21
  },
  {
   "cell_type": "markdown",
   "source": [
    "#### 迹"
   ],
   "metadata": {
    "collapsed": false
   },
   "id": "cb3bccc7fa8398c7"
  },
  {
   "cell_type": "code",
   "outputs": [
    {
     "data": {
      "text/plain": "6"
     },
     "execution_count": 23,
     "metadata": {},
     "output_type": "execute_result"
    }
   ],
   "source": [
    "# Bk4_Ch4_13.py\n",
    "\n",
    "import numpy as np\n",
    "A = np.array([[1, -1, 0], \n",
    "              [3,  2, 4],\n",
    "              [-2, 0, 3]])\n",
    "\n",
    "# calculate trace of A\n",
    "tr_A = np.trace(A)\n",
    "\n",
    "tr_A"
   ],
   "metadata": {
    "collapsed": false,
    "ExecuteTime": {
     "end_time": "2024-01-25T13:25:49.327072300Z",
     "start_time": "2024-01-25T13:25:49.318837600Z"
    }
   },
   "id": "673c96dad0e22662",
   "execution_count": 23
  },
  {
   "cell_type": "markdown",
   "source": [
    "#### 逐项积"
   ],
   "metadata": {
    "collapsed": false
   },
   "id": "3ac170eb1b25d231"
  },
  {
   "cell_type": "code",
   "outputs": [
    {
     "data": {
      "text/plain": "(array([[ 5, 12],\n        [21, 32]]),\n array([[ 5, 12],\n        [21, 32]]))"
     },
     "execution_count": 25,
     "metadata": {},
     "output_type": "execute_result"
    }
   ],
   "source": [
    "# Bk4_Ch4_14.py\n",
    "\n",
    "import numpy as np\n",
    "\n",
    "A = np.array([[1,2],\n",
    "              [3,4]])\n",
    "\n",
    "B = np.array([[5,6],\n",
    "              [7,8]])\n",
    "\n",
    "# Hadamard product\n",
    "A_times_B_piecewise = np.multiply(A,B)\n",
    "A_times_B_piecewise_V2 = A*B\n",
    "\n",
    "A_times_B_piecewise, A_times_B_piecewise_V2"
   ],
   "metadata": {
    "collapsed": false,
    "ExecuteTime": {
     "end_time": "2024-01-25T13:26:34.699316600Z",
     "start_time": "2024-01-25T13:26:34.689664400Z"
    }
   },
   "id": "50039e45f8076dba",
   "execution_count": 25
  },
  {
   "cell_type": "markdown",
   "source": [
    "#### 行列式"
   ],
   "metadata": {
    "collapsed": false
   },
   "id": "c7536d1d58d25c93"
  },
  {
   "cell_type": "code",
   "outputs": [],
   "source": [
    "# Bk4_Ch4_15.py\n",
    "\n",
    "import numpy as np\n",
    "A = np.array([[4, 2], \n",
    "              [1, 3]])\n",
    "\n",
    "# calculate determinant of A\n",
    "det_A = np.linalg.det(A)"
   ],
   "metadata": {
    "collapsed": false,
    "ExecuteTime": {
     "start_time": "2024-01-25T12:19:06.784362700Z"
    }
   },
   "id": "6ef42a3b58c4fa96",
   "execution_count": null
  },
  {
   "cell_type": "code",
   "outputs": [],
   "source": [],
   "metadata": {
    "collapsed": false,
    "ExecuteTime": {
     "start_time": "2024-01-25T12:19:06.785387200Z"
    }
   },
   "id": "b384568632ab8c4b"
  }
 ],
 "metadata": {
  "kernelspec": {
   "display_name": "Python 3",
   "language": "python",
   "name": "python3"
  },
  "language_info": {
   "codemirror_mode": {
    "name": "ipython",
    "version": 2
   },
   "file_extension": ".py",
   "mimetype": "text/x-python",
   "name": "python",
   "nbconvert_exporter": "python",
   "pygments_lexer": "ipython2",
   "version": "2.7.6"
  }
 },
 "nbformat": 4,
 "nbformat_minor": 5
}
