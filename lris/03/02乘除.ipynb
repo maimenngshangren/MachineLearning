{
 "cells": [
  {
   "cell_type": "code",
   "execution_count": 16,
   "id": "initial_id",
   "metadata": {
    "collapsed": true,
    "ExecuteTime": {
     "end_time": "2024-01-21T04:44:20.230923400Z",
     "start_time": "2024-01-21T04:44:20.210338100Z"
    }
   },
   "outputs": [],
   "source": [
    "import numpy as np\n",
    "from numpy.linalg import inv\n",
    "from matplotlib import pyplot as plt\n",
    "import seaborn as sns"
   ]
  },
  {
   "cell_type": "markdown",
   "source": [
    "#### 乘法"
   ],
   "metadata": {
    "collapsed": false
   },
   "id": "3d8b4d0b72f35765"
  },
  {
   "cell_type": "code",
   "execution_count": 1,
   "outputs": [
    {
     "name": "stdout",
     "output_type": "stream",
     "text": [
      "The product of 2 and 3 is 6\n"
     ]
    }
   ],
   "source": [
    "num1 = 2\n",
    "num2 = 3\n",
    "\n",
    "# add two numbers\n",
    "prod = num1*num2\n",
    "\n",
    "# display the computation\n",
    "print('The product of {0} and {1} is {2}'.format(num1, num2, prod))"
   ],
   "metadata": {
    "collapsed": false,
    "ExecuteTime": {
     "end_time": "2024-01-21T04:28:50.503765600Z",
     "start_time": "2024-01-21T04:28:50.493687100Z"
    }
   },
   "id": "31f86679f9cd079d"
  },
  {
   "cell_type": "markdown",
   "source": [
    "#### 阶乘"
   ],
   "metadata": {
    "collapsed": false
   },
   "id": "12f7226da690ccbc"
  },
  {
   "cell_type": "code",
   "execution_count": 18,
   "outputs": [
    {
     "ename": "ValueError",
     "evalue": "invalid literal for int() with base 10: ''",
     "output_type": "error",
     "traceback": [
      "\u001B[1;31m---------------------------------------------------------------------------\u001B[0m",
      "\u001B[1;31mValueError\u001B[0m                                Traceback (most recent call last)",
      "Cell \u001B[1;32mIn[18], line 1\u001B[0m\n\u001B[1;32m----> 1\u001B[0m num \u001B[38;5;241m=\u001B[39m \u001B[38;5;28;43mint\u001B[39;49m\u001B[43m(\u001B[49m\u001B[38;5;28;43minput\u001B[39;49m\u001B[43m(\u001B[49m\u001B[38;5;124;43m\"\u001B[39;49m\u001B[38;5;124;43mEnter an integer: \u001B[39;49m\u001B[38;5;124;43m\"\u001B[39;49m\u001B[43m)\u001B[49m\u001B[43m)\u001B[49m\n\u001B[0;32m      3\u001B[0m factorial \u001B[38;5;241m=\u001B[39m \u001B[38;5;241m1\u001B[39m\n\u001B[0;32m      5\u001B[0m \u001B[38;5;66;03m# check if the number is negative, positive or zero\u001B[39;00m\n",
      "\u001B[1;31mValueError\u001B[0m: invalid literal for int() with base 10: ''"
     ]
    }
   ],
   "source": [
    "num = int(input(\"Enter an integer: \"))\n",
    "\n",
    "factorial = 1\n",
    "\n",
    "# check if the number is negative, positive or zero\n",
    "if num < 0:\n",
    "    print(\"Factorial does not exist for negative numbers\")\n",
    "elif num == 0:\n",
    "    print(\"The factorial of 0 is \", factorial)\n",
    "else:\n",
    "    for i in range(1,num + 1):\n",
    "       factorial = factorial*i\n",
    "    print(\"The factorial of\",num,\" is \",factorial)"
   ],
   "metadata": {
    "collapsed": false,
    "ExecuteTime": {
     "end_time": "2024-01-21T04:55:41.001639100Z",
     "start_time": "2024-01-21T04:55:37.320355Z"
    }
   },
   "id": "1efcd54edd267246"
  },
  {
   "cell_type": "markdown",
   "source": [
    "#### 累乘"
   ],
   "metadata": {
    "collapsed": false
   },
   "id": "dc3d18bc7cf760f0"
  },
  {
   "cell_type": "code",
   "execution_count": 4,
   "outputs": [
    {
     "name": "stdout",
     "output_type": "stream",
     "text": [
      "[ 1.  2.  3.  4.  5.  6.  7.  8.  9. 10.]\n",
      "[      1.       2.       6.      24.     120.     720.    5040.   40320.\n",
      "  362880. 3628800.]\n"
     ]
    }
   ],
   "source": [
    "a_i = np.linspace(1,10,10)\n",
    "print(a_i)\n",
    "\n",
    "# 计算累计乘法\n",
    "a_i_cumprod = np.cumprod(a_i)\n",
    "\n",
    "# np.set_printoptions() 用于设置打印选项的函数，suppress=True 将关闭科学计数法\n",
    "np.set_printoptions(suppress=True)\n",
    "print(a_i_cumprod)"
   ],
   "metadata": {
    "collapsed": false,
    "ExecuteTime": {
     "end_time": "2024-01-21T04:29:59.875087100Z",
     "start_time": "2024-01-21T04:29:59.855193700Z"
    }
   },
   "id": "6041659ab389cac2"
  },
  {
   "cell_type": "markdown",
   "source": [
    "#### 除法"
   ],
   "metadata": {
    "collapsed": false
   },
   "id": "f06f61a6dc64bf19"
  },
  {
   "cell_type": "code",
   "execution_count": 5,
   "outputs": [
    {
     "name": "stdout",
     "output_type": "stream",
     "text": [
      "The division of 6 over 3 is 2.0\n"
     ]
    }
   ],
   "source": [
    "num1 = 6\n",
    "num2 = 3\n",
    "\n",
    "# add two numbers\n",
    "division = num1/num2\n",
    "\n",
    "# display the computation\n",
    "print('The division of {0} over {1} is {2}'.format(num1, num2, division))"
   ],
   "metadata": {
    "collapsed": false,
    "ExecuteTime": {
     "end_time": "2024-01-21T04:34:47.219928300Z",
     "start_time": "2024-01-21T04:34:47.210693800Z"
    }
   },
   "id": "26354cfabf8591b3"
  },
  {
   "cell_type": "markdown",
   "source": [
    "#### 余数"
   ],
   "metadata": {
    "collapsed": false
   },
   "id": "9bd40b4fd1a317d6"
  },
  {
   "cell_type": "code",
   "execution_count": 6,
   "outputs": [
    {
     "name": "stdout",
     "output_type": "stream",
     "text": [
      "The remainder of 7 over 2 is 1\n"
     ]
    }
   ],
   "source": [
    "num1 = 7\n",
    "num2 = 2\n",
    "\n",
    "# add two numbers\n",
    "remainder = num1%num2\n",
    "\n",
    "# display the computation\n",
    "print('The remainder of {0} over {1} is {2}'.format(num1, num2, remainder))"
   ],
   "metadata": {
    "collapsed": false,
    "ExecuteTime": {
     "end_time": "2024-01-21T04:35:04.244380Z",
     "start_time": "2024-01-21T04:35:04.227600600Z"
    }
   },
   "id": "5cae665bd097a46a"
  },
  {
   "cell_type": "markdown",
   "source": [
    "#### 标量乘法"
   ],
   "metadata": {
    "collapsed": false
   },
   "id": "ed0864072a55561f"
  },
  {
   "cell_type": "code",
   "execution_count": 7,
   "outputs": [],
   "source": [
    "# define a column vector\n",
    "a_col = np.array([[1], [2], [3]])\n",
    "\n",
    "b_col = 2*a_col\n",
    "\n",
    "# define a row vector\n",
    "a_row = np.array([[1, 2, 3]])\n",
    "\n",
    "b_row = 2*a_row\n",
    "\n",
    "# define a matrix\n",
    "A = np.array([[1, 2, 3],\n",
    "              [4, 5, 6]])\n",
    "\n",
    "B = 2*A"
   ],
   "metadata": {
    "collapsed": false,
    "ExecuteTime": {
     "end_time": "2024-01-21T04:35:29.229530600Z",
     "start_time": "2024-01-21T04:35:29.209258800Z"
    }
   },
   "id": "23da06282f4c3afd"
  },
  {
   "cell_type": "code",
   "execution_count": 8,
   "outputs": [
    {
     "data": {
      "text/plain": "(array([[2],\n        [4],\n        [6]]),\n array([[2, 4, 6]]),\n array([[ 2,  4,  6],\n        [ 8, 10, 12]]))"
     },
     "execution_count": 8,
     "metadata": {},
     "output_type": "execute_result"
    }
   ],
   "source": [
    "b_col, b_row, B"
   ],
   "metadata": {
    "collapsed": false,
    "ExecuteTime": {
     "end_time": "2024-01-21T04:35:41.441395400Z",
     "start_time": "2024-01-21T04:35:41.436044300Z"
    }
   },
   "id": "a6dcbaf151ae4b85"
  },
  {
   "cell_type": "markdown",
   "source": [
    "#### 向量内积"
   ],
   "metadata": {
    "collapsed": false
   },
   "id": "f8c2d82a7c30db5b"
  },
  {
   "cell_type": "code",
   "execution_count": 9,
   "outputs": [
    {
     "name": "stdout",
     "output_type": "stream",
     "text": [
      "[[16]]\n",
      "[[16]]\n",
      "16\n",
      "[[-1  0  1]\n",
      " [-2  0  2]\n",
      " [-3  0  3]]\n",
      "2\n"
     ]
    }
   ],
   "source": [
    "a_row = np.array([[1, 2, 3]])\n",
    "b_row = np.array([[4, 3, 2]])\n",
    "\n",
    "a_dot_b = np.inner(a_row, b_row)\n",
    "\n",
    "print(a_dot_b)\n",
    "print(np.inner(a_row[:], b_row[:]))\n",
    "# np.inner() 计算行向量的内积， 函数输入为两个列向量时得到的结果为张量积\n",
    "print(np.sum(a_row * b_row))\n",
    "\n",
    "a_col = np.array([[1], [2], [3]])\n",
    "b_col = np.array([[-1], [0], [1]])\n",
    "\n",
    "a_dot_b = np.inner(a_col, b_col)\n",
    "# np.inner() 计算行向量的内积， 函数输入为两个列向量时得到的结果为张量积\n",
    "print(a_dot_b)  # tensor product\n",
    "print(np.sum(a_col * b_col))"
   ],
   "metadata": {
    "collapsed": false,
    "ExecuteTime": {
     "end_time": "2024-01-21T04:35:58.122962300Z",
     "start_time": "2024-01-21T04:35:58.093381700Z"
    }
   },
   "id": "78c5d30ca313cf27"
  },
  {
   "cell_type": "markdown",
   "source": [
    "#### 逐项积"
   ],
   "metadata": {
    "collapsed": false
   },
   "id": "737a78c7c923188f"
  },
  {
   "cell_type": "code",
   "execution_count": 10,
   "outputs": [],
   "source": [
    "a = np.array([[1, 2, 3]])\n",
    "b = np.array([[4, 5, 6]])\n",
    "\n",
    "# calculate element-wise product of row vectors\n",
    "a_times_b = a*b\n",
    "\n",
    "A = np.array([[1, 2, 3],\n",
    "              [4, 5, 6]])\n",
    "\n",
    "B = np.array([[1, 2, 3],\n",
    "              [-1, 0, 1]])\n",
    "\n",
    "# calculate element-wise product of matrices\n",
    "A_times_B = A*B"
   ],
   "metadata": {
    "collapsed": false,
    "ExecuteTime": {
     "end_time": "2024-01-21T04:41:02.537248500Z",
     "start_time": "2024-01-21T04:41:02.506685300Z"
    }
   },
   "id": "d38b9c28ad99f5cd"
  },
  {
   "cell_type": "code",
   "execution_count": 11,
   "outputs": [
    {
     "data": {
      "text/plain": "(array([[ 4, 10, 18]]),\n array([[ 1,  4,  9],\n        [-4,  0,  6]]))"
     },
     "execution_count": 11,
     "metadata": {},
     "output_type": "execute_result"
    }
   ],
   "source": [
    "a_times_b, A_times_B"
   ],
   "metadata": {
    "collapsed": false,
    "ExecuteTime": {
     "end_time": "2024-01-21T04:41:12.586035100Z",
     "start_time": "2024-01-21T04:41:12.541532900Z"
    }
   },
   "id": "ca8ddf5057343dd"
  },
  {
   "cell_type": "markdown",
   "source": [
    "#### 向量乘法"
   ],
   "metadata": {
    "collapsed": false
   },
   "id": "31526373e726db86"
  },
  {
   "cell_type": "code",
   "execution_count": 13,
   "outputs": [
    {
     "data": {
      "text/plain": "array([[10,  4],\n       [24, 10]])"
     },
     "execution_count": 13,
     "metadata": {},
     "output_type": "execute_result"
    }
   ],
   "source": [
    "A = np.array([[1, 2],\n",
    "              [3, 4]])\n",
    "\n",
    "B = np.array([[4, 2],\n",
    "              [3, 1]])\n",
    "\n",
    "# calculate matrix multiplication\n",
    "C = A@B\n",
    "C"
   ],
   "metadata": {
    "collapsed": false,
    "ExecuteTime": {
     "end_time": "2024-01-21T04:41:41.451422400Z",
     "start_time": "2024-01-21T04:41:41.437415100Z"
    }
   },
   "id": "4527f616827d9a24"
  },
  {
   "cell_type": "markdown",
   "source": [
    "#### 热图"
   ],
   "metadata": {
    "collapsed": false
   },
   "id": "dd7c5f6237ccd426"
  },
  {
   "cell_type": "code",
   "execution_count": 19,
   "outputs": [
    {
     "data": {
      "text/plain": "(array([0.5, 1.5, 2.5, 3.5, 4.5, 5.5]),\n [Text(0, 0.5, '1'),\n  Text(0, 1.5, '2'),\n  Text(0, 2.5, '3'),\n  Text(0, 3.5, '4'),\n  Text(0, 4.5, '5'),\n  Text(0, 5.5, '6')])"
     },
     "execution_count": 19,
     "metadata": {},
     "output_type": "execute_result"
    },
    {
     "data": {
      "text/plain": "<Figure size 1200x300 with 8 Axes>",
      "image/png": "[encoded data removed]"
     },
     "metadata": {},
     "output_type": "display_data"
    }
   ],
   "source": [
    "np.random.seed(7)\n",
    "\n",
    "# Generate matrix A and B\n",
    "m = 6\n",
    "p = 3\n",
    "n = 4\n",
    "\n",
    "A = np.random.uniform(-1, 1, m * p).reshape(m, p)\n",
    "B = np.random.uniform(-1, 1, p * n).reshape(p, n)\n",
    "\n",
    "C = A @ B\n",
    "\n",
    "all_max = 1\n",
    "all_min = -1\n",
    "\n",
    "fig, axs = plt.subplots(1, 5, figsize=(12, 3))\n",
    "\n",
    "# 设置当前坐标轴为第一个子图的坐标轴\n",
    "plt.sca(axs[0])\n",
    "ax = sns.heatmap(A, cmap='RdBu_r', vmax=all_max, vmin=all_min,\n",
    "                 cbar_kws={\"orientation\": \"horizontal\"},\n",
    "                 yticklabels=np.arange(1, m + 1), xticklabels=np.arange(1, p + 1))\n",
    "ax.set_aspect(\"equal\")\n",
    "plt.title('$A$')\n",
    "plt.yticks(rotation=0)\n",
    "\n",
    "plt.sca(axs[1])\n",
    "plt.title('$@$')\n",
    "plt.axis('off')\n",
    "\n",
    "plt.sca(axs[2])\n",
    "ax = sns.heatmap(B, cmap='RdBu_r', vmax=all_max, vmin=all_min,\n",
    "                 cbar_kws={\"orientation\": \"horizontal\"},\n",
    "                 yticklabels=np.arange(1, p + 1), xticklabels=np.arange(1, n + 1))\n",
    "ax.set_aspect(\"equal\")\n",
    "plt.title('$B$')\n",
    "plt.yticks(rotation=0)\n",
    "\n",
    "plt.sca(axs[3])\n",
    "plt.title('$=$')\n",
    "plt.axis('off')\n",
    "\n",
    "plt.sca(axs[4])\n",
    "ax = sns.heatmap(C, cmap='RdBu_r', vmax=all_max, vmin=all_min,\n",
    "                 cbar_kws={\"orientation\": \"horizontal\"},\n",
    "                 yticklabels=np.arange(1, m + 1), xticklabels=np.arange(1, n + 1))\n",
    "ax.set_aspect(\"equal\")\n",
    "plt.title('$C$')\n",
    "plt.yticks(rotation=0)\n"
   ],
   "metadata": {
    "collapsed": false,
    "ExecuteTime": {
     "end_time": "2024-01-21T06:27:49.199599Z",
     "start_time": "2024-01-21T06:27:48.393070100Z"
    }
   },
   "id": "24b70207b46092fc"
  },
  {
   "cell_type": "code",
   "execution_count": 20,
   "outputs": [
    {
     "data": {
      "text/plain": "(array([0.5, 1.5, 2.5, 3.5, 4.5, 5.5]),\n [Text(0, 0.5, '1'),\n  Text(0, 1.5, '2'),\n  Text(0, 2.5, '3'),\n  Text(0, 3.5, '4'),\n  Text(0, 4.5, '5'),\n  Text(0, 5.5, '6')])"
     },
     "execution_count": 20,
     "metadata": {},
     "output_type": "execute_result"
    },
    {
     "data": {
      "text/plain": "<Figure size 1200x300 with 11 Axes>",
      "image/png": "[encoded data removed]"
     },
     "metadata": {},
     "output_type": "display_data"
    }
   ],
   "source": [
    "# Bk_Ch2_10_B\n",
    "\n",
    "C1 = A[:, [0]] @ B[[0], :]\n",
    "\n",
    "C2 = A[:, [1]] @ B[[1], :]\n",
    "\n",
    "C3 = A[:, [2]] @ B[[2], :]\n",
    "\n",
    "fig, axs = plt.subplots(1, 7, figsize=(12, 3))\n",
    "\n",
    "plt.sca(axs[0])\n",
    "ax = sns.heatmap(C1, cmap='RdBu_r', vmax=all_max, vmin=all_min,\n",
    "                 cbar_kws={\"orientation\": \"horizontal\"},\n",
    "                 yticklabels=np.arange(1, m + 1), xticklabels=np.arange(1, n + 1))\n",
    "ax.set_aspect(\"equal\")\n",
    "plt.title('$C_1$')\n",
    "plt.yticks(rotation=0)\n",
    "\n",
    "plt.sca(axs[1])\n",
    "plt.title('$+$')\n",
    "plt.axis('off')\n",
    "\n",
    "plt.sca(axs[2])\n",
    "ax = sns.heatmap(C2, cmap='RdBu_r', vmax=all_max, vmin=all_min,\n",
    "                 cbar_kws={\"orientation\": \"horizontal\"},\n",
    "                 yticklabels=np.arange(1, m + 1), xticklabels=np.arange(1, n + 1))\n",
    "ax.set_aspect(\"equal\")\n",
    "plt.title('$C_2$')\n",
    "plt.yticks(rotation=0)\n",
    "\n",
    "plt.sca(axs[3])\n",
    "plt.title('$+$')\n",
    "plt.axis('off')\n",
    "\n",
    "plt.sca(axs[4])\n",
    "ax = sns.heatmap(C3, cmap='RdBu_r', vmax=all_max, vmin=all_min,\n",
    "                 cbar_kws={\"orientation\": \"horizontal\"},\n",
    "                 yticklabels=np.arange(1, m + 1), xticklabels=np.arange(1, n + 1))\n",
    "ax.set_aspect(\"equal\")\n",
    "plt.title('$C_3$')\n",
    "plt.yticks(rotation=0)\n",
    "\n",
    "plt.sca(axs[5])\n",
    "plt.title('$=$')\n",
    "plt.axis('off')\n",
    "\n",
    "plt.sca(axs[6])\n",
    "ax = sns.heatmap(C, cmap='RdBu_r', vmax=all_max, vmin=all_min,\n",
    "                 cbar_kws={\"orientation\": \"horizontal\"},\n",
    "                 yticklabels=np.arange(1, m + 1), xticklabels=np.arange(1, n + 1))\n",
    "ax.set_aspect(\"equal\")\n",
    "plt.title('$C$')\n",
    "plt.yticks(rotation=0) \n"
   ],
   "metadata": {
    "collapsed": false,
    "ExecuteTime": {
     "end_time": "2024-01-21T06:28:05.009246300Z",
     "start_time": "2024-01-21T06:28:04.059653900Z"
    }
   },
   "id": "e7238d04ff30e104"
  },
  {
   "cell_type": "code",
   "execution_count": 17,
   "outputs": [
    {
     "data": {
      "text/plain": "(array([0.5, 1.5, 2.5, 3.5]),\n [Text(0, 0.5, '1'), Text(0, 1.5, '2'), Text(0, 2.5, '3'), Text(0, 3.5, '4')])"
     },
     "execution_count": 17,
     "metadata": {},
     "output_type": "execute_result"
    },
    {
     "data": {
      "text/plain": "<Figure size 1200x300 with 8 Axes>",
      "image/png": "[encoded data removed]"
     },
     "metadata": {},
     "output_type": "display_data"
    }
   ],
   "source": [
    " "
   ],
   "metadata": {
    "collapsed": false,
    "ExecuteTime": {
     "end_time": "2024-01-21T04:44:25.972096800Z",
     "start_time": "2024-01-21T04:44:25.391412100Z"
    }
   },
   "id": "1125e96cda9b8ab0"
  },
  {
   "cell_type": "code",
   "execution_count": null,
   "outputs": [],
   "source": [],
   "metadata": {
    "collapsed": false
   },
   "id": "b61f60499573f322"
  }
 ],
 "metadata": {
  "kernelspec": {
   "display_name": "Python 3",
   "language": "python",
   "name": "python3"
  },
  "language_info": {
   "codemirror_mode": {
    "name": "ipython",
    "version": 2
   },
   "file_extension": ".py",
   "mimetype": "text/x-python",
   "name": "python",
   "nbconvert_exporter": "python",
   "pygments_lexer": "ipython2",
   "version": "2.7.6"
  }
 },
 "nbformat": 4,
 "nbformat_minor": 5
}
