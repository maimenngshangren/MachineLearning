{
 "cells": [
  {
   "cell_type": "markdown",
   "source": [
    "#### pi"
   ],
   "metadata": {
    "collapsed": false
   },
   "id": "ea27e3ff926c0819"
  },
  {
   "cell_type": "code",
   "execution_count": null,
   "outputs": [],
   "source": [
    "import math\n",
    "\n",
    "# Print the value of pi\n",
    "print ('pi = ', math.pi)\n",
    "\n",
    "# Print the value of e\n",
    "print ('e = ', math.e)\n",
    "\n",
    "# Print the value of square root of 2\n",
    "print ('sqrt(2) = ', math.sqrt(2))"
   ],
   "metadata": {
    "collapsed": false
   },
   "id": "3b5aef4de543ad76"
  },
  {
   "cell_type": "markdown",
   "source": [
    "#### mpmath库 高精度显示pi"
   ],
   "metadata": {
    "collapsed": false
   },
   "id": "db448ded4a50fb5a"
  },
  {
   "cell_type": "code",
   "execution_count": null,
   "outputs": [],
   "source": [
    "import mpmath as mp\n",
    "\n",
    "mp.dps = 1000 + 1\n",
    "\n",
    "print('print 1000 digits of pi behind decimal point')\n",
    "print(mp.pi)\n",
    "\n",
    "print('print 1000 digits of e behind decimal point')\n",
    "print(mp.e)\n",
    "\n",
    "print('print 1000 digits of sqrt(2) behind decimal point')\n",
    "print(mp.sqrt(2))"
   ],
   "metadata": {
    "collapsed": false
   },
   "id": "76cc8b4d7387e3ff"
  },
  {
   "cell_type": "markdown",
   "source": [
    "#### 累加"
   ],
   "metadata": {
    "collapsed": false
   },
   "id": "b87b5067a986cd14"
  },
  {
   "cell_type": "code",
   "execution_count": 9,
   "outputs": [
    {
     "name": "stdout",
     "output_type": "stream",
     "text": [
      "[ 1.  2.  3.  4.  5.  6.  7.  8.  9. 10.]\n",
      "[ 1.  3.  6. 10. 15. 21. 28. 36. 45. 55.]\n"
     ]
    }
   ],
   "source": [
    "import numpy as np\n",
    "\n",
    "a_i = np.linspace(1,10,10)\n",
    "print(a_i)\n",
    "\n",
    "a_i_cumsum = np.cumsum(a_i)\n",
    "print(a_i_cumsum)"
   ],
   "metadata": {
    "collapsed": false,
    "ExecuteTime": {
     "end_time": "2024-01-21T04:07:02.869211Z",
     "start_time": "2024-01-21T04:07:02.828729800Z"
    }
   },
   "id": "c7c24111739a62c1"
  },
  {
   "cell_type": "markdown",
   "source": [
    "#### 转置"
   ],
   "metadata": {
    "collapsed": false
   },
   "id": "79e40c56547f9443"
  },
  {
   "cell_type": "code",
   "execution_count": 12,
   "outputs": [
    {
     "data": {
      "text/plain": "(array([[1, 2, 3]]),\n array([[1],\n        [2],\n        [3]]))"
     },
     "execution_count": 12,
     "metadata": {},
     "output_type": "execute_result"
    }
   ],
   "source": [
    "# row vector transposed to a column vector\n",
    "a_row = np.array([[1, 2, 3]])\n",
    "\n",
    "b = a_row.T\n",
    "\n",
    "b_col = np.array([[1],[2],[3]])\n",
    "\n",
    "a = b_col.T\n",
    "a, b"
   ],
   "metadata": {
    "collapsed": false,
    "ExecuteTime": {
     "end_time": "2024-01-21T04:12:27.933975200Z",
     "start_time": "2024-01-21T04:12:27.874429700Z"
    }
   },
   "id": "c2b542cbe30416c2"
  },
  {
   "cell_type": "markdown",
   "source": [
    "#### 剪切"
   ],
   "metadata": {
    "collapsed": false
   },
   "id": "82fdcad4aebe8964"
  },
  {
   "cell_type": "code",
   "execution_count": 18,
   "outputs": [],
   "source": [
    "A = np.array([[1, 2, 3],\n",
    "              [4, 5, 6]])\n",
    "\n",
    "A_first_col = A[:,0] # saved as one dimension row\n",
    "\n",
    "A_first_col_V2 = A[:,[0]] # saved as a column\n",
    "\n",
    "A_first_second_col_V2 = A[:,[0,1]] # extract first and second columns\n",
    "\n",
    "A_first_third_col_V2 = A[:,[0,2]] # extract first and third columns\n",
    "\n",
    "A_first_row = A[[0],:] # extract first row\n",
    "\n",
    "A_second_row = A[[1],:] # extract second row\n",
    "\n",
    "A_second_row_first_col = A[[1],[0]] # i = 2, j = 1"
   ],
   "metadata": {
    "collapsed": false,
    "ExecuteTime": {
     "end_time": "2024-01-21T04:13:49.390068100Z",
     "start_time": "2024-01-21T04:13:49.362009400Z"
    }
   },
   "id": "fab579097d27700f"
  },
  {
   "cell_type": "code",
   "execution_count": 23,
   "outputs": [
    {
     "data": {
      "text/plain": "((2,), array([1, 4]))"
     },
     "execution_count": 23,
     "metadata": {},
     "output_type": "execute_result"
    }
   ],
   "source": [
    "A_first_col.shape, A_first_col"
   ],
   "metadata": {
    "collapsed": false,
    "ExecuteTime": {
     "end_time": "2024-01-21T04:14:45.869475900Z",
     "start_time": "2024-01-21T04:14:45.858267800Z"
    }
   },
   "id": "cc02a9111c58d0aa"
  },
  {
   "cell_type": "code",
   "execution_count": 22,
   "outputs": [
    {
     "data": {
      "text/plain": "((2, 1),\n array([[1],\n        [4]]))"
     },
     "execution_count": 22,
     "metadata": {},
     "output_type": "execute_result"
    }
   ],
   "source": [
    "A_first_col_V2.shape, A_first_col_V2"
   ],
   "metadata": {
    "collapsed": false,
    "ExecuteTime": {
     "end_time": "2024-01-21T04:14:42.432413400Z",
     "start_time": "2024-01-21T04:14:42.424764400Z"
    }
   },
   "id": "91ff0fc9d436d42c"
  },
  {
   "cell_type": "code",
   "execution_count": 25,
   "outputs": [
    {
     "data": {
      "text/plain": "((2, 2),\n array([[1, 2],\n        [4, 5]]))"
     },
     "execution_count": 25,
     "metadata": {},
     "output_type": "execute_result"
    }
   ],
   "source": [
    "A_first_second_col_V2.shape, A_first_second_col_V2"
   ],
   "metadata": {
    "collapsed": false,
    "ExecuteTime": {
     "end_time": "2024-01-21T04:15:39.666521300Z",
     "start_time": "2024-01-21T04:15:39.657520Z"
    }
   },
   "id": "ea204b2637ff29b2"
  },
  {
   "cell_type": "code",
   "execution_count": 26,
   "outputs": [
    {
     "data": {
      "text/plain": "((2, 2),\n array([[1, 3],\n        [4, 6]]))"
     },
     "execution_count": 26,
     "metadata": {},
     "output_type": "execute_result"
    }
   ],
   "source": [
    "A_first_third_col_V2.shape, A_first_third_col_V2"
   ],
   "metadata": {
    "collapsed": false,
    "ExecuteTime": {
     "end_time": "2024-01-21T04:15:39.962169700Z",
     "start_time": "2024-01-21T04:15:39.926716700Z"
    }
   },
   "id": "f21c3e60017f4568"
  },
  {
   "cell_type": "code",
   "execution_count": 33,
   "outputs": [
    {
     "data": {
      "text/plain": "((1, 3), array([[1, 2, 3]]))"
     },
     "execution_count": 33,
     "metadata": {},
     "output_type": "execute_result"
    }
   ],
   "source": [
    "A_first_row.shape, A_first_row"
   ],
   "metadata": {
    "collapsed": false,
    "ExecuteTime": {
     "end_time": "2024-01-21T04:17:32.199938800Z",
     "start_time": "2024-01-21T04:17:32.187048400Z"
    }
   },
   "id": "8347f57e429a0f57"
  },
  {
   "cell_type": "code",
   "execution_count": 32,
   "outputs": [
    {
     "data": {
      "text/plain": "((1, 3), array([[4, 5, 6]]))"
     },
     "execution_count": 32,
     "metadata": {},
     "output_type": "execute_result"
    }
   ],
   "source": [
    "A_second_row.shape, A_second_row"
   ],
   "metadata": {
    "collapsed": false,
    "ExecuteTime": {
     "end_time": "2024-01-21T04:17:29.156696900Z",
     "start_time": "2024-01-21T04:17:29.134091600Z"
    }
   },
   "id": "975b82c8acec0d91"
  },
  {
   "cell_type": "code",
   "execution_count": 35,
   "outputs": [
    {
     "data": {
      "text/plain": "((1,), array([4]))"
     },
     "execution_count": 35,
     "metadata": {},
     "output_type": "execute_result"
    }
   ],
   "source": [
    "A_second_row_first_col.shape, A_second_row_first_col"
   ],
   "metadata": {
    "collapsed": false,
    "ExecuteTime": {
     "end_time": "2024-01-21T04:18:03.629891Z",
     "start_time": "2024-01-21T04:18:03.619711700Z"
    }
   },
   "id": "eb4a8b97b7362a93"
  },
  {
   "cell_type": "markdown",
   "source": [
    "#### 矩阵加法  "
   ],
   "metadata": {
    "collapsed": false
   },
   "id": "7c16802b078e088d"
  },
  {
   "cell_type": "code",
   "execution_count": 44,
   "outputs": [
    {
     "name": "stdout",
     "output_type": "stream",
     "text": [
      "[5, 7, 9]\n",
      "[5, 7, 9]\n",
      "[5 7 9]\n",
      "[5 7 9]\n"
     ]
    }
   ],
   "source": [
    "list1=[1, 2, 3]\n",
    "list2=[4, 5, 6]\n",
    "print([x + y for x, y in zip(list1, list2)])\n",
    "# zip() 打包成元组\n",
    "\n",
    "print(list(map(lambda x,y:x+y, list1, list2)))\n",
    "# map() 函数是一个内置函数，它用于对可迭代对象中的每个元素应用一个指定的函数，返回一个迭代器\n",
    "\n",
    "x = np.array(list1)\n",
    "y = np.array(list2)\n",
    "print(x+y)\n",
    "\n",
    "print(np.add(list1,list2))"
   ],
   "metadata": {
    "collapsed": false,
    "ExecuteTime": {
     "end_time": "2024-01-21T04:51:12.384307800Z",
     "start_time": "2024-01-21T04:51:12.366780200Z"
    }
   },
   "id": "dbee392ebfe384ec"
  },
  {
   "cell_type": "code",
   "execution_count": 39,
   "outputs": [
    {
     "data": {
      "text/plain": "[[2, 2, 3], [4, 6, 6]]"
     },
     "execution_count": 39,
     "metadata": {},
     "output_type": "execute_result"
    }
   ],
   "source": [
    "A = [[1, 2, 3],\n",
    "     [4, 5, 6]]\n",
    "\n",
    "B = [[1, 0, 0],\n",
    "     [0, 1, 0]]\n",
    "\n",
    "A_plus_B = [[A[i][j] + B[i][j]  \n",
    "            for j in range(len(A[0]))] \n",
    "            for i in range(len(A))]\n",
    "\n",
    "A_plus_B"
   ],
   "metadata": {
    "collapsed": false,
    "ExecuteTime": {
     "end_time": "2024-01-21T04:21:37.906441700Z",
     "start_time": "2024-01-21T04:21:37.894760900Z"
    }
   },
   "id": "f1083391636cc4f9"
  },
  {
   "cell_type": "code",
   "execution_count": 40,
   "outputs": [
    {
     "name": "stdout",
     "output_type": "stream",
     "text": [
      "[[2 2 3]\n",
      " [4 6 6]]\n",
      "[[2 2 3]\n",
      " [4 6 6]]\n"
     ]
    }
   ],
   "source": [
    "A = [[1, 2, 3],\n",
    "     [4, 5, 6]]\n",
    "\n",
    "B = [[1, 0, 0],\n",
    "     [0, 1, 0]]\n",
    "\n",
    "print(np.array(A) + np.array(B))\n",
    "\n",
    "print(np.add(A, B))"
   ],
   "metadata": {
    "collapsed": false,
    "ExecuteTime": {
     "end_time": "2024-01-21T04:21:47.061444700Z",
     "start_time": "2024-01-21T04:21:47.040541100Z"
    }
   },
   "id": "27e3d9b9cdf4e17b"
  },
  {
   "cell_type": "code",
   "execution_count": 43,
   "outputs": [
    {
     "data": {
      "text/plain": "DeltaGenerator()"
     },
     "execution_count": 43,
     "metadata": {},
     "output_type": "execute_result"
    }
   ],
   "source": [],
   "metadata": {
    "collapsed": false,
    "ExecuteTime": {
     "end_time": "2024-01-21T04:26:38.004466300Z",
     "start_time": "2024-01-21T04:26:37.791753800Z"
    }
   },
   "id": "ecbc738b87f0c694"
  },
  {
   "cell_type": "code",
   "execution_count": null,
   "outputs": [],
   "source": [],
   "metadata": {
    "collapsed": false
   },
   "id": "ad498c1679b01b10"
  }
 ],
 "metadata": {
  "kernelspec": {
   "display_name": "Python 3",
   "language": "python",
   "name": "python3"
  },
  "language_info": {
   "codemirror_mode": {
    "name": "ipython",
    "version": 2
   },
   "file_extension": ".py",
   "mimetype": "text/x-python",
   "name": "python",
   "nbconvert_exporter": "python",
   "pygments_lexer": "ipython2",
   "version": "2.7.6"
  }
 },
 "nbformat": 4,
 "nbformat_minor": 5
}
