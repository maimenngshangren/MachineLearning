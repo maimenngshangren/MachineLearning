{
 "cells": [
  {
   "cell_type": "code",
   "execution_count": 93,
   "id": "initial_id",
   "metadata": {
    "collapsed": true,
    "ExecuteTime": {
     "end_time": "2023-12-20T15:39:54.338721600Z",
     "start_time": "2023-12-20T15:39:54.318639300Z"
    }
   },
   "outputs": [],
   "source": [
    "from sympy import symbols, factor\n",
    "# 从sympy中导入symbols, factor symbols 用来定义符号变量，factor 用来完成因式分解\n",
    "from sympy import init_printing\n",
    "import numpy as np\n",
    "import matplotlib.pyplot as plt"
   ]
  },
  {
   "cell_type": "markdown",
   "source": [
    "## SymPy 符号运算\n",
    "◄ sympy.abc import x 定义符号变量 x\n",
    "◄ sympy.abc() 引入符号变量\n",
    "◄ sympy.collect() 合并同类项\n",
    "◄ sympy.cos() 符号运算中余弦\n",
    "◄ sympy.diff() 求解符号导数和偏导解析式\n",
    "◄ sympy.Eq() 定义符号等式\n",
    "◄ sympy.evalf() 将符号解析式中未知量替换为具体数值\n",
    "◄ sympy.exp() 符号自然指数\n",
    "◄ sympy.expand() 展开代数式\n",
    "◄ sympy.factor() 对代数式进行因式分解\n",
    "◄ sympy.integrate() 符号积分\n",
    "◄ sympy.is_decreasing() 判断符号函数的单调性\n",
    "◄ sympy.lambdify() 将符号表达式转化为函数\n",
    "◄ sympy.limit() 求解极限\n",
    "◄ sympy.Matrix() 构造符号函数矩阵\n",
    "◄ sympy.plot_implicit()绘制隐函数方程\n",
    "◄ sympy.plot3d() 绘制函数的三维曲面\n",
    "◄ sympy.series() 求解泰勒展开级数符号式\n",
    "◄ sympy.simplify() 简化代数式\n",
    "◄ sympy.sin() 符号运算中正弦\n",
    "◄ sympy.solve() 求解符号方程组\n",
    "◄ sympy.solve_linear_system() 求解含有符号变量的线型方程组\n",
    "◄ sympy.symbols() 创建符号变量\n",
    "◄ sympy.sympify() 化简符号函数表达式\n",
    "◄ sympy.utilities.lambdify.lambdify() 将符号代数式转化为函数"
   ],
   "metadata": {
    "collapsed": false
   },
   "id": "1f10746823e80c93"
  },
  {
   "cell_type": "markdown",
   "source": [
    "### 1 什么是 SymPy?\n",
    "SymPy 是一个基于 Python 的符号数学库，它可以执行代数运算、解方程、微积分、离散数学以及其他数学操作。"
   ],
   "metadata": {
    "collapsed": false
   },
   "id": "8871b6fefa2742c4"
  },
  {
   "cell_type": "markdown",
   "source": [
    "### 2 代数\n",
    "因式分解"
   ],
   "metadata": {
    "collapsed": false
   },
   "id": "1067566fbf46743d"
  },
  {
   "cell_type": "code",
   "execution_count": 2,
   "outputs": [
    {
     "data": {
      "text/plain": "(x - y)*(x + y)",
      "text/latex": "$\\displaystyle \\left(x - y\\right) \\left(x + y\\right)$"
     },
     "execution_count": 2,
     "metadata": {},
     "output_type": "execute_result"
    }
   ],
   "source": [
    "x, y = symbols('x y')\n",
    "# 用sympy.symbols (简做symbols) 定义x和y两个符号变量\n",
    "f = x ** 2 - y ** 2\n",
    "f_factored = factor(f)\n",
    "f_factored"
   ],
   "metadata": {
    "collapsed": false,
    "ExecuteTime": {
     "end_time": "2023-12-20T14:37:26.621621800Z",
     "start_time": "2023-12-20T14:37:26.569647100Z"
    }
   },
   "id": "a27f3e2adf73aaab"
  },
  {
   "cell_type": "code",
   "execution_count": 3,
   "outputs": [
    {
     "data": {
      "text/plain": "x**2 - y**2",
      "text/latex": "$\\displaystyle x^{2} - y^{2}$"
     },
     "execution_count": 3,
     "metadata": {},
     "output_type": "execute_result"
    }
   ],
   "source": [
    "from sympy import expand\n",
    "\n",
    "f_expand = expand(f_factored)\n",
    "f_expand"
   ],
   "metadata": {
    "collapsed": false,
    "ExecuteTime": {
     "end_time": "2023-12-20T14:37:26.629637500Z",
     "start_time": "2023-12-20T14:37:26.621621800Z"
    }
   },
   "id": "fdbf378e594305f0"
  },
  {
   "cell_type": "markdown",
   "source": [
    "替换"
   ],
   "metadata": {
    "collapsed": false
   },
   "id": "cea4d95fa16d2136"
  },
  {
   "cell_type": "code",
   "execution_count": 4,
   "outputs": [
    {
     "data": {
      "text/plain": "x**3 + x**2 + x + 1",
      "text/latex": "$\\displaystyle x^{3} + x^{2} + x + 1$"
     },
     "execution_count": 4,
     "metadata": {},
     "output_type": "execute_result"
    }
   ],
   "source": [
    "from sympy import sympify\n",
    "\n",
    "str_expression = 'x**3 + x**2 + x + 1'\n",
    "# 将字符串转化为符号表达式\n",
    "str_2_sym = sympify(str_expression)\n",
    "str_2_sym"
   ],
   "metadata": {
    "collapsed": false,
    "ExecuteTime": {
     "end_time": "2023-12-20T14:37:26.640244700Z",
     "start_time": "2023-12-20T14:37:26.629637500Z"
    }
   },
   "id": "92e006181c97ba6a"
  },
  {
   "cell_type": "code",
   "execution_count": 5,
   "outputs": [
    {
     "data": {
      "text/plain": "y**3 + y**2 + y + 1",
      "text/latex": "$\\displaystyle y^{3} + y^{2} + y + 1$"
     },
     "execution_count": 5,
     "metadata": {},
     "output_type": "execute_result"
    }
   ],
   "source": [
    "# 将符号x替换为y\n",
    "str_2_sym.subs(x, y)"
   ],
   "metadata": {
    "collapsed": false,
    "ExecuteTime": {
     "end_time": "2023-12-20T14:37:26.679788300Z",
     "start_time": "2023-12-20T14:37:26.640244700Z"
    }
   },
   "id": "f48944992442eb2b"
  },
  {
   "cell_type": "code",
   "execution_count": 6,
   "outputs": [
    {
     "data": {
      "text/plain": "1",
      "text/latex": "$\\displaystyle 1$"
     },
     "execution_count": 6,
     "metadata": {},
     "output_type": "execute_result"
    }
   ],
   "source": [
    "# 将符号x替换为0\n",
    "str_2_sym.subs(x, 0)"
   ],
   "metadata": {
    "collapsed": false,
    "ExecuteTime": {
     "end_time": "2023-12-20T14:37:26.680339500Z",
     "start_time": "2023-12-20T14:37:26.649529700Z"
    }
   },
   "id": "21341dc96f621744"
  },
  {
   "cell_type": "markdown",
   "source": [
    "特殊符号数值"
   ],
   "metadata": {
    "collapsed": false
   },
   "id": "de60e2ce2e2232a0"
  },
  {
   "cell_type": "code",
   "execution_count": 7,
   "outputs": [
    {
     "data": {
      "text/plain": "(True, True)"
     },
     "execution_count": 7,
     "metadata": {},
     "output_type": "execute_result"
    }
   ],
   "source": [
    "sympify(2).is_integer, sympify(2).is_real"
   ],
   "metadata": {
    "collapsed": false,
    "ExecuteTime": {
     "end_time": "2023-12-20T14:37:26.681352800Z",
     "start_time": "2023-12-20T14:37:26.660059100Z"
    }
   },
   "id": "7f2e26087db4d449"
  },
  {
   "cell_type": "code",
   "execution_count": 8,
   "outputs": [
    {
     "data": {
      "text/plain": "1/2",
      "text/latex": "$\\displaystyle \\frac{1}{2}$"
     },
     "execution_count": 8,
     "metadata": {},
     "output_type": "execute_result"
    }
   ],
   "source": [
    "from sympy import Rational\n",
    "\n",
    "Rational(1, 2)"
   ],
   "metadata": {
    "collapsed": false,
    "ExecuteTime": {
     "end_time": "2023-12-20T14:37:26.699951700Z",
     "start_time": "2023-12-20T14:37:26.678115200Z"
    }
   },
   "id": "ef20b24fa8dc9e72"
  },
  {
   "cell_type": "code",
   "execution_count": 9,
   "outputs": [
    {
     "data": {
      "text/plain": "1/(1 + sqrt(2))",
      "text/latex": "$\\displaystyle \\frac{1}{1 + \\sqrt{2}}$"
     },
     "execution_count": 9,
     "metadata": {},
     "output_type": "execute_result"
    }
   ],
   "source": [
    "from sympy import sqrt\n",
    "\n",
    "1 / (sqrt(2) + 1)"
   ],
   "metadata": {
    "collapsed": false,
    "ExecuteTime": {
     "end_time": "2023-12-20T14:37:26.751127100Z",
     "start_time": "2023-12-20T14:37:26.696441800Z"
    }
   },
   "id": "a92a7a0abec2013"
  },
  {
   "cell_type": "code",
   "execution_count": 10,
   "outputs": [
    {
     "data": {
      "text/plain": "pi**2",
      "text/latex": "$\\displaystyle \\pi^{2}$"
     },
     "execution_count": 10,
     "metadata": {},
     "output_type": "execute_result"
    }
   ],
   "source": [
    "from sympy import pi\n",
    "\n",
    "expr = pi ** 2\n",
    "expr"
   ],
   "metadata": {
    "collapsed": false,
    "ExecuteTime": {
     "end_time": "2023-12-20T14:37:26.751127100Z",
     "start_time": "2023-12-20T14:37:26.709722300Z"
    }
   },
   "id": "15963bd339ebf524"
  },
  {
   "cell_type": "code",
   "execution_count": 11,
   "outputs": [
    {
     "data": {
      "text/plain": "exp(2)",
      "text/latex": "$\\displaystyle e^{2}$"
     },
     "execution_count": 11,
     "metadata": {},
     "output_type": "execute_result"
    }
   ],
   "source": [
    "from sympy import exp\n",
    "\n",
    "exp(2)"
   ],
   "metadata": {
    "collapsed": false,
    "ExecuteTime": {
     "end_time": "2023-12-20T14:37:26.751127100Z",
     "start_time": "2023-12-20T14:37:26.724243700Z"
    }
   },
   "id": "e345c1a6314df5c4"
  },
  {
   "cell_type": "code",
   "execution_count": 12,
   "outputs": [
    {
     "data": {
      "text/plain": "120",
      "text/latex": "$\\displaystyle 120$"
     },
     "execution_count": 12,
     "metadata": {},
     "output_type": "execute_result"
    }
   ],
   "source": [
    "from sympy import factorial\n",
    "\n",
    "factorial(5)"
   ],
   "metadata": {
    "collapsed": false,
    "ExecuteTime": {
     "end_time": "2023-12-20T14:37:26.751127100Z",
     "start_time": "2023-12-20T14:37:26.741137400Z"
    }
   },
   "id": "a5717f3db0f36849"
  },
  {
   "cell_type": "code",
   "execution_count": 13,
   "outputs": [
    {
     "data": {
      "text/plain": "5",
      "text/latex": "$\\displaystyle 5$"
     },
     "execution_count": 13,
     "metadata": {},
     "output_type": "execute_result"
    }
   ],
   "source": [
    "from sympy import binomial\n",
    "\n",
    "binomial(5, 4)"
   ],
   "metadata": {
    "collapsed": false,
    "ExecuteTime": {
     "end_time": "2023-12-20T14:37:26.788695500Z",
     "start_time": "2023-12-20T14:37:26.751127100Z"
    }
   },
   "id": "ba2ced7f4475ce55"
  },
  {
   "cell_type": "code",
   "execution_count": 14,
   "outputs": [
    {
     "data": {
      "text/plain": "24",
      "text/latex": "$\\displaystyle 24$"
     },
     "execution_count": 14,
     "metadata": {},
     "output_type": "execute_result"
    }
   ],
   "source": [
    "from sympy import gamma\n",
    "\n",
    "gamma(5)"
   ],
   "metadata": {
    "collapsed": false,
    "ExecuteTime": {
     "end_time": "2023-12-20T14:37:26.789699600Z",
     "start_time": "2023-12-20T14:37:26.761157Z"
    }
   },
   "id": "9f3d7cbfdd6a28c0"
  },
  {
   "cell_type": "markdown",
   "source": [
    " 区间"
   ],
   "metadata": {
    "collapsed": false
   },
   "id": "89f428f0ceb2aa86"
  },
  {
   "cell_type": "code",
   "execution_count": 17,
   "outputs": [
    {
     "data": {
      "text/plain": "(Interval(0, 1),\n Interval.open(0, 1),\n Interval.Ropen(0, 1),\n Interval.Lopen(0, 1))"
     },
     "execution_count": 17,
     "metadata": {},
     "output_type": "execute_result"
    }
   ],
   "source": [
    "from sympy import Interval, oo\n",
    "\n",
    "Interval(0, 1, left_open=False, right_open=False)"
   ],
   "metadata": {
    "collapsed": false,
    "ExecuteTime": {
     "end_time": "2023-12-20T14:38:58.039643900Z",
     "start_time": "2023-12-20T14:38:58.009966Z"
    }
   },
   "id": "f9db1bc9b6597574"
  },
  {
   "cell_type": "code",
   "execution_count": 16,
   "outputs": [
    {
     "data": {
      "text/plain": "Interval.open(0, 1)",
      "text/latex": "$\\displaystyle \\left(0, 1\\right)$"
     },
     "execution_count": 16,
     "metadata": {},
     "output_type": "execute_result"
    }
   ],
   "source": [
    "Interval(0, 1, left_open=True, right_open=True)"
   ],
   "metadata": {
    "collapsed": false,
    "ExecuteTime": {
     "end_time": "2023-12-20T14:38:25.660111700Z",
     "start_time": "2023-12-20T14:38:25.630474600Z"
    }
   },
   "id": "bd08e03e638495d7"
  },
  {
   "cell_type": "code",
   "execution_count": 18,
   "outputs": [
    {
     "data": {
      "text/plain": "Interval.Ropen(0, 1)",
      "text/latex": "$\\displaystyle \\left[0, 1\\right)$"
     },
     "execution_count": 18,
     "metadata": {},
     "output_type": "execute_result"
    }
   ],
   "source": [
    "Interval(0, 1, left_open=False, right_open=True)"
   ],
   "metadata": {
    "collapsed": false,
    "ExecuteTime": {
     "end_time": "2023-12-20T14:39:12.509848200Z",
     "start_time": "2023-12-20T14:39:12.499705200Z"
    }
   },
   "id": "10d99d4c8566b6d2"
  },
  {
   "cell_type": "code",
   "execution_count": 20,
   "outputs": [
    {
     "data": {
      "text/plain": "Interval.Lopen(0, 1)",
      "text/latex": "$\\displaystyle \\left(0, 1\\right]$"
     },
     "execution_count": 20,
     "metadata": {},
     "output_type": "execute_result"
    }
   ],
   "source": [
    "Interval(0, 1, left_open=True, right_open=False)"
   ],
   "metadata": {
    "collapsed": false,
    "ExecuteTime": {
     "end_time": "2023-12-20T14:39:22.932115300Z",
     "start_time": "2023-12-20T14:39:22.922091100Z"
    }
   },
   "id": "77a6e3fa68080563"
  },
  {
   "cell_type": "code",
   "execution_count": 21,
   "outputs": [
    {
     "data": {
      "text/plain": "Interval(0, oo)",
      "text/latex": "$\\displaystyle \\left[0, \\infty\\right)$"
     },
     "execution_count": 21,
     "metadata": {},
     "output_type": "execute_result"
    }
   ],
   "source": [
    "Interval(0, oo, left_open=False, right_open=True)"
   ],
   "metadata": {
    "collapsed": false,
    "ExecuteTime": {
     "end_time": "2023-12-20T14:39:32.619960700Z",
     "start_time": "2023-12-20T14:39:32.599835900Z"
    }
   },
   "id": "bde4c51d111270e"
  },
  {
   "cell_type": "code",
   "execution_count": 23,
   "outputs": [
    {
     "data": {
      "text/plain": "Interval.open(-oo, 0)",
      "text/latex": "$\\displaystyle \\left(-\\infty, 0\\right)$"
     },
     "execution_count": 23,
     "metadata": {},
     "output_type": "execute_result"
    }
   ],
   "source": [
    "Interval(-oo, 0, left_open=True, right_open=True)"
   ],
   "metadata": {
    "collapsed": false,
    "ExecuteTime": {
     "end_time": "2023-12-20T14:40:26.925360800Z",
     "start_time": "2023-12-20T14:40:26.915506500Z"
    }
   },
   "id": "ae8c4a69ea65dbc4"
  },
  {
   "cell_type": "code",
   "execution_count": 24,
   "outputs": [
    {
     "data": {
      "text/plain": "Union(Interval.open(-oo, 0), Interval.open(1, oo))",
      "text/latex": "$\\displaystyle \\left(-\\infty, 0\\right) \\cup \\left(1, \\infty\\right)$"
     },
     "execution_count": 24,
     "metadata": {},
     "output_type": "execute_result"
    }
   ],
   "source": [
    "from sympy import Interval, S\n",
    "\n",
    "Interval(0, 1).complement(S.Reals)"
   ],
   "metadata": {
    "collapsed": false,
    "ExecuteTime": {
     "end_time": "2023-12-20T14:41:56.145691500Z",
     "start_time": "2023-12-20T14:41:56.119496700Z"
    }
   },
   "id": "cdb5db42cf3d766f"
  },
  {
   "cell_type": "code",
   "execution_count": 25,
   "outputs": [
    {
     "data": {
      "text/plain": "Interval(0, 2)",
      "text/latex": "$\\displaystyle \\left[0, 2\\right]$"
     },
     "execution_count": 25,
     "metadata": {},
     "output_type": "execute_result"
    }
   ],
   "source": [
    "Interval(0, 1) + Interval(1, 2)"
   ],
   "metadata": {
    "collapsed": false,
    "ExecuteTime": {
     "end_time": "2023-12-20T14:42:07.185586500Z",
     "start_time": "2023-12-20T14:42:07.155805900Z"
    }
   },
   "id": "a0b2438b6e0134eb"
  },
  {
   "cell_type": "code",
   "execution_count": 26,
   "outputs": [
    {
     "data": {
      "text/plain": "True"
     },
     "execution_count": 26,
     "metadata": {},
     "output_type": "execute_result"
    }
   ],
   "source": [
    "intvl = Interval.Lopen(0, 1)\n",
    "intvl.has(0)"
   ],
   "metadata": {
    "collapsed": false,
    "ExecuteTime": {
     "end_time": "2023-12-20T14:42:30.665744600Z",
     "start_time": "2023-12-20T14:42:30.646483Z"
    }
   },
   "id": "ff15e6fdd94c07a3"
  },
  {
   "cell_type": "markdown",
   "source": [
    "求解等式\n"
   ],
   "metadata": {
    "collapsed": false
   },
   "id": "8ade7f67f0a74471"
  },
  {
   "cell_type": "code",
   "execution_count": 29,
   "outputs": [
    {
     "data": {
      "text/plain": "[-1, 1]"
     },
     "execution_count": 29,
     "metadata": {},
     "output_type": "execute_result"
    }
   ],
   "source": [
    "from sympy import symbols, solve, Eq\n",
    "\n",
    "x = symbols('x')\n",
    "# 定义等式 x**2 = 1\n",
    "equation_1 = Eq(x ** 2, 1)\n",
    "solve(equation_1, x)"
   ],
   "metadata": {
    "collapsed": false,
    "ExecuteTime": {
     "end_time": "2023-12-20T14:43:41.605782400Z",
     "start_time": "2023-12-20T14:43:41.595976800Z"
    }
   },
   "id": "1126f387f77f14a1"
  },
  {
   "cell_type": "code",
   "execution_count": 28,
   "outputs": [
    {
     "data": {
      "text/plain": "[(-b - sqrt(-4*a*c + b**2))/(2*a), (-b + sqrt(-4*a*c + b**2))/(2*a)]"
     },
     "execution_count": 28,
     "metadata": {},
     "output_type": "execute_result"
    }
   ],
   "source": [
    "a, b, c = symbols(\"a,b,c\", real=True)\n",
    "# 定义等式 a*x**2+b*x = -c\n",
    "equation_2 = Eq(a * x ** 2 + b * x + c, 0)\n",
    "solve(equation_2, x)"
   ],
   "metadata": {
    "collapsed": false,
    "ExecuteTime": {
     "end_time": "2023-12-20T14:43:38.875902500Z",
     "start_time": "2023-12-20T14:43:38.829250200Z"
    }
   },
   "id": "a321079499d0e1b"
  },
  {
   "cell_type": "markdown",
   "source": [
    "函数"
   ],
   "metadata": {
    "collapsed": false
   },
   "id": "2746ac444366ccde"
  },
  {
   "cell_type": "code",
   "execution_count": 31,
   "outputs": [
    {
     "data": {
      "text/plain": "<Figure size 640x480 with 1 Axes>",
      "image/png": "[encoded data removed]"
     },
     "metadata": {},
     "output_type": "display_data"
    }
   ],
   "source": [
    "from sympy import symbols, exp, lambdify\n",
    "\n",
    "x1, x2 = symbols('x1 x2')\n",
    "# 定义符号变量\n",
    "f_gaussian_x1x2 = exp(-x1 ** 2 - x2 ** 2)\n",
    "# 将符号表达式转换为Python函数\n",
    "f_gaussian_x1x2_fcn = lambdify([x1, x2], f_gaussian_x1x2)\n",
    "# 用 lambdify 将符号函数转化为 Python 函数，从而可以进行数值运算。其中，[x1, x2] 指定了符号变量。\n",
    "xx1, xx2 = np.meshgrid(np.linspace(-3, 3, 201), np.linspace(-3, 3, 201))\n",
    "# meshgrid() 用于生成网格采样点矩阵\n",
    "ff = f_gaussian_x1x2_fcn(xx1, xx2)\n",
    "# 可视化\n",
    "fig = plt.figure()\n",
    "ax = fig.add_subplot(projection='3d')\n",
    "ax.plot_wireframe(xx1, xx2, ff, rstride=10, cstride=10)  # plot_wireframe 函数用来绘制线框图\n",
    "ax.set_proj_type('ortho')\n",
    "ax.view_init(azim=-120, elev=30)\n",
    "ax.grid(False)\n",
    "ax.set_xlabel('x1')\n",
    "ax.set_ylabel('x2')\n",
    "ax.set_zlabel('f(x1,x2)')\n",
    "ax.set_xlim(-3, 3)\n",
    "ax.set_ylim(-3, 3)\n",
    "ax.set_zlim(0, 1)\n",
    "ax.set_box_aspect(aspect=(1, 1, 1))\n",
    "fig.savefig('二元高斯函数.svg', format='svg')"
   ],
   "metadata": {
    "collapsed": false,
    "ExecuteTime": {
     "end_time": "2023-12-20T14:47:42.505856300Z",
     "start_time": "2023-12-20T14:47:41.843230300Z"
    }
   },
   "id": "d1984f7ea800fb51"
  },
  {
   "cell_type": "markdown",
   "source": [
    "### 3 线性代数"
   ],
   "metadata": {
    "collapsed": false
   },
   "id": "3ec7c481a4b2b26b"
  },
  {
   "cell_type": "code",
   "execution_count": 35,
   "outputs": [
    {
     "data": {
      "text/plain": "((2, 3), (3, 1), (2, 3), (3, 1))"
     },
     "execution_count": 35,
     "metadata": {},
     "output_type": "execute_result"
    }
   ],
   "source": [
    "from sympy import Matrix, shape\n",
    "\n",
    "# 定义矩阵\n",
    "A = Matrix([[1, 2, 3], [3, 2, 1]])\n",
    "# 定义列向量\n",
    "a = Matrix([1, 2, 3])\n",
    "shape(A), shape(a), A.shape, a.shape"
   ],
   "metadata": {
    "collapsed": false,
    "ExecuteTime": {
     "end_time": "2023-12-20T15:10:49.262144400Z",
     "start_time": "2023-12-20T15:10:49.238903800Z"
    }
   },
   "id": "37423ce55cf7c38a"
  },
  {
   "cell_type": "code",
   "execution_count": 42,
   "outputs": [
    {
     "data": {
      "text/plain": "(Matrix([[d]]),\n a,\n Matrix([[a, b]]),\n Matrix([[a, b]]),\n Matrix([\n [a],\n [c]]),\n Matrix([\n [a],\n [c]]),\n None,\n None)"
     },
     "execution_count": 42,
     "metadata": {},
     "output_type": "execute_result"
    }
   ],
   "source": [
    "from sympy import Matrix, symbols\n",
    "\n",
    "A = Matrix(2, 2, symbols('a:d'))\n",
    "A, A[0, 0], A[0, :], A.row(0), A[:, 0], A.col(0)\n",
    "# A.row_del(0) 可以用来删除第 1 行元素。\n",
    "# A.row_insert() 可以用来在特定位置插入行向量。\n",
    "# A.col_del(0) 可以用来删除第 1 列元素。\n",
    "# A.col_insert() 可以用来在特定位置插入列向量。"
   ],
   "metadata": {
    "collapsed": false,
    "ExecuteTime": {
     "end_time": "2023-12-20T15:14:53.736204700Z",
     "start_time": "2023-12-20T15:14:53.724146800Z"
    }
   },
   "id": "6bce77bf034492b6"
  },
  {
   "cell_type": "code",
   "execution_count": 46,
   "outputs": [
    {
     "data": {
      "text/plain": "Matrix([\n[a, b],\n[c, d]])",
      "text/latex": "$\\displaystyle \\left[\\begin{matrix}a & b\\\\c & d\\end{matrix}\\right]$"
     },
     "execution_count": 46,
     "metadata": {},
     "output_type": "execute_result"
    }
   ],
   "source": [
    "A = Matrix(2, 2, symbols('a:d'))\n",
    "A"
   ],
   "metadata": {
    "collapsed": false,
    "ExecuteTime": {
     "end_time": "2023-12-20T15:17:11.754735100Z",
     "start_time": "2023-12-20T15:17:11.714656Z"
    }
   },
   "id": "80c485d5032ddda3"
  },
  {
   "cell_type": "markdown",
   "source": [
    "A.is_symmetric() 判断矩阵 A 是否为对称阵 (symmetric matrix)。\n",
    "A.is_diagonal() 判断矩阵 A 是否为对角阵 (diagonal matrix)。\n",
    "A.is_lower() 判断矩阵 A 是否为下三角矩阵 (lower triangular matrix)。\n",
    "A.is_upper() 判断矩阵 A 是否为上三角矩阵 (upper triangular matrix)。\n",
    "A.is_square() 判断矩阵 A 是否为方阵 (square matrix)。\n",
    "A.is_zero_matrix() 判断矩阵 A 是否为全 0 矩阵 (zero matrix)。\n",
    "A.is_diagonalizable() 判断矩阵 A 是否为可对角化矩阵 (diagonalizable matrix)。\n",
    "A.is_positive_definite() 判断矩阵 A 是否为正定矩阵 (positive definite matrix)。"
   ],
   "metadata": {
    "collapsed": false
   },
   "id": "5a1c5d833c55ab1"
  },
  {
   "cell_type": "code",
   "execution_count": 62,
   "outputs": [
    {
     "data": {
      "text/plain": "True"
     },
     "execution_count": 62,
     "metadata": {},
     "output_type": "execute_result"
    }
   ],
   "source": [
    "from sympy import eye\n",
    "\n",
    "A = eye(3)\n",
    "A.is_symmetric(), A.is_zero_matrix()  # 判断矩阵 A 是否为对称阵  判断矩阵 A 是否为全 0 矩阵"
   ],
   "metadata": {
    "collapsed": false,
    "ExecuteTime": {
     "end_time": "2023-12-20T15:22:21.012213200Z",
     "start_time": "2023-12-20T15:22:20.992954100Z"
    }
   },
   "id": "85758f47d5c7d805"
  },
  {
   "cell_type": "code",
   "execution_count": 61,
   "outputs": [
    {
     "data": {
      "text/plain": "True"
     },
     "execution_count": 61,
     "metadata": {},
     "output_type": "execute_result"
    }
   ],
   "source": [
    "from sympy import zeros\n",
    "\n",
    "A = zeros(3, 3)\n",
    "A.is_diagonal()"
   ],
   "metadata": {
    "collapsed": false,
    "ExecuteTime": {
     "end_time": "2023-12-20T15:21:45.655267500Z",
     "start_time": "2023-12-20T15:21:45.631749400Z"
    }
   },
   "id": "bb6bb01bd67cd5de"
  },
  {
   "cell_type": "code",
   "execution_count": 59,
   "outputs": [
    {
     "data": {
      "text/plain": "False"
     },
     "execution_count": 59,
     "metadata": {},
     "output_type": "execute_result"
    }
   ],
   "source": [
    "from sympy import ones\n",
    "\n",
    "A = ones(3, 3)\n",
    "A.is_diagonal()  # 对判断矩阵 A 是否为角阵"
   ],
   "metadata": {
    "collapsed": false,
    "ExecuteTime": {
     "end_time": "2023-12-20T15:21:31.522891500Z",
     "start_time": "2023-12-20T15:21:31.502597200Z"
    }
   },
   "id": "79b4f1c243942e02"
  },
  {
   "cell_type": "code",
   "execution_count": 78,
   "outputs": [
    {
     "data": {
      "text/plain": "(True, True)"
     },
     "execution_count": 78,
     "metadata": {},
     "output_type": "execute_result"
    }
   ],
   "source": [
    "from sympy import diag\n",
    "\n",
    "A = diag(1, 2, 3)\n",
    "A.is_diagonalizable(), A.is_square"
   ],
   "metadata": {
    "collapsed": false,
    "ExecuteTime": {
     "end_time": "2023-12-20T15:27:29.051040600Z",
     "start_time": "2023-12-20T15:27:29.030854900Z"
    }
   },
   "id": "6b571ad5888faa74"
  },
  {
   "cell_type": "code",
   "execution_count": 80,
   "outputs": [
    {
     "data": {
      "text/plain": "False"
     },
     "execution_count": 80,
     "metadata": {},
     "output_type": "execute_result"
    }
   ],
   "source": [
    "from sympy import ones\n",
    "\n",
    "A = ones(3)\n",
    "A.is_positive_definite"
   ],
   "metadata": {
    "collapsed": false,
    "ExecuteTime": {
     "end_time": "2023-12-20T15:28:41.032589600Z",
     "start_time": "2023-12-20T15:28:41.002251700Z"
    }
   },
   "id": "d2d46a74eb87c681"
  },
  {
   "cell_type": "code",
   "execution_count": 73,
   "outputs": [
    {
     "data": {
      "text/plain": "(False, False)"
     },
     "execution_count": 73,
     "metadata": {},
     "output_type": "execute_result"
    }
   ],
   "source": [
    "from sympy import ones\n",
    "\n",
    "A = ones(3)\n",
    "A.lower_triangular()\n",
    "A.is_lower, A.is_upper"
   ],
   "metadata": {
    "collapsed": false,
    "ExecuteTime": {
     "end_time": "2023-12-20T15:26:39.915843400Z",
     "start_time": "2023-12-20T15:26:39.898794300Z"
    }
   },
   "id": "7c5d6110a2a6991e"
  },
  {
   "cell_type": "markdown",
   "source": [
    "矩阵相关运算"
   ],
   "metadata": {
    "collapsed": false
   },
   "id": "7ea1135be8ec2f01"
  },
  {
   "cell_type": "code",
   "execution_count": 84,
   "outputs": [
    {
     "data": {
      "text/plain": "(Matrix([\n [ 1, 3],\n [-2, 3]]),\n Matrix([\n [0, 3],\n [0, 7]]),\n Matrix([\n [1, -2],\n [3,  3]]),\n Matrix([\n [ 1,  6],\n [-2, 10]]),\n Matrix([\n [ 1,  0],\n [-2, -4]]),\n Matrix([\n [ 3, 9],\n [-6, 9]]))"
     },
     "execution_count": 84,
     "metadata": {},
     "output_type": "execute_result"
    }
   ],
   "source": [
    "from sympy import Matrix, symbols\n",
    "\n",
    "A = Matrix([[1, 3], [-2, 3]])\n",
    "B = Matrix([[0, 3], [0, 7]])\n",
    "A, B, A.T, A + B, A - B, 3 * A"
   ],
   "metadata": {
    "collapsed": false,
    "ExecuteTime": {
     "end_time": "2023-12-20T15:32:31.388961700Z",
     "start_time": "2023-12-20T15:32:31.350006500Z"
    }
   },
   "id": "4aab8f31b5be1ffe"
  },
  {
   "cell_type": "code",
   "execution_count": 83,
   "outputs": [
    {
     "data": {
      "text/plain": "Matrix([\n[0,  9],\n[0, 21]])",
      "text/latex": "$\\displaystyle \\left[\\begin{matrix}0 & 9\\\\0 & 21\\end{matrix}\\right]$"
     },
     "execution_count": 83,
     "metadata": {},
     "output_type": "execute_result"
    }
   ],
   "source": [
    "A.multiply_elementwise(B)  # 逐项积"
   ],
   "metadata": {
    "collapsed": false,
    "ExecuteTime": {
     "end_time": "2023-12-20T15:32:18.757915200Z",
     "start_time": "2023-12-20T15:32:18.723834300Z"
    }
   },
   "id": "4e905bcd873a70"
  },
  {
   "cell_type": "code",
   "execution_count": 85,
   "outputs": [
    {
     "data": {
      "text/plain": "(Matrix([\n [0, 24],\n [0, 15]]),\n Matrix([\n [0, 24],\n [0, 15]]))"
     },
     "execution_count": 85,
     "metadata": {},
     "output_type": "execute_result"
    }
   ],
   "source": [
    "A * B, A @ B  # 矩阵乘法"
   ],
   "metadata": {
    "collapsed": false,
    "ExecuteTime": {
     "end_time": "2023-12-20T15:33:23.143716600Z",
     "start_time": "2023-12-20T15:33:23.115640Z"
    }
   },
   "id": "7005545859965264"
  },
  {
   "cell_type": "code",
   "execution_count": 86,
   "outputs": [
    {
     "data": {
      "text/plain": "(Matrix([\n [1.25, 0.75],\n [0.75, 1.25]]),\n Matrix([\n [1.25, 0.75],\n [0.75, 1.25]]))"
     },
     "execution_count": 86,
     "metadata": {},
     "output_type": "execute_result"
    }
   ],
   "source": [
    "Matrix_2x2 = Matrix([[1.25, -0.75],\n",
    "                     [-0.75, 1.25]])\n",
    "Matrix_2x2 ** -1, Matrix_2x2.inv()  # 矩阵逆"
   ],
   "metadata": {
    "collapsed": false,
    "ExecuteTime": {
     "end_time": "2023-12-20T15:33:55.246723Z",
     "start_time": "2023-12-20T15:33:55.211135400Z"
    }
   },
   "id": "6e50d4258607a406"
  },
  {
   "cell_type": "code",
   "execution_count": 92,
   "outputs": [
    {
     "data": {
      "text/plain": "array([[ 1.25, -0.75],\n       [-0.75,  1.25]])"
     },
     "execution_count": 92,
     "metadata": {},
     "output_type": "execute_result"
    }
   ],
   "source": [
    "# 将符号矩阵转化为浮点数numpy数组\n",
    "np.array(Matrix_2x2).astype(np.float64)"
   ],
   "metadata": {
    "collapsed": false,
    "ExecuteTime": {
     "end_time": "2023-12-20T15:35:12.354019100Z",
     "start_time": "2023-12-20T15:35:12.333543700Z"
    }
   },
   "id": "9abc10e851b87d5a"
  },
  {
   "cell_type": "code",
   "execution_count": 91,
   "outputs": [
    {
     "data": {
      "text/plain": "Matrix([\n[ d/(a*d - b*c), -b/(a*d - b*c)],\n[-c/(a*d - b*c),  a/(a*d - b*c)]])",
      "text/latex": "$\\displaystyle \\left[\\begin{matrix}\\frac{d}{a d - b c} & - \\frac{b}{a d - b c}\\\\- \\frac{c}{a d - b c} & \\frac{a}{a d - b c}\\end{matrix}\\right]$"
     },
     "execution_count": 91,
     "metadata": {},
     "output_type": "execute_result"
    }
   ],
   "source": [
    "a, b, c, d = symbols('a b c d')\n",
    "Q = Matrix([[a, b],\n",
    "            [c, d]])\n",
    "Q.inv()  # 矩阵逆"
   ],
   "metadata": {
    "collapsed": false,
    "ExecuteTime": {
     "end_time": "2023-12-20T15:35:08.957750300Z",
     "start_time": "2023-12-20T15:35:08.863557100Z"
    }
   },
   "id": "8f6da74663526b5e"
  },
  {
   "cell_type": "code",
   "execution_count": 89,
   "outputs": [
    {
     "data": {
      "text/plain": "a*d - b*c",
      "text/latex": "$\\displaystyle a d - b c$"
     },
     "execution_count": 89,
     "metadata": {},
     "output_type": "execute_result"
    }
   ],
   "source": [
    "Q.det()  # 行列式"
   ],
   "metadata": {
    "collapsed": false,
    "ExecuteTime": {
     "end_time": "2023-12-20T15:34:47.096176Z",
     "start_time": "2023-12-20T15:34:47.053684500Z"
    }
   },
   "id": "1934c45956ef1c2"
  },
  {
   "cell_type": "code",
   "execution_count": 90,
   "outputs": [
    {
     "data": {
      "text/plain": "a + d",
      "text/latex": "$\\displaystyle a + d$"
     },
     "execution_count": 90,
     "metadata": {},
     "output_type": "execute_result"
    }
   ],
   "source": [
    "Q.trace()  # 迹"
   ],
   "metadata": {
    "collapsed": false,
    "ExecuteTime": {
     "end_time": "2023-12-20T15:34:52.514956800Z",
     "start_time": "2023-12-20T15:34:52.475641900Z"
    }
   },
   "id": "fdd760f260bd8f5c"
  },
  {
   "cell_type": "markdown",
   "source": [
    "正定性"
   ],
   "metadata": {
    "collapsed": false
   },
   "id": "d008daf5e3cf3101"
  },
  {
   "cell_type": "code",
   "execution_count": 94,
   "outputs": [],
   "source": [
    "from sympy import symbols, lambdify, expand, simplify\n",
    "# 定义可视化函数\n",
    "def visualize(xx1, xx2, f2_array):\n",
    "    fig = plt.figure(figsize=(6, 3))\n",
    "    # 左子图，三维\n",
    "    ax_3D = fig.add_subplot(1, 2, 1, projection='3d')\n",
    "    ax_3D.plot_wireframe(xx1, xx2, f2_array, # 用 plot_wireframe()绘制网格图。\n",
    "                         rstride=10, cstride=10, # rstride 和 cstride 分别表示行和列的步幅，控制网格之间的间隔 \n",
    "                         color=[0.8, 0.8, 0.8],\n",
    "                         linewidth=0.25)\n",
    "    ax_3D.contour(xx1, xx2, f2_array,\n",
    "                  levels=12, cmap='RdYlBu_r')\n",
    "    ax_3D.set_xlabel('$x_1$');\n",
    "    ax_3D.set_ylabel('$x_2$')\n",
    "    ax_3D.set_zlabel('$f(x_1,x_2)$')\n",
    "    ax_3D.set_proj_type('ortho')\n",
    "    ax_3D.set_xticks([]);\n",
    "    ax_3D.set_yticks([])\n",
    "    ax_3D.set_zticks([])\n",
    "    ax_3D.view_init(azim=-120, elev=30)\n",
    "    ax_3D.grid(False)\n",
    "    ax_3D.set_xlim(xx1.min(), xx1.max());\n",
    "    ax_3D.set_ylim(xx2.min(), xx2.max())\n",
    "\n",
    "    # 右子图，平面等高线\n",
    "    ax_2D = fig.add_subplot(1, 2, 2)\n",
    "    ax_2D.contour(xx1, xx2, f2_array,\n",
    "                  levels=12, cmap='RdYlBu_r')\n",
    "    ax_2D.set_xlabel('$x_1$');\n",
    "    ax_2D.set_ylabel('$x_2$')\n",
    "    ax_2D.set_xticks([]);\n",
    "    ax_2D.set_yticks([])\n",
    "    ax_2D.set_aspect('equal');\n",
    "    ax_2D.grid(False)\n",
    "    ax_2D.set_xlim(xx1.min(), xx1.max());\n",
    "    ax_2D.set_ylim(xx2.min(), xx2.max())\n",
    "    plt.tight_layout()"
   ],
   "metadata": {
    "collapsed": false,
    "ExecuteTime": {
     "end_time": "2023-12-20T15:54:20.802670900Z",
     "start_time": "2023-12-20T15:54:20.773036400Z"
    }
   },
   "id": "1d4e468f5a4cfb5e"
  },
  {
   "cell_type": "code",
   "execution_count": 99,
   "outputs": [
    {
     "name": "stdout",
     "output_type": "stream",
     "text": [
      "2*x1*x2\n"
     ]
    },
    {
     "data": {
      "text/plain": "<Figure size 600x300 with 2 Axes>",
      "image/png": "[encoded data removed]"
     },
     "metadata": {},
     "output_type": "display_data"
    }
   ],
   "source": [
    "# 生成数据\n",
    "x1_array = np.linspace(-2, 2, 201)\n",
    "x2_array = np.linspace(-2, 2, 201)\n",
    "xx1, xx2 = np.meshgrid(x1_array, x2_array) #  生成网格化数据，代表横纵轴坐标点。\n",
    "\n",
    "# 定义二元函数\n",
    "def fcn(A, xx1, xx2):\n",
    "    x1, x2 = symbols('x1 x2')\n",
    "    x = np.array([[x1, x2]]).T\n",
    "    f_x = x.T @ A @ x # 结果为二维数组\n",
    "    f_x = f_x[0][0]\n",
    "    print(simplify(expand(f_x)))\n",
    "    f_x_fcn = lambdify([x1, x2], f_x)\n",
    "    ff_x = f_x_fcn(xx1, xx2)\n",
    "\n",
    "    return ff_x\n",
    "\n",
    "# 不定矩阵\n",
    "A = np.array([[0, 1],\n",
    "              [1, 0]])\n",
    "f2_array = fcn(A, xx1, xx2)\n",
    "visualize(xx1, xx2, f2_array)"
   ],
   "metadata": {
    "collapsed": false,
    "ExecuteTime": {
     "end_time": "2023-12-20T16:04:22.853061800Z",
     "start_time": "2023-12-20T16:04:22.713239Z"
    }
   },
   "id": "c2311b0bdfc2f991"
  },
  {
   "cell_type": "markdown",
   "source": [
    "矩阵分解"
   ],
   "metadata": {
    "collapsed": false
   },
   "id": "a43010c5dfd504b2"
  },
  {
   "cell_type": "code",
   "execution_count": 101,
   "outputs": [
    {
     "data": {
      "text/plain": "({a**2/2 + b**2/2 - sqrt(a**4 + 16*a**2*b**2*c**2 - 2*a**2*b**2 + b**4)/2: 1,\n  a**2/2 + b**2/2 + sqrt(a**4 + 16*a**2*b**2*c**2 - 2*a**2*b**2 + b**4)/2: 1},\n [(a**2/2 + b**2/2 - sqrt(a**4 + 16*a**2*b**2*c**2 - 2*a**2*b**2 + b**4)/2,\n   1,\n   [Matrix([\n    [-b/(2*a*c) + (a**2/2 + b**2/2 - sqrt(a**4 + 16*a**2*b**2*c**2 - 2*a**2*b**2 + b**4)/2)/(2*a*b*c)],\n    [                                                                                               1]])]),\n  (a**2/2 + b**2/2 + sqrt(a**4 + 16*a**2*b**2*c**2 - 2*a**2*b**2 + b**4)/2,\n   1,\n   [Matrix([\n    [-b/(2*a*c) + (a**2/2 + b**2/2 + sqrt(a**4 + 16*a**2*b**2*c**2 - 2*a**2*b**2 + b**4)/2)/(2*a*b*c)],\n    [                                                                                               1]])])])"
     },
     "execution_count": 101,
     "metadata": {},
     "output_type": "execute_result"
    }
   ],
   "source": [
    "from sympy import Matrix,symbols\n",
    "a, b, c, d = symbols('a b c d')\n",
    "A = Matrix([[a**2, 2*a*b*c],\n",
    "            [2*a*b*c, b**2]])\n",
    "# 特征值  特征向量\n",
    "A.eigenvals(), A.eigenvects()"
   ],
   "metadata": {
    "collapsed": false,
    "ExecuteTime": {
     "end_time": "2023-12-20T16:07:11.745265100Z",
     "start_time": "2023-12-20T16:07:11.655428500Z"
    }
   },
   "id": "947827d8d9249720"
  },
  {
   "cell_type": "code",
   "execution_count": 103,
   "outputs": [
    {
     "data": {
      "text/plain": "(Matrix([\n [ sqrt(2)/2, sqrt(6)/6],\n [         0, sqrt(6)/3],\n [-sqrt(2)/2, sqrt(6)/6]]),\n Matrix([\n [1,       0],\n [0, sqrt(3)]]),\n Matrix([\n [-sqrt(2)/2, sqrt(2)/2],\n [ sqrt(2)/2, sqrt(2)/2]]))"
     },
     "execution_count": 103,
     "metadata": {},
     "output_type": "execute_result"
    }
   ],
   "source": [
    "from sympy import Matrix\n",
    "A = Matrix([[0, 1],[1, 1],[1, 0]])\n",
    "# 奇异值分解\n",
    "U, S, V = A.singular_value_decomposition() \n",
    "U, S, V"
   ],
   "metadata": {
    "collapsed": false,
    "ExecuteTime": {
     "end_time": "2023-12-20T16:07:34.085088Z",
     "start_time": "2023-12-20T16:07:34.055611400Z"
    }
   },
   "id": "eb466d86468169d7"
  },
  {
   "cell_type": "code",
   "execution_count": 105,
   "outputs": [
    {
     "data": {
      "text/plain": "(Matrix([\n [1, 0],\n [0, 1]]),\n Matrix([\n [1, 0],\n [0, 1]]),\n Matrix([\n [1, 0],\n [0, 1]]))"
     },
     "execution_count": 105,
     "metadata": {},
     "output_type": "execute_result"
    }
   ],
   "source": [
    "V.T @ V, V @ V.T, U.T @ U"
   ],
   "metadata": {
    "collapsed": false,
    "ExecuteTime": {
     "end_time": "2023-12-20T16:08:32.285421300Z",
     "start_time": "2023-12-20T16:08:32.265447400Z"
    }
   },
   "id": "bee6f7a253193e96"
  },
  {
   "cell_type": "code",
   "execution_count": null,
   "outputs": [],
   "source": [],
   "metadata": {
    "collapsed": false
   },
   "id": "2dcb96dde43846e1"
  }
 ],
 "metadata": {
  "kernelspec": {
   "display_name": "Python 3",
   "language": "python",
   "name": "python3"
  },
  "language_info": {
   "codemirror_mode": {
    "name": "ipython",
    "version": 2
   },
   "file_extension": ".py",
   "mimetype": "text/x-python",
   "name": "python",
   "nbconvert_exporter": "python",
   "pygments_lexer": "ipython2",
   "version": "2.7.6"
  }
 },
 "nbformat": 4,
 "nbformat_minor": 5
}
