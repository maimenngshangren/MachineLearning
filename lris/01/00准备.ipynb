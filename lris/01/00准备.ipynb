{
 "cells": [
  {
   "cell_type": "markdown",
   "source": [
    "## 1 Jupyter\n",
    "### 1.1 Markdown 元素"
   ],
   "metadata": {
    "collapsed": false
   },
   "id": "66083f70dc0c2338"
  },
  {
   "cell_type": "markdown",
   "source": [
    "# Level 1 Header 一级标题\n",
    "## Level 2 Header 二级标题\n",
    "### Level 3 Header 三级标题\n",
    "#### Level 4 Header 四级标题\n",
    "##### Level 5 Header 五级标题\n",
    "<h1> Level 1 Header </h1>\n",
    "<h2> Level 2 Header </h2>\n",
    "<h3> Level 3 Header </h3>\n",
    "<h4> Level 4 Header </h4>\n",
    "<h5> Level 5 Header </h5>"
   ],
   "metadata": {
    "collapsed": false
   },
   "id": "7ba559f38e0732b8"
  },
  {
   "cell_type": "markdown",
   "source": [],
   "metadata": {
    "collapsed": false
   },
   "id": "d5aad71448fcf4a4"
  },
  {
   "cell_type": "markdown",
   "source": [
    "<font color=blue> colored text</font> 指定颜色渲染文本\n",
    "*italic text* 文字倾斜；第一个星号 (asterisk) *之后、第二个星号*之前没有空格\n",
    "_italic text_ 文字倾斜；第一个下划线 (underscore) _ 之后、第二个下划线_之前没有空格；下划线是英文状态下输入的半角字符\n",
    "<em>italic text</em> 文字倾斜\n",
    "**bold text** 文字加粗；第一对星号**之后、第二对星号**之前没有空格\n",
    "<strong>bold text</strong> 文字加粗\n",
    "<b>bold text</b> 文字加粗\n",
    "__bond text__ 文字加粗；第一对下划线__之后、第二对下划线__之前没有空格"
   ],
   "metadata": {
    "collapsed": false
   },
   "id": "44b279f801904eeb"
  },
  {
   "cell_type": "markdown",
   "source": [
    "文字加粗倾斜\n",
    "***bold and italic text***\n",
    "___bold and italic text___\n",
    "<strong><em> bold and italic text </em></strong>"
   ],
   "metadata": {
    "collapsed": false
   },
   "id": "f70d2be0ee47fc0c"
  },
  {
   "cell_type": "markdown",
   "source": [
    "划去\n",
    "~~Scratch this~~\n",
    "<del>Scratch this</del>"
   ],
   "metadata": {
    "collapsed": false
   },
   "id": "976c43d392d12453"
  },
  {
   "cell_type": "markdown",
   "source": [
    "画一条横向分割线；有 4 种方法：3 个星号，3 个连字符(hyphen)，3 个下划线，或\\<hr\\>\n",
    "***\n",
    "---\n",
    "___\n",
    "<hr>"
   ],
   "metadata": {
    "collapsed": false
   },
   "id": "b58f69d23ba654cc"
  },
  {
   "cell_type": "markdown",
   "source": [
    "* bullet point 1\n",
    "* bullet point 2"
   ],
   "metadata": {
    "collapsed": false
   },
   "id": "a3397bb94373c610"
  },
  {
   "cell_type": "markdown",
   "source": [
    "- bullet point 1\n",
    "- bullet point 2"
   ],
   "metadata": {
    "collapsed": false
   },
   "id": "da0cac0d847a7370"
  },
  {
   "cell_type": "markdown",
   "source": [
    "分级项目符号\n",
    "第 2 级：4 个空格，跟着一个下划线，再跟 1 个空格\n",
    "第 3 级：8 个空格，跟着一个下划线，再跟 1 个空格\n",
    "- bullet point 1\n",
    "    - bullet point 1.1\n",
    "        - bullet point 1.1.1\n",
    "        - bullet point 1.1.2\n",
    "    - bullet point 1.2\n"
   ],
   "metadata": {
    "collapsed": false
   },
   "id": "14ceed2917b1013c"
  },
  {
   "cell_type": "markdown",
   "source": [
    "编号；数字后有一个半角句点 . 紧跟着一个空格\n",
    "1. bullet point\n",
    "2. bullet point"
   ],
   "metadata": {
    "collapsed": false
   },
   "id": "dafb1a1ad8d13116"
  },
  {
   "cell_type": "markdown",
   "source": [
    "项目符号\n",
    "<ul>\n",
    "<li>item 1</li>\n",
    "<li>item 2</li>\n",
    "<li>item 3</li>\n",
    "</ul>"
   ],
   "metadata": {
    "collapsed": false
   },
   "id": "9a0332bd70c4c6f8"
  },
  {
   "cell_type": "markdown",
   "source": [
    "自动编号\n",
    "<ol>\n",
    "<li>item 1</li>\n",
    "<li>item 2</li>\n",
    "<li>item 3</li>\n",
    "</ol>"
   ],
   "metadata": {
    "collapsed": false
   },
   "id": "ff05b3a9954e784a"
  },
  {
   "cell_type": "markdown",
   "source": [
    "可以用来区分已做事项和未做任务事项\n",
    "- [x] Done\n",
    "- [] To Do"
   ],
   "metadata": {
    "collapsed": false
   },
   "id": "7f2ce7a6b8f18ce1"
  },
  {
   "cell_type": "markdown",
   "source": [
    "分段编号\n",
    "<p>paragraph 1</p>\n",
    "<p>paragraph 2</p>"
   ],
   "metadata": {
    "collapsed": false
   },
   "id": "93c7d21173c59d55"
  },
  {
   "cell_type": "markdown",
   "source": [
    "一段文本引用\n",
    "> Quote"
   ],
   "metadata": {
    "collapsed": false
   },
   "id": "6c8c830ff71c56ea"
  },
  {
   "cell_type": "markdown",
   "source": [
    "分段引用\n",
    "> Quote level 1\n",
    ">> Quote level 2\n",
    ">>> Quote level 3"
   ],
   "metadata": {
    "collapsed": false
   },
   "id": "58b07bad1068104d"
  },
  {
   "cell_type": "markdown",
   "source": [
    "$\\pi$ 插入符号、公式\n",
    "$$\\pi$$ 居中插入符号、公式"
   ],
   "metadata": {
    "collapsed": false
   },
   "id": "f804b3bbb043026b"
  },
  {
   "cell_type": "markdown",
   "source": [
    "表格；:-: 代表居中对齐；:-左对齐；-:右对齐\n",
    "| col 1 | col 2 | col 3 |\n",
    "|:-: |:-: |:-: |\n",
    "| 1 | A | a |\n",
    "| 2 | B | b |"
   ],
   "metadata": {
    "collapsed": false
   },
   "id": "4b8a86113abde31e"
  },
  {
   "cell_type": "markdown",
   "source": [
    "\\* 直接显示星号 *\n",
    "Repos [link](https://github.com/Visualize-ML). 超链接"
   ],
   "metadata": {
    "collapsed": false
   },
   "id": "8440ff205e401a6f"
  },
  {
   "cell_type": "markdown",
   "source": [
    "在 Markdown 中展示 Python 代码；~是波浪号(tilde)\n",
    "~~~python\n",
    "print('Python is fun!')\n",
    "~~~\n"
   ],
   "metadata": {
    "collapsed": false
   },
   "id": "f5ba353ac3c97fc5"
  },
  {
   "cell_type": "markdown",
   "source": [
    "### 1.2 魔法命令"
   ],
   "metadata": {
    "collapsed": false
   },
   "id": "f1fca7eeb44a73d8"
  },
  {
   "cell_type": "code",
   "execution_count": 1,
   "outputs": [
    {
     "name": "stderr",
     "output_type": "stream",
     "text": [
      "UsageError: Line magic function `%lsmagic?` not found.\n"
     ]
    }
   ],
   "source": [
    "%lsmagic 列表查看所有的魔法命令\n",
    "%lsmagic? 在任何魔法命令后加半角?，查看特定魔法命令用法\n",
    "%magic 详细说明所有魔法命令用法\n",
    "%cd 切换工作目录\n",
    "%timeit 统计 (多次运行算均值和标准差) 某行代码的运行时间"
   ],
   "metadata": {
    "collapsed": false,
    "ExecuteTime": {
     "end_time": "2023-12-27T02:26:57.404111800Z",
     "start_time": "2023-12-27T02:26:57.345470Z"
    }
   },
   "id": "6eb8154be59a1545"
  },
  {
   "cell_type": "code",
   "execution_count": 2,
   "outputs": [
    {
     "name": "stdout",
     "output_type": "stream",
     "text": [
      "48.4 µs ± 546 ns per loop (mean ± std. dev. of 7 runs, 10,000 loops each)\n"
     ]
    }
   ],
   "source": [
    "import numpy as np\n",
    "%timeit data = np.random.uniform(0,1,10000)"
   ],
   "metadata": {
    "collapsed": false,
    "ExecuteTime": {
     "end_time": "2023-12-27T02:27:01.424385700Z",
     "start_time": "2023-12-27T02:26:57.368746400Z"
    }
   },
   "id": "e13c20ddf9c7762b"
  },
  {
   "cell_type": "markdown",
   "source": [
    "%%time 用于记录该 cell 运行的时间，比如如下矩阵乘法运算\n",
    "%pip 执行 pip 命令\n",
    "%conda 执行 conda 命令\n",
    "%who 调出所有的全局变量。如下用法可以找到特定类型的变量\n",
    "%%writefile 将某个单元格代码写入并保存在某个文档中\n",
    "%pwd 打印当前工作目录\n",
    "%run python_file.py 执行当前文件夹中的.py 文件"
   ],
   "metadata": {
    "collapsed": false
   },
   "id": "903f063c1fc93cb6"
  },
  {
   "cell_type": "markdown",
   "source": [
    "## 1 LaTeX\n",
    "$$A_{m\\times n} = \n",
    "\\begin{bmatrix}\n",
    " a_{1,1} & a_{1,2} & \\cdots & a_{1,n} \\\\\n",
    " a_{2,1} & a_{2,2} & \\cdots & a_{2,n} \\\\\n",
    " \\vdots & \\vdots & \\ddots & \\vdots \\\\\n",
    " a_{m,1} & a_{m,2} & \\cdots & a_{m,n} \n",
    "\\end{bmatrix}$$\n",
    "$$f_X(x)={\\frac {1}{\\sigma {\\sqrt {2\\pi }}}}\n",
    "\\exp \\left({-{\\frac {1}{2}}\n",
    "\\left({\\frac {x-\\mu }{\\sigma}}\\right)^{2}}\\right)$$"
   ],
   "metadata": {
    "collapsed": false
   },
   "id": "2d90f6a61606ecbd"
  },
  {
   "cell_type": "markdown",
   "source": [
    "### 1.1 字母和符号"
   ],
   "metadata": {
    "collapsed": false
   },
   "id": "f0895b4e1d91cd8e"
  },
  {
   "cell_type": "markdown",
   "source": [
    "数学中字母样式\n",
    "$ {AaBbCc} $  斜体，大部分数学符号、表达式   \n",
    "$ \\mathrm {AaBbCc}$  正体，公式中的单位或文字\n",
    "$ \\mathbf {AaBbCc} $  粗体，向量、矩阵\n",
    "$ \\boldsymbol {AaBbCc} $  粗体、斜体，向量、矩阵\n",
    "$ \\mathtt {AaBbCc} $  等宽字体，常用于代码\n",
    "$ \\mathcal {ABCDEF} $  花体，用于表示数学中的集合、代数结构、算子\n",
    "$ \\mathbb {CRQZN} $  黑板粗体 (blackboard bold)，常用来表达各种集合\n",
    "$\\text {Aa Bb Cc}$  用来写公式中的文字\n",
    "$\\mathrm{d}x$  ISO 规定导数符号 d 为正体\n",
    "$\\operatorname{T}$  运算符"
   ],
   "metadata": {
    "collapsed": false
   },
   "id": "357885a0ba143d8e"
  },
  {
   "cell_type": "markdown",
   "source": [
    "数学中字母标记\n",
    "x prime $ x' $  $ x^{\\prime} $\n",
    "x double prime $ x'' $\n",
    "a vector pointing from A to B $ \\overrightarrow{AB} $x\n",
    "x underline $ \\underline{x} $\n",
    "x hat $ \\hat{x} $\n",
    "x bar $ \\bar{x} $\n",
    "x dot $ \\dot{x} $\n",
    "x tilde $ \\tilde{x} $\n",
    "x subscript i, x sub i $ x_i $\n",
    "x to the n, x to the nth, x to the n-th power, x raised to the n-th power $ x^i $\n",
    "x double dot $ \\ddot{x} $\n",
    "x star, x super asterisk $ x^* $\n",
    "x dagger $ x\\dagger $\n",
    "x double dagger $ x\\dagger $\n",
    "red x  $ {\\textcolor{red}x} $"
   ],
   "metadata": {
    "collapsed": false
   },
   "id": "b5a2a2574b037ec7"
  },
  {
   "cell_type": "markdown",
   "source": [
    "希腊字母\n",
    "alpha $\\alpha$ $\\Alpha$\n",
    "beta $\\beta $ $\\Beta$\n",
    "gamma $\\gamma$ $\\Gamma$\n",
    "delta $\\delta$ $\\Delta$\n",
    "epsilon $\\epsilon$ $\\Epsilon$\n",
    "zeta $\\zeta$ $Z$\n",
    "eta $\\eta$ $H$\n",
    "theta $\\theta$ $\\Theta$\n",
    "iota $\\iota $ $I$\n",
    "kappa $\\kappa$ $K$\n",
    "lambda $\\lambda$ $Lambda$\n",
    "mu $\\mu$ $M$\n",
    "nu $\\nu$ $N$\n",
    "xi $\\xi$ $Xi$\n",
    "omicron $\\omicron$ $O$\n",
    "pi $\\pi$ $Pi$\n",
    "rho $\\rho$ $P$\n",
    "sigma $\\sigma$ $\\Sigma$\n",
    "tau $\\tau$ $T$\n",
    "upsilon $\\upsilon$ $Y$\n",
    "phi $\\phi$ $\\Phi$\n",
    "chi $\\chi$ $X$\n",
    "psi $\\psi$ $\\Psi$\n",
    "omega $\\omega$ $\\Omega$"
   ],
   "metadata": {
    "collapsed": false
   },
   "id": "f9e6025a9ad4ff71"
  },
  {
   "cell_type": "markdown",
   "source": [
    "希腊字母，变量\n",
    "$\\vartheta$ $\\varrho$ $\\varkappa$ $\\varphi$ $\\varpi$ $\\varepsilon$ $\\varsigma$\n",
    "\n"
   ],
   "metadata": {
    "collapsed": false
   },
   "id": "8c35cfff8d90dcd9"
  },
  {
   "cell_type": "markdown",
   "source": [
    "常用符号\n",
    "乘 multiplies,times  $\\times$\n",
    "除以 divided by $\\div$\n",
    "张量积 tensor product $\\otimes$\n",
    "左圆括号 open parenthesis, left parenthesis, open round bracket, left round bracket $($"
   ],
   "metadata": {
    "collapsed": false
   },
   "id": "cf0ecf8d1df55876"
  },
  {
   "cell_type": "code",
   "execution_count": null,
   "outputs": [],
   "source": [],
   "metadata": {
    "collapsed": false
   },
   "id": "3f1daf30b945e0eb"
  }
 ],
 "metadata": {
  "kernelspec": {
   "display_name": "Python 3",
   "language": "python",
   "name": "python3"
  },
  "language_info": {
   "codemirror_mode": {
    "name": "ipython",
    "version": 2
   },
   "file_extension": ".py",
   "mimetype": "text/x-python",
   "name": "python",
   "nbconvert_exporter": "python",
   "pygments_lexer": "ipython2",
   "version": "2.7.6"
  }
 },
 "nbformat": 4,
 "nbformat_minor": 5
}
