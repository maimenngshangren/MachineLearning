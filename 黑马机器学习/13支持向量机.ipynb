{
 "cells": [
  {
   "cell_type": "code",
   "execution_count": null,
   "id": "initial_id",
   "metadata": {
    "collapsed": true,
    "is_executing": true
   },
   "outputs": [],
   "source": [
    "from sklearn import svm"
   ]
  },
  {
   "cell_type": "code",
   "execution_count": null,
   "outputs": [],
   "source": [
    "X = [[0, 0], [1, 1]]\n",
    "y = [0, 1]\n",
    "ss = svm.SVC()\n",
    "ss.fit(X, y)\n",
    "ss.predict([[2,2]])"
   ],
   "metadata": {
    "collapsed": false,
    "is_executing": true
   },
   "id": "3feb3e6a0f44170a"
  },
  {
   "cell_type": "markdown",
   "source": [
    "# 手写数字识别"
   ],
   "metadata": {
    "collapsed": false
   },
   "id": "57155e69c50f508d"
  },
  {
   "cell_type": "code",
   "execution_count": null,
   "outputs": [],
   "source": [
    "import pandas as pd\n",
    "import numpy as np\n",
    "import matplotlib.pyplot as plt\n",
    "from sklearn import svm\n",
    "from sklearn.model_selection import train_test_split"
   ],
   "metadata": {
    "collapsed": false,
    "is_executing": true
   },
   "id": "feca9c6f81803721"
  },
  {
   "cell_type": "markdown",
   "source": [
    "# 1 获取数据"
   ],
   "metadata": {
    "collapsed": false
   },
   "id": "d9cb27358e3f243"
  },
  {
   "cell_type": "code",
   "execution_count": null,
   "outputs": [],
   "source": [
    "train = pd.read_csv('./data/svm/train.csv')\n",
    "train.head()"
   ],
   "metadata": {
    "collapsed": false,
    "is_executing": true
   },
   "id": "90fca45f95e03058"
  },
  {
   "cell_type": "markdown",
   "source": [
    "## 1.1确定目标值、特征值"
   ],
   "metadata": {
    "collapsed": false
   },
   "id": "2fbff65df6d263c6"
  },
  {
   "cell_type": "code",
   "execution_count": null,
   "outputs": [],
   "source": [
    "train_image = train.iloc[:,1:]\n",
    "train_image.head()"
   ],
   "metadata": {
    "collapsed": false,
    "is_executing": true
   },
   "id": "b5e26d4f4fa0da78"
  },
  {
   "cell_type": "code",
   "execution_count": null,
   "outputs": [],
   "source": [
    "train_label = train.iloc[:,0]"
   ],
   "metadata": {
    "collapsed": false,
    "is_executing": true
   },
   "id": "329eb8a487f5c04b"
  },
  {
   "cell_type": "markdown",
   "source": [
    "## 1.2 查看具体图像"
   ],
   "metadata": {
    "collapsed": false
   },
   "id": "6eb7d24400430eb1"
  },
  {
   "cell_type": "code",
   "execution_count": null,
   "outputs": [],
   "source": [
    "def to_plot(n):\n",
    "    num = train_image.iloc[n,].values.reshape(28, 28)\n",
    "    plt.imshow(num)\n",
    "    plt.axis('off')\n",
    "    plt.show()"
   ],
   "metadata": {
    "collapsed": false,
    "is_executing": true
   },
   "id": "1d3030e19fff2ff4"
  },
  {
   "cell_type": "code",
   "execution_count": null,
   "outputs": [],
   "source": [
    "to_plot(3)"
   ],
   "metadata": {
    "collapsed": false,
    "is_executing": true
   },
   "id": "e0f7d533ca78d099"
  },
  {
   "cell_type": "markdown",
   "source": [
    "# 2 数据基本处理\n",
    "## 2.1 数据归一化处理"
   ],
   "metadata": {
    "collapsed": false
   },
   "id": "2338c086f7623a77"
  },
  {
   "cell_type": "code",
   "execution_count": null,
   "outputs": [],
   "source": [
    "# 对数据特征值进行归一化处理\n",
    "train_image = train_image.values / 255\n",
    "train_label = train_label.values "
   ],
   "metadata": {
    "collapsed": false,
    "is_executing": true
   },
   "id": "5522069743ad621d"
  },
  {
   "cell_type": "markdown",
   "source": [
    "## 2.2 训练集划分"
   ],
   "metadata": {
    "collapsed": false
   },
   "id": "b0e05e9b0590f616"
  },
  {
   "cell_type": "code",
   "execution_count": null,
   "outputs": [],
   "source": [
    "x_train, x_val, y_train, y_val = train_test_split(train_image, train_label, test_size=0.8, random_state=0) "
   ],
   "metadata": {
    "collapsed": false,
    "is_executing": true
   },
   "id": "ddccd7f2fb699ac2"
  },
  {
   "cell_type": "markdown",
   "source": [
    "# 3 特征降维和模型训练"
   ],
   "metadata": {
    "collapsed": false
   },
   "id": "cb8dd06af7e0d313"
  },
  {
   "cell_type": "code",
   "execution_count": null,
   "outputs": [],
   "source": [
    "# 多次使用pca,确定最后的最优模型\n",
    "import time\n",
    "from sklearn.decomposition import PCA\n",
    "\n",
    "def n_component_analysis(n, x_train, y_train, x_val, y_val):\n",
    "    # 记录开始时间\n",
    "    start = time.time()\n",
    "    \n",
    "    # PCA降维实现\n",
    "    pca = PCA(n_components=n)\n",
    "    print('特征降维，传递的参数为{}'.format(n))\n",
    "    pca.fit(x_train)\n",
    "    \n",
    "    # 在训练集和测试进行降维\n",
    "    x_train_pac = pca.transform(x_train)\n",
    "    x_val_pac = pca.transform(x_val)\n",
    "    \n",
    "    # 利用SVC进行训练\n",
    "    print('开始使用svc训练')\n",
    "    ss = svm.SVC()\n",
    "    ss.fit(x_train_pac, y_train)\n",
    "    \n",
    "    # 获取accuracy结果\n",
    "    accuracy = ss.score(x_val_pac, y_val)\n",
    "    \n",
    "    # 记录结束时间\n",
    "    end = time.time()\n",
    "    print('准确率是:{},消耗时间:{}'.format(accuracy, int(end-start)))\n",
    "    \n",
    "    return accuracy"
   ],
   "metadata": {
    "collapsed": false,
    "is_executing": true
   },
   "id": "e3dfce1796332af2"
  },
  {
   "cell_type": "code",
   "execution_count": null,
   "outputs": [],
   "source": [
    "# 传递多个n_components,寻找合理的n_components\n",
    "n_s = np.linspace(0.70, 0.9, num=5)\n",
    "\n",
    "accuracy = []\n",
    "\n",
    "for n in n_s:\n",
    "    tmp =  n_component_analysis(n, x_train, y_train, x_val, y_val)\n",
    "    accuracy.append(tmp)"
   ],
   "metadata": {
    "collapsed": false,
    "is_executing": true
   },
   "id": "e5908b2daabcc6f"
  },
  {
   "cell_type": "code",
   "execution_count": null,
   "outputs": [],
   "source": [
    "# 准确率可视化展示\n",
    "plt.plot(n_s, np.array(accuracy), 'r')\n",
    "plt.show()"
   ],
   "metadata": {
    "collapsed": false,
    "is_executing": true
   },
   "id": "68c202256b3d083c"
  },
  {
   "cell_type": "markdown",
   "source": [
    "# 经过图形展示，选择合理的n_components，最后选择0.8"
   ],
   "metadata": {
    "collapsed": false
   },
   "id": "49fd0757ca460c20"
  },
  {
   "cell_type": "markdown",
   "source": [
    "# 4 确定最优模型"
   ],
   "metadata": {
    "collapsed": false
   },
   "id": "ad4069d481790ac6"
  },
  {
   "cell_type": "code",
   "execution_count": null,
   "outputs": [],
   "source": [
    "pca = PCA(n_components=0.80)\n",
    "\n",
    "pca.fit(x_train)\n",
    "pca.n_components_"
   ],
   "metadata": {
    "collapsed": false,
    "is_executing": true
   },
   "id": "a0e15769f826514a"
  },
  {
   "cell_type": "code",
   "execution_count": null,
   "outputs": [],
   "source": [
    "x_train_pca = pca.transform(x_train)\n",
    "x_var_pca = pca.transform(x_val)"
   ],
   "metadata": {
    "collapsed": false,
    "is_executing": true
   },
   "id": "eb1519519a512728"
  },
  {
   "cell_type": "code",
   "execution_count": null,
   "outputs": [],
   "source": [
    "x_train_pca.shape"
   ],
   "metadata": {
    "collapsed": false,
    "is_executing": true
   },
   "id": "3d8b7591ffd5d3da"
  },
  {
   "cell_type": "code",
   "execution_count": null,
   "outputs": [],
   "source": [
    "x_var_pca.shape"
   ],
   "metadata": {
    "collapsed": false,
    "is_executing": true
   },
   "id": "476a513051ba7cd1"
  },
  {
   "cell_type": "code",
   "execution_count": null,
   "outputs": [],
   "source": [
    "# 训练模型\n",
    "ss1 = svm.SVC()\n",
    "\n",
    "ss1.fit(x_train_pca, y_train)\n",
    "ss1.score(x_var_pca, y_val)"
   ],
   "metadata": {
    "collapsed": false,
    "is_executing": true
   },
   "id": "6caaf48c9c3b993b"
  },
  {
   "cell_type": "code",
   "execution_count": null,
   "outputs": [],
   "source": [],
   "metadata": {
    "collapsed": false,
    "is_executing": true
   },
   "id": "d658f691fd7bfb0e"
  }
 ],
 "metadata": {
  "kernelspec": {
   "display_name": "Python 3",
   "language": "python",
   "name": "python3"
  },
  "language_info": {
   "codemirror_mode": {
    "name": "ipython",
    "version": 2
   },
   "file_extension": ".py",
   "mimetype": "text/x-python",
   "name": "python",
   "nbconvert_exporter": "python",
   "pygments_lexer": "ipython2",
   "version": "2.7.6"
  }
 },
 "nbformat": 4,
 "nbformat_minor": 5
}
