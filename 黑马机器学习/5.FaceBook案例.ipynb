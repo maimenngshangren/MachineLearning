{
 "cells": [
  {
   "cell_type": "code",
   "execution_count": 7,
   "id": "initial_id",
   "metadata": {
    "collapsed": true,
    "ExecuteTime": {
     "end_time": "2023-09-07T06:32:21.267269400Z",
     "start_time": "2023-09-07T06:32:16.354670400Z"
    }
   },
   "outputs": [],
   "source": [
    "import pandas as pd\n",
    "from sklearn.model_selection import train_test_split\n",
    "from sklearn.preprocessing import StandardScaler\n",
    "from sklearn.neighbors import KNeighborsClassifier"
   ]
  },
  {
   "cell_type": "code",
   "execution_count": 2,
   "outputs": [],
   "source": [
    "# 1.获取数据集\n",
    "data = pd.read_csv('./data/train.csv')"
   ],
   "metadata": {
    "collapsed": false,
    "ExecuteTime": {
     "end_time": "2023-09-07T06:25:59.384560600Z",
     "start_time": "2023-09-07T06:25:51.376470200Z"
    }
   },
   "id": "8d2c67fa0406e4f8"
  },
  {
   "cell_type": "code",
   "execution_count": 3,
   "outputs": [
    {
     "data": {
      "text/plain": "   row_id       x       y  accuracy    time    place_id\n0       0  0.7941  9.0809        54  470702  8523065625\n1       1  5.9567  4.7968        13  186555  1757726713\n2       2  8.3078  7.0407        74  322648  1137537235\n3       3  7.3665  2.5165        65  704587  6567393236\n4       4  4.0961  1.1307        31  472130  7440663949",
      "text/html": "<div>\n<style scoped>\n    .dataframe tbody tr th:only-of-type {\n        vertical-align: middle;\n    }\n\n    .dataframe tbody tr th {\n        vertical-align: top;\n    }\n\n    .dataframe thead th {\n        text-align: right;\n    }\n</style>\n<table border=\"1\" class=\"dataframe\">\n  <thead>\n    <tr style=\"text-align: right;\">\n      <th></th>\n      <th>row_id</th>\n      <th>x</th>\n      <th>y</th>\n      <th>accuracy</th>\n      <th>time</th>\n      <th>place_id</th>\n    </tr>\n  </thead>\n  <tbody>\n    <tr>\n      <th>0</th>\n      <td>0</td>\n      <td>0.7941</td>\n      <td>9.0809</td>\n      <td>54</td>\n      <td>470702</td>\n      <td>8523065625</td>\n    </tr>\n    <tr>\n      <th>1</th>\n      <td>1</td>\n      <td>5.9567</td>\n      <td>4.7968</td>\n      <td>13</td>\n      <td>186555</td>\n      <td>1757726713</td>\n    </tr>\n    <tr>\n      <th>2</th>\n      <td>2</td>\n      <td>8.3078</td>\n      <td>7.0407</td>\n      <td>74</td>\n      <td>322648</td>\n      <td>1137537235</td>\n    </tr>\n    <tr>\n      <th>3</th>\n      <td>3</td>\n      <td>7.3665</td>\n      <td>2.5165</td>\n      <td>65</td>\n      <td>704587</td>\n      <td>6567393236</td>\n    </tr>\n    <tr>\n      <th>4</th>\n      <td>4</td>\n      <td>4.0961</td>\n      <td>1.1307</td>\n      <td>31</td>\n      <td>472130</td>\n      <td>7440663949</td>\n    </tr>\n  </tbody>\n</table>\n</div>"
     },
     "execution_count": 3,
     "metadata": {},
     "output_type": "execute_result"
    }
   ],
   "source": [
    "data.head()"
   ],
   "metadata": {
    "collapsed": false,
    "ExecuteTime": {
     "end_time": "2023-09-07T06:25:59.403096900Z",
     "start_time": "2023-09-07T06:25:59.386561800Z"
    }
   },
   "id": "7d02b43e10465467"
  },
  {
   "cell_type": "code",
   "execution_count": 4,
   "outputs": [
    {
     "data": {
      "text/plain": "             row_id             x             y      accuracy          time  \\\ncount  2.911802e+07  2.911802e+07  2.911802e+07  2.911802e+07  2.911802e+07   \nmean   1.455901e+07  4.999770e+00  5.001814e+00  8.284912e+01  4.170104e+05   \nstd    8.405649e+06  2.857601e+00  2.887505e+00  1.147518e+02  2.311761e+05   \nmin    0.000000e+00  0.000000e+00  0.000000e+00  1.000000e+00  1.000000e+00   \n25%    7.279505e+06  2.534700e+00  2.496700e+00  2.700000e+01  2.030570e+05   \n50%    1.455901e+07  5.009100e+00  4.988300e+00  6.200000e+01  4.339220e+05   \n75%    2.183852e+07  7.461400e+00  7.510300e+00  7.500000e+01  6.204910e+05   \nmax    2.911802e+07  1.000000e+01  1.000000e+01  1.033000e+03  7.862390e+05   \n\n           place_id  \ncount  2.911802e+07  \nmean   5.493787e+09  \nstd    2.611088e+09  \nmin    1.000016e+09  \n25%    3.222911e+09  \n50%    5.518573e+09  \n75%    7.764307e+09  \nmax    9.999932e+09  ",
      "text/html": "<div>\n<style scoped>\n    .dataframe tbody tr th:only-of-type {\n        vertical-align: middle;\n    }\n\n    .dataframe tbody tr th {\n        vertical-align: top;\n    }\n\n    .dataframe thead th {\n        text-align: right;\n    }\n</style>\n<table border=\"1\" class=\"dataframe\">\n  <thead>\n    <tr style=\"text-align: right;\">\n      <th></th>\n      <th>row_id</th>\n      <th>x</th>\n      <th>y</th>\n      <th>accuracy</th>\n      <th>time</th>\n      <th>place_id</th>\n    </tr>\n  </thead>\n  <tbody>\n    <tr>\n      <th>count</th>\n      <td>2.911802e+07</td>\n      <td>2.911802e+07</td>\n      <td>2.911802e+07</td>\n      <td>2.911802e+07</td>\n      <td>2.911802e+07</td>\n      <td>2.911802e+07</td>\n    </tr>\n    <tr>\n      <th>mean</th>\n      <td>1.455901e+07</td>\n      <td>4.999770e+00</td>\n      <td>5.001814e+00</td>\n      <td>8.284912e+01</td>\n      <td>4.170104e+05</td>\n      <td>5.493787e+09</td>\n    </tr>\n    <tr>\n      <th>std</th>\n      <td>8.405649e+06</td>\n      <td>2.857601e+00</td>\n      <td>2.887505e+00</td>\n      <td>1.147518e+02</td>\n      <td>2.311761e+05</td>\n      <td>2.611088e+09</td>\n    </tr>\n    <tr>\n      <th>min</th>\n      <td>0.000000e+00</td>\n      <td>0.000000e+00</td>\n      <td>0.000000e+00</td>\n      <td>1.000000e+00</td>\n      <td>1.000000e+00</td>\n      <td>1.000016e+09</td>\n    </tr>\n    <tr>\n      <th>25%</th>\n      <td>7.279505e+06</td>\n      <td>2.534700e+00</td>\n      <td>2.496700e+00</td>\n      <td>2.700000e+01</td>\n      <td>2.030570e+05</td>\n      <td>3.222911e+09</td>\n    </tr>\n    <tr>\n      <th>50%</th>\n      <td>1.455901e+07</td>\n      <td>5.009100e+00</td>\n      <td>4.988300e+00</td>\n      <td>6.200000e+01</td>\n      <td>4.339220e+05</td>\n      <td>5.518573e+09</td>\n    </tr>\n    <tr>\n      <th>75%</th>\n      <td>2.183852e+07</td>\n      <td>7.461400e+00</td>\n      <td>7.510300e+00</td>\n      <td>7.500000e+01</td>\n      <td>6.204910e+05</td>\n      <td>7.764307e+09</td>\n    </tr>\n    <tr>\n      <th>max</th>\n      <td>2.911802e+07</td>\n      <td>1.000000e+01</td>\n      <td>1.000000e+01</td>\n      <td>1.033000e+03</td>\n      <td>7.862390e+05</td>\n      <td>9.999932e+09</td>\n    </tr>\n  </tbody>\n</table>\n</div>"
     },
     "execution_count": 4,
     "metadata": {},
     "output_type": "execute_result"
    }
   ],
   "source": [
    "data.describe()"
   ],
   "metadata": {
    "collapsed": false,
    "ExecuteTime": {
     "end_time": "2023-09-07T06:26:20.448305500Z",
     "start_time": "2023-09-07T06:26:16.425448500Z"
    }
   },
   "id": "9aaa5514703eb6eb"
  },
  {
   "cell_type": "code",
   "execution_count": 5,
   "outputs": [
    {
     "data": {
      "text/plain": "(29118021, 6)"
     },
     "execution_count": 5,
     "metadata": {},
     "output_type": "execute_result"
    }
   ],
   "source": [
    "data.shape"
   ],
   "metadata": {
    "collapsed": false,
    "ExecuteTime": {
     "end_time": "2023-09-07T06:26:20.507836300Z",
     "start_time": "2023-09-07T06:26:20.447305300Z"
    }
   },
   "id": "548d089f6675deb1"
  },
  {
   "cell_type": "code",
   "execution_count": 8,
   "outputs": [],
   "source": [
    "\n",
    "\n",
    "\n",
    "# 2.3 去掉签到较少的地⽅\n",
    "# 2.4 确定特征值和⽬标值\n",
    "# 2.5 分割数据集\n",
    "# 3.特征⼯程 -- 特征预处理(标准化)\n",
    "# 4.机器学习 -- knn+cv\n",
    "# 5.模型评估"
   ],
   "metadata": {
    "collapsed": false,
    "ExecuteTime": {
     "end_time": "2023-09-07T06:32:34.934905800Z",
     "start_time": "2023-09-07T06:32:34.925018600Z"
    }
   },
   "id": "6bd424975e16749c"
  },
  {
   "cell_type": "code",
   "execution_count": 13,
   "outputs": [],
   "source": [
    "# 2.基本数据处理\n",
    "# 2.1 缩⼩数据范围\n",
    "partial_data = data.query('x > 2.0 & x < 2.5 & y > 2.0 & y < 2.5')"
   ],
   "metadata": {
    "collapsed": false,
    "ExecuteTime": {
     "end_time": "2023-09-07T06:38:35.683597200Z",
     "start_time": "2023-09-07T06:38:35.546148700Z"
    }
   },
   "id": "e50f7c57502b8f6b"
  },
  {
   "cell_type": "code",
   "execution_count": 14,
   "outputs": [
    {
     "data": {
      "text/plain": "      row_id       x       y  accuracy    time    place_id\n163      163  2.1663  2.3755        84  669737  3869813743\n310      310  2.3695  2.2034         3  234719  2636621520\n658      658  2.3236  2.1768        66  502343  7877745055\n1368    1368  2.2613  2.3392        73  319822  9775192577\n1627    1627  2.3331  2.0011        66  595084  6731326909",
      "text/html": "<div>\n<style scoped>\n    .dataframe tbody tr th:only-of-type {\n        vertical-align: middle;\n    }\n\n    .dataframe tbody tr th {\n        vertical-align: top;\n    }\n\n    .dataframe thead th {\n        text-align: right;\n    }\n</style>\n<table border=\"1\" class=\"dataframe\">\n  <thead>\n    <tr style=\"text-align: right;\">\n      <th></th>\n      <th>row_id</th>\n      <th>x</th>\n      <th>y</th>\n      <th>accuracy</th>\n      <th>time</th>\n      <th>place_id</th>\n    </tr>\n  </thead>\n  <tbody>\n    <tr>\n      <th>163</th>\n      <td>163</td>\n      <td>2.1663</td>\n      <td>2.3755</td>\n      <td>84</td>\n      <td>669737</td>\n      <td>3869813743</td>\n    </tr>\n    <tr>\n      <th>310</th>\n      <td>310</td>\n      <td>2.3695</td>\n      <td>2.2034</td>\n      <td>3</td>\n      <td>234719</td>\n      <td>2636621520</td>\n    </tr>\n    <tr>\n      <th>658</th>\n      <td>658</td>\n      <td>2.3236</td>\n      <td>2.1768</td>\n      <td>66</td>\n      <td>502343</td>\n      <td>7877745055</td>\n    </tr>\n    <tr>\n      <th>1368</th>\n      <td>1368</td>\n      <td>2.2613</td>\n      <td>2.3392</td>\n      <td>73</td>\n      <td>319822</td>\n      <td>9775192577</td>\n    </tr>\n    <tr>\n      <th>1627</th>\n      <td>1627</td>\n      <td>2.3331</td>\n      <td>2.0011</td>\n      <td>66</td>\n      <td>595084</td>\n      <td>6731326909</td>\n    </tr>\n  </tbody>\n</table>\n</div>"
     },
     "execution_count": 14,
     "metadata": {},
     "output_type": "execute_result"
    }
   ],
   "source": [
    "partial_data.head()"
   ],
   "metadata": {
    "collapsed": false,
    "ExecuteTime": {
     "end_time": "2023-09-07T06:38:36.949135100Z",
     "start_time": "2023-09-07T06:38:36.929021100Z"
    }
   },
   "id": "39e496b056b2d343"
  },
  {
   "cell_type": "code",
   "execution_count": 15,
   "outputs": [
    {
     "data": {
      "text/plain": "(71664, 6)"
     },
     "execution_count": 15,
     "metadata": {},
     "output_type": "execute_result"
    }
   ],
   "source": [
    "partial_data.shape"
   ],
   "metadata": {
    "collapsed": false,
    "ExecuteTime": {
     "end_time": "2023-09-07T06:38:37.846716200Z",
     "start_time": "2023-09-07T06:38:37.836713300Z"
    }
   },
   "id": "f37918580bdf6661"
  },
  {
   "cell_type": "code",
   "execution_count": 27,
   "outputs": [
    {
     "name": "stderr",
     "output_type": "stream",
     "text": [
      "C:\\Users\\ghdong\\AppData\\Local\\Temp\\ipykernel_21788\\3829032978.py:2: SettingWithCopyWarning: \n",
      "A value is trying to be set on a copy of a slice from a DataFrame.\n",
      "Try using .loc[row_indexer,col_indexer] = value instead\n",
      "\n",
      "See the caveats in the documentation: https://pandas.pydata.org/pandas-docs/stable/user_guide/indexing.html#returning-a-view-versus-a-copy\n",
      "  partial_data['time'] = pd.to_datetime(partial_data['time'], unit='s')\n"
     ]
    },
    {
     "data": {
      "text/plain": "      row_id       x       y  accuracy                          time  \\\n163      163  2.1663  2.3755        84 1970-01-01 00:00:00.000669737   \n310      310  2.3695  2.2034         3 1970-01-01 00:00:00.000234719   \n658      658  2.3236  2.1768        66 1970-01-01 00:00:00.000502343   \n1368    1368  2.2613  2.3392        73 1970-01-01 00:00:00.000319822   \n1627    1627  2.3331  2.0011        66 1970-01-01 00:00:00.000595084   \n\n        place_id  \n163   3869813743  \n310   2636621520  \n658   7877745055  \n1368  9775192577  \n1627  6731326909  ",
      "text/html": "<div>\n<style scoped>\n    .dataframe tbody tr th:only-of-type {\n        vertical-align: middle;\n    }\n\n    .dataframe tbody tr th {\n        vertical-align: top;\n    }\n\n    .dataframe thead th {\n        text-align: right;\n    }\n</style>\n<table border=\"1\" class=\"dataframe\">\n  <thead>\n    <tr style=\"text-align: right;\">\n      <th></th>\n      <th>row_id</th>\n      <th>x</th>\n      <th>y</th>\n      <th>accuracy</th>\n      <th>time</th>\n      <th>place_id</th>\n    </tr>\n  </thead>\n  <tbody>\n    <tr>\n      <th>163</th>\n      <td>163</td>\n      <td>2.1663</td>\n      <td>2.3755</td>\n      <td>84</td>\n      <td>1970-01-01 00:00:00.000669737</td>\n      <td>3869813743</td>\n    </tr>\n    <tr>\n      <th>310</th>\n      <td>310</td>\n      <td>2.3695</td>\n      <td>2.2034</td>\n      <td>3</td>\n      <td>1970-01-01 00:00:00.000234719</td>\n      <td>2636621520</td>\n    </tr>\n    <tr>\n      <th>658</th>\n      <td>658</td>\n      <td>2.3236</td>\n      <td>2.1768</td>\n      <td>66</td>\n      <td>1970-01-01 00:00:00.000502343</td>\n      <td>7877745055</td>\n    </tr>\n    <tr>\n      <th>1368</th>\n      <td>1368</td>\n      <td>2.2613</td>\n      <td>2.3392</td>\n      <td>73</td>\n      <td>1970-01-01 00:00:00.000319822</td>\n      <td>9775192577</td>\n    </tr>\n    <tr>\n      <th>1627</th>\n      <td>1627</td>\n      <td>2.3331</td>\n      <td>2.0011</td>\n      <td>66</td>\n      <td>1970-01-01 00:00:00.000595084</td>\n      <td>6731326909</td>\n    </tr>\n  </tbody>\n</table>\n</div>"
     },
     "execution_count": 27,
     "metadata": {},
     "output_type": "execute_result"
    }
   ],
   "source": [
    "# 2.2 选择时间特征\n",
    "partial_data['time'] = pd.to_datetime(partial_data['time'], unit = 's')\n",
    "partial_data.head()"
   ],
   "metadata": {
    "collapsed": false,
    "ExecuteTime": {
     "end_time": "2023-09-07T06:48:01.177482900Z",
     "start_time": "2023-09-07T06:48:01.157176400Z"
    }
   },
   "id": "7e5e58e334fe810c"
  },
  {
   "cell_type": "code",
   "execution_count": 20,
   "outputs": [],
   "source": [
    "time = pd.to_datetime(partial_data['time'], unit='s')"
   ],
   "metadata": {
    "collapsed": false,
    "ExecuteTime": {
     "end_time": "2023-09-07T06:42:44.508342100Z",
     "start_time": "2023-09-07T06:42:44.437809Z"
    }
   },
   "id": "9d47066db6a3d8de"
  },
  {
   "cell_type": "code",
   "execution_count": 21,
   "outputs": [
    {
     "data": {
      "text/plain": "163    1970-01-01 00:00:00.000669737\n310    1970-01-01 00:00:00.000234719\n658    1970-01-01 00:00:00.000502343\n1368   1970-01-01 00:00:00.000319822\n1627   1970-01-01 00:00:00.000595084\nName: time, dtype: datetime64[ns]"
     },
     "execution_count": 21,
     "metadata": {},
     "output_type": "execute_result"
    }
   ],
   "source": [
    "time.head()"
   ],
   "metadata": {
    "collapsed": false,
    "ExecuteTime": {
     "end_time": "2023-09-07T06:42:54.301857200Z",
     "start_time": "2023-09-07T06:42:54.271735600Z"
    }
   },
   "id": "e3b9e5220584ca9e"
  },
  {
   "cell_type": "code",
   "execution_count": null,
   "outputs": [],
   "source": [],
   "metadata": {
    "collapsed": false
   },
   "id": "42e4daa0d074cdf"
  }
 ],
 "metadata": {
  "kernelspec": {
   "display_name": "Python 3",
   "language": "python",
   "name": "python3"
  },
  "language_info": {
   "codemirror_mode": {
    "name": "ipython",
    "version": 2
   },
   "file_extension": ".py",
   "mimetype": "text/x-python",
   "name": "python",
   "nbconvert_exporter": "python",
   "pygments_lexer": "ipython2",
   "version": "2.7.6"
  }
 },
 "nbformat": 4,
 "nbformat_minor": 5
}
