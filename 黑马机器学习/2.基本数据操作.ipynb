{
 "cells": [
  {
   "cell_type": "markdown",
   "source": [
    "## 3.2 基本数据操作 (pandas)"
   ],
   "metadata": {
    "collapsed": false
   },
   "id": "b9af1c299014ef10"
  },
  {
   "cell_type": "code",
   "execution_count": 168,
   "outputs": [],
   "source": [
    "import pandas as pd\n",
    "import numpy as np\n",
    "import matplotlib.pyplot as plt\n",
    "\n",
    "data=pd.read_csv('./data/stock_day.csv')"
   ],
   "metadata": {
    "collapsed": false,
    "ExecuteTime": {
     "end_time": "2023-09-02T12:42:07.578388800Z",
     "start_time": "2023-09-02T12:42:07.552007Z"
    }
   },
   "id": "c11f856931c138f6"
  },
  {
   "cell_type": "code",
   "execution_count": 78,
   "outputs": [
    {
     "data": {
      "text/plain": "             open   high  close    low    volume  price_change  p_change  \\\n2018-02-27  23.53  25.88  24.16  23.53  95578.03          0.63      2.68   \n2018-02-26  22.80  23.78  23.53  22.80  60985.11          0.69      3.02   \n2018-02-23  22.88  23.37  22.82  22.71  52914.01          0.54      2.42   \n2018-02-22  22.25  22.76  22.28  22.02  36105.01          0.36      1.64   \n2018-02-14  21.49  21.99  21.92  21.48  23331.04          0.44      2.05   \n\n               ma5    ma10    ma20     v_ma5    v_ma10    v_ma20  turnover  \n2018-02-27  22.942  22.142  22.875  53782.64  46738.65  55576.11      2.39  \n2018-02-26  22.406  21.955  22.942  40827.52  42736.34  56007.50      1.53  \n2018-02-23  21.938  21.929  23.022  35119.58  41871.97  56372.85      1.32  \n2018-02-22  21.446  21.909  23.137  35397.58  39904.78  60149.60      0.90  \n2018-02-14  21.366  21.923  23.253  33590.21  42935.74  61716.11      0.58  ",
      "text/html": "<div>\n<style scoped>\n    .dataframe tbody tr th:only-of-type {\n        vertical-align: middle;\n    }\n\n    .dataframe tbody tr th {\n        vertical-align: top;\n    }\n\n    .dataframe thead th {\n        text-align: right;\n    }\n</style>\n<table border=\"1\" class=\"dataframe\">\n  <thead>\n    <tr style=\"text-align: right;\">\n      <th></th>\n      <th>open</th>\n      <th>high</th>\n      <th>close</th>\n      <th>low</th>\n      <th>volume</th>\n      <th>price_change</th>\n      <th>p_change</th>\n      <th>ma5</th>\n      <th>ma10</th>\n      <th>ma20</th>\n      <th>v_ma5</th>\n      <th>v_ma10</th>\n      <th>v_ma20</th>\n      <th>turnover</th>\n    </tr>\n  </thead>\n  <tbody>\n    <tr>\n      <th>2018-02-27</th>\n      <td>23.53</td>\n      <td>25.88</td>\n      <td>24.16</td>\n      <td>23.53</td>\n      <td>95578.03</td>\n      <td>0.63</td>\n      <td>2.68</td>\n      <td>22.942</td>\n      <td>22.142</td>\n      <td>22.875</td>\n      <td>53782.64</td>\n      <td>46738.65</td>\n      <td>55576.11</td>\n      <td>2.39</td>\n    </tr>\n    <tr>\n      <th>2018-02-26</th>\n      <td>22.80</td>\n      <td>23.78</td>\n      <td>23.53</td>\n      <td>22.80</td>\n      <td>60985.11</td>\n      <td>0.69</td>\n      <td>3.02</td>\n      <td>22.406</td>\n      <td>21.955</td>\n      <td>22.942</td>\n      <td>40827.52</td>\n      <td>42736.34</td>\n      <td>56007.50</td>\n      <td>1.53</td>\n    </tr>\n    <tr>\n      <th>2018-02-23</th>\n      <td>22.88</td>\n      <td>23.37</td>\n      <td>22.82</td>\n      <td>22.71</td>\n      <td>52914.01</td>\n      <td>0.54</td>\n      <td>2.42</td>\n      <td>21.938</td>\n      <td>21.929</td>\n      <td>23.022</td>\n      <td>35119.58</td>\n      <td>41871.97</td>\n      <td>56372.85</td>\n      <td>1.32</td>\n    </tr>\n    <tr>\n      <th>2018-02-22</th>\n      <td>22.25</td>\n      <td>22.76</td>\n      <td>22.28</td>\n      <td>22.02</td>\n      <td>36105.01</td>\n      <td>0.36</td>\n      <td>1.64</td>\n      <td>21.446</td>\n      <td>21.909</td>\n      <td>23.137</td>\n      <td>35397.58</td>\n      <td>39904.78</td>\n      <td>60149.60</td>\n      <td>0.90</td>\n    </tr>\n    <tr>\n      <th>2018-02-14</th>\n      <td>21.49</td>\n      <td>21.99</td>\n      <td>21.92</td>\n      <td>21.48</td>\n      <td>23331.04</td>\n      <td>0.44</td>\n      <td>2.05</td>\n      <td>21.366</td>\n      <td>21.923</td>\n      <td>23.253</td>\n      <td>33590.21</td>\n      <td>42935.74</td>\n      <td>61716.11</td>\n      <td>0.58</td>\n    </tr>\n  </tbody>\n</table>\n</div>"
     },
     "execution_count": 78,
     "metadata": {},
     "output_type": "execute_result"
    }
   ],
   "source": [
    "data.head()"
   ],
   "metadata": {
    "collapsed": false,
    "ExecuteTime": {
     "end_time": "2023-09-02T12:40:42.706981800Z",
     "start_time": "2023-09-02T12:40:42.004436500Z"
    }
   },
   "id": "c84990d5310d8d75"
  },
  {
   "cell_type": "code",
   "execution_count": 79,
   "outputs": [
    {
     "data": {
      "text/plain": "             open   high  close    low    volume  price_change  p_change  \\\n2018-02-27  23.53  25.88  24.16  23.53  95578.03          0.63      2.68   \n2018-02-26  22.80  23.78  23.53  22.80  60985.11          0.69      3.02   \n2018-02-23  22.88  23.37  22.82  22.71  52914.01          0.54      2.42   \n2018-02-22  22.25  22.76  22.28  22.02  36105.01          0.36      1.64   \n2018-02-14  21.49  21.99  21.92  21.48  23331.04          0.44      2.05   \n\n            turnover  \n2018-02-27      2.39  \n2018-02-26      1.53  \n2018-02-23      1.32  \n2018-02-22      0.90  \n2018-02-14      0.58  ",
      "text/html": "<div>\n<style scoped>\n    .dataframe tbody tr th:only-of-type {\n        vertical-align: middle;\n    }\n\n    .dataframe tbody tr th {\n        vertical-align: top;\n    }\n\n    .dataframe thead th {\n        text-align: right;\n    }\n</style>\n<table border=\"1\" class=\"dataframe\">\n  <thead>\n    <tr style=\"text-align: right;\">\n      <th></th>\n      <th>open</th>\n      <th>high</th>\n      <th>close</th>\n      <th>low</th>\n      <th>volume</th>\n      <th>price_change</th>\n      <th>p_change</th>\n      <th>turnover</th>\n    </tr>\n  </thead>\n  <tbody>\n    <tr>\n      <th>2018-02-27</th>\n      <td>23.53</td>\n      <td>25.88</td>\n      <td>24.16</td>\n      <td>23.53</td>\n      <td>95578.03</td>\n      <td>0.63</td>\n      <td>2.68</td>\n      <td>2.39</td>\n    </tr>\n    <tr>\n      <th>2018-02-26</th>\n      <td>22.80</td>\n      <td>23.78</td>\n      <td>23.53</td>\n      <td>22.80</td>\n      <td>60985.11</td>\n      <td>0.69</td>\n      <td>3.02</td>\n      <td>1.53</td>\n    </tr>\n    <tr>\n      <th>2018-02-23</th>\n      <td>22.88</td>\n      <td>23.37</td>\n      <td>22.82</td>\n      <td>22.71</td>\n      <td>52914.01</td>\n      <td>0.54</td>\n      <td>2.42</td>\n      <td>1.32</td>\n    </tr>\n    <tr>\n      <th>2018-02-22</th>\n      <td>22.25</td>\n      <td>22.76</td>\n      <td>22.28</td>\n      <td>22.02</td>\n      <td>36105.01</td>\n      <td>0.36</td>\n      <td>1.64</td>\n      <td>0.90</td>\n    </tr>\n    <tr>\n      <th>2018-02-14</th>\n      <td>21.49</td>\n      <td>21.99</td>\n      <td>21.92</td>\n      <td>21.48</td>\n      <td>23331.04</td>\n      <td>0.44</td>\n      <td>2.05</td>\n      <td>0.58</td>\n    </tr>\n  </tbody>\n</table>\n</div>"
     },
     "execution_count": 79,
     "metadata": {},
     "output_type": "execute_result"
    }
   ],
   "source": [
    "data = data.drop([\"ma5\",\"ma10\",\"ma20\",\"v_ma5\",\"v_ma10\",\"v_ma20\"], axis=1)\n",
    "data.head()"
   ],
   "metadata": {
    "collapsed": false,
    "ExecuteTime": {
     "end_time": "2023-09-02T12:40:42.831151200Z",
     "start_time": "2023-09-02T12:40:42.019025100Z"
    }
   },
   "id": "bc72219d32f2d877"
  },
  {
   "cell_type": "markdown",
   "source": [
    "### 1 索引操作"
   ],
   "metadata": {
    "collapsed": false
   },
   "id": "93e7bdcf56a1db0d"
  },
  {
   "cell_type": "markdown",
   "source": [
    "#### 1.1 直接使用行列索引(先列后行)\n"
   ],
   "metadata": {
    "collapsed": false
   },
   "id": "8cc1e59ffb4f00ea"
  },
  {
   "cell_type": "code",
   "execution_count": 80,
   "outputs": [
    {
     "data": {
      "text/plain": "23.53"
     },
     "execution_count": 80,
     "metadata": {},
     "output_type": "execute_result"
    }
   ],
   "source": [
    "data['open']['2018-02-27']"
   ],
   "metadata": {
    "collapsed": false,
    "ExecuteTime": {
     "end_time": "2023-09-02T12:40:42.837714600Z",
     "start_time": "2023-09-02T12:40:42.034627500Z"
    }
   },
   "id": "af4aea74bf088064"
  },
  {
   "cell_type": "code",
   "execution_count": 81,
   "outputs": [
    {
     "data": {
      "text/plain": "22.76"
     },
     "execution_count": 81,
     "metadata": {},
     "output_type": "execute_result"
    }
   ],
   "source": [
    "data['high']['2018-02-22']"
   ],
   "metadata": {
    "collapsed": false,
    "ExecuteTime": {
     "end_time": "2023-09-02T12:40:43.012964700Z",
     "start_time": "2023-09-02T12:40:42.051134900Z"
    }
   },
   "id": "77546da990a553ed"
  },
  {
   "cell_type": "markdown",
   "source": [
    "#### 1.2 使用loc和iloc"
   ],
   "metadata": {
    "collapsed": false
   },
   "id": "57ab92a3cfca74aa"
  },
  {
   "cell_type": "code",
   "execution_count": 82,
   "outputs": [
    {
     "data": {
      "text/plain": "21.49"
     },
     "execution_count": 82,
     "metadata": {},
     "output_type": "execute_result"
    }
   ],
   "source": [
    "data.loc['2018-02-14','open']"
   ],
   "metadata": {
    "collapsed": false,
    "ExecuteTime": {
     "end_time": "2023-09-02T12:40:43.030476Z",
     "start_time": "2023-09-02T12:40:42.066173700Z"
    }
   },
   "id": "7161cf64676a7bd3"
  },
  {
   "cell_type": "code",
   "execution_count": 83,
   "outputs": [
    {
     "data": {
      "text/plain": "             open   high  close\n2018-02-27  23.53  25.88  24.16\n2018-02-26  22.80  23.78  23.53",
      "text/html": "<div>\n<style scoped>\n    .dataframe tbody tr th:only-of-type {\n        vertical-align: middle;\n    }\n\n    .dataframe tbody tr th {\n        vertical-align: top;\n    }\n\n    .dataframe thead th {\n        text-align: right;\n    }\n</style>\n<table border=\"1\" class=\"dataframe\">\n  <thead>\n    <tr style=\"text-align: right;\">\n      <th></th>\n      <th>open</th>\n      <th>high</th>\n      <th>close</th>\n    </tr>\n  </thead>\n  <tbody>\n    <tr>\n      <th>2018-02-27</th>\n      <td>23.53</td>\n      <td>25.88</td>\n      <td>24.16</td>\n    </tr>\n    <tr>\n      <th>2018-02-26</th>\n      <td>22.80</td>\n      <td>23.78</td>\n      <td>23.53</td>\n    </tr>\n  </tbody>\n</table>\n</div>"
     },
     "execution_count": 83,
     "metadata": {},
     "output_type": "execute_result"
    }
   ],
   "source": [
    "data.iloc[:2,:3]"
   ],
   "metadata": {
    "collapsed": false,
    "ExecuteTime": {
     "end_time": "2023-09-02T12:40:43.126883600Z",
     "start_time": "2023-09-02T12:40:42.082220100Z"
    }
   },
   "id": "19eab1fc4341a942"
  },
  {
   "cell_type": "code",
   "execution_count": 84,
   "outputs": [
    {
     "data": {
      "text/plain": "             open   high    low\n2018-02-27  23.53  25.88  23.53\n2018-02-26  22.80  23.78  22.80\n2018-02-23  22.88  23.37  22.71\n2018-02-22  22.25  22.76  22.02\n2018-02-14  21.49  21.99  21.48",
      "text/html": "<div>\n<style scoped>\n    .dataframe tbody tr th:only-of-type {\n        vertical-align: middle;\n    }\n\n    .dataframe tbody tr th {\n        vertical-align: top;\n    }\n\n    .dataframe thead th {\n        text-align: right;\n    }\n</style>\n<table border=\"1\" class=\"dataframe\">\n  <thead>\n    <tr style=\"text-align: right;\">\n      <th></th>\n      <th>open</th>\n      <th>high</th>\n      <th>low</th>\n    </tr>\n  </thead>\n  <tbody>\n    <tr>\n      <th>2018-02-27</th>\n      <td>23.53</td>\n      <td>25.88</td>\n      <td>23.53</td>\n    </tr>\n    <tr>\n      <th>2018-02-26</th>\n      <td>22.80</td>\n      <td>23.78</td>\n      <td>22.80</td>\n    </tr>\n    <tr>\n      <th>2018-02-23</th>\n      <td>22.88</td>\n      <td>23.37</td>\n      <td>22.71</td>\n    </tr>\n    <tr>\n      <th>2018-02-22</th>\n      <td>22.25</td>\n      <td>22.76</td>\n      <td>22.02</td>\n    </tr>\n    <tr>\n      <th>2018-02-14</th>\n      <td>21.49</td>\n      <td>21.99</td>\n      <td>21.48</td>\n    </tr>\n  </tbody>\n</table>\n</div>"
     },
     "execution_count": 84,
     "metadata": {},
     "output_type": "execute_result"
    }
   ],
   "source": [
    "data.loc[data.index[0:5],['open','high','low']]"
   ],
   "metadata": {
    "collapsed": false,
    "ExecuteTime": {
     "end_time": "2023-09-02T12:40:43.359659100Z",
     "start_time": "2023-09-02T12:40:42.097246600Z"
    }
   },
   "id": "1f1f524b204024"
  },
  {
   "cell_type": "code",
   "execution_count": 85,
   "outputs": [
    {
     "data": {
      "text/plain": "             open   high\n2018-02-27  23.53  25.88\n2018-02-26  22.80  23.78\n2018-02-23  22.88  23.37\n2018-02-22  22.25  22.76\n2018-02-14  21.49  21.99",
      "text/html": "<div>\n<style scoped>\n    .dataframe tbody tr th:only-of-type {\n        vertical-align: middle;\n    }\n\n    .dataframe tbody tr th {\n        vertical-align: top;\n    }\n\n    .dataframe thead th {\n        text-align: right;\n    }\n</style>\n<table border=\"1\" class=\"dataframe\">\n  <thead>\n    <tr style=\"text-align: right;\">\n      <th></th>\n      <th>open</th>\n      <th>high</th>\n    </tr>\n  </thead>\n  <tbody>\n    <tr>\n      <th>2018-02-27</th>\n      <td>23.53</td>\n      <td>25.88</td>\n    </tr>\n    <tr>\n      <th>2018-02-26</th>\n      <td>22.80</td>\n      <td>23.78</td>\n    </tr>\n    <tr>\n      <th>2018-02-23</th>\n      <td>22.88</td>\n      <td>23.37</td>\n    </tr>\n    <tr>\n      <th>2018-02-22</th>\n      <td>22.25</td>\n      <td>22.76</td>\n    </tr>\n    <tr>\n      <th>2018-02-14</th>\n      <td>21.49</td>\n      <td>21.99</td>\n    </tr>\n  </tbody>\n</table>\n</div>"
     },
     "execution_count": 85,
     "metadata": {},
     "output_type": "execute_result"
    }
   ],
   "source": [
    "data.iloc[0:5,data.columns.get_indexer(['open','high'])]"
   ],
   "metadata": {
    "collapsed": false,
    "ExecuteTime": {
     "end_time": "2023-09-02T12:40:43.602725Z",
     "start_time": "2023-09-02T12:40:42.113785800Z"
    }
   },
   "id": "a64ca48a90ba6e22"
  },
  {
   "cell_type": "markdown",
   "source": [
    "### 2 赋值操作"
   ],
   "metadata": {
    "collapsed": false
   },
   "id": "f33a5063ae6b0b3a"
  },
  {
   "cell_type": "code",
   "execution_count": 86,
   "outputs": [],
   "source": [
    "data['close']=1"
   ],
   "metadata": {
    "collapsed": false,
    "ExecuteTime": {
     "end_time": "2023-09-02T12:40:43.783868200Z",
     "start_time": "2023-09-02T12:40:42.129307100Z"
    }
   },
   "id": "1690fb30d558d6b1"
  },
  {
   "cell_type": "code",
   "execution_count": 87,
   "outputs": [
    {
     "data": {
      "text/plain": "             open   high  close    low    volume  price_change  p_change  \\\n2018-02-27  23.53  25.88      1  23.53  95578.03          0.63      2.68   \n2018-02-26  22.80  23.78      1  22.80  60985.11          0.69      3.02   \n2018-02-23  22.88  23.37      1  22.71  52914.01          0.54      2.42   \n2018-02-22  22.25  22.76      1  22.02  36105.01          0.36      1.64   \n2018-02-14  21.49  21.99      1  21.48  23331.04          0.44      2.05   \n\n            turnover  \n2018-02-27      2.39  \n2018-02-26      1.53  \n2018-02-23      1.32  \n2018-02-22      0.90  \n2018-02-14      0.58  ",
      "text/html": "<div>\n<style scoped>\n    .dataframe tbody tr th:only-of-type {\n        vertical-align: middle;\n    }\n\n    .dataframe tbody tr th {\n        vertical-align: top;\n    }\n\n    .dataframe thead th {\n        text-align: right;\n    }\n</style>\n<table border=\"1\" class=\"dataframe\">\n  <thead>\n    <tr style=\"text-align: right;\">\n      <th></th>\n      <th>open</th>\n      <th>high</th>\n      <th>close</th>\n      <th>low</th>\n      <th>volume</th>\n      <th>price_change</th>\n      <th>p_change</th>\n      <th>turnover</th>\n    </tr>\n  </thead>\n  <tbody>\n    <tr>\n      <th>2018-02-27</th>\n      <td>23.53</td>\n      <td>25.88</td>\n      <td>1</td>\n      <td>23.53</td>\n      <td>95578.03</td>\n      <td>0.63</td>\n      <td>2.68</td>\n      <td>2.39</td>\n    </tr>\n    <tr>\n      <th>2018-02-26</th>\n      <td>22.80</td>\n      <td>23.78</td>\n      <td>1</td>\n      <td>22.80</td>\n      <td>60985.11</td>\n      <td>0.69</td>\n      <td>3.02</td>\n      <td>1.53</td>\n    </tr>\n    <tr>\n      <th>2018-02-23</th>\n      <td>22.88</td>\n      <td>23.37</td>\n      <td>1</td>\n      <td>22.71</td>\n      <td>52914.01</td>\n      <td>0.54</td>\n      <td>2.42</td>\n      <td>1.32</td>\n    </tr>\n    <tr>\n      <th>2018-02-22</th>\n      <td>22.25</td>\n      <td>22.76</td>\n      <td>1</td>\n      <td>22.02</td>\n      <td>36105.01</td>\n      <td>0.36</td>\n      <td>1.64</td>\n      <td>0.90</td>\n    </tr>\n    <tr>\n      <th>2018-02-14</th>\n      <td>21.49</td>\n      <td>21.99</td>\n      <td>1</td>\n      <td>21.48</td>\n      <td>23331.04</td>\n      <td>0.44</td>\n      <td>2.05</td>\n      <td>0.58</td>\n    </tr>\n  </tbody>\n</table>\n</div>"
     },
     "execution_count": 87,
     "metadata": {},
     "output_type": "execute_result"
    }
   ],
   "source": [
    "data.head()"
   ],
   "metadata": {
    "collapsed": false,
    "ExecuteTime": {
     "end_time": "2023-09-02T12:40:43.784866600Z",
     "start_time": "2023-09-02T12:40:42.146333600Z"
    }
   },
   "id": "9e098e1fb02f3b79"
  },
  {
   "cell_type": "code",
   "execution_count": 88,
   "outputs": [
    {
     "data": {
      "text/plain": "             open   high  close    low    volume  price_change  p_change  \\\n2018-02-27  23.53  25.88     10  23.53  95578.03          0.63      2.68   \n2018-02-26  22.80  23.78     10  22.80  60985.11          0.69      3.02   \n2018-02-23  22.88  23.37     10  22.71  52914.01          0.54      2.42   \n2018-02-22  22.25  22.76     10  22.02  36105.01          0.36      1.64   \n2018-02-14  21.49  21.99     10  21.48  23331.04          0.44      2.05   \n\n            turnover  \n2018-02-27      2.39  \n2018-02-26      1.53  \n2018-02-23      1.32  \n2018-02-22      0.90  \n2018-02-14      0.58  ",
      "text/html": "<div>\n<style scoped>\n    .dataframe tbody tr th:only-of-type {\n        vertical-align: middle;\n    }\n\n    .dataframe tbody tr th {\n        vertical-align: top;\n    }\n\n    .dataframe thead th {\n        text-align: right;\n    }\n</style>\n<table border=\"1\" class=\"dataframe\">\n  <thead>\n    <tr style=\"text-align: right;\">\n      <th></th>\n      <th>open</th>\n      <th>high</th>\n      <th>close</th>\n      <th>low</th>\n      <th>volume</th>\n      <th>price_change</th>\n      <th>p_change</th>\n      <th>turnover</th>\n    </tr>\n  </thead>\n  <tbody>\n    <tr>\n      <th>2018-02-27</th>\n      <td>23.53</td>\n      <td>25.88</td>\n      <td>10</td>\n      <td>23.53</td>\n      <td>95578.03</td>\n      <td>0.63</td>\n      <td>2.68</td>\n      <td>2.39</td>\n    </tr>\n    <tr>\n      <th>2018-02-26</th>\n      <td>22.80</td>\n      <td>23.78</td>\n      <td>10</td>\n      <td>22.80</td>\n      <td>60985.11</td>\n      <td>0.69</td>\n      <td>3.02</td>\n      <td>1.53</td>\n    </tr>\n    <tr>\n      <th>2018-02-23</th>\n      <td>22.88</td>\n      <td>23.37</td>\n      <td>10</td>\n      <td>22.71</td>\n      <td>52914.01</td>\n      <td>0.54</td>\n      <td>2.42</td>\n      <td>1.32</td>\n    </tr>\n    <tr>\n      <th>2018-02-22</th>\n      <td>22.25</td>\n      <td>22.76</td>\n      <td>10</td>\n      <td>22.02</td>\n      <td>36105.01</td>\n      <td>0.36</td>\n      <td>1.64</td>\n      <td>0.90</td>\n    </tr>\n    <tr>\n      <th>2018-02-14</th>\n      <td>21.49</td>\n      <td>21.99</td>\n      <td>10</td>\n      <td>21.48</td>\n      <td>23331.04</td>\n      <td>0.44</td>\n      <td>2.05</td>\n      <td>0.58</td>\n    </tr>\n  </tbody>\n</table>\n</div>"
     },
     "execution_count": 88,
     "metadata": {},
     "output_type": "execute_result"
    }
   ],
   "source": [
    "data.close=10\n",
    "data.head()"
   ],
   "metadata": {
    "collapsed": false,
    "ExecuteTime": {
     "end_time": "2023-09-02T12:40:43.784866600Z",
     "start_time": "2023-09-02T12:40:42.160842900Z"
    }
   },
   "id": "bc710fa4b8b1e6ff"
  },
  {
   "cell_type": "markdown",
   "source": [
    "### 3 排序"
   ],
   "metadata": {
    "collapsed": false
   },
   "id": "68e2ce98d60213c"
  },
  {
   "cell_type": "markdown",
   "source": [
    "#### 3.1 DataFrame排序 "
   ],
   "metadata": {
    "collapsed": false
   },
   "id": "bf1feb91b7818749"
  },
  {
   "cell_type": "code",
   "execution_count": 89,
   "outputs": [
    {
     "data": {
      "text/plain": "             open   high  close    low     volume  price_change  p_change  \\\n2015-03-02  12.25  12.67     10  12.20   96291.73          0.32      2.62   \n2015-09-02  12.30  14.11     10  12.30   70201.74         -1.10     -8.17   \n2015-03-03  12.52  13.06     10  12.52  139071.61          0.18      1.44   \n2015-03-04  12.80  12.92     10  12.61   67075.44          0.20      1.57   \n2015-03-05  12.88  13.45     10  12.87   93180.39          0.26      2.02   \n\n            turnover  \n2015-03-02      3.30  \n2015-09-02      2.40  \n2015-03-03      4.76  \n2015-03-04      2.30  \n2015-03-05      3.19  ",
      "text/html": "<div>\n<style scoped>\n    .dataframe tbody tr th:only-of-type {\n        vertical-align: middle;\n    }\n\n    .dataframe tbody tr th {\n        vertical-align: top;\n    }\n\n    .dataframe thead th {\n        text-align: right;\n    }\n</style>\n<table border=\"1\" class=\"dataframe\">\n  <thead>\n    <tr style=\"text-align: right;\">\n      <th></th>\n      <th>open</th>\n      <th>high</th>\n      <th>close</th>\n      <th>low</th>\n      <th>volume</th>\n      <th>price_change</th>\n      <th>p_change</th>\n      <th>turnover</th>\n    </tr>\n  </thead>\n  <tbody>\n    <tr>\n      <th>2015-03-02</th>\n      <td>12.25</td>\n      <td>12.67</td>\n      <td>10</td>\n      <td>12.20</td>\n      <td>96291.73</td>\n      <td>0.32</td>\n      <td>2.62</td>\n      <td>3.30</td>\n    </tr>\n    <tr>\n      <th>2015-09-02</th>\n      <td>12.30</td>\n      <td>14.11</td>\n      <td>10</td>\n      <td>12.30</td>\n      <td>70201.74</td>\n      <td>-1.10</td>\n      <td>-8.17</td>\n      <td>2.40</td>\n    </tr>\n    <tr>\n      <th>2015-03-03</th>\n      <td>12.52</td>\n      <td>13.06</td>\n      <td>10</td>\n      <td>12.52</td>\n      <td>139071.61</td>\n      <td>0.18</td>\n      <td>1.44</td>\n      <td>4.76</td>\n    </tr>\n    <tr>\n      <th>2015-03-04</th>\n      <td>12.80</td>\n      <td>12.92</td>\n      <td>10</td>\n      <td>12.61</td>\n      <td>67075.44</td>\n      <td>0.20</td>\n      <td>1.57</td>\n      <td>2.30</td>\n    </tr>\n    <tr>\n      <th>2015-03-05</th>\n      <td>12.88</td>\n      <td>13.45</td>\n      <td>10</td>\n      <td>12.87</td>\n      <td>93180.39</td>\n      <td>0.26</td>\n      <td>2.02</td>\n      <td>3.19</td>\n    </tr>\n  </tbody>\n</table>\n</div>"
     },
     "execution_count": 89,
     "metadata": {},
     "output_type": "execute_result"
    }
   ],
   "source": [
    "data.sort_values(by='open',ascending=True).head()"
   ],
   "metadata": {
    "collapsed": false,
    "ExecuteTime": {
     "end_time": "2023-09-02T12:40:43.784866600Z",
     "start_time": "2023-09-02T12:40:42.175864700Z"
    }
   },
   "id": "90148fe6b07e8c42"
  },
  {
   "cell_type": "code",
   "execution_count": 90,
   "outputs": [
    {
     "data": {
      "text/plain": "             open   high  close    low     volume  price_change  p_change  \\\n2015-06-15  34.99  34.99     10  31.69  199369.53         -3.52    -10.00   \n2015-06-12  34.69  35.98     10  34.01  159825.88          0.82      2.38   \n2015-06-10  34.10  36.35     10  32.23  269033.12          0.51      1.53   \n2017-11-01  33.85  34.34     10  33.10  232325.30         -0.61     -1.77   \n2015-06-11  33.17  34.98     10  32.51  173075.73          0.54      1.59   \n\n            turnover  \n2015-06-15      6.82  \n2015-06-12      5.47  \n2015-06-10      9.21  \n2017-11-01      5.81  \n2015-06-11      5.92  ",
      "text/html": "<div>\n<style scoped>\n    .dataframe tbody tr th:only-of-type {\n        vertical-align: middle;\n    }\n\n    .dataframe tbody tr th {\n        vertical-align: top;\n    }\n\n    .dataframe thead th {\n        text-align: right;\n    }\n</style>\n<table border=\"1\" class=\"dataframe\">\n  <thead>\n    <tr style=\"text-align: right;\">\n      <th></th>\n      <th>open</th>\n      <th>high</th>\n      <th>close</th>\n      <th>low</th>\n      <th>volume</th>\n      <th>price_change</th>\n      <th>p_change</th>\n      <th>turnover</th>\n    </tr>\n  </thead>\n  <tbody>\n    <tr>\n      <th>2015-06-15</th>\n      <td>34.99</td>\n      <td>34.99</td>\n      <td>10</td>\n      <td>31.69</td>\n      <td>199369.53</td>\n      <td>-3.52</td>\n      <td>-10.00</td>\n      <td>6.82</td>\n    </tr>\n    <tr>\n      <th>2015-06-12</th>\n      <td>34.69</td>\n      <td>35.98</td>\n      <td>10</td>\n      <td>34.01</td>\n      <td>159825.88</td>\n      <td>0.82</td>\n      <td>2.38</td>\n      <td>5.47</td>\n    </tr>\n    <tr>\n      <th>2015-06-10</th>\n      <td>34.10</td>\n      <td>36.35</td>\n      <td>10</td>\n      <td>32.23</td>\n      <td>269033.12</td>\n      <td>0.51</td>\n      <td>1.53</td>\n      <td>9.21</td>\n    </tr>\n    <tr>\n      <th>2017-11-01</th>\n      <td>33.85</td>\n      <td>34.34</td>\n      <td>10</td>\n      <td>33.10</td>\n      <td>232325.30</td>\n      <td>-0.61</td>\n      <td>-1.77</td>\n      <td>5.81</td>\n    </tr>\n    <tr>\n      <th>2015-06-11</th>\n      <td>33.17</td>\n      <td>34.98</td>\n      <td>10</td>\n      <td>32.51</td>\n      <td>173075.73</td>\n      <td>0.54</td>\n      <td>1.59</td>\n      <td>5.92</td>\n    </tr>\n  </tbody>\n</table>\n</div>"
     },
     "execution_count": 90,
     "metadata": {},
     "output_type": "execute_result"
    }
   ],
   "source": [
    "data.sort_values(by='open',ascending=False).head()"
   ],
   "metadata": {
    "collapsed": false,
    "ExecuteTime": {
     "end_time": "2023-09-02T12:40:43.785867100Z",
     "start_time": "2023-09-02T12:40:42.195891900Z"
    }
   },
   "id": "29ea92a09a18f037"
  },
  {
   "cell_type": "code",
   "execution_count": 91,
   "outputs": [
    {
     "data": {
      "text/plain": "             open   high  close    low     volume  price_change  p_change  \\\n2015-03-02  12.25  12.67     10  12.20   96291.73          0.32      2.62   \n2015-09-02  12.30  14.11     10  12.30   70201.74         -1.10     -8.17   \n2015-03-03  12.52  13.06     10  12.52  139071.61          0.18      1.44   \n2015-03-04  12.80  12.92     10  12.61   67075.44          0.20      1.57   \n2015-03-05  12.88  13.45     10  12.87   93180.39          0.26      2.02   \n\n            turnover  \n2015-03-02      3.30  \n2015-09-02      2.40  \n2015-03-03      4.76  \n2015-03-04      2.30  \n2015-03-05      3.19  ",
      "text/html": "<div>\n<style scoped>\n    .dataframe tbody tr th:only-of-type {\n        vertical-align: middle;\n    }\n\n    .dataframe tbody tr th {\n        vertical-align: top;\n    }\n\n    .dataframe thead th {\n        text-align: right;\n    }\n</style>\n<table border=\"1\" class=\"dataframe\">\n  <thead>\n    <tr style=\"text-align: right;\">\n      <th></th>\n      <th>open</th>\n      <th>high</th>\n      <th>close</th>\n      <th>low</th>\n      <th>volume</th>\n      <th>price_change</th>\n      <th>p_change</th>\n      <th>turnover</th>\n    </tr>\n  </thead>\n  <tbody>\n    <tr>\n      <th>2015-03-02</th>\n      <td>12.25</td>\n      <td>12.67</td>\n      <td>10</td>\n      <td>12.20</td>\n      <td>96291.73</td>\n      <td>0.32</td>\n      <td>2.62</td>\n      <td>3.30</td>\n    </tr>\n    <tr>\n      <th>2015-09-02</th>\n      <td>12.30</td>\n      <td>14.11</td>\n      <td>10</td>\n      <td>12.30</td>\n      <td>70201.74</td>\n      <td>-1.10</td>\n      <td>-8.17</td>\n      <td>2.40</td>\n    </tr>\n    <tr>\n      <th>2015-03-03</th>\n      <td>12.52</td>\n      <td>13.06</td>\n      <td>10</td>\n      <td>12.52</td>\n      <td>139071.61</td>\n      <td>0.18</td>\n      <td>1.44</td>\n      <td>4.76</td>\n    </tr>\n    <tr>\n      <th>2015-03-04</th>\n      <td>12.80</td>\n      <td>12.92</td>\n      <td>10</td>\n      <td>12.61</td>\n      <td>67075.44</td>\n      <td>0.20</td>\n      <td>1.57</td>\n      <td>2.30</td>\n    </tr>\n    <tr>\n      <th>2015-03-05</th>\n      <td>12.88</td>\n      <td>13.45</td>\n      <td>10</td>\n      <td>12.87</td>\n      <td>93180.39</td>\n      <td>0.26</td>\n      <td>2.02</td>\n      <td>3.19</td>\n    </tr>\n  </tbody>\n</table>\n</div>"
     },
     "execution_count": 91,
     "metadata": {},
     "output_type": "execute_result"
    }
   ],
   "source": [
    "data.sort_values(by=['open','high']).head()"
   ],
   "metadata": {
    "collapsed": false,
    "ExecuteTime": {
     "end_time": "2023-09-02T12:40:43.785867100Z",
     "start_time": "2023-09-02T12:40:42.207915200Z"
    }
   },
   "id": "964505eedc8e22e7"
  },
  {
   "cell_type": "code",
   "execution_count": 92,
   "outputs": [
    {
     "data": {
      "text/plain": "             open   high  close    low     volume  price_change  p_change  \\\n2015-03-02  12.25  12.67     10  12.20   96291.73          0.32      2.62   \n2015-03-03  12.52  13.06     10  12.52  139071.61          0.18      1.44   \n2015-03-04  12.80  12.92     10  12.61   67075.44          0.20      1.57   \n2015-03-05  12.88  13.45     10  12.87   93180.39          0.26      2.02   \n2015-03-06  13.17  14.48     10  13.13  179831.72          1.12      8.51   \n\n            turnover  \n2015-03-02      3.30  \n2015-03-03      4.76  \n2015-03-04      2.30  \n2015-03-05      3.19  \n2015-03-06      6.16  ",
      "text/html": "<div>\n<style scoped>\n    .dataframe tbody tr th:only-of-type {\n        vertical-align: middle;\n    }\n\n    .dataframe tbody tr th {\n        vertical-align: top;\n    }\n\n    .dataframe thead th {\n        text-align: right;\n    }\n</style>\n<table border=\"1\" class=\"dataframe\">\n  <thead>\n    <tr style=\"text-align: right;\">\n      <th></th>\n      <th>open</th>\n      <th>high</th>\n      <th>close</th>\n      <th>low</th>\n      <th>volume</th>\n      <th>price_change</th>\n      <th>p_change</th>\n      <th>turnover</th>\n    </tr>\n  </thead>\n  <tbody>\n    <tr>\n      <th>2015-03-02</th>\n      <td>12.25</td>\n      <td>12.67</td>\n      <td>10</td>\n      <td>12.20</td>\n      <td>96291.73</td>\n      <td>0.32</td>\n      <td>2.62</td>\n      <td>3.30</td>\n    </tr>\n    <tr>\n      <th>2015-03-03</th>\n      <td>12.52</td>\n      <td>13.06</td>\n      <td>10</td>\n      <td>12.52</td>\n      <td>139071.61</td>\n      <td>0.18</td>\n      <td>1.44</td>\n      <td>4.76</td>\n    </tr>\n    <tr>\n      <th>2015-03-04</th>\n      <td>12.80</td>\n      <td>12.92</td>\n      <td>10</td>\n      <td>12.61</td>\n      <td>67075.44</td>\n      <td>0.20</td>\n      <td>1.57</td>\n      <td>2.30</td>\n    </tr>\n    <tr>\n      <th>2015-03-05</th>\n      <td>12.88</td>\n      <td>13.45</td>\n      <td>10</td>\n      <td>12.87</td>\n      <td>93180.39</td>\n      <td>0.26</td>\n      <td>2.02</td>\n      <td>3.19</td>\n    </tr>\n    <tr>\n      <th>2015-03-06</th>\n      <td>13.17</td>\n      <td>14.48</td>\n      <td>10</td>\n      <td>13.13</td>\n      <td>179831.72</td>\n      <td>1.12</td>\n      <td>8.51</td>\n      <td>6.16</td>\n    </tr>\n  </tbody>\n</table>\n</div>"
     },
     "execution_count": 92,
     "metadata": {},
     "output_type": "execute_result"
    }
   ],
   "source": [
    "data.sort_index().head()"
   ],
   "metadata": {
    "collapsed": false,
    "ExecuteTime": {
     "end_time": "2023-09-02T12:40:43.785867100Z",
     "start_time": "2023-09-02T12:40:42.215941800Z"
    }
   },
   "id": "2ac187c92e1b3bcc"
  },
  {
   "cell_type": "markdown",
   "source": [
    "#### 3.2 Series排序"
   ],
   "metadata": {
    "collapsed": false
   },
   "id": "5c665e6aa86f18b8"
  },
  {
   "cell_type": "code",
   "execution_count": 93,
   "outputs": [
    {
     "data": {
      "text/plain": "2015-09-01   -10.03\n2015-09-14   -10.02\n2016-01-11   -10.02\n2015-07-15   -10.02\n2015-08-26   -10.01\nName: p_change, dtype: float64"
     },
     "execution_count": 93,
     "metadata": {},
     "output_type": "execute_result"
    }
   ],
   "source": [
    "data['p_change'].sort_values().head()"
   ],
   "metadata": {
    "collapsed": false,
    "ExecuteTime": {
     "end_time": "2023-09-02T12:40:43.786867200Z",
     "start_time": "2023-09-02T12:40:42.225971Z"
    }
   },
   "id": "d315077efa65ad61"
  },
  {
   "cell_type": "code",
   "execution_count": 94,
   "outputs": [
    {
     "data": {
      "text/plain": "2015-03-02    12.67\n2015-03-03    13.06\n2015-03-04    12.92\n2015-03-05    13.45\n2015-03-06    14.48\nName: high, dtype: float64"
     },
     "execution_count": 94,
     "metadata": {},
     "output_type": "execute_result"
    }
   ],
   "source": [
    "data['high'].sort_index().head()"
   ],
   "metadata": {
    "collapsed": false,
    "ExecuteTime": {
     "end_time": "2023-09-02T12:40:43.786867200Z",
     "start_time": "2023-09-02T12:40:42.235999500Z"
    }
   },
   "id": "e8d1dc4f7413f6e4"
  },
  {
   "cell_type": "markdown",
   "source": [
    "### 4 DataFrame运算"
   ],
   "metadata": {
    "collapsed": false
   },
   "id": "88c04c6871a39633"
  },
  {
   "cell_type": "markdown",
   "source": [
    "#### 4.1 算术运算"
   ],
   "metadata": {
    "collapsed": false
   },
   "id": "12175e1d857222ed"
  },
  {
   "cell_type": "code",
   "execution_count": 95,
   "outputs": [
    {
     "data": {
      "text/plain": "2018-02-27    33.53\n2018-02-26    32.80\n2018-02-23    32.88\n2018-02-22    32.25\n2018-02-14    31.49\nName: open, dtype: float64"
     },
     "execution_count": 95,
     "metadata": {},
     "output_type": "execute_result"
    }
   ],
   "source": [
    "data['open'].add(10).head()"
   ],
   "metadata": {
    "collapsed": false,
    "ExecuteTime": {
     "end_time": "2023-09-02T12:40:43.788867700Z",
     "start_time": "2023-09-02T12:40:42.246027900Z"
    }
   },
   "id": "a25d752a4efd26c5"
  },
  {
   "cell_type": "markdown",
   "source": [
    "#### 4.2 逻辑运算"
   ],
   "metadata": {
    "collapsed": false
   },
   "id": "e44fd91726423379"
  },
  {
   "cell_type": "code",
   "execution_count": 96,
   "outputs": [
    {
     "data": {
      "text/plain": "             open   high  close    low    volume  price_change  p_change  \\\n2018-02-27  23.53  25.88     10  23.53  95578.03          0.63      2.68   \n2018-02-26  22.80  23.78     10  22.80  60985.11          0.69      3.02   \n2018-02-23  22.88  23.37     10  22.71  52914.01          0.54      2.42   \n2018-02-22  22.25  22.76     10  22.02  36105.01          0.36      1.64   \n2018-02-14  21.49  21.99     10  21.48  23331.04          0.44      2.05   \n\n            turnover  \n2018-02-27      2.39  \n2018-02-26      1.53  \n2018-02-23      1.32  \n2018-02-22      0.90  \n2018-02-14      0.58  ",
      "text/html": "<div>\n<style scoped>\n    .dataframe tbody tr th:only-of-type {\n        vertical-align: middle;\n    }\n\n    .dataframe tbody tr th {\n        vertical-align: top;\n    }\n\n    .dataframe thead th {\n        text-align: right;\n    }\n</style>\n<table border=\"1\" class=\"dataframe\">\n  <thead>\n    <tr style=\"text-align: right;\">\n      <th></th>\n      <th>open</th>\n      <th>high</th>\n      <th>close</th>\n      <th>low</th>\n      <th>volume</th>\n      <th>price_change</th>\n      <th>p_change</th>\n      <th>turnover</th>\n    </tr>\n  </thead>\n  <tbody>\n    <tr>\n      <th>2018-02-27</th>\n      <td>23.53</td>\n      <td>25.88</td>\n      <td>10</td>\n      <td>23.53</td>\n      <td>95578.03</td>\n      <td>0.63</td>\n      <td>2.68</td>\n      <td>2.39</td>\n    </tr>\n    <tr>\n      <th>2018-02-26</th>\n      <td>22.80</td>\n      <td>23.78</td>\n      <td>10</td>\n      <td>22.80</td>\n      <td>60985.11</td>\n      <td>0.69</td>\n      <td>3.02</td>\n      <td>1.53</td>\n    </tr>\n    <tr>\n      <th>2018-02-23</th>\n      <td>22.88</td>\n      <td>23.37</td>\n      <td>10</td>\n      <td>22.71</td>\n      <td>52914.01</td>\n      <td>0.54</td>\n      <td>2.42</td>\n      <td>1.32</td>\n    </tr>\n    <tr>\n      <th>2018-02-22</th>\n      <td>22.25</td>\n      <td>22.76</td>\n      <td>10</td>\n      <td>22.02</td>\n      <td>36105.01</td>\n      <td>0.36</td>\n      <td>1.64</td>\n      <td>0.90</td>\n    </tr>\n    <tr>\n      <th>2018-02-14</th>\n      <td>21.49</td>\n      <td>21.99</td>\n      <td>10</td>\n      <td>21.48</td>\n      <td>23331.04</td>\n      <td>0.44</td>\n      <td>2.05</td>\n      <td>0.58</td>\n    </tr>\n  </tbody>\n</table>\n</div>"
     },
     "execution_count": 96,
     "metadata": {},
     "output_type": "execute_result"
    }
   ],
   "source": [
    "data[data['open']>20].head()"
   ],
   "metadata": {
    "collapsed": false,
    "ExecuteTime": {
     "end_time": "2023-09-02T12:40:43.788867700Z",
     "start_time": "2023-09-02T12:40:42.256054Z"
    }
   },
   "id": "530da3d6de95fc12"
  },
  {
   "cell_type": "code",
   "execution_count": 97,
   "outputs": [
    {
     "data": {
      "text/plain": "             open   high  close    low    volume  price_change  p_change  \\\n2018-02-27  23.53  25.88     10  23.53  95578.03          0.63      2.68   \n2018-02-01  23.71  23.86     10  22.22  66414.64         -1.30     -5.48   \n2018-01-31  23.85  23.98     10  23.31  49155.02         -0.11     -0.46   \n2018-01-30  23.71  24.08     10  23.70  32420.43          0.05      0.21   \n2018-01-29  24.40  24.63     10  23.72  65469.81         -0.73     -2.98   \n\n            turnover  \n2018-02-27      2.39  \n2018-02-01      1.66  \n2018-01-31      1.23  \n2018-01-30      0.81  \n2018-01-29      1.64  ",
      "text/html": "<div>\n<style scoped>\n    .dataframe tbody tr th:only-of-type {\n        vertical-align: middle;\n    }\n\n    .dataframe tbody tr th {\n        vertical-align: top;\n    }\n\n    .dataframe thead th {\n        text-align: right;\n    }\n</style>\n<table border=\"1\" class=\"dataframe\">\n  <thead>\n    <tr style=\"text-align: right;\">\n      <th></th>\n      <th>open</th>\n      <th>high</th>\n      <th>close</th>\n      <th>low</th>\n      <th>volume</th>\n      <th>price_change</th>\n      <th>p_change</th>\n      <th>turnover</th>\n    </tr>\n  </thead>\n  <tbody>\n    <tr>\n      <th>2018-02-27</th>\n      <td>23.53</td>\n      <td>25.88</td>\n      <td>10</td>\n      <td>23.53</td>\n      <td>95578.03</td>\n      <td>0.63</td>\n      <td>2.68</td>\n      <td>2.39</td>\n    </tr>\n    <tr>\n      <th>2018-02-01</th>\n      <td>23.71</td>\n      <td>23.86</td>\n      <td>10</td>\n      <td>22.22</td>\n      <td>66414.64</td>\n      <td>-1.30</td>\n      <td>-5.48</td>\n      <td>1.66</td>\n    </tr>\n    <tr>\n      <th>2018-01-31</th>\n      <td>23.85</td>\n      <td>23.98</td>\n      <td>10</td>\n      <td>23.31</td>\n      <td>49155.02</td>\n      <td>-0.11</td>\n      <td>-0.46</td>\n      <td>1.23</td>\n    </tr>\n    <tr>\n      <th>2018-01-30</th>\n      <td>23.71</td>\n      <td>24.08</td>\n      <td>10</td>\n      <td>23.70</td>\n      <td>32420.43</td>\n      <td>0.05</td>\n      <td>0.21</td>\n      <td>0.81</td>\n    </tr>\n    <tr>\n      <th>2018-01-29</th>\n      <td>24.40</td>\n      <td>24.63</td>\n      <td>10</td>\n      <td>23.72</td>\n      <td>65469.81</td>\n      <td>-0.73</td>\n      <td>-2.98</td>\n      <td>1.64</td>\n    </tr>\n  </tbody>\n</table>\n</div>"
     },
     "execution_count": 97,
     "metadata": {},
     "output_type": "execute_result"
    }
   ],
   "source": [
    "data[(data['open']>23)&(data['open']<27)].head()"
   ],
   "metadata": {
    "collapsed": false,
    "ExecuteTime": {
     "end_time": "2023-09-02T12:40:43.788867700Z",
     "start_time": "2023-09-02T12:40:42.266087500Z"
    }
   },
   "id": "53bb385863f333e3"
  },
  {
   "cell_type": "code",
   "execution_count": 98,
   "outputs": [
    {
     "data": {
      "text/plain": "             open   high  close    low    volume  price_change  p_change  \\\n2018-02-27  23.53  25.88     10  23.53  95578.03          0.63      2.68   \n2018-02-01  23.71  23.86     10  22.22  66414.64         -1.30     -5.48   \n2018-01-31  23.85  23.98     10  23.31  49155.02         -0.11     -0.46   \n2018-01-30  23.71  24.08     10  23.70  32420.43          0.05      0.21   \n2018-01-29  24.40  24.63     10  23.72  65469.81         -0.73     -2.98   \n\n            turnover  \n2018-02-27      2.39  \n2018-02-01      1.66  \n2018-01-31      1.23  \n2018-01-30      0.81  \n2018-01-29      1.64  ",
      "text/html": "<div>\n<style scoped>\n    .dataframe tbody tr th:only-of-type {\n        vertical-align: middle;\n    }\n\n    .dataframe tbody tr th {\n        vertical-align: top;\n    }\n\n    .dataframe thead th {\n        text-align: right;\n    }\n</style>\n<table border=\"1\" class=\"dataframe\">\n  <thead>\n    <tr style=\"text-align: right;\">\n      <th></th>\n      <th>open</th>\n      <th>high</th>\n      <th>close</th>\n      <th>low</th>\n      <th>volume</th>\n      <th>price_change</th>\n      <th>p_change</th>\n      <th>turnover</th>\n    </tr>\n  </thead>\n  <tbody>\n    <tr>\n      <th>2018-02-27</th>\n      <td>23.53</td>\n      <td>25.88</td>\n      <td>10</td>\n      <td>23.53</td>\n      <td>95578.03</td>\n      <td>0.63</td>\n      <td>2.68</td>\n      <td>2.39</td>\n    </tr>\n    <tr>\n      <th>2018-02-01</th>\n      <td>23.71</td>\n      <td>23.86</td>\n      <td>10</td>\n      <td>22.22</td>\n      <td>66414.64</td>\n      <td>-1.30</td>\n      <td>-5.48</td>\n      <td>1.66</td>\n    </tr>\n    <tr>\n      <th>2018-01-31</th>\n      <td>23.85</td>\n      <td>23.98</td>\n      <td>10</td>\n      <td>23.31</td>\n      <td>49155.02</td>\n      <td>-0.11</td>\n      <td>-0.46</td>\n      <td>1.23</td>\n    </tr>\n    <tr>\n      <th>2018-01-30</th>\n      <td>23.71</td>\n      <td>24.08</td>\n      <td>10</td>\n      <td>23.70</td>\n      <td>32420.43</td>\n      <td>0.05</td>\n      <td>0.21</td>\n      <td>0.81</td>\n    </tr>\n    <tr>\n      <th>2018-01-29</th>\n      <td>24.40</td>\n      <td>24.63</td>\n      <td>10</td>\n      <td>23.72</td>\n      <td>65469.81</td>\n      <td>-0.73</td>\n      <td>-2.98</td>\n      <td>1.64</td>\n    </tr>\n  </tbody>\n</table>\n</div>"
     },
     "execution_count": 98,
     "metadata": {},
     "output_type": "execute_result"
    }
   ],
   "source": [
    "data.query('open>23 & open<27').head()"
   ],
   "metadata": {
    "collapsed": false,
    "ExecuteTime": {
     "end_time": "2023-09-02T12:40:43.789867900Z",
     "start_time": "2023-09-02T12:40:42.278311300Z"
    }
   },
   "id": "77694c021a0421c3"
  },
  {
   "cell_type": "code",
   "execution_count": 99,
   "outputs": [
    {
     "data": {
      "text/plain": "Empty DataFrame\nColumns: [open, high, close, low, volume, price_change, p_change, turnover]\nIndex: []",
      "text/html": "<div>\n<style scoped>\n    .dataframe tbody tr th:only-of-type {\n        vertical-align: middle;\n    }\n\n    .dataframe tbody tr th {\n        vertical-align: top;\n    }\n\n    .dataframe thead th {\n        text-align: right;\n    }\n</style>\n<table border=\"1\" class=\"dataframe\">\n  <thead>\n    <tr style=\"text-align: right;\">\n      <th></th>\n      <th>open</th>\n      <th>high</th>\n      <th>close</th>\n      <th>low</th>\n      <th>volume</th>\n      <th>price_change</th>\n      <th>p_change</th>\n      <th>turnover</th>\n    </tr>\n  </thead>\n  <tbody>\n  </tbody>\n</table>\n</div>"
     },
     "execution_count": 99,
     "metadata": {},
     "output_type": "execute_result"
    }
   ],
   "source": [
    "data[data['open'].isin([23.37,24.79])].head()"
   ],
   "metadata": {
    "collapsed": false,
    "ExecuteTime": {
     "end_time": "2023-09-02T12:40:43.789867900Z",
     "start_time": "2023-09-02T12:40:42.296206900Z"
    }
   },
   "id": "c9264e6d97c90566"
  },
  {
   "cell_type": "markdown",
   "source": [
    "#### 4.3 统计运算"
   ],
   "metadata": {
    "collapsed": false
   },
   "id": "fb141689e0a4bc63"
  },
  {
   "cell_type": "code",
   "execution_count": 100,
   "outputs": [
    {
     "data": {
      "text/plain": "             open        high  close         low         volume  price_change  \\\ncount  643.000000  643.000000  643.0  643.000000     643.000000    643.000000   \nmean    21.272706   21.900513   10.0   20.771835   99905.519114      0.018802   \nstd      3.930973    4.077578    0.0    3.791968   73879.119354      0.898476   \nmin     12.250000   12.670000   10.0   12.200000    1158.120000     -3.520000   \n25%     19.000000   19.500000   10.0   18.525000   48533.210000     -0.390000   \n50%     21.440000   21.970000   10.0   20.980000   83175.930000      0.050000   \n75%     23.400000   24.065000   10.0   22.850000  127580.055000      0.455000   \nmax     34.990000   36.350000   10.0   34.010000  501915.410000      3.030000   \n\n         p_change    turnover  \ncount  643.000000  643.000000  \nmean     0.190280    2.936190  \nstd      4.079698    2.079375  \nmin    -10.030000    0.040000  \n25%     -1.850000    1.360000  \n50%      0.260000    2.500000  \n75%      2.305000    3.915000  \nmax     10.030000   12.560000  ",
      "text/html": "<div>\n<style scoped>\n    .dataframe tbody tr th:only-of-type {\n        vertical-align: middle;\n    }\n\n    .dataframe tbody tr th {\n        vertical-align: top;\n    }\n\n    .dataframe thead th {\n        text-align: right;\n    }\n</style>\n<table border=\"1\" class=\"dataframe\">\n  <thead>\n    <tr style=\"text-align: right;\">\n      <th></th>\n      <th>open</th>\n      <th>high</th>\n      <th>close</th>\n      <th>low</th>\n      <th>volume</th>\n      <th>price_change</th>\n      <th>p_change</th>\n      <th>turnover</th>\n    </tr>\n  </thead>\n  <tbody>\n    <tr>\n      <th>count</th>\n      <td>643.000000</td>\n      <td>643.000000</td>\n      <td>643.0</td>\n      <td>643.000000</td>\n      <td>643.000000</td>\n      <td>643.000000</td>\n      <td>643.000000</td>\n      <td>643.000000</td>\n    </tr>\n    <tr>\n      <th>mean</th>\n      <td>21.272706</td>\n      <td>21.900513</td>\n      <td>10.0</td>\n      <td>20.771835</td>\n      <td>99905.519114</td>\n      <td>0.018802</td>\n      <td>0.190280</td>\n      <td>2.936190</td>\n    </tr>\n    <tr>\n      <th>std</th>\n      <td>3.930973</td>\n      <td>4.077578</td>\n      <td>0.0</td>\n      <td>3.791968</td>\n      <td>73879.119354</td>\n      <td>0.898476</td>\n      <td>4.079698</td>\n      <td>2.079375</td>\n    </tr>\n    <tr>\n      <th>min</th>\n      <td>12.250000</td>\n      <td>12.670000</td>\n      <td>10.0</td>\n      <td>12.200000</td>\n      <td>1158.120000</td>\n      <td>-3.520000</td>\n      <td>-10.030000</td>\n      <td>0.040000</td>\n    </tr>\n    <tr>\n      <th>25%</th>\n      <td>19.000000</td>\n      <td>19.500000</td>\n      <td>10.0</td>\n      <td>18.525000</td>\n      <td>48533.210000</td>\n      <td>-0.390000</td>\n      <td>-1.850000</td>\n      <td>1.360000</td>\n    </tr>\n    <tr>\n      <th>50%</th>\n      <td>21.440000</td>\n      <td>21.970000</td>\n      <td>10.0</td>\n      <td>20.980000</td>\n      <td>83175.930000</td>\n      <td>0.050000</td>\n      <td>0.260000</td>\n      <td>2.500000</td>\n    </tr>\n    <tr>\n      <th>75%</th>\n      <td>23.400000</td>\n      <td>24.065000</td>\n      <td>10.0</td>\n      <td>22.850000</td>\n      <td>127580.055000</td>\n      <td>0.455000</td>\n      <td>2.305000</td>\n      <td>3.915000</td>\n    </tr>\n    <tr>\n      <th>max</th>\n      <td>34.990000</td>\n      <td>36.350000</td>\n      <td>10.0</td>\n      <td>34.010000</td>\n      <td>501915.410000</td>\n      <td>3.030000</td>\n      <td>10.030000</td>\n      <td>12.560000</td>\n    </tr>\n  </tbody>\n</table>\n</div>"
     },
     "execution_count": 100,
     "metadata": {},
     "output_type": "execute_result"
    }
   ],
   "source": [
    "data.describe()"
   ],
   "metadata": {
    "collapsed": false,
    "ExecuteTime": {
     "end_time": "2023-09-02T12:40:43.789867900Z",
     "start_time": "2023-09-02T12:40:42.306437400Z"
    }
   },
   "id": "a3ef562bf940e436"
  },
  {
   "cell_type": "code",
   "execution_count": 101,
   "outputs": [
    {
     "data": {
      "text/plain": "open                34.99\nhigh                36.35\nclose               10.00\nlow                 34.01\nvolume          501915.41\nprice_change         3.03\np_change            10.03\nturnover            12.56\ndtype: float64"
     },
     "execution_count": 101,
     "metadata": {},
     "output_type": "execute_result"
    }
   ],
   "source": [
    "data.max(0)"
   ],
   "metadata": {
    "collapsed": false,
    "ExecuteTime": {
     "end_time": "2023-09-02T12:40:43.789867900Z",
     "start_time": "2023-09-02T12:40:42.326476900Z"
    }
   },
   "id": "6e7e1bf539e93879"
  },
  {
   "cell_type": "code",
   "execution_count": 102,
   "outputs": [
    {
     "data": {
      "text/plain": "open            2015-06-15\nhigh            2015-06-10\nclose           2018-02-27\nlow             2015-06-12\nvolume          2017-10-26\nprice_change    2015-06-09\np_change        2015-08-28\nturnover        2017-10-26\ndtype: object"
     },
     "execution_count": 102,
     "metadata": {},
     "output_type": "execute_result"
    }
   ],
   "source": [
    "data.idxmax(0)"
   ],
   "metadata": {
    "collapsed": false,
    "ExecuteTime": {
     "end_time": "2023-09-02T12:40:43.789867900Z",
     "start_time": "2023-09-02T12:40:42.336497100Z"
    }
   },
   "id": "8446ce02968968a6"
  },
  {
   "cell_type": "code",
   "execution_count": 103,
   "outputs": [
    {
     "data": {
      "text/plain": "open            2015-03-02\nhigh            2015-03-02\nclose           2018-02-27\nlow             2015-03-02\nvolume          2016-07-06\nprice_change    2015-06-15\np_change        2015-09-01\nturnover        2016-07-06\ndtype: object"
     },
     "execution_count": 103,
     "metadata": {},
     "output_type": "execute_result"
    }
   ],
   "source": [
    "data.idxmin(0)"
   ],
   "metadata": {
    "collapsed": false,
    "ExecuteTime": {
     "end_time": "2023-09-02T12:40:43.790868100Z",
     "start_time": "2023-09-02T12:40:42.346537200Z"
    }
   },
   "id": "58c995c5841e4e7c"
  },
  {
   "cell_type": "code",
   "execution_count": 104,
   "outputs": [
    {
     "data": {
      "text/plain": "             open   high  close    low     volume  price_change  p_change  \\\n2015-03-02  12.25  12.67     10  12.20   96291.73          0.32      2.62   \n2015-03-03  12.52  13.06     10  12.52  139071.61          0.18      1.44   \n2015-03-04  12.80  12.92     10  12.61   67075.44          0.20      1.57   \n2015-03-05  12.88  13.45     10  12.87   93180.39          0.26      2.02   \n2015-03-06  13.17  14.48     10  13.13  179831.72          1.12      8.51   \n\n            turnover  \n2015-03-02      3.30  \n2015-03-03      4.76  \n2015-03-04      2.30  \n2015-03-05      3.19  \n2015-03-06      6.16  ",
      "text/html": "<div>\n<style scoped>\n    .dataframe tbody tr th:only-of-type {\n        vertical-align: middle;\n    }\n\n    .dataframe tbody tr th {\n        vertical-align: top;\n    }\n\n    .dataframe thead th {\n        text-align: right;\n    }\n</style>\n<table border=\"1\" class=\"dataframe\">\n  <thead>\n    <tr style=\"text-align: right;\">\n      <th></th>\n      <th>open</th>\n      <th>high</th>\n      <th>close</th>\n      <th>low</th>\n      <th>volume</th>\n      <th>price_change</th>\n      <th>p_change</th>\n      <th>turnover</th>\n    </tr>\n  </thead>\n  <tbody>\n    <tr>\n      <th>2015-03-02</th>\n      <td>12.25</td>\n      <td>12.67</td>\n      <td>10</td>\n      <td>12.20</td>\n      <td>96291.73</td>\n      <td>0.32</td>\n      <td>2.62</td>\n      <td>3.30</td>\n    </tr>\n    <tr>\n      <th>2015-03-03</th>\n      <td>12.52</td>\n      <td>13.06</td>\n      <td>10</td>\n      <td>12.52</td>\n      <td>139071.61</td>\n      <td>0.18</td>\n      <td>1.44</td>\n      <td>4.76</td>\n    </tr>\n    <tr>\n      <th>2015-03-04</th>\n      <td>12.80</td>\n      <td>12.92</td>\n      <td>10</td>\n      <td>12.61</td>\n      <td>67075.44</td>\n      <td>0.20</td>\n      <td>1.57</td>\n      <td>2.30</td>\n    </tr>\n    <tr>\n      <th>2015-03-05</th>\n      <td>12.88</td>\n      <td>13.45</td>\n      <td>10</td>\n      <td>12.87</td>\n      <td>93180.39</td>\n      <td>0.26</td>\n      <td>2.02</td>\n      <td>3.19</td>\n    </tr>\n    <tr>\n      <th>2015-03-06</th>\n      <td>13.17</td>\n      <td>14.48</td>\n      <td>10</td>\n      <td>13.13</td>\n      <td>179831.72</td>\n      <td>1.12</td>\n      <td>8.51</td>\n      <td>6.16</td>\n    </tr>\n  </tbody>\n</table>\n</div>"
     },
     "execution_count": 104,
     "metadata": {},
     "output_type": "execute_result"
    }
   ],
   "source": [
    "data=data.sort_index()\n",
    "data.head()"
   ],
   "metadata": {
    "collapsed": false,
    "ExecuteTime": {
     "end_time": "2023-09-02T12:40:43.790868100Z",
     "start_time": "2023-09-02T12:40:42.356567400Z"
    }
   },
   "id": "7beaa386f2324f3a"
  },
  {
   "cell_type": "code",
   "execution_count": 105,
   "outputs": [],
   "source": [
    "stock_rise = data['p_change']"
   ],
   "metadata": {
    "collapsed": false,
    "ExecuteTime": {
     "end_time": "2023-09-02T12:40:43.790868100Z",
     "start_time": "2023-09-02T12:40:42.369126100Z"
    }
   },
   "id": "e88c770e1796ee63"
  },
  {
   "cell_type": "code",
   "execution_count": 106,
   "outputs": [
    {
     "data": {
      "text/plain": "<Axes: >"
     },
     "execution_count": 106,
     "metadata": {},
     "output_type": "execute_result"
    },
    {
     "data": {
      "text/plain": "<Figure size 640x480 with 1 Axes>",
      "image/png": "[encoded data removed]"
     },
     "metadata": {},
     "output_type": "display_data"
    }
   ],
   "source": [
    "import matplotlib as plt\n",
    "stock_rise.cumsum().plot()"
   ],
   "metadata": {
    "collapsed": false,
    "ExecuteTime": {
     "end_time": "2023-09-02T12:40:43.808591700Z",
     "start_time": "2023-09-02T12:40:42.376657100Z"
    }
   },
   "id": "77425e7225ee51da"
  },
  {
   "cell_type": "markdown",
   "source": [
    "#### 4.4 自定义运算"
   ],
   "metadata": {
    "collapsed": false
   },
   "id": "dde3d5b9248ca908"
  },
  {
   "cell_type": "code",
   "execution_count": 107,
   "outputs": [
    {
     "data": {
      "text/plain": "open     22.74\nclose     0.00\ndtype: float64"
     },
     "execution_count": 107,
     "metadata": {},
     "output_type": "execute_result"
    }
   ],
   "source": [
    "data[['open','close']].apply(lambda x: x.max()-x.min(), axis=0)"
   ],
   "metadata": {
    "collapsed": false,
    "ExecuteTime": {
     "end_time": "2023-09-02T12:40:43.808591700Z",
     "start_time": "2023-09-02T12:40:42.467661700Z"
    }
   },
   "id": "cfcde6163255aecf"
  },
  {
   "cell_type": "markdown",
   "source": [
    "### 5 pandas画图"
   ],
   "metadata": {
    "collapsed": false
   },
   "id": "a01ac6f861f9cedb"
  },
  {
   "cell_type": "markdown",
   "source": [
    "### 6 文件读取和存储"
   ],
   "metadata": {
    "collapsed": false
   },
   "id": "d607b786ae761054"
  },
  {
   "cell_type": "markdown",
   "source": [
    "#### 6.1 csv"
   ],
   "metadata": {
    "collapsed": false
   },
   "id": "249ca4cddec2c1f2"
  },
  {
   "cell_type": "code",
   "execution_count": 108,
   "outputs": [
    {
     "data": {
      "text/plain": "             open  close\n2018-02-27  23.53  24.16\n2018-02-26  22.80  23.53\n2018-02-23  22.88  22.82\n2018-02-22  22.25  22.28\n2018-02-14  21.49  21.92",
      "text/html": "<div>\n<style scoped>\n    .dataframe tbody tr th:only-of-type {\n        vertical-align: middle;\n    }\n\n    .dataframe tbody tr th {\n        vertical-align: top;\n    }\n\n    .dataframe thead th {\n        text-align: right;\n    }\n</style>\n<table border=\"1\" class=\"dataframe\">\n  <thead>\n    <tr style=\"text-align: right;\">\n      <th></th>\n      <th>open</th>\n      <th>close</th>\n    </tr>\n  </thead>\n  <tbody>\n    <tr>\n      <th>2018-02-27</th>\n      <td>23.53</td>\n      <td>24.16</td>\n    </tr>\n    <tr>\n      <th>2018-02-26</th>\n      <td>22.80</td>\n      <td>23.53</td>\n    </tr>\n    <tr>\n      <th>2018-02-23</th>\n      <td>22.88</td>\n      <td>22.82</td>\n    </tr>\n    <tr>\n      <th>2018-02-22</th>\n      <td>22.25</td>\n      <td>22.28</td>\n    </tr>\n    <tr>\n      <th>2018-02-14</th>\n      <td>21.49</td>\n      <td>21.92</td>\n    </tr>\n  </tbody>\n</table>\n</div>"
     },
     "execution_count": 108,
     "metadata": {},
     "output_type": "execute_result"
    }
   ],
   "source": [
    "data=pd.read_csv('./data/stock_day.csv', usecols=['open','close'])\n",
    "data.head()"
   ],
   "metadata": {
    "collapsed": false,
    "ExecuteTime": {
     "end_time": "2023-09-02T12:40:43.808591700Z",
     "start_time": "2023-09-02T12:40:42.477798400Z"
    }
   },
   "id": "8d92f3fc4d511c9a"
  },
  {
   "cell_type": "code",
   "execution_count": 109,
   "outputs": [
    {
     "data": {
      "text/plain": "     Unnamed: 0   open\n0    2018-02-27  23.53\n1    2018-02-26  22.80\n2    2018-02-23  22.88\n3    2018-02-22  22.25\n4    2018-02-14  21.49\n..          ...    ...\n638  2015-03-06  13.17\n639  2015-03-05  12.88\n640  2015-03-04  12.80\n641  2015-03-03  12.52\n642  2015-03-02  12.25\n\n[643 rows x 2 columns]",
      "text/html": "<div>\n<style scoped>\n    .dataframe tbody tr th:only-of-type {\n        vertical-align: middle;\n    }\n\n    .dataframe tbody tr th {\n        vertical-align: top;\n    }\n\n    .dataframe thead th {\n        text-align: right;\n    }\n</style>\n<table border=\"1\" class=\"dataframe\">\n  <thead>\n    <tr style=\"text-align: right;\">\n      <th></th>\n      <th>Unnamed: 0</th>\n      <th>open</th>\n    </tr>\n  </thead>\n  <tbody>\n    <tr>\n      <th>0</th>\n      <td>2018-02-27</td>\n      <td>23.53</td>\n    </tr>\n    <tr>\n      <th>1</th>\n      <td>2018-02-26</td>\n      <td>22.80</td>\n    </tr>\n    <tr>\n      <th>2</th>\n      <td>2018-02-23</td>\n      <td>22.88</td>\n    </tr>\n    <tr>\n      <th>3</th>\n      <td>2018-02-22</td>\n      <td>22.25</td>\n    </tr>\n    <tr>\n      <th>4</th>\n      <td>2018-02-14</td>\n      <td>21.49</td>\n    </tr>\n    <tr>\n      <th>...</th>\n      <td>...</td>\n      <td>...</td>\n    </tr>\n    <tr>\n      <th>638</th>\n      <td>2015-03-06</td>\n      <td>13.17</td>\n    </tr>\n    <tr>\n      <th>639</th>\n      <td>2015-03-05</td>\n      <td>12.88</td>\n    </tr>\n    <tr>\n      <th>640</th>\n      <td>2015-03-04</td>\n      <td>12.80</td>\n    </tr>\n    <tr>\n      <th>641</th>\n      <td>2015-03-03</td>\n      <td>12.52</td>\n    </tr>\n    <tr>\n      <th>642</th>\n      <td>2015-03-02</td>\n      <td>12.25</td>\n    </tr>\n  </tbody>\n</table>\n<p>643 rows × 2 columns</p>\n</div>"
     },
     "execution_count": 109,
     "metadata": {},
     "output_type": "execute_result"
    }
   ],
   "source": [
    "data.to_csv('./data/test.csv',columns=['open'])\n",
    "pd.read_csv('./data/test.csv')"
   ],
   "metadata": {
    "collapsed": false,
    "ExecuteTime": {
     "end_time": "2023-09-02T12:40:43.809592200Z",
     "start_time": "2023-09-02T12:40:42.488806Z"
    }
   },
   "id": "8a712590e1b10184"
  },
  {
   "cell_type": "code",
   "execution_count": 110,
   "outputs": [],
   "source": [
    "data = pd.read_csv('C:/Users/ghdong/Desktop/test/BMS/databases/package_data.csv',usecols=['time','id','voltage'])"
   ],
   "metadata": {
    "collapsed": false,
    "ExecuteTime": {
     "end_time": "2023-09-02T12:40:43.809592200Z",
     "start_time": "2023-09-02T12:40:42.505352600Z"
    }
   },
   "id": "ff32c7980a99be20"
  },
  {
   "cell_type": "code",
   "execution_count": 111,
   "outputs": [],
   "source": [
    "data.to_csv('C:/Users/ghdong/Desktop/test/BMS/databases/test.csv',index=False)"
   ],
   "metadata": {
    "collapsed": false,
    "ExecuteTime": {
     "end_time": "2023-09-02T12:40:43.809592200Z",
     "start_time": "2023-09-02T12:40:42.520861200Z"
    }
   },
   "id": "47885db8b35bbea7"
  },
  {
   "cell_type": "code",
   "execution_count": 112,
   "outputs": [
    {
     "data": {
      "text/plain": "                  time       id  voltage\n0   2023/8/15 16:38:54  package        0\n1   2023/8/15 16:38:54  package        0\n2   2023/8/15 16:38:54  package        0\n3   2023/8/15 16:38:54  package        0\n4   2023/8/15 16:38:54  package        0\n5   2023/8/15 16:38:54  package        0\n6   2023/8/15 16:38:54  package        0\n7   2023/8/15 16:38:54  package        0\n8   2023/8/15 16:38:54  package        0\n9   2023/8/15 16:38:54  package        0\n10  2023/8/17 18:03:44  package        0\n11  2023/8/17 18:03:44  package        0\n12  2023/8/17 18:03:44  package        0",
      "text/html": "<div>\n<style scoped>\n    .dataframe tbody tr th:only-of-type {\n        vertical-align: middle;\n    }\n\n    .dataframe tbody tr th {\n        vertical-align: top;\n    }\n\n    .dataframe thead th {\n        text-align: right;\n    }\n</style>\n<table border=\"1\" class=\"dataframe\">\n  <thead>\n    <tr style=\"text-align: right;\">\n      <th></th>\n      <th>time</th>\n      <th>id</th>\n      <th>voltage</th>\n    </tr>\n  </thead>\n  <tbody>\n    <tr>\n      <th>0</th>\n      <td>2023/8/15 16:38:54</td>\n      <td>package</td>\n      <td>0</td>\n    </tr>\n    <tr>\n      <th>1</th>\n      <td>2023/8/15 16:38:54</td>\n      <td>package</td>\n      <td>0</td>\n    </tr>\n    <tr>\n      <th>2</th>\n      <td>2023/8/15 16:38:54</td>\n      <td>package</td>\n      <td>0</td>\n    </tr>\n    <tr>\n      <th>3</th>\n      <td>2023/8/15 16:38:54</td>\n      <td>package</td>\n      <td>0</td>\n    </tr>\n    <tr>\n      <th>4</th>\n      <td>2023/8/15 16:38:54</td>\n      <td>package</td>\n      <td>0</td>\n    </tr>\n    <tr>\n      <th>5</th>\n      <td>2023/8/15 16:38:54</td>\n      <td>package</td>\n      <td>0</td>\n    </tr>\n    <tr>\n      <th>6</th>\n      <td>2023/8/15 16:38:54</td>\n      <td>package</td>\n      <td>0</td>\n    </tr>\n    <tr>\n      <th>7</th>\n      <td>2023/8/15 16:38:54</td>\n      <td>package</td>\n      <td>0</td>\n    </tr>\n    <tr>\n      <th>8</th>\n      <td>2023/8/15 16:38:54</td>\n      <td>package</td>\n      <td>0</td>\n    </tr>\n    <tr>\n      <th>9</th>\n      <td>2023/8/15 16:38:54</td>\n      <td>package</td>\n      <td>0</td>\n    </tr>\n    <tr>\n      <th>10</th>\n      <td>2023/8/17 18:03:44</td>\n      <td>package</td>\n      <td>0</td>\n    </tr>\n    <tr>\n      <th>11</th>\n      <td>2023/8/17 18:03:44</td>\n      <td>package</td>\n      <td>0</td>\n    </tr>\n    <tr>\n      <th>12</th>\n      <td>2023/8/17 18:03:44</td>\n      <td>package</td>\n      <td>0</td>\n    </tr>\n  </tbody>\n</table>\n</div>"
     },
     "execution_count": 112,
     "metadata": {},
     "output_type": "execute_result"
    }
   ],
   "source": [
    "pd.read_csv('C:/Users/ghdong/Desktop/test/BMS/databases/test.csv')"
   ],
   "metadata": {
    "collapsed": false,
    "ExecuteTime": {
     "end_time": "2023-09-02T12:40:43.809592200Z",
     "start_time": "2023-09-02T12:40:42.535620400Z"
    }
   },
   "id": "4dd4258a68db39c0"
  },
  {
   "cell_type": "markdown",
   "source": [
    "#### 6.2 HDF5"
   ],
   "metadata": {
    "collapsed": false
   },
   "id": "9ed94adb244ecaea"
  },
  {
   "cell_type": "code",
   "execution_count": 113,
   "outputs": [
    {
     "data": {
      "text/plain": "   000001.SZ  000002.SZ  000004.SZ  000005.SZ  000006.SZ  000007.SZ  \\\n0      16.30      17.71       4.58       2.88      14.60       2.62   \n1      17.02      19.20       4.65       3.02      15.97       2.65   \n2      17.02      17.28       4.56       3.06      14.37       2.63   \n3      16.18      16.97       4.49       2.95      13.10       2.73   \n4      16.95      17.19       4.55       2.99      13.18       2.77   \n\n   000008.SZ  000009.SZ  000010.SZ  000011.SZ  ...  001965.SZ  603283.SH  \\\n0       4.96       4.66       5.37       6.02  ...        NaN        NaN   \n1       4.95       4.70       5.37       6.27  ...        NaN        NaN   \n2       4.82       4.47       5.37       5.96  ...        NaN        NaN   \n3       4.89       4.33       5.37       5.77  ...        NaN        NaN   \n4       4.97       4.42       5.37       5.92  ...        NaN        NaN   \n\n   002920.SZ  002921.SZ  300684.SZ  002922.SZ  300735.SZ  603329.SH  \\\n0        NaN        NaN        NaN        NaN        NaN        NaN   \n1        NaN        NaN        NaN        NaN        NaN        NaN   \n2        NaN        NaN        NaN        NaN        NaN        NaN   \n3        NaN        NaN        NaN        NaN        NaN        NaN   \n4        NaN        NaN        NaN        NaN        NaN        NaN   \n\n   603655.SH  603080.SH  \n0        NaN        NaN  \n1        NaN        NaN  \n2        NaN        NaN  \n3        NaN        NaN  \n4        NaN        NaN  \n\n[5 rows x 3562 columns]",
      "text/html": "<div>\n<style scoped>\n    .dataframe tbody tr th:only-of-type {\n        vertical-align: middle;\n    }\n\n    .dataframe tbody tr th {\n        vertical-align: top;\n    }\n\n    .dataframe thead th {\n        text-align: right;\n    }\n</style>\n<table border=\"1\" class=\"dataframe\">\n  <thead>\n    <tr style=\"text-align: right;\">\n      <th></th>\n      <th>000001.SZ</th>\n      <th>000002.SZ</th>\n      <th>000004.SZ</th>\n      <th>000005.SZ</th>\n      <th>000006.SZ</th>\n      <th>000007.SZ</th>\n      <th>000008.SZ</th>\n      <th>000009.SZ</th>\n      <th>000010.SZ</th>\n      <th>000011.SZ</th>\n      <th>...</th>\n      <th>001965.SZ</th>\n      <th>603283.SH</th>\n      <th>002920.SZ</th>\n      <th>002921.SZ</th>\n      <th>300684.SZ</th>\n      <th>002922.SZ</th>\n      <th>300735.SZ</th>\n      <th>603329.SH</th>\n      <th>603655.SH</th>\n      <th>603080.SH</th>\n    </tr>\n  </thead>\n  <tbody>\n    <tr>\n      <th>0</th>\n      <td>16.30</td>\n      <td>17.71</td>\n      <td>4.58</td>\n      <td>2.88</td>\n      <td>14.60</td>\n      <td>2.62</td>\n      <td>4.96</td>\n      <td>4.66</td>\n      <td>5.37</td>\n      <td>6.02</td>\n      <td>...</td>\n      <td>NaN</td>\n      <td>NaN</td>\n      <td>NaN</td>\n      <td>NaN</td>\n      <td>NaN</td>\n      <td>NaN</td>\n      <td>NaN</td>\n      <td>NaN</td>\n      <td>NaN</td>\n      <td>NaN</td>\n    </tr>\n    <tr>\n      <th>1</th>\n      <td>17.02</td>\n      <td>19.20</td>\n      <td>4.65</td>\n      <td>3.02</td>\n      <td>15.97</td>\n      <td>2.65</td>\n      <td>4.95</td>\n      <td>4.70</td>\n      <td>5.37</td>\n      <td>6.27</td>\n      <td>...</td>\n      <td>NaN</td>\n      <td>NaN</td>\n      <td>NaN</td>\n      <td>NaN</td>\n      <td>NaN</td>\n      <td>NaN</td>\n      <td>NaN</td>\n      <td>NaN</td>\n      <td>NaN</td>\n      <td>NaN</td>\n    </tr>\n    <tr>\n      <th>2</th>\n      <td>17.02</td>\n      <td>17.28</td>\n      <td>4.56</td>\n      <td>3.06</td>\n      <td>14.37</td>\n      <td>2.63</td>\n      <td>4.82</td>\n      <td>4.47</td>\n      <td>5.37</td>\n      <td>5.96</td>\n      <td>...</td>\n      <td>NaN</td>\n      <td>NaN</td>\n      <td>NaN</td>\n      <td>NaN</td>\n      <td>NaN</td>\n      <td>NaN</td>\n      <td>NaN</td>\n      <td>NaN</td>\n      <td>NaN</td>\n      <td>NaN</td>\n    </tr>\n    <tr>\n      <th>3</th>\n      <td>16.18</td>\n      <td>16.97</td>\n      <td>4.49</td>\n      <td>2.95</td>\n      <td>13.10</td>\n      <td>2.73</td>\n      <td>4.89</td>\n      <td>4.33</td>\n      <td>5.37</td>\n      <td>5.77</td>\n      <td>...</td>\n      <td>NaN</td>\n      <td>NaN</td>\n      <td>NaN</td>\n      <td>NaN</td>\n      <td>NaN</td>\n      <td>NaN</td>\n      <td>NaN</td>\n      <td>NaN</td>\n      <td>NaN</td>\n      <td>NaN</td>\n    </tr>\n    <tr>\n      <th>4</th>\n      <td>16.95</td>\n      <td>17.19</td>\n      <td>4.55</td>\n      <td>2.99</td>\n      <td>13.18</td>\n      <td>2.77</td>\n      <td>4.97</td>\n      <td>4.42</td>\n      <td>5.37</td>\n      <td>5.92</td>\n      <td>...</td>\n      <td>NaN</td>\n      <td>NaN</td>\n      <td>NaN</td>\n      <td>NaN</td>\n      <td>NaN</td>\n      <td>NaN</td>\n      <td>NaN</td>\n      <td>NaN</td>\n      <td>NaN</td>\n      <td>NaN</td>\n    </tr>\n  </tbody>\n</table>\n<p>5 rows × 3562 columns</p>\n</div>"
     },
     "execution_count": 113,
     "metadata": {},
     "output_type": "execute_result"
    }
   ],
   "source": [
    "day_close = pd.read_hdf('./data/day_close.h5')\n",
    "day_close.head()"
   ],
   "metadata": {
    "collapsed": false,
    "ExecuteTime": {
     "end_time": "2023-09-02T12:40:43.810592100Z",
     "start_time": "2023-09-02T12:40:42.551137500Z"
    }
   },
   "id": "b6e6f54186431cd0"
  },
  {
   "cell_type": "code",
   "execution_count": 114,
   "outputs": [],
   "source": [
    "day_close.to_hdf('./data/test.h5', key='day_close')"
   ],
   "metadata": {
    "collapsed": false,
    "ExecuteTime": {
     "end_time": "2023-09-02T12:40:44.011117700Z",
     "start_time": "2023-09-02T12:40:42.693952600Z"
    }
   },
   "id": "301ae09f945efbb1"
  },
  {
   "cell_type": "code",
   "execution_count": 115,
   "outputs": [
    {
     "data": {
      "text/plain": "      000001.SZ  000002.SZ  000004.SZ  000005.SZ  000006.SZ  000007.SZ  \\\n0         16.30      17.71       4.58       2.88      14.60       2.62   \n1         17.02      19.20       4.65       3.02      15.97       2.65   \n2         17.02      17.28       4.56       3.06      14.37       2.63   \n3         16.18      16.97       4.49       2.95      13.10       2.73   \n4         16.95      17.19       4.55       2.99      13.18       2.77   \n...         ...        ...        ...        ...        ...        ...   \n2673      12.96      35.99      22.84       4.37       9.85      16.66   \n2674      13.08      35.84      23.02       4.41       9.85      16.66   \n2675      13.47      35.67      22.40       4.32       9.85      16.66   \n2676      13.40      35.15      22.29       4.29       9.85      16.66   \n2677      13.55      35.55      22.20       4.37       9.85      16.66   \n\n      000008.SZ  000009.SZ  000010.SZ  000011.SZ  ...  001965.SZ  603283.SH  \\\n0          4.96       4.66       5.37       6.02  ...        NaN        NaN   \n1          4.95       4.70       5.37       6.27  ...        NaN        NaN   \n2          4.82       4.47       5.37       5.96  ...        NaN        NaN   \n3          4.89       4.33       5.37       5.77  ...        NaN        NaN   \n4          4.97       4.42       5.37       5.92  ...        NaN        NaN   \n...         ...        ...        ...        ...  ...        ...        ...   \n2673       8.47       7.52       6.20      17.88  ...      12.99      23.42   \n2674       8.49       7.48       6.01      17.75  ...      12.83      25.76   \n2675       8.49       7.38       5.97      17.45  ...      12.20      28.34   \n2676       8.56       7.04       5.84      17.49  ...      12.11      31.17   \n2677       8.67       7.06       5.99      17.76  ...      11.91      34.29   \n\n      002920.SZ  002921.SZ  300684.SZ  002922.SZ  300735.SZ  603329.SH  \\\n0           NaN        NaN        NaN        NaN        NaN        NaN   \n1           NaN        NaN        NaN        NaN        NaN        NaN   \n2           NaN        NaN        NaN        NaN        NaN        NaN   \n3           NaN        NaN        NaN        NaN        NaN        NaN   \n4           NaN        NaN        NaN        NaN        NaN        NaN   \n...         ...        ...        ...        ...        ...        ...   \n2673      47.99      32.40      22.45      28.79      23.18      24.45   \n2674      45.14      35.64      24.70      31.67      25.50      26.90   \n2675      43.21      39.20      27.17      34.84      28.05      29.59   \n2676      43.76      40.88      29.89      34.84      29.64      32.55   \n2677      41.71      39.10      32.88      34.84      27.92      31.82   \n\n      603655.SH  603080.SH  \n0           NaN        NaN  \n1           NaN        NaN  \n2           NaN        NaN  \n3           NaN        NaN  \n4           NaN        NaN  \n...         ...        ...  \n2673      14.98      26.06  \n2674      16.48      28.67  \n2675      18.13      31.54  \n2676      19.94      34.69  \n2677      21.93      38.16  \n\n[2678 rows x 3562 columns]",
      "text/html": "<div>\n<style scoped>\n    .dataframe tbody tr th:only-of-type {\n        vertical-align: middle;\n    }\n\n    .dataframe tbody tr th {\n        vertical-align: top;\n    }\n\n    .dataframe thead th {\n        text-align: right;\n    }\n</style>\n<table border=\"1\" class=\"dataframe\">\n  <thead>\n    <tr style=\"text-align: right;\">\n      <th></th>\n      <th>000001.SZ</th>\n      <th>000002.SZ</th>\n      <th>000004.SZ</th>\n      <th>000005.SZ</th>\n      <th>000006.SZ</th>\n      <th>000007.SZ</th>\n      <th>000008.SZ</th>\n      <th>000009.SZ</th>\n      <th>000010.SZ</th>\n      <th>000011.SZ</th>\n      <th>...</th>\n      <th>001965.SZ</th>\n      <th>603283.SH</th>\n      <th>002920.SZ</th>\n      <th>002921.SZ</th>\n      <th>300684.SZ</th>\n      <th>002922.SZ</th>\n      <th>300735.SZ</th>\n      <th>603329.SH</th>\n      <th>603655.SH</th>\n      <th>603080.SH</th>\n    </tr>\n  </thead>\n  <tbody>\n    <tr>\n      <th>0</th>\n      <td>16.30</td>\n      <td>17.71</td>\n      <td>4.58</td>\n      <td>2.88</td>\n      <td>14.60</td>\n      <td>2.62</td>\n      <td>4.96</td>\n      <td>4.66</td>\n      <td>5.37</td>\n      <td>6.02</td>\n      <td>...</td>\n      <td>NaN</td>\n      <td>NaN</td>\n      <td>NaN</td>\n      <td>NaN</td>\n      <td>NaN</td>\n      <td>NaN</td>\n      <td>NaN</td>\n      <td>NaN</td>\n      <td>NaN</td>\n      <td>NaN</td>\n    </tr>\n    <tr>\n      <th>1</th>\n      <td>17.02</td>\n      <td>19.20</td>\n      <td>4.65</td>\n      <td>3.02</td>\n      <td>15.97</td>\n      <td>2.65</td>\n      <td>4.95</td>\n      <td>4.70</td>\n      <td>5.37</td>\n      <td>6.27</td>\n      <td>...</td>\n      <td>NaN</td>\n      <td>NaN</td>\n      <td>NaN</td>\n      <td>NaN</td>\n      <td>NaN</td>\n      <td>NaN</td>\n      <td>NaN</td>\n      <td>NaN</td>\n      <td>NaN</td>\n      <td>NaN</td>\n    </tr>\n    <tr>\n      <th>2</th>\n      <td>17.02</td>\n      <td>17.28</td>\n      <td>4.56</td>\n      <td>3.06</td>\n      <td>14.37</td>\n      <td>2.63</td>\n      <td>4.82</td>\n      <td>4.47</td>\n      <td>5.37</td>\n      <td>5.96</td>\n      <td>...</td>\n      <td>NaN</td>\n      <td>NaN</td>\n      <td>NaN</td>\n      <td>NaN</td>\n      <td>NaN</td>\n      <td>NaN</td>\n      <td>NaN</td>\n      <td>NaN</td>\n      <td>NaN</td>\n      <td>NaN</td>\n    </tr>\n    <tr>\n      <th>3</th>\n      <td>16.18</td>\n      <td>16.97</td>\n      <td>4.49</td>\n      <td>2.95</td>\n      <td>13.10</td>\n      <td>2.73</td>\n      <td>4.89</td>\n      <td>4.33</td>\n      <td>5.37</td>\n      <td>5.77</td>\n      <td>...</td>\n      <td>NaN</td>\n      <td>NaN</td>\n      <td>NaN</td>\n      <td>NaN</td>\n      <td>NaN</td>\n      <td>NaN</td>\n      <td>NaN</td>\n      <td>NaN</td>\n      <td>NaN</td>\n      <td>NaN</td>\n    </tr>\n    <tr>\n      <th>4</th>\n      <td>16.95</td>\n      <td>17.19</td>\n      <td>4.55</td>\n      <td>2.99</td>\n      <td>13.18</td>\n      <td>2.77</td>\n      <td>4.97</td>\n      <td>4.42</td>\n      <td>5.37</td>\n      <td>5.92</td>\n      <td>...</td>\n      <td>NaN</td>\n      <td>NaN</td>\n      <td>NaN</td>\n      <td>NaN</td>\n      <td>NaN</td>\n      <td>NaN</td>\n      <td>NaN</td>\n      <td>NaN</td>\n      <td>NaN</td>\n      <td>NaN</td>\n    </tr>\n    <tr>\n      <th>...</th>\n      <td>...</td>\n      <td>...</td>\n      <td>...</td>\n      <td>...</td>\n      <td>...</td>\n      <td>...</td>\n      <td>...</td>\n      <td>...</td>\n      <td>...</td>\n      <td>...</td>\n      <td>...</td>\n      <td>...</td>\n      <td>...</td>\n      <td>...</td>\n      <td>...</td>\n      <td>...</td>\n      <td>...</td>\n      <td>...</td>\n      <td>...</td>\n      <td>...</td>\n      <td>...</td>\n    </tr>\n    <tr>\n      <th>2673</th>\n      <td>12.96</td>\n      <td>35.99</td>\n      <td>22.84</td>\n      <td>4.37</td>\n      <td>9.85</td>\n      <td>16.66</td>\n      <td>8.47</td>\n      <td>7.52</td>\n      <td>6.20</td>\n      <td>17.88</td>\n      <td>...</td>\n      <td>12.99</td>\n      <td>23.42</td>\n      <td>47.99</td>\n      <td>32.40</td>\n      <td>22.45</td>\n      <td>28.79</td>\n      <td>23.18</td>\n      <td>24.45</td>\n      <td>14.98</td>\n      <td>26.06</td>\n    </tr>\n    <tr>\n      <th>2674</th>\n      <td>13.08</td>\n      <td>35.84</td>\n      <td>23.02</td>\n      <td>4.41</td>\n      <td>9.85</td>\n      <td>16.66</td>\n      <td>8.49</td>\n      <td>7.48</td>\n      <td>6.01</td>\n      <td>17.75</td>\n      <td>...</td>\n      <td>12.83</td>\n      <td>25.76</td>\n      <td>45.14</td>\n      <td>35.64</td>\n      <td>24.70</td>\n      <td>31.67</td>\n      <td>25.50</td>\n      <td>26.90</td>\n      <td>16.48</td>\n      <td>28.67</td>\n    </tr>\n    <tr>\n      <th>2675</th>\n      <td>13.47</td>\n      <td>35.67</td>\n      <td>22.40</td>\n      <td>4.32</td>\n      <td>9.85</td>\n      <td>16.66</td>\n      <td>8.49</td>\n      <td>7.38</td>\n      <td>5.97</td>\n      <td>17.45</td>\n      <td>...</td>\n      <td>12.20</td>\n      <td>28.34</td>\n      <td>43.21</td>\n      <td>39.20</td>\n      <td>27.17</td>\n      <td>34.84</td>\n      <td>28.05</td>\n      <td>29.59</td>\n      <td>18.13</td>\n      <td>31.54</td>\n    </tr>\n    <tr>\n      <th>2676</th>\n      <td>13.40</td>\n      <td>35.15</td>\n      <td>22.29</td>\n      <td>4.29</td>\n      <td>9.85</td>\n      <td>16.66</td>\n      <td>8.56</td>\n      <td>7.04</td>\n      <td>5.84</td>\n      <td>17.49</td>\n      <td>...</td>\n      <td>12.11</td>\n      <td>31.17</td>\n      <td>43.76</td>\n      <td>40.88</td>\n      <td>29.89</td>\n      <td>34.84</td>\n      <td>29.64</td>\n      <td>32.55</td>\n      <td>19.94</td>\n      <td>34.69</td>\n    </tr>\n    <tr>\n      <th>2677</th>\n      <td>13.55</td>\n      <td>35.55</td>\n      <td>22.20</td>\n      <td>4.37</td>\n      <td>9.85</td>\n      <td>16.66</td>\n      <td>8.67</td>\n      <td>7.06</td>\n      <td>5.99</td>\n      <td>17.76</td>\n      <td>...</td>\n      <td>11.91</td>\n      <td>34.29</td>\n      <td>41.71</td>\n      <td>39.10</td>\n      <td>32.88</td>\n      <td>34.84</td>\n      <td>27.92</td>\n      <td>31.82</td>\n      <td>21.93</td>\n      <td>38.16</td>\n    </tr>\n  </tbody>\n</table>\n<p>2678 rows × 3562 columns</p>\n</div>"
     },
     "execution_count": 115,
     "metadata": {},
     "output_type": "execute_result"
    }
   ],
   "source": [
    "pd.read_hdf('./data/test.h5', key='day_close')"
   ],
   "metadata": {
    "collapsed": false,
    "ExecuteTime": {
     "end_time": "2023-09-02T12:40:44.074591100Z",
     "start_time": "2023-09-02T12:40:42.834712300Z"
    }
   },
   "id": "1c0eb391bcb6c1ae"
  },
  {
   "cell_type": "markdown",
   "source": [
    "#### 6.3 json"
   ],
   "metadata": {
    "collapsed": false
   },
   "id": "3a6bd7b4acb31626"
  },
  {
   "cell_type": "code",
   "execution_count": 116,
   "outputs": [],
   "source": [
    "data = pd.read_json('./data/Sarcasm_Headlines_Dataset.json',orient='records', lines=True)"
   ],
   "metadata": {
    "collapsed": false,
    "ExecuteTime": {
     "end_time": "2023-09-02T12:40:44.074591100Z",
     "start_time": "2023-09-02T12:40:42.913533400Z"
    }
   },
   "id": "5f3f04c0bd030af9"
  },
  {
   "cell_type": "code",
   "execution_count": 117,
   "outputs": [
    {
     "data": {
      "text/plain": "                                        article_link  \\\n0  https://www.huffingtonpost.com/entry/versace-b...   \n1  https://www.huffingtonpost.com/entry/roseanne-...   \n2  https://local.theonion.com/mom-starting-to-fea...   \n3  https://politics.theonion.com/boehner-just-wan...   \n4  https://www.huffingtonpost.com/entry/jk-rowlin...   \n\n                                            headline  is_sarcastic  \n0  former versace store clerk sues over secret 'b...             0  \n1  the 'roseanne' revival catches up to our thorn...             0  \n2  mom starting to fear son's web series closest ...             1  \n3  boehner just wants wife to listen, not come up...             1  \n4  j.k. rowling wishes snape happy birthday in th...             0  ",
      "text/html": "<div>\n<style scoped>\n    .dataframe tbody tr th:only-of-type {\n        vertical-align: middle;\n    }\n\n    .dataframe tbody tr th {\n        vertical-align: top;\n    }\n\n    .dataframe thead th {\n        text-align: right;\n    }\n</style>\n<table border=\"1\" class=\"dataframe\">\n  <thead>\n    <tr style=\"text-align: right;\">\n      <th></th>\n      <th>article_link</th>\n      <th>headline</th>\n      <th>is_sarcastic</th>\n    </tr>\n  </thead>\n  <tbody>\n    <tr>\n      <th>0</th>\n      <td>https://www.huffingtonpost.com/entry/versace-b...</td>\n      <td>former versace store clerk sues over secret 'b...</td>\n      <td>0</td>\n    </tr>\n    <tr>\n      <th>1</th>\n      <td>https://www.huffingtonpost.com/entry/roseanne-...</td>\n      <td>the 'roseanne' revival catches up to our thorn...</td>\n      <td>0</td>\n    </tr>\n    <tr>\n      <th>2</th>\n      <td>https://local.theonion.com/mom-starting-to-fea...</td>\n      <td>mom starting to fear son's web series closest ...</td>\n      <td>1</td>\n    </tr>\n    <tr>\n      <th>3</th>\n      <td>https://politics.theonion.com/boehner-just-wan...</td>\n      <td>boehner just wants wife to listen, not come up...</td>\n      <td>1</td>\n    </tr>\n    <tr>\n      <th>4</th>\n      <td>https://www.huffingtonpost.com/entry/jk-rowlin...</td>\n      <td>j.k. rowling wishes snape happy birthday in th...</td>\n      <td>0</td>\n    </tr>\n  </tbody>\n</table>\n</div>"
     },
     "execution_count": 117,
     "metadata": {},
     "output_type": "execute_result"
    }
   ],
   "source": [
    "data.head()"
   ],
   "metadata": {
    "collapsed": false,
    "ExecuteTime": {
     "end_time": "2023-09-02T12:40:44.074591100Z",
     "start_time": "2023-09-02T12:40:42.996752500Z"
    }
   },
   "id": "8815de6d5d8372cf"
  },
  {
   "cell_type": "code",
   "execution_count": 118,
   "outputs": [],
   "source": [
    "data.to_json('./data/test.json', orient='records', lines=True)"
   ],
   "metadata": {
    "collapsed": false,
    "ExecuteTime": {
     "end_time": "2023-09-02T12:40:44.097753700Z",
     "start_time": "2023-09-02T12:40:43.008459200Z"
    }
   },
   "id": "38ec7ee1a15def3b"
  },
  {
   "cell_type": "markdown",
   "source": [
    "### 7 高级数据处理"
   ],
   "metadata": {
    "collapsed": false
   },
   "id": "90160ae2c71af5ac"
  },
  {
   "cell_type": "markdown",
   "source": [
    "#### 7.1 缺失值处理"
   ],
   "metadata": {
    "collapsed": false
   },
   "id": "361d9f7ecd1aff3d"
  },
  {
   "cell_type": "code",
   "execution_count": 119,
   "outputs": [
    {
     "data": {
      "text/plain": "   Rank                    Title                     Genre  \\\n0     1  Guardians of the Galaxy   Action,Adventure,Sci-Fi   \n1     2               Prometheus  Adventure,Mystery,Sci-Fi   \n2     3                    Split           Horror,Thriller   \n3     4                     Sing   Animation,Comedy,Family   \n4     5            Suicide Squad  Action,Adventure,Fantasy   \n\n                                         Description              Director  \\\n0  A group of intergalactic criminals are forced ...            James Gunn   \n1  Following clues to the origin of mankind, a te...          Ridley Scott   \n2  Three girls are kidnapped by a man with a diag...    M. Night Shyamalan   \n3  In a city of humanoid animals, a hustling thea...  Christophe Lourdelet   \n4  A secret government agency recruits some of th...            David Ayer   \n\n                                              Actors  Year  Runtime (Minutes)  \\\n0  Chris Pratt, Vin Diesel, Bradley Cooper, Zoe S...  2014                121   \n1  Noomi Rapace, Logan Marshall-Green, Michael Fa...  2012                124   \n2  James McAvoy, Anya Taylor-Joy, Haley Lu Richar...  2016                117   \n3  Matthew McConaughey,Reese Witherspoon, Seth Ma...  2016                108   \n4  Will Smith, Jared Leto, Margot Robbie, Viola D...  2016                123   \n\n   Rating   Votes  Revenue (Millions)  Metascore  \n0     8.1  757074              333.13       76.0  \n1     7.0  485820              126.46       65.0  \n2     7.3  157606              138.12       62.0  \n3     7.2   60545              270.32       59.0  \n4     6.2  393727              325.02       40.0  ",
      "text/html": "<div>\n<style scoped>\n    .dataframe tbody tr th:only-of-type {\n        vertical-align: middle;\n    }\n\n    .dataframe tbody tr th {\n        vertical-align: top;\n    }\n\n    .dataframe thead th {\n        text-align: right;\n    }\n</style>\n<table border=\"1\" class=\"dataframe\">\n  <thead>\n    <tr style=\"text-align: right;\">\n      <th></th>\n      <th>Rank</th>\n      <th>Title</th>\n      <th>Genre</th>\n      <th>Description</th>\n      <th>Director</th>\n      <th>Actors</th>\n      <th>Year</th>\n      <th>Runtime (Minutes)</th>\n      <th>Rating</th>\n      <th>Votes</th>\n      <th>Revenue (Millions)</th>\n      <th>Metascore</th>\n    </tr>\n  </thead>\n  <tbody>\n    <tr>\n      <th>0</th>\n      <td>1</td>\n      <td>Guardians of the Galaxy</td>\n      <td>Action,Adventure,Sci-Fi</td>\n      <td>A group of intergalactic criminals are forced ...</td>\n      <td>James Gunn</td>\n      <td>Chris Pratt, Vin Diesel, Bradley Cooper, Zoe S...</td>\n      <td>2014</td>\n      <td>121</td>\n      <td>8.1</td>\n      <td>757074</td>\n      <td>333.13</td>\n      <td>76.0</td>\n    </tr>\n    <tr>\n      <th>1</th>\n      <td>2</td>\n      <td>Prometheus</td>\n      <td>Adventure,Mystery,Sci-Fi</td>\n      <td>Following clues to the origin of mankind, a te...</td>\n      <td>Ridley Scott</td>\n      <td>Noomi Rapace, Logan Marshall-Green, Michael Fa...</td>\n      <td>2012</td>\n      <td>124</td>\n      <td>7.0</td>\n      <td>485820</td>\n      <td>126.46</td>\n      <td>65.0</td>\n    </tr>\n    <tr>\n      <th>2</th>\n      <td>3</td>\n      <td>Split</td>\n      <td>Horror,Thriller</td>\n      <td>Three girls are kidnapped by a man with a diag...</td>\n      <td>M. Night Shyamalan</td>\n      <td>James McAvoy, Anya Taylor-Joy, Haley Lu Richar...</td>\n      <td>2016</td>\n      <td>117</td>\n      <td>7.3</td>\n      <td>157606</td>\n      <td>138.12</td>\n      <td>62.0</td>\n    </tr>\n    <tr>\n      <th>3</th>\n      <td>4</td>\n      <td>Sing</td>\n      <td>Animation,Comedy,Family</td>\n      <td>In a city of humanoid animals, a hustling thea...</td>\n      <td>Christophe Lourdelet</td>\n      <td>Matthew McConaughey,Reese Witherspoon, Seth Ma...</td>\n      <td>2016</td>\n      <td>108</td>\n      <td>7.2</td>\n      <td>60545</td>\n      <td>270.32</td>\n      <td>59.0</td>\n    </tr>\n    <tr>\n      <th>4</th>\n      <td>5</td>\n      <td>Suicide Squad</td>\n      <td>Action,Adventure,Fantasy</td>\n      <td>A secret government agency recruits some of th...</td>\n      <td>David Ayer</td>\n      <td>Will Smith, Jared Leto, Margot Robbie, Viola D...</td>\n      <td>2016</td>\n      <td>123</td>\n      <td>6.2</td>\n      <td>393727</td>\n      <td>325.02</td>\n      <td>40.0</td>\n    </tr>\n  </tbody>\n</table>\n</div>"
     },
     "execution_count": 119,
     "metadata": {},
     "output_type": "execute_result"
    }
   ],
   "source": [
    "movie=pd.read_csv('./data/IMDB-Movie-Data.csv')\n",
    "movie.head()"
   ],
   "metadata": {
    "collapsed": false,
    "ExecuteTime": {
     "end_time": "2023-09-02T12:40:44.098753100Z",
     "start_time": "2023-09-02T12:40:43.055048500Z"
    }
   },
   "id": "7e85540dce666773"
  },
  {
   "cell_type": "code",
   "execution_count": 120,
   "outputs": [
    {
     "data": {
      "text/plain": "False"
     },
     "execution_count": 120,
     "metadata": {},
     "output_type": "execute_result"
    }
   ],
   "source": [
    "np.all(pd.notnull(movie))"
   ],
   "metadata": {
    "collapsed": false,
    "ExecuteTime": {
     "end_time": "2023-09-02T12:40:44.098753100Z",
     "start_time": "2023-09-02T12:40:43.070035100Z"
    }
   },
   "id": "bc722119eae42477"
  },
  {
   "cell_type": "code",
   "execution_count": 121,
   "outputs": [
    {
     "data": {
      "text/plain": "True"
     },
     "execution_count": 121,
     "metadata": {},
     "output_type": "execute_result"
    }
   ],
   "source": [
    "np.any(pd.isnull(movie))"
   ],
   "metadata": {
    "collapsed": false,
    "ExecuteTime": {
     "end_time": "2023-09-02T12:40:44.098753100Z",
     "start_time": "2023-09-02T12:40:43.085411400Z"
    }
   },
   "id": "fdcf51d9ce07df71"
  },
  {
   "cell_type": "code",
   "execution_count": 122,
   "outputs": [
    {
     "data": {
      "text/plain": "   Rank                    Title                     Genre  \\\n0     1  Guardians of the Galaxy   Action,Adventure,Sci-Fi   \n1     2               Prometheus  Adventure,Mystery,Sci-Fi   \n2     3                    Split           Horror,Thriller   \n3     4                     Sing   Animation,Comedy,Family   \n4     5            Suicide Squad  Action,Adventure,Fantasy   \n\n                                         Description              Director  \\\n0  A group of intergalactic criminals are forced ...            James Gunn   \n1  Following clues to the origin of mankind, a te...          Ridley Scott   \n2  Three girls are kidnapped by a man with a diag...    M. Night Shyamalan   \n3  In a city of humanoid animals, a hustling thea...  Christophe Lourdelet   \n4  A secret government agency recruits some of th...            David Ayer   \n\n                                              Actors  Year  Runtime (Minutes)  \\\n0  Chris Pratt, Vin Diesel, Bradley Cooper, Zoe S...  2014                121   \n1  Noomi Rapace, Logan Marshall-Green, Michael Fa...  2012                124   \n2  James McAvoy, Anya Taylor-Joy, Haley Lu Richar...  2016                117   \n3  Matthew McConaughey,Reese Witherspoon, Seth Ma...  2016                108   \n4  Will Smith, Jared Leto, Margot Robbie, Viola D...  2016                123   \n\n   Rating   Votes  Revenue (Millions)  Metascore  \n0     8.1  757074              333.13       76.0  \n1     7.0  485820              126.46       65.0  \n2     7.3  157606              138.12       62.0  \n3     7.2   60545              270.32       59.0  \n4     6.2  393727              325.02       40.0  ",
      "text/html": "<div>\n<style scoped>\n    .dataframe tbody tr th:only-of-type {\n        vertical-align: middle;\n    }\n\n    .dataframe tbody tr th {\n        vertical-align: top;\n    }\n\n    .dataframe thead th {\n        text-align: right;\n    }\n</style>\n<table border=\"1\" class=\"dataframe\">\n  <thead>\n    <tr style=\"text-align: right;\">\n      <th></th>\n      <th>Rank</th>\n      <th>Title</th>\n      <th>Genre</th>\n      <th>Description</th>\n      <th>Director</th>\n      <th>Actors</th>\n      <th>Year</th>\n      <th>Runtime (Minutes)</th>\n      <th>Rating</th>\n      <th>Votes</th>\n      <th>Revenue (Millions)</th>\n      <th>Metascore</th>\n    </tr>\n  </thead>\n  <tbody>\n    <tr>\n      <th>0</th>\n      <td>1</td>\n      <td>Guardians of the Galaxy</td>\n      <td>Action,Adventure,Sci-Fi</td>\n      <td>A group of intergalactic criminals are forced ...</td>\n      <td>James Gunn</td>\n      <td>Chris Pratt, Vin Diesel, Bradley Cooper, Zoe S...</td>\n      <td>2014</td>\n      <td>121</td>\n      <td>8.1</td>\n      <td>757074</td>\n      <td>333.13</td>\n      <td>76.0</td>\n    </tr>\n    <tr>\n      <th>1</th>\n      <td>2</td>\n      <td>Prometheus</td>\n      <td>Adventure,Mystery,Sci-Fi</td>\n      <td>Following clues to the origin of mankind, a te...</td>\n      <td>Ridley Scott</td>\n      <td>Noomi Rapace, Logan Marshall-Green, Michael Fa...</td>\n      <td>2012</td>\n      <td>124</td>\n      <td>7.0</td>\n      <td>485820</td>\n      <td>126.46</td>\n      <td>65.0</td>\n    </tr>\n    <tr>\n      <th>2</th>\n      <td>3</td>\n      <td>Split</td>\n      <td>Horror,Thriller</td>\n      <td>Three girls are kidnapped by a man with a diag...</td>\n      <td>M. Night Shyamalan</td>\n      <td>James McAvoy, Anya Taylor-Joy, Haley Lu Richar...</td>\n      <td>2016</td>\n      <td>117</td>\n      <td>7.3</td>\n      <td>157606</td>\n      <td>138.12</td>\n      <td>62.0</td>\n    </tr>\n    <tr>\n      <th>3</th>\n      <td>4</td>\n      <td>Sing</td>\n      <td>Animation,Comedy,Family</td>\n      <td>In a city of humanoid animals, a hustling thea...</td>\n      <td>Christophe Lourdelet</td>\n      <td>Matthew McConaughey,Reese Witherspoon, Seth Ma...</td>\n      <td>2016</td>\n      <td>108</td>\n      <td>7.2</td>\n      <td>60545</td>\n      <td>270.32</td>\n      <td>59.0</td>\n    </tr>\n    <tr>\n      <th>4</th>\n      <td>5</td>\n      <td>Suicide Squad</td>\n      <td>Action,Adventure,Fantasy</td>\n      <td>A secret government agency recruits some of th...</td>\n      <td>David Ayer</td>\n      <td>Will Smith, Jared Leto, Margot Robbie, Viola D...</td>\n      <td>2016</td>\n      <td>123</td>\n      <td>6.2</td>\n      <td>393727</td>\n      <td>325.02</td>\n      <td>40.0</td>\n    </tr>\n  </tbody>\n</table>\n</div>"
     },
     "execution_count": 122,
     "metadata": {},
     "output_type": "execute_result"
    }
   ],
   "source": [
    "data=movie.dropna()\n",
    "data.head()"
   ],
   "metadata": {
    "collapsed": false,
    "ExecuteTime": {
     "end_time": "2023-09-02T12:40:44.099755Z",
     "start_time": "2023-09-02T12:40:43.102357500Z"
    }
   },
   "id": "55b01489396ba9bd"
  },
  {
   "cell_type": "code",
   "execution_count": 123,
   "outputs": [
    {
     "data": {
      "text/plain": "82.95637614678898"
     },
     "execution_count": 123,
     "metadata": {},
     "output_type": "execute_result"
    }
   ],
   "source": [
    "movie['Revenue (Millions)'].mean()"
   ],
   "metadata": {
    "collapsed": false,
    "ExecuteTime": {
     "end_time": "2023-09-02T12:40:44.100756100Z",
     "start_time": "2023-09-02T12:40:43.118385400Z"
    }
   },
   "id": "1ba3d83f1d7036d3"
  },
  {
   "cell_type": "code",
   "execution_count": 124,
   "outputs": [
    {
     "data": {
      "text/plain": "   Rank                    Title                     Genre  \\\n0     1  Guardians of the Galaxy   Action,Adventure,Sci-Fi   \n1     2               Prometheus  Adventure,Mystery,Sci-Fi   \n2     3                    Split           Horror,Thriller   \n3     4                     Sing   Animation,Comedy,Family   \n4     5            Suicide Squad  Action,Adventure,Fantasy   \n\n                                         Description              Director  \\\n0  A group of intergalactic criminals are forced ...            James Gunn   \n1  Following clues to the origin of mankind, a te...          Ridley Scott   \n2  Three girls are kidnapped by a man with a diag...    M. Night Shyamalan   \n3  In a city of humanoid animals, a hustling thea...  Christophe Lourdelet   \n4  A secret government agency recruits some of th...            David Ayer   \n\n                                              Actors  Year  Runtime (Minutes)  \\\n0  Chris Pratt, Vin Diesel, Bradley Cooper, Zoe S...  2014                121   \n1  Noomi Rapace, Logan Marshall-Green, Michael Fa...  2012                124   \n2  James McAvoy, Anya Taylor-Joy, Haley Lu Richar...  2016                117   \n3  Matthew McConaughey,Reese Witherspoon, Seth Ma...  2016                108   \n4  Will Smith, Jared Leto, Margot Robbie, Viola D...  2016                123   \n\n   Rating   Votes  Revenue (Millions)  Metascore  \n0     8.1  757074              333.13       76.0  \n1     7.0  485820              126.46       65.0  \n2     7.3  157606              138.12       62.0  \n3     7.2   60545              270.32       59.0  \n4     6.2  393727              325.02       40.0  ",
      "text/html": "<div>\n<style scoped>\n    .dataframe tbody tr th:only-of-type {\n        vertical-align: middle;\n    }\n\n    .dataframe tbody tr th {\n        vertical-align: top;\n    }\n\n    .dataframe thead th {\n        text-align: right;\n    }\n</style>\n<table border=\"1\" class=\"dataframe\">\n  <thead>\n    <tr style=\"text-align: right;\">\n      <th></th>\n      <th>Rank</th>\n      <th>Title</th>\n      <th>Genre</th>\n      <th>Description</th>\n      <th>Director</th>\n      <th>Actors</th>\n      <th>Year</th>\n      <th>Runtime (Minutes)</th>\n      <th>Rating</th>\n      <th>Votes</th>\n      <th>Revenue (Millions)</th>\n      <th>Metascore</th>\n    </tr>\n  </thead>\n  <tbody>\n    <tr>\n      <th>0</th>\n      <td>1</td>\n      <td>Guardians of the Galaxy</td>\n      <td>Action,Adventure,Sci-Fi</td>\n      <td>A group of intergalactic criminals are forced ...</td>\n      <td>James Gunn</td>\n      <td>Chris Pratt, Vin Diesel, Bradley Cooper, Zoe S...</td>\n      <td>2014</td>\n      <td>121</td>\n      <td>8.1</td>\n      <td>757074</td>\n      <td>333.13</td>\n      <td>76.0</td>\n    </tr>\n    <tr>\n      <th>1</th>\n      <td>2</td>\n      <td>Prometheus</td>\n      <td>Adventure,Mystery,Sci-Fi</td>\n      <td>Following clues to the origin of mankind, a te...</td>\n      <td>Ridley Scott</td>\n      <td>Noomi Rapace, Logan Marshall-Green, Michael Fa...</td>\n      <td>2012</td>\n      <td>124</td>\n      <td>7.0</td>\n      <td>485820</td>\n      <td>126.46</td>\n      <td>65.0</td>\n    </tr>\n    <tr>\n      <th>2</th>\n      <td>3</td>\n      <td>Split</td>\n      <td>Horror,Thriller</td>\n      <td>Three girls are kidnapped by a man with a diag...</td>\n      <td>M. Night Shyamalan</td>\n      <td>James McAvoy, Anya Taylor-Joy, Haley Lu Richar...</td>\n      <td>2016</td>\n      <td>117</td>\n      <td>7.3</td>\n      <td>157606</td>\n      <td>138.12</td>\n      <td>62.0</td>\n    </tr>\n    <tr>\n      <th>3</th>\n      <td>4</td>\n      <td>Sing</td>\n      <td>Animation,Comedy,Family</td>\n      <td>In a city of humanoid animals, a hustling thea...</td>\n      <td>Christophe Lourdelet</td>\n      <td>Matthew McConaughey,Reese Witherspoon, Seth Ma...</td>\n      <td>2016</td>\n      <td>108</td>\n      <td>7.2</td>\n      <td>60545</td>\n      <td>270.32</td>\n      <td>59.0</td>\n    </tr>\n    <tr>\n      <th>4</th>\n      <td>5</td>\n      <td>Suicide Squad</td>\n      <td>Action,Adventure,Fantasy</td>\n      <td>A secret government agency recruits some of th...</td>\n      <td>David Ayer</td>\n      <td>Will Smith, Jared Leto, Margot Robbie, Viola D...</td>\n      <td>2016</td>\n      <td>123</td>\n      <td>6.2</td>\n      <td>393727</td>\n      <td>325.02</td>\n      <td>40.0</td>\n    </tr>\n  </tbody>\n</table>\n</div>"
     },
     "execution_count": 124,
     "metadata": {},
     "output_type": "execute_result"
    }
   ],
   "source": [
    "movie['Revenue (Millions)'].fillna(movie['Revenue (Millions)'], inplace=True)\n",
    "movie.head()"
   ],
   "metadata": {
    "collapsed": false,
    "ExecuteTime": {
     "end_time": "2023-09-02T12:40:44.100756100Z",
     "start_time": "2023-09-02T12:40:43.133397100Z"
    }
   },
   "id": "ae744cc322700158"
  },
  {
   "cell_type": "code",
   "execution_count": 125,
   "outputs": [
    {
     "name": "stdout",
     "output_type": "stream",
     "text": [
      "Revenue (Millions)\n",
      "Metascore\n"
     ]
    }
   ],
   "source": [
    "for i in movie.columns:\n",
    "    if np.any(pd.isnull(movie[i])) == True:\n",
    "        print(i)\n",
    "        movie[i].fillna(movie[i].mean(), inplace=True)"
   ],
   "metadata": {
    "collapsed": false,
    "ExecuteTime": {
     "end_time": "2023-09-02T12:40:44.102262700Z",
     "start_time": "2023-09-02T12:40:43.146895500Z"
    }
   },
   "id": "3ce949b683f6edce"
  },
  {
   "cell_type": "code",
   "execution_count": 126,
   "outputs": [
    {
     "data": {
      "text/plain": "False"
     },
     "execution_count": 126,
     "metadata": {},
     "output_type": "execute_result"
    }
   ],
   "source": [
    "np.any(pd.isnull(movie))"
   ],
   "metadata": {
    "collapsed": false,
    "ExecuteTime": {
     "end_time": "2023-09-02T12:40:44.115247200Z",
     "start_time": "2023-09-02T12:40:43.163930700Z"
    }
   },
   "id": "33da6a9c54de6910"
  },
  {
   "cell_type": "code",
   "execution_count": 127,
   "outputs": [
    {
     "data": {
      "text/plain": "   1000025  5   1  1.1  1.2  2 1.3  3  1.4  1.5  2.1\n0  1002945  5   4    4    5  7  10  3    2    1    2\n1  1015425  3   1    1    1  2   2  3    1    1    2\n2  1016277  6   8    8    1  3   4  3    7    1    2\n3  1017023  4   1    1    3  2   1  3    1    1    2\n4  1017122  8  10   10    8  7  10  9    7    1    4",
      "text/html": "<div>\n<style scoped>\n    .dataframe tbody tr th:only-of-type {\n        vertical-align: middle;\n    }\n\n    .dataframe tbody tr th {\n        vertical-align: top;\n    }\n\n    .dataframe thead th {\n        text-align: right;\n    }\n</style>\n<table border=\"1\" class=\"dataframe\">\n  <thead>\n    <tr style=\"text-align: right;\">\n      <th></th>\n      <th>1000025</th>\n      <th>5</th>\n      <th>1</th>\n      <th>1.1</th>\n      <th>1.2</th>\n      <th>2</th>\n      <th>1.3</th>\n      <th>3</th>\n      <th>1.4</th>\n      <th>1.5</th>\n      <th>2.1</th>\n    </tr>\n  </thead>\n  <tbody>\n    <tr>\n      <th>0</th>\n      <td>1002945</td>\n      <td>5</td>\n      <td>4</td>\n      <td>4</td>\n      <td>5</td>\n      <td>7</td>\n      <td>10</td>\n      <td>3</td>\n      <td>2</td>\n      <td>1</td>\n      <td>2</td>\n    </tr>\n    <tr>\n      <th>1</th>\n      <td>1015425</td>\n      <td>3</td>\n      <td>1</td>\n      <td>1</td>\n      <td>1</td>\n      <td>2</td>\n      <td>2</td>\n      <td>3</td>\n      <td>1</td>\n      <td>1</td>\n      <td>2</td>\n    </tr>\n    <tr>\n      <th>2</th>\n      <td>1016277</td>\n      <td>6</td>\n      <td>8</td>\n      <td>8</td>\n      <td>1</td>\n      <td>3</td>\n      <td>4</td>\n      <td>3</td>\n      <td>7</td>\n      <td>1</td>\n      <td>2</td>\n    </tr>\n    <tr>\n      <th>3</th>\n      <td>1017023</td>\n      <td>4</td>\n      <td>1</td>\n      <td>1</td>\n      <td>3</td>\n      <td>2</td>\n      <td>1</td>\n      <td>3</td>\n      <td>1</td>\n      <td>1</td>\n      <td>2</td>\n    </tr>\n    <tr>\n      <th>4</th>\n      <td>1017122</td>\n      <td>8</td>\n      <td>10</td>\n      <td>10</td>\n      <td>8</td>\n      <td>7</td>\n      <td>10</td>\n      <td>9</td>\n      <td>7</td>\n      <td>1</td>\n      <td>4</td>\n    </tr>\n  </tbody>\n</table>\n</div>"
     },
     "execution_count": 127,
     "metadata": {},
     "output_type": "execute_result"
    }
   ],
   "source": [
    "wis=pd.read_csv('https://archive.ics.uci.edu/ml/machine-learning-databases/breast-cancer-wisconsin/breast-cancer-wisconsin.data')\n",
    "wis.head()"
   ],
   "metadata": {
    "collapsed": false,
    "ExecuteTime": {
     "end_time": "2023-09-02T12:40:45.043115900Z",
     "start_time": "2023-09-02T12:40:43.181478500Z"
    }
   },
   "id": "d12075ae180a5e0f"
  },
  {
   "cell_type": "code",
   "execution_count": 128,
   "outputs": [
    {
     "data": {
      "text/plain": "   1000025  5   1  1.1  1.2  2 1.3  3  1.4  1.5  2.1\n0  1002945  5   4    4    5  7  10  3    2    1    2\n1  1015425  3   1    1    1  2   2  3    1    1    2\n2  1016277  6   8    8    1  3   4  3    7    1    2\n3  1017023  4   1    1    3  2   1  3    1    1    2\n4  1017122  8  10   10    8  7  10  9    7    1    4",
      "text/html": "<div>\n<style scoped>\n    .dataframe tbody tr th:only-of-type {\n        vertical-align: middle;\n    }\n\n    .dataframe tbody tr th {\n        vertical-align: top;\n    }\n\n    .dataframe thead th {\n        text-align: right;\n    }\n</style>\n<table border=\"1\" class=\"dataframe\">\n  <thead>\n    <tr style=\"text-align: right;\">\n      <th></th>\n      <th>1000025</th>\n      <th>5</th>\n      <th>1</th>\n      <th>1.1</th>\n      <th>1.2</th>\n      <th>2</th>\n      <th>1.3</th>\n      <th>3</th>\n      <th>1.4</th>\n      <th>1.5</th>\n      <th>2.1</th>\n    </tr>\n  </thead>\n  <tbody>\n    <tr>\n      <th>0</th>\n      <td>1002945</td>\n      <td>5</td>\n      <td>4</td>\n      <td>4</td>\n      <td>5</td>\n      <td>7</td>\n      <td>10</td>\n      <td>3</td>\n      <td>2</td>\n      <td>1</td>\n      <td>2</td>\n    </tr>\n    <tr>\n      <th>1</th>\n      <td>1015425</td>\n      <td>3</td>\n      <td>1</td>\n      <td>1</td>\n      <td>1</td>\n      <td>2</td>\n      <td>2</td>\n      <td>3</td>\n      <td>1</td>\n      <td>1</td>\n      <td>2</td>\n    </tr>\n    <tr>\n      <th>2</th>\n      <td>1016277</td>\n      <td>6</td>\n      <td>8</td>\n      <td>8</td>\n      <td>1</td>\n      <td>3</td>\n      <td>4</td>\n      <td>3</td>\n      <td>7</td>\n      <td>1</td>\n      <td>2</td>\n    </tr>\n    <tr>\n      <th>3</th>\n      <td>1017023</td>\n      <td>4</td>\n      <td>1</td>\n      <td>1</td>\n      <td>3</td>\n      <td>2</td>\n      <td>1</td>\n      <td>3</td>\n      <td>1</td>\n      <td>1</td>\n      <td>2</td>\n    </tr>\n    <tr>\n      <th>4</th>\n      <td>1017122</td>\n      <td>8</td>\n      <td>10</td>\n      <td>10</td>\n      <td>8</td>\n      <td>7</td>\n      <td>10</td>\n      <td>9</td>\n      <td>7</td>\n      <td>1</td>\n      <td>4</td>\n    </tr>\n  </tbody>\n</table>\n</div>"
     },
     "execution_count": 128,
     "metadata": {},
     "output_type": "execute_result"
    }
   ],
   "source": [
    "wis=wis.replace(to_replace='?', value=np.nan)\n",
    "wis.head()"
   ],
   "metadata": {
    "collapsed": false,
    "ExecuteTime": {
     "end_time": "2023-09-02T12:40:45.073576500Z",
     "start_time": "2023-09-02T12:40:44.040060200Z"
    }
   },
   "id": "4392d7734af5cc82"
  },
  {
   "cell_type": "code",
   "execution_count": 129,
   "outputs": [
    {
     "data": {
      "text/plain": "True"
     },
     "execution_count": 129,
     "metadata": {},
     "output_type": "execute_result"
    }
   ],
   "source": [
    "np.any(pd.isnull(wis))"
   ],
   "metadata": {
    "collapsed": false,
    "ExecuteTime": {
     "end_time": "2023-09-02T12:40:45.074578100Z",
     "start_time": "2023-09-02T12:40:44.055820Z"
    }
   },
   "id": "f7abcd1bada14521"
  },
  {
   "cell_type": "code",
   "execution_count": 130,
   "outputs": [],
   "source": [
    "wis=wis.dropna()"
   ],
   "metadata": {
    "collapsed": false,
    "ExecuteTime": {
     "end_time": "2023-09-02T12:40:45.097332900Z",
     "start_time": "2023-09-02T12:40:44.071484600Z"
    }
   },
   "id": "2cd0e3c6e6c52b19"
  },
  {
   "cell_type": "code",
   "execution_count": 131,
   "outputs": [
    {
     "data": {
      "text/plain": "False"
     },
     "execution_count": 131,
     "metadata": {},
     "output_type": "execute_result"
    }
   ],
   "source": [
    "np.any(pd.isnull(movie))"
   ],
   "metadata": {
    "collapsed": false,
    "ExecuteTime": {
     "end_time": "2023-09-02T12:40:45.146206400Z",
     "start_time": "2023-09-02T12:40:44.086836100Z"
    }
   },
   "id": "6db2dbf9f13f510a"
  },
  {
   "cell_type": "markdown",
   "source": [
    "#### 7.2 离散化处理"
   ],
   "metadata": {
    "collapsed": false
   },
   "id": "737767b04dd6e454"
  },
  {
   "cell_type": "code",
   "execution_count": 132,
   "outputs": [
    {
     "data": {
      "text/plain": "2018-02-27    2.68\n2018-02-26    3.02\n2018-02-23    2.42\n2018-02-22    1.64\n2018-02-14    2.05\nName: p_change, dtype: float64"
     },
     "execution_count": 132,
     "metadata": {},
     "output_type": "execute_result"
    }
   ],
   "source": [
    "data = pd.read_csv('./data/stock_day.csv')\n",
    "p_change=data['p_change']\n",
    "p_change.head()"
   ],
   "metadata": {
    "collapsed": false,
    "ExecuteTime": {
     "end_time": "2023-09-02T12:40:45.149207100Z",
     "start_time": "2023-09-02T12:40:44.103274700Z"
    }
   },
   "id": "716f3f0f76139634"
  },
  {
   "cell_type": "code",
   "execution_count": 133,
   "outputs": [
    {
     "data": {
      "text/plain": "p_change\n(-10.030999999999999, -4.836]    65\n(-0.462, 0.26]                   65\n(0.26, 0.94]                     65\n(5.27, 10.03]                    65\n(-4.836, -2.444]                 64\n(-2.444, -1.352]                 64\n(-1.352, -0.462]                 64\n(1.738, 2.938]                   64\n(2.938, 5.27]                    64\n(0.94, 1.738]                    63\nName: count, dtype: int64"
     },
     "execution_count": 133,
     "metadata": {},
     "output_type": "execute_result"
    }
   ],
   "source": [
    "# 自动分成差不多的类别\n",
    "qcut=pd.qcut(p_change,10)\n",
    "qcut.value_counts()"
   ],
   "metadata": {
    "collapsed": false,
    "ExecuteTime": {
     "end_time": "2023-09-02T12:40:45.149207100Z",
     "start_time": "2023-09-02T12:40:44.118248100Z"
    }
   },
   "id": "c923daf39bd7cc65"
  },
  {
   "cell_type": "code",
   "execution_count": 134,
   "outputs": [],
   "source": [
    "# 自己指定分组区间\n",
    "bins = [-100, -7, -5, -3, 0, 3, 5, 7, 100]\n",
    "p_counts = pd.cut(p_change, bins)"
   ],
   "metadata": {
    "collapsed": false,
    "ExecuteTime": {
     "end_time": "2023-09-02T12:40:45.149207100Z",
     "start_time": "2023-09-02T12:40:44.136407200Z"
    }
   },
   "id": "6936cf3927a30712"
  },
  {
   "cell_type": "code",
   "execution_count": 135,
   "outputs": [
    {
     "data": {
      "text/plain": "p_change\n(0, 3]        215\n(-3, 0]       188\n(3, 5]         57\n(-5, -3]       51\n(5, 7]         35\n(7, 100]       35\n(-100, -7]     34\n(-7, -5]       28\nName: count, dtype: int64"
     },
     "execution_count": 135,
     "metadata": {},
     "output_type": "execute_result"
    }
   ],
   "source": [
    "p_counts.value_counts()"
   ],
   "metadata": {
    "collapsed": false,
    "ExecuteTime": {
     "end_time": "2023-09-02T12:40:45.149207100Z",
     "start_time": "2023-09-02T12:40:44.149510300Z"
    }
   },
   "id": "2c35620649fbed8"
  },
  {
   "cell_type": "code",
   "execution_count": 136,
   "outputs": [
    {
     "data": {
      "text/plain": "            rise_(-100, -7]  rise_(-7, -5]  rise_(-5, -3]  rise_(-3, 0]  \\\n2018-02-27            False          False          False         False   \n2018-02-26            False          False          False         False   \n2018-02-23            False          False          False         False   \n2018-02-22            False          False          False         False   \n2018-02-14            False          False          False         False   \n\n            rise_(0, 3]  rise_(3, 5]  rise_(5, 7]  rise_(7, 100]  \n2018-02-27         True        False        False          False  \n2018-02-26        False         True        False          False  \n2018-02-23         True        False        False          False  \n2018-02-22         True        False        False          False  \n2018-02-14         True        False        False          False  ",
      "text/html": "<div>\n<style scoped>\n    .dataframe tbody tr th:only-of-type {\n        vertical-align: middle;\n    }\n\n    .dataframe tbody tr th {\n        vertical-align: top;\n    }\n\n    .dataframe thead th {\n        text-align: right;\n    }\n</style>\n<table border=\"1\" class=\"dataframe\">\n  <thead>\n    <tr style=\"text-align: right;\">\n      <th></th>\n      <th>rise_(-100, -7]</th>\n      <th>rise_(-7, -5]</th>\n      <th>rise_(-5, -3]</th>\n      <th>rise_(-3, 0]</th>\n      <th>rise_(0, 3]</th>\n      <th>rise_(3, 5]</th>\n      <th>rise_(5, 7]</th>\n      <th>rise_(7, 100]</th>\n    </tr>\n  </thead>\n  <tbody>\n    <tr>\n      <th>2018-02-27</th>\n      <td>False</td>\n      <td>False</td>\n      <td>False</td>\n      <td>False</td>\n      <td>True</td>\n      <td>False</td>\n      <td>False</td>\n      <td>False</td>\n    </tr>\n    <tr>\n      <th>2018-02-26</th>\n      <td>False</td>\n      <td>False</td>\n      <td>False</td>\n      <td>False</td>\n      <td>False</td>\n      <td>True</td>\n      <td>False</td>\n      <td>False</td>\n    </tr>\n    <tr>\n      <th>2018-02-23</th>\n      <td>False</td>\n      <td>False</td>\n      <td>False</td>\n      <td>False</td>\n      <td>True</td>\n      <td>False</td>\n      <td>False</td>\n      <td>False</td>\n    </tr>\n    <tr>\n      <th>2018-02-22</th>\n      <td>False</td>\n      <td>False</td>\n      <td>False</td>\n      <td>False</td>\n      <td>True</td>\n      <td>False</td>\n      <td>False</td>\n      <td>False</td>\n    </tr>\n    <tr>\n      <th>2018-02-14</th>\n      <td>False</td>\n      <td>False</td>\n      <td>False</td>\n      <td>False</td>\n      <td>True</td>\n      <td>False</td>\n      <td>False</td>\n      <td>False</td>\n    </tr>\n  </tbody>\n</table>\n</div>"
     },
     "execution_count": 136,
     "metadata": {},
     "output_type": "execute_result"
    }
   ],
   "source": [
    "dummies=pd.get_dummies(p_counts, prefix='rise')\n",
    "dummies.head()"
   ],
   "metadata": {
    "collapsed": false,
    "ExecuteTime": {
     "end_time": "2023-09-02T12:40:45.150207400Z",
     "start_time": "2023-09-02T12:40:44.165432900Z"
    }
   },
   "id": "1552dc870fd0846c"
  },
  {
   "cell_type": "markdown",
   "source": [
    "#### 7.3 合并"
   ],
   "metadata": {
    "collapsed": false
   },
   "id": "704f554f730f0dba"
  },
  {
   "cell_type": "code",
   "execution_count": 137,
   "outputs": [
    {
     "data": {
      "text/plain": "             open   high  close    low     volume  price_change  p_change  \\\n2018-02-27  23.53  25.88  24.16  23.53   95578.03          0.63      2.68   \n2018-02-26  22.80  23.78  23.53  22.80   60985.11          0.69      3.02   \n2018-02-23  22.88  23.37  22.82  22.71   52914.01          0.54      2.42   \n2018-02-22  22.25  22.76  22.28  22.02   36105.01          0.36      1.64   \n2018-02-14  21.49  21.99  21.92  21.48   23331.04          0.44      2.05   \n...           ...    ...    ...    ...        ...           ...       ...   \n2015-03-06  13.17  14.48  14.28  13.13  179831.72          1.12      8.51   \n2015-03-05  12.88  13.45  13.16  12.87   93180.39          0.26      2.02   \n2015-03-04  12.80  12.92  12.90  12.61   67075.44          0.20      1.57   \n2015-03-03  12.52  13.06  12.70  12.52  139071.61          0.18      1.44   \n2015-03-02  12.25  12.67  12.52  12.20   96291.73          0.32      2.62   \n\n               ma5    ma10    ma20  ...     v_ma20  turnover  rise_(-100, -7]  \\\n2018-02-27  22.942  22.142  22.875  ...   55576.11      2.39            False   \n2018-02-26  22.406  21.955  22.942  ...   56007.50      1.53            False   \n2018-02-23  21.938  21.929  23.022  ...   56372.85      1.32            False   \n2018-02-22  21.446  21.909  23.137  ...   60149.60      0.90            False   \n2018-02-14  21.366  21.923  23.253  ...   61716.11      0.58            False   \n...            ...     ...     ...  ...        ...       ...              ...   \n2015-03-06  13.112  13.112  13.112  ...  115090.18      6.16            False   \n2015-03-05  12.820  12.820  12.820  ...   98904.79      3.19            False   \n2015-03-04  12.707  12.707  12.707  ...  100812.93      2.30            False   \n2015-03-03  12.610  12.610  12.610  ...  117681.67      4.76            False   \n2015-03-02  12.520  12.520  12.520  ...   96291.73      3.30            False   \n\n            rise_(-7, -5]  rise_(-5, -3]  rise_(-3, 0]  rise_(0, 3]  \\\n2018-02-27          False          False         False         True   \n2018-02-26          False          False         False        False   \n2018-02-23          False          False         False         True   \n2018-02-22          False          False         False         True   \n2018-02-14          False          False         False         True   \n...                   ...            ...           ...          ...   \n2015-03-06          False          False         False        False   \n2015-03-05          False          False         False         True   \n2015-03-04          False          False         False         True   \n2015-03-03          False          False         False         True   \n2015-03-02          False          False         False         True   \n\n            rise_(3, 5]  rise_(5, 7]  rise_(7, 100]  \n2018-02-27        False        False          False  \n2018-02-26         True        False          False  \n2018-02-23        False        False          False  \n2018-02-22        False        False          False  \n2018-02-14        False        False          False  \n...                 ...          ...            ...  \n2015-03-06        False        False           True  \n2015-03-05        False        False          False  \n2015-03-04        False        False          False  \n2015-03-03        False        False          False  \n2015-03-02        False        False          False  \n\n[643 rows x 22 columns]",
      "text/html": "<div>\n<style scoped>\n    .dataframe tbody tr th:only-of-type {\n        vertical-align: middle;\n    }\n\n    .dataframe tbody tr th {\n        vertical-align: top;\n    }\n\n    .dataframe thead th {\n        text-align: right;\n    }\n</style>\n<table border=\"1\" class=\"dataframe\">\n  <thead>\n    <tr style=\"text-align: right;\">\n      <th></th>\n      <th>open</th>\n      <th>high</th>\n      <th>close</th>\n      <th>low</th>\n      <th>volume</th>\n      <th>price_change</th>\n      <th>p_change</th>\n      <th>ma5</th>\n      <th>ma10</th>\n      <th>ma20</th>\n      <th>...</th>\n      <th>v_ma20</th>\n      <th>turnover</th>\n      <th>rise_(-100, -7]</th>\n      <th>rise_(-7, -5]</th>\n      <th>rise_(-5, -3]</th>\n      <th>rise_(-3, 0]</th>\n      <th>rise_(0, 3]</th>\n      <th>rise_(3, 5]</th>\n      <th>rise_(5, 7]</th>\n      <th>rise_(7, 100]</th>\n    </tr>\n  </thead>\n  <tbody>\n    <tr>\n      <th>2018-02-27</th>\n      <td>23.53</td>\n      <td>25.88</td>\n      <td>24.16</td>\n      <td>23.53</td>\n      <td>95578.03</td>\n      <td>0.63</td>\n      <td>2.68</td>\n      <td>22.942</td>\n      <td>22.142</td>\n      <td>22.875</td>\n      <td>...</td>\n      <td>55576.11</td>\n      <td>2.39</td>\n      <td>False</td>\n      <td>False</td>\n      <td>False</td>\n      <td>False</td>\n      <td>True</td>\n      <td>False</td>\n      <td>False</td>\n      <td>False</td>\n    </tr>\n    <tr>\n      <th>2018-02-26</th>\n      <td>22.80</td>\n      <td>23.78</td>\n      <td>23.53</td>\n      <td>22.80</td>\n      <td>60985.11</td>\n      <td>0.69</td>\n      <td>3.02</td>\n      <td>22.406</td>\n      <td>21.955</td>\n      <td>22.942</td>\n      <td>...</td>\n      <td>56007.50</td>\n      <td>1.53</td>\n      <td>False</td>\n      <td>False</td>\n      <td>False</td>\n      <td>False</td>\n      <td>False</td>\n      <td>True</td>\n      <td>False</td>\n      <td>False</td>\n    </tr>\n    <tr>\n      <th>2018-02-23</th>\n      <td>22.88</td>\n      <td>23.37</td>\n      <td>22.82</td>\n      <td>22.71</td>\n      <td>52914.01</td>\n      <td>0.54</td>\n      <td>2.42</td>\n      <td>21.938</td>\n      <td>21.929</td>\n      <td>23.022</td>\n      <td>...</td>\n      <td>56372.85</td>\n      <td>1.32</td>\n      <td>False</td>\n      <td>False</td>\n      <td>False</td>\n      <td>False</td>\n      <td>True</td>\n      <td>False</td>\n      <td>False</td>\n      <td>False</td>\n    </tr>\n    <tr>\n      <th>2018-02-22</th>\n      <td>22.25</td>\n      <td>22.76</td>\n      <td>22.28</td>\n      <td>22.02</td>\n      <td>36105.01</td>\n      <td>0.36</td>\n      <td>1.64</td>\n      <td>21.446</td>\n      <td>21.909</td>\n      <td>23.137</td>\n      <td>...</td>\n      <td>60149.60</td>\n      <td>0.90</td>\n      <td>False</td>\n      <td>False</td>\n      <td>False</td>\n      <td>False</td>\n      <td>True</td>\n      <td>False</td>\n      <td>False</td>\n      <td>False</td>\n    </tr>\n    <tr>\n      <th>2018-02-14</th>\n      <td>21.49</td>\n      <td>21.99</td>\n      <td>21.92</td>\n      <td>21.48</td>\n      <td>23331.04</td>\n      <td>0.44</td>\n      <td>2.05</td>\n      <td>21.366</td>\n      <td>21.923</td>\n      <td>23.253</td>\n      <td>...</td>\n      <td>61716.11</td>\n      <td>0.58</td>\n      <td>False</td>\n      <td>False</td>\n      <td>False</td>\n      <td>False</td>\n      <td>True</td>\n      <td>False</td>\n      <td>False</td>\n      <td>False</td>\n    </tr>\n    <tr>\n      <th>...</th>\n      <td>...</td>\n      <td>...</td>\n      <td>...</td>\n      <td>...</td>\n      <td>...</td>\n      <td>...</td>\n      <td>...</td>\n      <td>...</td>\n      <td>...</td>\n      <td>...</td>\n      <td>...</td>\n      <td>...</td>\n      <td>...</td>\n      <td>...</td>\n      <td>...</td>\n      <td>...</td>\n      <td>...</td>\n      <td>...</td>\n      <td>...</td>\n      <td>...</td>\n      <td>...</td>\n    </tr>\n    <tr>\n      <th>2015-03-06</th>\n      <td>13.17</td>\n      <td>14.48</td>\n      <td>14.28</td>\n      <td>13.13</td>\n      <td>179831.72</td>\n      <td>1.12</td>\n      <td>8.51</td>\n      <td>13.112</td>\n      <td>13.112</td>\n      <td>13.112</td>\n      <td>...</td>\n      <td>115090.18</td>\n      <td>6.16</td>\n      <td>False</td>\n      <td>False</td>\n      <td>False</td>\n      <td>False</td>\n      <td>False</td>\n      <td>False</td>\n      <td>False</td>\n      <td>True</td>\n    </tr>\n    <tr>\n      <th>2015-03-05</th>\n      <td>12.88</td>\n      <td>13.45</td>\n      <td>13.16</td>\n      <td>12.87</td>\n      <td>93180.39</td>\n      <td>0.26</td>\n      <td>2.02</td>\n      <td>12.820</td>\n      <td>12.820</td>\n      <td>12.820</td>\n      <td>...</td>\n      <td>98904.79</td>\n      <td>3.19</td>\n      <td>False</td>\n      <td>False</td>\n      <td>False</td>\n      <td>False</td>\n      <td>True</td>\n      <td>False</td>\n      <td>False</td>\n      <td>False</td>\n    </tr>\n    <tr>\n      <th>2015-03-04</th>\n      <td>12.80</td>\n      <td>12.92</td>\n      <td>12.90</td>\n      <td>12.61</td>\n      <td>67075.44</td>\n      <td>0.20</td>\n      <td>1.57</td>\n      <td>12.707</td>\n      <td>12.707</td>\n      <td>12.707</td>\n      <td>...</td>\n      <td>100812.93</td>\n      <td>2.30</td>\n      <td>False</td>\n      <td>False</td>\n      <td>False</td>\n      <td>False</td>\n      <td>True</td>\n      <td>False</td>\n      <td>False</td>\n      <td>False</td>\n    </tr>\n    <tr>\n      <th>2015-03-03</th>\n      <td>12.52</td>\n      <td>13.06</td>\n      <td>12.70</td>\n      <td>12.52</td>\n      <td>139071.61</td>\n      <td>0.18</td>\n      <td>1.44</td>\n      <td>12.610</td>\n      <td>12.610</td>\n      <td>12.610</td>\n      <td>...</td>\n      <td>117681.67</td>\n      <td>4.76</td>\n      <td>False</td>\n      <td>False</td>\n      <td>False</td>\n      <td>False</td>\n      <td>True</td>\n      <td>False</td>\n      <td>False</td>\n      <td>False</td>\n    </tr>\n    <tr>\n      <th>2015-03-02</th>\n      <td>12.25</td>\n      <td>12.67</td>\n      <td>12.52</td>\n      <td>12.20</td>\n      <td>96291.73</td>\n      <td>0.32</td>\n      <td>2.62</td>\n      <td>12.520</td>\n      <td>12.520</td>\n      <td>12.520</td>\n      <td>...</td>\n      <td>96291.73</td>\n      <td>3.30</td>\n      <td>False</td>\n      <td>False</td>\n      <td>False</td>\n      <td>False</td>\n      <td>True</td>\n      <td>False</td>\n      <td>False</td>\n      <td>False</td>\n    </tr>\n  </tbody>\n</table>\n<p>643 rows × 22 columns</p>\n</div>"
     },
     "execution_count": 137,
     "metadata": {},
     "output_type": "execute_result"
    }
   ],
   "source": [
    "pd.concat([data,dummies], axis=1)"
   ],
   "metadata": {
    "collapsed": false,
    "ExecuteTime": {
     "end_time": "2023-09-02T12:40:45.151207900Z",
     "start_time": "2023-09-02T12:40:44.180787100Z"
    }
   },
   "id": "53dff2d37f7ce64c"
  },
  {
   "cell_type": "code",
   "execution_count": 138,
   "outputs": [],
   "source": [
    "left = pd.DataFrame({'key1': ['K0', 'K0', 'K1', 'K2'],\n",
    "                     'key2': ['K0', 'K1', 'K0', 'K1'],\n",
    "                     'A': ['A0', 'A1', 'A2', 'A3'],\n",
    "                     'B': ['B0', 'B1', 'B2', 'B3']})\n",
    "right = pd.DataFrame({'key1': ['K0', 'K1', 'K1', 'K2'],\n",
    "                      'key2': ['K0', 'K0', 'K0', 'K0'],\n",
    "                      'C': ['C0', 'C1', 'C2', 'C3'],\n",
    "                      'D': ['D0', 'D1', 'D2', 'D3']})"
   ],
   "metadata": {
    "collapsed": false,
    "ExecuteTime": {
     "end_time": "2023-09-02T12:40:45.160714700Z",
     "start_time": "2023-09-02T12:40:44.198812100Z"
    }
   },
   "id": "a0501adf0c3bb8e4"
  },
  {
   "cell_type": "code",
   "execution_count": 139,
   "outputs": [
    {
     "data": {
      "text/plain": "  key1 key2   A   B   C   D\n0   K0   K0  A0  B0  C0  D0\n1   K1   K0  A2  B2  C1  D1\n2   K1   K0  A2  B2  C2  D2",
      "text/html": "<div>\n<style scoped>\n    .dataframe tbody tr th:only-of-type {\n        vertical-align: middle;\n    }\n\n    .dataframe tbody tr th {\n        vertical-align: top;\n    }\n\n    .dataframe thead th {\n        text-align: right;\n    }\n</style>\n<table border=\"1\" class=\"dataframe\">\n  <thead>\n    <tr style=\"text-align: right;\">\n      <th></th>\n      <th>key1</th>\n      <th>key2</th>\n      <th>A</th>\n      <th>B</th>\n      <th>C</th>\n      <th>D</th>\n    </tr>\n  </thead>\n  <tbody>\n    <tr>\n      <th>0</th>\n      <td>K0</td>\n      <td>K0</td>\n      <td>A0</td>\n      <td>B0</td>\n      <td>C0</td>\n      <td>D0</td>\n    </tr>\n    <tr>\n      <th>1</th>\n      <td>K1</td>\n      <td>K0</td>\n      <td>A2</td>\n      <td>B2</td>\n      <td>C1</td>\n      <td>D1</td>\n    </tr>\n    <tr>\n      <th>2</th>\n      <td>K1</td>\n      <td>K0</td>\n      <td>A2</td>\n      <td>B2</td>\n      <td>C2</td>\n      <td>D2</td>\n    </tr>\n  </tbody>\n</table>\n</div>"
     },
     "execution_count": 139,
     "metadata": {},
     "output_type": "execute_result"
    }
   ],
   "source": [
    "pd.merge(left,right,on=['key1','key2'])"
   ],
   "metadata": {
    "collapsed": false,
    "ExecuteTime": {
     "end_time": "2023-09-02T12:40:45.160714700Z",
     "start_time": "2023-09-02T12:40:44.213352600Z"
    }
   },
   "id": "f2065c9077e383fc"
  },
  {
   "cell_type": "code",
   "execution_count": 140,
   "outputs": [
    {
     "data": {
      "text/plain": "  key1 key2   A   B   C   D\n0   K0   K0  A0  B0  C0  D0\n1   K1   K0  A2  B2  C1  D1\n2   K1   K0  A2  B2  C2  D2",
      "text/html": "<div>\n<style scoped>\n    .dataframe tbody tr th:only-of-type {\n        vertical-align: middle;\n    }\n\n    .dataframe tbody tr th {\n        vertical-align: top;\n    }\n\n    .dataframe thead th {\n        text-align: right;\n    }\n</style>\n<table border=\"1\" class=\"dataframe\">\n  <thead>\n    <tr style=\"text-align: right;\">\n      <th></th>\n      <th>key1</th>\n      <th>key2</th>\n      <th>A</th>\n      <th>B</th>\n      <th>C</th>\n      <th>D</th>\n    </tr>\n  </thead>\n  <tbody>\n    <tr>\n      <th>0</th>\n      <td>K0</td>\n      <td>K0</td>\n      <td>A0</td>\n      <td>B0</td>\n      <td>C0</td>\n      <td>D0</td>\n    </tr>\n    <tr>\n      <th>1</th>\n      <td>K1</td>\n      <td>K0</td>\n      <td>A2</td>\n      <td>B2</td>\n      <td>C1</td>\n      <td>D1</td>\n    </tr>\n    <tr>\n      <th>2</th>\n      <td>K1</td>\n      <td>K0</td>\n      <td>A2</td>\n      <td>B2</td>\n      <td>C2</td>\n      <td>D2</td>\n    </tr>\n  </tbody>\n</table>\n</div>"
     },
     "execution_count": 140,
     "metadata": {},
     "output_type": "execute_result"
    }
   ],
   "source": [
    "pd.merge(left,right,on=['key1','key2'], how='inner')"
   ],
   "metadata": {
    "collapsed": false,
    "ExecuteTime": {
     "end_time": "2023-09-02T12:40:45.160714700Z",
     "start_time": "2023-09-02T12:40:44.227993500Z"
    }
   },
   "id": "9eaa3a57ba5d4ebf"
  },
  {
   "cell_type": "code",
   "execution_count": 141,
   "outputs": [
    {
     "data": {
      "text/plain": "  key1 key2   A   B    C    D\n0   K0   K0  A0  B0   C0   D0\n1   K0   K1  A1  B1  NaN  NaN\n2   K1   K0  A2  B2   C1   D1\n3   K1   K0  A2  B2   C2   D2\n4   K2   K1  A3  B3  NaN  NaN",
      "text/html": "<div>\n<style scoped>\n    .dataframe tbody tr th:only-of-type {\n        vertical-align: middle;\n    }\n\n    .dataframe tbody tr th {\n        vertical-align: top;\n    }\n\n    .dataframe thead th {\n        text-align: right;\n    }\n</style>\n<table border=\"1\" class=\"dataframe\">\n  <thead>\n    <tr style=\"text-align: right;\">\n      <th></th>\n      <th>key1</th>\n      <th>key2</th>\n      <th>A</th>\n      <th>B</th>\n      <th>C</th>\n      <th>D</th>\n    </tr>\n  </thead>\n  <tbody>\n    <tr>\n      <th>0</th>\n      <td>K0</td>\n      <td>K0</td>\n      <td>A0</td>\n      <td>B0</td>\n      <td>C0</td>\n      <td>D0</td>\n    </tr>\n    <tr>\n      <th>1</th>\n      <td>K0</td>\n      <td>K1</td>\n      <td>A1</td>\n      <td>B1</td>\n      <td>NaN</td>\n      <td>NaN</td>\n    </tr>\n    <tr>\n      <th>2</th>\n      <td>K1</td>\n      <td>K0</td>\n      <td>A2</td>\n      <td>B2</td>\n      <td>C1</td>\n      <td>D1</td>\n    </tr>\n    <tr>\n      <th>3</th>\n      <td>K1</td>\n      <td>K0</td>\n      <td>A2</td>\n      <td>B2</td>\n      <td>C2</td>\n      <td>D2</td>\n    </tr>\n    <tr>\n      <th>4</th>\n      <td>K2</td>\n      <td>K1</td>\n      <td>A3</td>\n      <td>B3</td>\n      <td>NaN</td>\n      <td>NaN</td>\n    </tr>\n  </tbody>\n</table>\n</div>"
     },
     "execution_count": 141,
     "metadata": {},
     "output_type": "execute_result"
    }
   ],
   "source": [
    "pd.merge(left,right,on=['key1','key2'], how='left')"
   ],
   "metadata": {
    "collapsed": false,
    "ExecuteTime": {
     "end_time": "2023-09-02T12:40:45.162221300Z",
     "start_time": "2023-09-02T12:40:44.244483700Z"
    }
   },
   "id": "c219f0a0a1737739"
  },
  {
   "cell_type": "code",
   "execution_count": 142,
   "outputs": [
    {
     "data": {
      "text/plain": "  key1 key2    A    B   C   D\n0   K0   K0   A0   B0  C0  D0\n1   K1   K0   A2   B2  C1  D1\n2   K1   K0   A2   B2  C2  D2\n3   K2   K0  NaN  NaN  C3  D3",
      "text/html": "<div>\n<style scoped>\n    .dataframe tbody tr th:only-of-type {\n        vertical-align: middle;\n    }\n\n    .dataframe tbody tr th {\n        vertical-align: top;\n    }\n\n    .dataframe thead th {\n        text-align: right;\n    }\n</style>\n<table border=\"1\" class=\"dataframe\">\n  <thead>\n    <tr style=\"text-align: right;\">\n      <th></th>\n      <th>key1</th>\n      <th>key2</th>\n      <th>A</th>\n      <th>B</th>\n      <th>C</th>\n      <th>D</th>\n    </tr>\n  </thead>\n  <tbody>\n    <tr>\n      <th>0</th>\n      <td>K0</td>\n      <td>K0</td>\n      <td>A0</td>\n      <td>B0</td>\n      <td>C0</td>\n      <td>D0</td>\n    </tr>\n    <tr>\n      <th>1</th>\n      <td>K1</td>\n      <td>K0</td>\n      <td>A2</td>\n      <td>B2</td>\n      <td>C1</td>\n      <td>D1</td>\n    </tr>\n    <tr>\n      <th>2</th>\n      <td>K1</td>\n      <td>K0</td>\n      <td>A2</td>\n      <td>B2</td>\n      <td>C2</td>\n      <td>D2</td>\n    </tr>\n    <tr>\n      <th>3</th>\n      <td>K2</td>\n      <td>K0</td>\n      <td>NaN</td>\n      <td>NaN</td>\n      <td>C3</td>\n      <td>D3</td>\n    </tr>\n  </tbody>\n</table>\n</div>"
     },
     "execution_count": 142,
     "metadata": {},
     "output_type": "execute_result"
    }
   ],
   "source": [
    "pd.merge(left,right,on=['key1','key2'], how='right')"
   ],
   "metadata": {
    "collapsed": false,
    "ExecuteTime": {
     "end_time": "2023-09-02T12:40:45.162221300Z",
     "start_time": "2023-09-02T12:40:44.260266900Z"
    }
   },
   "id": "9ae4041cfdde0c8d"
  },
  {
   "cell_type": "code",
   "execution_count": 143,
   "outputs": [
    {
     "data": {
      "text/plain": "  key1 key2    A    B    C    D\n0   K0   K0   A0   B0   C0   D0\n1   K0   K1   A1   B1  NaN  NaN\n2   K1   K0   A2   B2   C1   D1\n3   K1   K0   A2   B2   C2   D2\n4   K2   K1   A3   B3  NaN  NaN\n5   K2   K0  NaN  NaN   C3   D3",
      "text/html": "<div>\n<style scoped>\n    .dataframe tbody tr th:only-of-type {\n        vertical-align: middle;\n    }\n\n    .dataframe tbody tr th {\n        vertical-align: top;\n    }\n\n    .dataframe thead th {\n        text-align: right;\n    }\n</style>\n<table border=\"1\" class=\"dataframe\">\n  <thead>\n    <tr style=\"text-align: right;\">\n      <th></th>\n      <th>key1</th>\n      <th>key2</th>\n      <th>A</th>\n      <th>B</th>\n      <th>C</th>\n      <th>D</th>\n    </tr>\n  </thead>\n  <tbody>\n    <tr>\n      <th>0</th>\n      <td>K0</td>\n      <td>K0</td>\n      <td>A0</td>\n      <td>B0</td>\n      <td>C0</td>\n      <td>D0</td>\n    </tr>\n    <tr>\n      <th>1</th>\n      <td>K0</td>\n      <td>K1</td>\n      <td>A1</td>\n      <td>B1</td>\n      <td>NaN</td>\n      <td>NaN</td>\n    </tr>\n    <tr>\n      <th>2</th>\n      <td>K1</td>\n      <td>K0</td>\n      <td>A2</td>\n      <td>B2</td>\n      <td>C1</td>\n      <td>D1</td>\n    </tr>\n    <tr>\n      <th>3</th>\n      <td>K1</td>\n      <td>K0</td>\n      <td>A2</td>\n      <td>B2</td>\n      <td>C2</td>\n      <td>D2</td>\n    </tr>\n    <tr>\n      <th>4</th>\n      <td>K2</td>\n      <td>K1</td>\n      <td>A3</td>\n      <td>B3</td>\n      <td>NaN</td>\n      <td>NaN</td>\n    </tr>\n    <tr>\n      <th>5</th>\n      <td>K2</td>\n      <td>K0</td>\n      <td>NaN</td>\n      <td>NaN</td>\n      <td>C3</td>\n      <td>D3</td>\n    </tr>\n  </tbody>\n</table>\n</div>"
     },
     "execution_count": 143,
     "metadata": {},
     "output_type": "execute_result"
    }
   ],
   "source": [
    "pd.merge(left,right,on=['key1','key2'], how='outer')"
   ],
   "metadata": {
    "collapsed": false,
    "ExecuteTime": {
     "end_time": "2023-09-02T12:40:45.162221300Z",
     "start_time": "2023-09-02T12:40:44.276396800Z"
    }
   },
   "id": "c22c7f12f14f810c"
  },
  {
   "cell_type": "markdown",
   "source": [
    "#### 7.4 交叉表与透视表"
   ],
   "metadata": {
    "collapsed": false
   },
   "id": "e16d1792563cef75"
  },
  {
   "cell_type": "code",
   "execution_count": 144,
   "outputs": [],
   "source": [
    "time=pd.to_datetime(data.index)"
   ],
   "metadata": {
    "collapsed": false,
    "ExecuteTime": {
     "end_time": "2023-09-02T12:40:45.162221300Z",
     "start_time": "2023-09-02T12:40:44.291218500Z"
    }
   },
   "id": "2a3efa182c04168"
  },
  {
   "cell_type": "code",
   "execution_count": 145,
   "outputs": [
    {
     "data": {
      "text/plain": "Index([1, 0, 4, 3, 2, 1, 0, 4, 3, 2,\n       ...\n       4, 3, 2, 1, 0, 4, 3, 2, 1, 0],\n      dtype='int32', length=643)"
     },
     "execution_count": 145,
     "metadata": {},
     "output_type": "execute_result"
    }
   ],
   "source": [
    "time.weekday"
   ],
   "metadata": {
    "collapsed": false,
    "ExecuteTime": {
     "end_time": "2023-09-02T12:40:45.163250300Z",
     "start_time": "2023-09-02T12:40:44.306590600Z"
    }
   },
   "id": "5b9bacbbe956314b"
  },
  {
   "cell_type": "code",
   "execution_count": 146,
   "outputs": [],
   "source": [
    "data['week']=time.weekday"
   ],
   "metadata": {
    "collapsed": false,
    "ExecuteTime": {
     "end_time": "2023-09-02T12:40:45.163250300Z",
     "start_time": "2023-09-02T12:40:44.323438300Z"
    }
   },
   "id": "ddf3ebaf93c27b7f"
  },
  {
   "cell_type": "code",
   "execution_count": 147,
   "outputs": [],
   "source": [
    "data['p_n']=np.where(data['p_change']>1,1,0)"
   ],
   "metadata": {
    "collapsed": false,
    "ExecuteTime": {
     "end_time": "2023-09-02T12:40:45.163250300Z",
     "start_time": "2023-09-02T12:40:44.339958900Z"
    }
   },
   "id": "5cf0da262be62297"
  },
  {
   "cell_type": "code",
   "execution_count": 148,
   "outputs": [
    {
     "data": {
      "text/plain": "             open   high  close    low    volume  price_change  p_change  \\\n2018-02-27  23.53  25.88  24.16  23.53  95578.03          0.63      2.68   \n2018-02-26  22.80  23.78  23.53  22.80  60985.11          0.69      3.02   \n2018-02-23  22.88  23.37  22.82  22.71  52914.01          0.54      2.42   \n2018-02-22  22.25  22.76  22.28  22.02  36105.01          0.36      1.64   \n2018-02-14  21.49  21.99  21.92  21.48  23331.04          0.44      2.05   \n\n               ma5    ma10    ma20     v_ma5    v_ma10    v_ma20  turnover  \\\n2018-02-27  22.942  22.142  22.875  53782.64  46738.65  55576.11      2.39   \n2018-02-26  22.406  21.955  22.942  40827.52  42736.34  56007.50      1.53   \n2018-02-23  21.938  21.929  23.022  35119.58  41871.97  56372.85      1.32   \n2018-02-22  21.446  21.909  23.137  35397.58  39904.78  60149.60      0.90   \n2018-02-14  21.366  21.923  23.253  33590.21  42935.74  61716.11      0.58   \n\n            week  p_n  \n2018-02-27     1    1  \n2018-02-26     0    1  \n2018-02-23     4    1  \n2018-02-22     3    1  \n2018-02-14     2    1  ",
      "text/html": "<div>\n<style scoped>\n    .dataframe tbody tr th:only-of-type {\n        vertical-align: middle;\n    }\n\n    .dataframe tbody tr th {\n        vertical-align: top;\n    }\n\n    .dataframe thead th {\n        text-align: right;\n    }\n</style>\n<table border=\"1\" class=\"dataframe\">\n  <thead>\n    <tr style=\"text-align: right;\">\n      <th></th>\n      <th>open</th>\n      <th>high</th>\n      <th>close</th>\n      <th>low</th>\n      <th>volume</th>\n      <th>price_change</th>\n      <th>p_change</th>\n      <th>ma5</th>\n      <th>ma10</th>\n      <th>ma20</th>\n      <th>v_ma5</th>\n      <th>v_ma10</th>\n      <th>v_ma20</th>\n      <th>turnover</th>\n      <th>week</th>\n      <th>p_n</th>\n    </tr>\n  </thead>\n  <tbody>\n    <tr>\n      <th>2018-02-27</th>\n      <td>23.53</td>\n      <td>25.88</td>\n      <td>24.16</td>\n      <td>23.53</td>\n      <td>95578.03</td>\n      <td>0.63</td>\n      <td>2.68</td>\n      <td>22.942</td>\n      <td>22.142</td>\n      <td>22.875</td>\n      <td>53782.64</td>\n      <td>46738.65</td>\n      <td>55576.11</td>\n      <td>2.39</td>\n      <td>1</td>\n      <td>1</td>\n    </tr>\n    <tr>\n      <th>2018-02-26</th>\n      <td>22.80</td>\n      <td>23.78</td>\n      <td>23.53</td>\n      <td>22.80</td>\n      <td>60985.11</td>\n      <td>0.69</td>\n      <td>3.02</td>\n      <td>22.406</td>\n      <td>21.955</td>\n      <td>22.942</td>\n      <td>40827.52</td>\n      <td>42736.34</td>\n      <td>56007.50</td>\n      <td>1.53</td>\n      <td>0</td>\n      <td>1</td>\n    </tr>\n    <tr>\n      <th>2018-02-23</th>\n      <td>22.88</td>\n      <td>23.37</td>\n      <td>22.82</td>\n      <td>22.71</td>\n      <td>52914.01</td>\n      <td>0.54</td>\n      <td>2.42</td>\n      <td>21.938</td>\n      <td>21.929</td>\n      <td>23.022</td>\n      <td>35119.58</td>\n      <td>41871.97</td>\n      <td>56372.85</td>\n      <td>1.32</td>\n      <td>4</td>\n      <td>1</td>\n    </tr>\n    <tr>\n      <th>2018-02-22</th>\n      <td>22.25</td>\n      <td>22.76</td>\n      <td>22.28</td>\n      <td>22.02</td>\n      <td>36105.01</td>\n      <td>0.36</td>\n      <td>1.64</td>\n      <td>21.446</td>\n      <td>21.909</td>\n      <td>23.137</td>\n      <td>35397.58</td>\n      <td>39904.78</td>\n      <td>60149.60</td>\n      <td>0.90</td>\n      <td>3</td>\n      <td>1</td>\n    </tr>\n    <tr>\n      <th>2018-02-14</th>\n      <td>21.49</td>\n      <td>21.99</td>\n      <td>21.92</td>\n      <td>21.48</td>\n      <td>23331.04</td>\n      <td>0.44</td>\n      <td>2.05</td>\n      <td>21.366</td>\n      <td>21.923</td>\n      <td>23.253</td>\n      <td>33590.21</td>\n      <td>42935.74</td>\n      <td>61716.11</td>\n      <td>0.58</td>\n      <td>2</td>\n      <td>1</td>\n    </tr>\n  </tbody>\n</table>\n</div>"
     },
     "execution_count": 148,
     "metadata": {},
     "output_type": "execute_result"
    }
   ],
   "source": [
    "data.head()"
   ],
   "metadata": {
    "collapsed": false,
    "ExecuteTime": {
     "end_time": "2023-09-02T12:40:45.173652400Z",
     "start_time": "2023-09-02T12:40:44.353286500Z"
    }
   },
   "id": "186eff1922b9cc9f"
  },
  {
   "cell_type": "code",
   "execution_count": 149,
   "outputs": [],
   "source": [
    "count = pd.crosstab(data['week'],data['p_n'])"
   ],
   "metadata": {
    "collapsed": false,
    "ExecuteTime": {
     "end_time": "2023-09-02T12:40:45.200665300Z",
     "start_time": "2023-09-02T12:40:44.368072900Z"
    }
   },
   "id": "ce258bc3c951aa62"
  },
  {
   "cell_type": "code",
   "execution_count": 150,
   "outputs": [],
   "source": [
    "sum=count.sum(axis=1).astype(np.float32)"
   ],
   "metadata": {
    "collapsed": false,
    "ExecuteTime": {
     "end_time": "2023-09-02T12:40:45.244791600Z",
     "start_time": "2023-09-02T12:40:44.377049Z"
    }
   },
   "id": "5c66a4e90bd64f5e"
  },
  {
   "cell_type": "code",
   "execution_count": 151,
   "outputs": [],
   "source": [
    "ret=count.div(sum,axis=0)"
   ],
   "metadata": {
    "collapsed": false,
    "ExecuteTime": {
     "end_time": "2023-09-02T12:40:45.245790800Z",
     "start_time": "2023-09-02T12:40:44.387085Z"
    }
   },
   "id": "3aaa5a82a0eac87"
  },
  {
   "cell_type": "code",
   "execution_count": 152,
   "outputs": [
    {
     "ename": "AttributeError",
     "evalue": "module 'matplotlib' has no attribute 'show'",
     "output_type": "error",
     "traceback": [
      "\u001B[1;31m---------------------------------------------------------------------------\u001B[0m",
      "\u001B[1;31mAttributeError\u001B[0m                            Traceback (most recent call last)",
      "Cell \u001B[1;32mIn[152], line 2\u001B[0m\n\u001B[0;32m      1\u001B[0m ret\u001B[38;5;241m.\u001B[39mplot(kind\u001B[38;5;241m=\u001B[39m\u001B[38;5;124m'\u001B[39m\u001B[38;5;124mbar\u001B[39m\u001B[38;5;124m'\u001B[39m,stacked\u001B[38;5;241m=\u001B[39m\u001B[38;5;28;01mTrue\u001B[39;00m)\n\u001B[1;32m----> 2\u001B[0m \u001B[43mplt\u001B[49m\u001B[38;5;241;43m.\u001B[39;49m\u001B[43mshow\u001B[49m()\n",
      "File \u001B[1;32mD:\\miniconda\\envs\\PythonProject\\lib\\site-packages\\matplotlib\\_api\\__init__.py:226\u001B[0m, in \u001B[0;36mcaching_module_getattr.<locals>.__getattr__\u001B[1;34m(name)\u001B[0m\n\u001B[0;32m    224\u001B[0m \u001B[38;5;28;01mif\u001B[39;00m name \u001B[38;5;129;01min\u001B[39;00m props:\n\u001B[0;32m    225\u001B[0m     \u001B[38;5;28;01mreturn\u001B[39;00m props[name]\u001B[38;5;241m.\u001B[39m\u001B[38;5;21m__get__\u001B[39m(instance)\n\u001B[1;32m--> 226\u001B[0m \u001B[38;5;28;01mraise\u001B[39;00m \u001B[38;5;167;01mAttributeError\u001B[39;00m(\n\u001B[0;32m    227\u001B[0m     \u001B[38;5;124mf\u001B[39m\u001B[38;5;124m\"\u001B[39m\u001B[38;5;124mmodule \u001B[39m\u001B[38;5;132;01m{\u001B[39;00m\u001B[38;5;28mcls\u001B[39m\u001B[38;5;241m.\u001B[39m\u001B[38;5;18m__module__\u001B[39m\u001B[38;5;132;01m!r}\u001B[39;00m\u001B[38;5;124m has no attribute \u001B[39m\u001B[38;5;132;01m{\u001B[39;00mname\u001B[38;5;132;01m!r}\u001B[39;00m\u001B[38;5;124m\"\u001B[39m)\n",
      "\u001B[1;31mAttributeError\u001B[0m: module 'matplotlib' has no attribute 'show'"
     ]
    },
    {
     "data": {
      "text/plain": "<Figure size 640x480 with 1 Axes>",
      "image/png": "[encoded data removed]"
     },
     "metadata": {},
     "output_type": "display_data"
    }
   ],
   "source": [
    "ret.plot(kind='bar',stacked=True)\n",
    "plt.show()"
   ],
   "metadata": {
    "collapsed": false,
    "ExecuteTime": {
     "end_time": "2023-09-02T12:40:45.366599700Z",
     "start_time": "2023-09-02T12:40:44.397246Z"
    }
   },
   "id": "e884313be9d7cc4c"
  },
  {
   "cell_type": "code",
   "execution_count": 153,
   "outputs": [
    {
     "data": {
      "text/plain": "           p_n\nweek          \n0     0.328000\n1     0.473282\n2     0.393939\n3     0.375000\n4     0.370079",
      "text/html": "<div>\n<style scoped>\n    .dataframe tbody tr th:only-of-type {\n        vertical-align: middle;\n    }\n\n    .dataframe tbody tr th {\n        vertical-align: top;\n    }\n\n    .dataframe thead th {\n        text-align: right;\n    }\n</style>\n<table border=\"1\" class=\"dataframe\">\n  <thead>\n    <tr style=\"text-align: right;\">\n      <th></th>\n      <th>p_n</th>\n    </tr>\n    <tr>\n      <th>week</th>\n      <th></th>\n    </tr>\n  </thead>\n  <tbody>\n    <tr>\n      <th>0</th>\n      <td>0.328000</td>\n    </tr>\n    <tr>\n      <th>1</th>\n      <td>0.473282</td>\n    </tr>\n    <tr>\n      <th>2</th>\n      <td>0.393939</td>\n    </tr>\n    <tr>\n      <th>3</th>\n      <td>0.375000</td>\n    </tr>\n    <tr>\n      <th>4</th>\n      <td>0.370079</td>\n    </tr>\n  </tbody>\n</table>\n</div>"
     },
     "execution_count": 153,
     "metadata": {},
     "output_type": "execute_result"
    }
   ],
   "source": [
    "data.pivot_table(['p_n'], index='week')"
   ],
   "metadata": {
    "collapsed": false,
    "ExecuteTime": {
     "end_time": "2023-09-02T12:41:24.493424800Z",
     "start_time": "2023-09-02T12:41:24.422202900Z"
    }
   },
   "id": "6d77bdcb8b30bd50"
  },
  {
   "cell_type": "markdown",
   "source": [
    "#### 7.5 分组与聚合"
   ],
   "metadata": {
    "collapsed": false
   },
   "id": "e014183bc36959cc"
  },
  {
   "cell_type": "code",
   "execution_count": 154,
   "outputs": [
    {
     "data": {
      "text/plain": "   color   object  price1  price2\n0  white      pen    5.56    4.75\n1    red   pencil    4.20    4.12\n2  green   pencil    1.30    1.60\n3    red  ashtray    0.56    0.75\n4  green      pen    2.75    3.15",
      "text/html": "<div>\n<style scoped>\n    .dataframe tbody tr th:only-of-type {\n        vertical-align: middle;\n    }\n\n    .dataframe tbody tr th {\n        vertical-align: top;\n    }\n\n    .dataframe thead th {\n        text-align: right;\n    }\n</style>\n<table border=\"1\" class=\"dataframe\">\n  <thead>\n    <tr style=\"text-align: right;\">\n      <th></th>\n      <th>color</th>\n      <th>object</th>\n      <th>price1</th>\n      <th>price2</th>\n    </tr>\n  </thead>\n  <tbody>\n    <tr>\n      <th>0</th>\n      <td>white</td>\n      <td>pen</td>\n      <td>5.56</td>\n      <td>4.75</td>\n    </tr>\n    <tr>\n      <th>1</th>\n      <td>red</td>\n      <td>pencil</td>\n      <td>4.20</td>\n      <td>4.12</td>\n    </tr>\n    <tr>\n      <th>2</th>\n      <td>green</td>\n      <td>pencil</td>\n      <td>1.30</td>\n      <td>1.60</td>\n    </tr>\n    <tr>\n      <th>3</th>\n      <td>red</td>\n      <td>ashtray</td>\n      <td>0.56</td>\n      <td>0.75</td>\n    </tr>\n    <tr>\n      <th>4</th>\n      <td>green</td>\n      <td>pen</td>\n      <td>2.75</td>\n      <td>3.15</td>\n    </tr>\n  </tbody>\n</table>\n</div>"
     },
     "execution_count": 154,
     "metadata": {},
     "output_type": "execute_result"
    }
   ],
   "source": [
    "col =pd.DataFrame({'color': ['white','red','green','red','green'], 'object': ['pen','pencil','pencil','ashtray','pen'],'price1':[5.56,4.20,1.30,0.56\n",
    ",2.75],'price2':[4.75,4.12,1.60,0.75,3.15]})\n",
    "col.head()"
   ],
   "metadata": {
    "collapsed": false,
    "ExecuteTime": {
     "end_time": "2023-09-02T12:41:25.752667800Z",
     "start_time": "2023-09-02T12:41:25.727847300Z"
    }
   },
   "id": "3d5e84d14751ee87"
  },
  {
   "cell_type": "code",
   "execution_count": 155,
   "outputs": [
    {
     "data": {
      "text/plain": "color\ngreen    2.025\nred      2.380\nwhite    5.560\nName: price1, dtype: float64"
     },
     "execution_count": 155,
     "metadata": {},
     "output_type": "execute_result"
    }
   ],
   "source": [
    "col.groupby(['color'])['price1'].mean()"
   ],
   "metadata": {
    "collapsed": false,
    "ExecuteTime": {
     "end_time": "2023-09-02T12:41:26.213706200Z",
     "start_time": "2023-09-02T12:41:26.185594100Z"
    }
   },
   "id": "b4646c75244acb37"
  },
  {
   "cell_type": "code",
   "execution_count": 156,
   "outputs": [
    {
     "data": {
      "text/plain": "color\ngreen    2.025\nred      2.380\nwhite    5.560\nName: price1, dtype: float64"
     },
     "execution_count": 156,
     "metadata": {},
     "output_type": "execute_result"
    }
   ],
   "source": [
    "col['price1'].groupby(col['color']).mean()"
   ],
   "metadata": {
    "collapsed": false,
    "ExecuteTime": {
     "end_time": "2023-09-02T12:41:26.619083300Z",
     "start_time": "2023-09-02T12:41:26.597094500Z"
    }
   },
   "id": "4359b161ba5a7cc2"
  },
  {
   "cell_type": "code",
   "execution_count": 157,
   "outputs": [
    {
     "data": {
      "text/plain": "   color  price1\n0  green   2.025\n1    red   2.380\n2  white   5.560",
      "text/html": "<div>\n<style scoped>\n    .dataframe tbody tr th:only-of-type {\n        vertical-align: middle;\n    }\n\n    .dataframe tbody tr th {\n        vertical-align: top;\n    }\n\n    .dataframe thead th {\n        text-align: right;\n    }\n</style>\n<table border=\"1\" class=\"dataframe\">\n  <thead>\n    <tr style=\"text-align: right;\">\n      <th></th>\n      <th>color</th>\n      <th>price1</th>\n    </tr>\n  </thead>\n  <tbody>\n    <tr>\n      <th>0</th>\n      <td>green</td>\n      <td>2.025</td>\n    </tr>\n    <tr>\n      <th>1</th>\n      <td>red</td>\n      <td>2.380</td>\n    </tr>\n    <tr>\n      <th>2</th>\n      <td>white</td>\n      <td>5.560</td>\n    </tr>\n  </tbody>\n</table>\n</div>"
     },
     "execution_count": 157,
     "metadata": {},
     "output_type": "execute_result"
    }
   ],
   "source": [
    "col.groupby(['color'],as_index=False)['price1'].mean()"
   ],
   "metadata": {
    "collapsed": false,
    "ExecuteTime": {
     "end_time": "2023-09-02T12:41:27.006781Z",
     "start_time": "2023-09-02T12:41:26.972990100Z"
    }
   },
   "id": "bd37c63128fc8f1c"
  },
  {
   "cell_type": "markdown",
   "source": [
    "#### 7.6 案例分析"
   ],
   "metadata": {
    "collapsed": false
   },
   "id": "71f139d2d546ec3d"
  },
  {
   "cell_type": "code",
   "execution_count": 158,
   "outputs": [
    {
     "data": {
      "text/plain": "       Brand  Store Number        Store Name Ownership Type  \\\n0  Starbucks  47370-257954     Meritxell, 96       Licensed   \n1  Starbucks  22331-212325  Ajman Drive Thru       Licensed   \n2  Starbucks  47089-256771         Dana Mall       Licensed   \n3  Starbucks  22126-218024        Twofour 54       Licensed   \n4  Starbucks  17127-178586      Al Ain Tower       Licensed   \n\n                    Street Address              City State/Province Country  \\\n0                Av. Meritxell, 96  Andorra la Vella              7      AD   \n1             1 Street 69, Al Jarf             Ajman             AJ      AE   \n2     Sheikh Khalifa Bin Zayed St.             Ajman             AJ      AE   \n3                  Al Salam Street         Abu Dhabi             AZ      AE   \n4  Khaldiya Area, Abu Dhabi Island         Abu Dhabi             AZ      AE   \n\n  Postcode Phone Number                 Timezone  Longitude  Latitude  \n0    AD500    376818720  GMT+1:00 Europe/Andorra       1.53     42.51  \n1      NaN          NaN     GMT+04:00 Asia/Dubai      55.47     25.42  \n2      NaN          NaN     GMT+04:00 Asia/Dubai      55.47     25.39  \n3      NaN          NaN     GMT+04:00 Asia/Dubai      54.38     24.48  \n4      NaN          NaN     GMT+04:00 Asia/Dubai      54.54     24.51  ",
      "text/html": "<div>\n<style scoped>\n    .dataframe tbody tr th:only-of-type {\n        vertical-align: middle;\n    }\n\n    .dataframe tbody tr th {\n        vertical-align: top;\n    }\n\n    .dataframe thead th {\n        text-align: right;\n    }\n</style>\n<table border=\"1\" class=\"dataframe\">\n  <thead>\n    <tr style=\"text-align: right;\">\n      <th></th>\n      <th>Brand</th>\n      <th>Store Number</th>\n      <th>Store Name</th>\n      <th>Ownership Type</th>\n      <th>Street Address</th>\n      <th>City</th>\n      <th>State/Province</th>\n      <th>Country</th>\n      <th>Postcode</th>\n      <th>Phone Number</th>\n      <th>Timezone</th>\n      <th>Longitude</th>\n      <th>Latitude</th>\n    </tr>\n  </thead>\n  <tbody>\n    <tr>\n      <th>0</th>\n      <td>Starbucks</td>\n      <td>47370-257954</td>\n      <td>Meritxell, 96</td>\n      <td>Licensed</td>\n      <td>Av. Meritxell, 96</td>\n      <td>Andorra la Vella</td>\n      <td>7</td>\n      <td>AD</td>\n      <td>AD500</td>\n      <td>376818720</td>\n      <td>GMT+1:00 Europe/Andorra</td>\n      <td>1.53</td>\n      <td>42.51</td>\n    </tr>\n    <tr>\n      <th>1</th>\n      <td>Starbucks</td>\n      <td>22331-212325</td>\n      <td>Ajman Drive Thru</td>\n      <td>Licensed</td>\n      <td>1 Street 69, Al Jarf</td>\n      <td>Ajman</td>\n      <td>AJ</td>\n      <td>AE</td>\n      <td>NaN</td>\n      <td>NaN</td>\n      <td>GMT+04:00 Asia/Dubai</td>\n      <td>55.47</td>\n      <td>25.42</td>\n    </tr>\n    <tr>\n      <th>2</th>\n      <td>Starbucks</td>\n      <td>47089-256771</td>\n      <td>Dana Mall</td>\n      <td>Licensed</td>\n      <td>Sheikh Khalifa Bin Zayed St.</td>\n      <td>Ajman</td>\n      <td>AJ</td>\n      <td>AE</td>\n      <td>NaN</td>\n      <td>NaN</td>\n      <td>GMT+04:00 Asia/Dubai</td>\n      <td>55.47</td>\n      <td>25.39</td>\n    </tr>\n    <tr>\n      <th>3</th>\n      <td>Starbucks</td>\n      <td>22126-218024</td>\n      <td>Twofour 54</td>\n      <td>Licensed</td>\n      <td>Al Salam Street</td>\n      <td>Abu Dhabi</td>\n      <td>AZ</td>\n      <td>AE</td>\n      <td>NaN</td>\n      <td>NaN</td>\n      <td>GMT+04:00 Asia/Dubai</td>\n      <td>54.38</td>\n      <td>24.48</td>\n    </tr>\n    <tr>\n      <th>4</th>\n      <td>Starbucks</td>\n      <td>17127-178586</td>\n      <td>Al Ain Tower</td>\n      <td>Licensed</td>\n      <td>Khaldiya Area, Abu Dhabi Island</td>\n      <td>Abu Dhabi</td>\n      <td>AZ</td>\n      <td>AE</td>\n      <td>NaN</td>\n      <td>NaN</td>\n      <td>GMT+04:00 Asia/Dubai</td>\n      <td>54.54</td>\n      <td>24.51</td>\n    </tr>\n  </tbody>\n</table>\n</div>"
     },
     "execution_count": 158,
     "metadata": {},
     "output_type": "execute_result"
    }
   ],
   "source": [
    "starbucks=pd.read_csv('./data/directory.csv')\n",
    "starbucks.head()"
   ],
   "metadata": {
    "collapsed": false,
    "ExecuteTime": {
     "end_time": "2023-09-02T12:41:27.612155Z",
     "start_time": "2023-09-02T12:41:27.532503800Z"
    }
   },
   "id": "6703af50c0685af"
  },
  {
   "cell_type": "code",
   "execution_count": 159,
   "outputs": [],
   "source": [
    "count=starbucks.groupby(['Country']).count()"
   ],
   "metadata": {
    "collapsed": false,
    "ExecuteTime": {
     "end_time": "2023-09-02T12:41:27.836365300Z",
     "start_time": "2023-09-02T12:41:27.787714800Z"
    }
   },
   "id": "ad33c9c6a66cf690"
  },
  {
   "cell_type": "code",
   "execution_count": 169,
   "outputs": [
    {
     "data": {
      "text/plain": "<Figure size 2000x800 with 1 Axes>",
      "image/png": "[encoded data removed]"
     },
     "metadata": {},
     "output_type": "display_data"
    }
   ],
   "source": [
    "count['Brand'].plot(kind='bar', figsize=(20,8))\n",
    "plt.show()"
   ],
   "metadata": {
    "collapsed": false,
    "ExecuteTime": {
     "end_time": "2023-09-02T12:42:17.420476700Z",
     "start_time": "2023-09-02T12:42:17.141197800Z"
    }
   },
   "id": "bc47d306be489d8d"
  },
  {
   "cell_type": "code",
   "execution_count": null,
   "outputs": [],
   "source": [
    "starbucks.groupby(['Country','State/Province']).count()"
   ],
   "metadata": {
    "collapsed": false,
    "ExecuteTime": {
     "start_time": "2023-09-02T12:41:28.377032900Z"
    }
   },
   "id": "4320aec2a77a7fb4"
  },
  {
   "cell_type": "code",
   "execution_count": 161,
   "outputs": [
    {
     "data": {
      "text/plain": "   Rank                    Title                     Genre  \\\n0     1  Guardians of the Galaxy   Action,Adventure,Sci-Fi   \n1     2               Prometheus  Adventure,Mystery,Sci-Fi   \n2     3                    Split           Horror,Thriller   \n3     4                     Sing   Animation,Comedy,Family   \n4     5            Suicide Squad  Action,Adventure,Fantasy   \n\n                                         Description              Director  \\\n0  A group of intergalactic criminals are forced ...            James Gunn   \n1  Following clues to the origin of mankind, a te...          Ridley Scott   \n2  Three girls are kidnapped by a man with a diag...    M. Night Shyamalan   \n3  In a city of humanoid animals, a hustling thea...  Christophe Lourdelet   \n4  A secret government agency recruits some of th...            David Ayer   \n\n                                              Actors  Year  Runtime (Minutes)  \\\n0  Chris Pratt, Vin Diesel, Bradley Cooper, Zoe S...  2014                121   \n1  Noomi Rapace, Logan Marshall-Green, Michael Fa...  2012                124   \n2  James McAvoy, Anya Taylor-Joy, Haley Lu Richar...  2016                117   \n3  Matthew McConaughey,Reese Witherspoon, Seth Ma...  2016                108   \n4  Will Smith, Jared Leto, Margot Robbie, Viola D...  2016                123   \n\n   Rating   Votes  Revenue (Millions)  Metascore  \n0     8.1  757074              333.13       76.0  \n1     7.0  485820              126.46       65.0  \n2     7.3  157606              138.12       62.0  \n3     7.2   60545              270.32       59.0  \n4     6.2  393727              325.02       40.0  ",
      "text/html": "<div>\n<style scoped>\n    .dataframe tbody tr th:only-of-type {\n        vertical-align: middle;\n    }\n\n    .dataframe tbody tr th {\n        vertical-align: top;\n    }\n\n    .dataframe thead th {\n        text-align: right;\n    }\n</style>\n<table border=\"1\" class=\"dataframe\">\n  <thead>\n    <tr style=\"text-align: right;\">\n      <th></th>\n      <th>Rank</th>\n      <th>Title</th>\n      <th>Genre</th>\n      <th>Description</th>\n      <th>Director</th>\n      <th>Actors</th>\n      <th>Year</th>\n      <th>Runtime (Minutes)</th>\n      <th>Rating</th>\n      <th>Votes</th>\n      <th>Revenue (Millions)</th>\n      <th>Metascore</th>\n    </tr>\n  </thead>\n  <tbody>\n    <tr>\n      <th>0</th>\n      <td>1</td>\n      <td>Guardians of the Galaxy</td>\n      <td>Action,Adventure,Sci-Fi</td>\n      <td>A group of intergalactic criminals are forced ...</td>\n      <td>James Gunn</td>\n      <td>Chris Pratt, Vin Diesel, Bradley Cooper, Zoe S...</td>\n      <td>2014</td>\n      <td>121</td>\n      <td>8.1</td>\n      <td>757074</td>\n      <td>333.13</td>\n      <td>76.0</td>\n    </tr>\n    <tr>\n      <th>1</th>\n      <td>2</td>\n      <td>Prometheus</td>\n      <td>Adventure,Mystery,Sci-Fi</td>\n      <td>Following clues to the origin of mankind, a te...</td>\n      <td>Ridley Scott</td>\n      <td>Noomi Rapace, Logan Marshall-Green, Michael Fa...</td>\n      <td>2012</td>\n      <td>124</td>\n      <td>7.0</td>\n      <td>485820</td>\n      <td>126.46</td>\n      <td>65.0</td>\n    </tr>\n    <tr>\n      <th>2</th>\n      <td>3</td>\n      <td>Split</td>\n      <td>Horror,Thriller</td>\n      <td>Three girls are kidnapped by a man with a diag...</td>\n      <td>M. Night Shyamalan</td>\n      <td>James McAvoy, Anya Taylor-Joy, Haley Lu Richar...</td>\n      <td>2016</td>\n      <td>117</td>\n      <td>7.3</td>\n      <td>157606</td>\n      <td>138.12</td>\n      <td>62.0</td>\n    </tr>\n    <tr>\n      <th>3</th>\n      <td>4</td>\n      <td>Sing</td>\n      <td>Animation,Comedy,Family</td>\n      <td>In a city of humanoid animals, a hustling thea...</td>\n      <td>Christophe Lourdelet</td>\n      <td>Matthew McConaughey,Reese Witherspoon, Seth Ma...</td>\n      <td>2016</td>\n      <td>108</td>\n      <td>7.2</td>\n      <td>60545</td>\n      <td>270.32</td>\n      <td>59.0</td>\n    </tr>\n    <tr>\n      <th>4</th>\n      <td>5</td>\n      <td>Suicide Squad</td>\n      <td>Action,Adventure,Fantasy</td>\n      <td>A secret government agency recruits some of th...</td>\n      <td>David Ayer</td>\n      <td>Will Smith, Jared Leto, Margot Robbie, Viola D...</td>\n      <td>2016</td>\n      <td>123</td>\n      <td>6.2</td>\n      <td>393727</td>\n      <td>325.02</td>\n      <td>40.0</td>\n    </tr>\n  </tbody>\n</table>\n</div>"
     },
     "execution_count": 161,
     "metadata": {},
     "output_type": "execute_result"
    }
   ],
   "source": [
    "movie=pd.read_csv('./data/IMDB-Movie-Data.csv')\n",
    "movie.head()"
   ],
   "metadata": {
    "collapsed": false,
    "ExecuteTime": {
     "end_time": "2023-09-02T12:41:28.624688100Z",
     "start_time": "2023-09-02T12:41:28.592431200Z"
    }
   },
   "id": "fdccc4c644e47660"
  },
  {
   "cell_type": "code",
   "execution_count": 162,
   "outputs": [
    {
     "data": {
      "text/plain": "6.723199999999999"
     },
     "execution_count": 162,
     "metadata": {},
     "output_type": "execute_result"
    }
   ],
   "source": [
    "movie['Rating'].mean()"
   ],
   "metadata": {
    "collapsed": false,
    "ExecuteTime": {
     "end_time": "2023-09-02T12:41:28.858246600Z",
     "start_time": "2023-09-02T12:41:28.834677800Z"
    }
   },
   "id": "433a4c493f5b0ead"
  },
  {
   "cell_type": "code",
   "execution_count": 163,
   "outputs": [
    {
     "data": {
      "text/plain": "644"
     },
     "execution_count": 163,
     "metadata": {},
     "output_type": "execute_result"
    }
   ],
   "source": [
    "np.unique(movie['Director']).shape[0]"
   ],
   "metadata": {
    "collapsed": false,
    "ExecuteTime": {
     "end_time": "2023-09-02T12:41:29.218614Z",
     "start_time": "2023-09-02T12:41:29.182970800Z"
    }
   },
   "id": "cb19a4257d265359"
  },
  {
   "cell_type": "code",
   "execution_count": 164,
   "outputs": [
    {
     "data": {
      "text/plain": "<Axes: ylabel='Frequency'>"
     },
     "execution_count": 164,
     "metadata": {},
     "output_type": "execute_result"
    },
    {
     "data": {
      "text/plain": "<Figure size 640x480 with 1 Axes>",
      "image/png": "[encoded data removed]"
     },
     "metadata": {},
     "output_type": "display_data"
    }
   ],
   "source": [
    "movie['Rating'].plot(kind='hist')"
   ],
   "metadata": {
    "collapsed": false,
    "ExecuteTime": {
     "end_time": "2023-09-02T12:41:29.543492200Z",
     "start_time": "2023-09-02T12:41:29.428019400Z"
    }
   },
   "id": "40a4b9a095de9f1"
  },
  {
   "cell_type": "code",
   "execution_count": 170,
   "outputs": [
    {
     "data": {
      "text/plain": "<Figure size 2000x800 with 1 Axes>",
      "image/png": "[encoded data removed]"
     },
     "metadata": {},
     "output_type": "display_data"
    }
   ],
   "source": [
    "plt.figure(figsize=(20,8),dpi=100)\n",
    "\n",
    "max_=movie['Rating'].max()\n",
    "min_=movie['Rating'].min()\n",
    "\n",
    "t1=np.linspace(min_, max_, 21)\n",
    "plt.xticks(t1)\n",
    "\n",
    "plt.hist(movie['Rating'].values,bins=20)\n",
    "plt.grid()\n",
    "\n",
    "plt.show()"
   ],
   "metadata": {
    "collapsed": false,
    "ExecuteTime": {
     "end_time": "2023-09-02T12:42:22.009502500Z",
     "start_time": "2023-09-02T12:42:21.843394800Z"
    }
   },
   "id": "33b3da47fb63179d"
  },
  {
   "cell_type": "code",
   "execution_count": 171,
   "outputs": [
    {
     "data": {
      "text/plain": "<Figure size 2000x800 with 1 Axes>",
      "image/png": "[encoded data removed]"
     },
     "metadata": {},
     "output_type": "display_data"
    }
   ],
   "source": [
    "plt.figure(figsize=(20,8),dpi=100)\n",
    "\n",
    "max_=movie['Runtime (Minutes)'].max()\n",
    "min_=movie['Runtime (Minutes)'].min()\n",
    "\n",
    "t1=np.linspace(min_, max_, 21)\n",
    "plt.xticks(t1)\n",
    "\n",
    "plt.hist(movie['Runtime (Minutes)'].values,bins=20)\n",
    "plt.grid()\n",
    "\n",
    "plt.show()"
   ],
   "metadata": {
    "collapsed": false,
    "ExecuteTime": {
     "end_time": "2023-09-02T12:42:24.875558700Z",
     "start_time": "2023-09-02T12:42:24.731288200Z"
    }
   },
   "id": "ffd7e02640aace7b"
  },
  {
   "cell_type": "code",
   "execution_count": 172,
   "outputs": [
    {
     "data": {
      "text/plain": "0       Action,Adventure,Sci-Fi\n1      Adventure,Mystery,Sci-Fi\n2               Horror,Thriller\n3       Animation,Comedy,Family\n4      Action,Adventure,Fantasy\n                 ...           \n995         Crime,Drama,Mystery\n996                      Horror\n997         Drama,Music,Romance\n998            Adventure,Comedy\n999       Comedy,Family,Fantasy\nName: Genre, Length: 1000, dtype: object"
     },
     "execution_count": 172,
     "metadata": {},
     "output_type": "execute_result"
    }
   ],
   "source": [
    "movie['Genre']"
   ],
   "metadata": {
    "collapsed": false,
    "ExecuteTime": {
     "end_time": "2023-09-02T12:48:22.663170400Z",
     "start_time": "2023-09-02T12:48:22.627918100Z"
    }
   },
   "id": "c95e160395d6dfbd"
  },
  {
   "cell_type": "code",
   "execution_count": 174,
   "outputs": [],
   "source": [
    "temp_list=[i.split(',') for i in movie['Genre']]"
   ],
   "metadata": {
    "collapsed": false,
    "ExecuteTime": {
     "end_time": "2023-09-02T12:49:36.118323100Z",
     "start_time": "2023-09-02T12:49:36.087801500Z"
    }
   },
   "id": "d5f904045eccc124"
  },
  {
   "cell_type": "code",
   "execution_count": 176,
   "outputs": [],
   "source": [
    "genre_list=np.unique([i for j in temp_list for i in j])"
   ],
   "metadata": {
    "collapsed": false,
    "ExecuteTime": {
     "end_time": "2023-09-02T12:51:26.086027500Z",
     "start_time": "2023-09-02T12:51:26.045765600Z"
    }
   },
   "id": "e5209db1e52eb0b"
  },
  {
   "cell_type": "code",
   "execution_count": 180,
   "outputs": [],
   "source": [
    "zeros=np.zeros([movie.shape[0],genre_list.shape[0]])"
   ],
   "metadata": {
    "collapsed": false,
    "ExecuteTime": {
     "end_time": "2023-09-02T12:54:32.640233600Z",
     "start_time": "2023-09-02T12:54:32.611526100Z"
    }
   },
   "id": "80b386f5e60381ae"
  },
  {
   "cell_type": "code",
   "execution_count": 202,
   "outputs": [],
   "source": [
    "temp_movie=pd.DataFrame(zeros,columns=genre_list)"
   ],
   "metadata": {
    "collapsed": false,
    "ExecuteTime": {
     "end_time": "2023-09-02T13:12:28.196631400Z",
     "start_time": "2023-09-02T13:12:28.142798100Z"
    }
   },
   "id": "7122cb7e86af63bb"
  },
  {
   "cell_type": "code",
   "execution_count": 205,
   "outputs": [
    {
     "data": {
      "text/plain": "     Action  Adventure  Animation  Biography  Comedy  Crime  Drama  Family  \\\n0       1.0        1.0        0.0        0.0     0.0    0.0    0.0     0.0   \n1       0.0        1.0        0.0        0.0     0.0    0.0    0.0     0.0   \n2       0.0        0.0        0.0        0.0     0.0    0.0    0.0     0.0   \n3       0.0        0.0        1.0        0.0     1.0    0.0    0.0     1.0   \n4       1.0        1.0        0.0        0.0     0.0    0.0    0.0     0.0   \n..      ...        ...        ...        ...     ...    ...    ...     ...   \n995     0.0        0.0        0.0        0.0     0.0    1.0    1.0     0.0   \n996     0.0        0.0        0.0        0.0     0.0    0.0    0.0     0.0   \n997     0.0        0.0        0.0        0.0     0.0    0.0    1.0     0.0   \n998     0.0        1.0        0.0        0.0     1.0    0.0    0.0     0.0   \n999     0.0        0.0        0.0        0.0     1.0    0.0    0.0     1.0   \n\n     Fantasy  History  Horror  Music  Musical  Mystery  Romance  Sci-Fi  \\\n0        0.0      0.0     0.0    0.0      0.0      0.0      0.0     1.0   \n1        0.0      0.0     0.0    0.0      0.0      1.0      0.0     1.0   \n2        0.0      0.0     1.0    0.0      0.0      0.0      0.0     0.0   \n3        0.0      0.0     0.0    0.0      0.0      0.0      0.0     0.0   \n4        1.0      0.0     0.0    0.0      0.0      0.0      0.0     0.0   \n..       ...      ...     ...    ...      ...      ...      ...     ...   \n995      0.0      0.0     0.0    0.0      0.0      1.0      0.0     0.0   \n996      0.0      0.0     1.0    0.0      0.0      0.0      0.0     0.0   \n997      0.0      0.0     0.0    1.0      0.0      0.0      1.0     0.0   \n998      0.0      0.0     0.0    0.0      0.0      0.0      0.0     0.0   \n999      1.0      0.0     0.0    0.0      0.0      0.0      0.0     0.0   \n\n     Sport  Thriller  War  Western  \n0      0.0       0.0  0.0      0.0  \n1      0.0       0.0  0.0      0.0  \n2      0.0       1.0  0.0      0.0  \n3      0.0       0.0  0.0      0.0  \n4      0.0       0.0  0.0      0.0  \n..     ...       ...  ...      ...  \n995    0.0       0.0  0.0      0.0  \n996    0.0       0.0  0.0      0.0  \n997    0.0       0.0  0.0      0.0  \n998    0.0       0.0  0.0      0.0  \n999    0.0       0.0  0.0      0.0  \n\n[1000 rows x 20 columns]",
      "text/html": "<div>\n<style scoped>\n    .dataframe tbody tr th:only-of-type {\n        vertical-align: middle;\n    }\n\n    .dataframe tbody tr th {\n        vertical-align: top;\n    }\n\n    .dataframe thead th {\n        text-align: right;\n    }\n</style>\n<table border=\"1\" class=\"dataframe\">\n  <thead>\n    <tr style=\"text-align: right;\">\n      <th></th>\n      <th>Action</th>\n      <th>Adventure</th>\n      <th>Animation</th>\n      <th>Biography</th>\n      <th>Comedy</th>\n      <th>Crime</th>\n      <th>Drama</th>\n      <th>Family</th>\n      <th>Fantasy</th>\n      <th>History</th>\n      <th>Horror</th>\n      <th>Music</th>\n      <th>Musical</th>\n      <th>Mystery</th>\n      <th>Romance</th>\n      <th>Sci-Fi</th>\n      <th>Sport</th>\n      <th>Thriller</th>\n      <th>War</th>\n      <th>Western</th>\n    </tr>\n  </thead>\n  <tbody>\n    <tr>\n      <th>0</th>\n      <td>1.0</td>\n      <td>1.0</td>\n      <td>0.0</td>\n      <td>0.0</td>\n      <td>0.0</td>\n      <td>0.0</td>\n      <td>0.0</td>\n      <td>0.0</td>\n      <td>0.0</td>\n      <td>0.0</td>\n      <td>0.0</td>\n      <td>0.0</td>\n      <td>0.0</td>\n      <td>0.0</td>\n      <td>0.0</td>\n      <td>1.0</td>\n      <td>0.0</td>\n      <td>0.0</td>\n      <td>0.0</td>\n      <td>0.0</td>\n    </tr>\n    <tr>\n      <th>1</th>\n      <td>0.0</td>\n      <td>1.0</td>\n      <td>0.0</td>\n      <td>0.0</td>\n      <td>0.0</td>\n      <td>0.0</td>\n      <td>0.0</td>\n      <td>0.0</td>\n      <td>0.0</td>\n      <td>0.0</td>\n      <td>0.0</td>\n      <td>0.0</td>\n      <td>0.0</td>\n      <td>1.0</td>\n      <td>0.0</td>\n      <td>1.0</td>\n      <td>0.0</td>\n      <td>0.0</td>\n      <td>0.0</td>\n      <td>0.0</td>\n    </tr>\n    <tr>\n      <th>2</th>\n      <td>0.0</td>\n      <td>0.0</td>\n      <td>0.0</td>\n      <td>0.0</td>\n      <td>0.0</td>\n      <td>0.0</td>\n      <td>0.0</td>\n      <td>0.0</td>\n      <td>0.0</td>\n      <td>0.0</td>\n      <td>1.0</td>\n      <td>0.0</td>\n      <td>0.0</td>\n      <td>0.0</td>\n      <td>0.0</td>\n      <td>0.0</td>\n      <td>0.0</td>\n      <td>1.0</td>\n      <td>0.0</td>\n      <td>0.0</td>\n    </tr>\n    <tr>\n      <th>3</th>\n      <td>0.0</td>\n      <td>0.0</td>\n      <td>1.0</td>\n      <td>0.0</td>\n      <td>1.0</td>\n      <td>0.0</td>\n      <td>0.0</td>\n      <td>1.0</td>\n      <td>0.0</td>\n      <td>0.0</td>\n      <td>0.0</td>\n      <td>0.0</td>\n      <td>0.0</td>\n      <td>0.0</td>\n      <td>0.0</td>\n      <td>0.0</td>\n      <td>0.0</td>\n      <td>0.0</td>\n      <td>0.0</td>\n      <td>0.0</td>\n    </tr>\n    <tr>\n      <th>4</th>\n      <td>1.0</td>\n      <td>1.0</td>\n      <td>0.0</td>\n      <td>0.0</td>\n      <td>0.0</td>\n      <td>0.0</td>\n      <td>0.0</td>\n      <td>0.0</td>\n      <td>1.0</td>\n      <td>0.0</td>\n      <td>0.0</td>\n      <td>0.0</td>\n      <td>0.0</td>\n      <td>0.0</td>\n      <td>0.0</td>\n      <td>0.0</td>\n      <td>0.0</td>\n      <td>0.0</td>\n      <td>0.0</td>\n      <td>0.0</td>\n    </tr>\n    <tr>\n      <th>...</th>\n      <td>...</td>\n      <td>...</td>\n      <td>...</td>\n      <td>...</td>\n      <td>...</td>\n      <td>...</td>\n      <td>...</td>\n      <td>...</td>\n      <td>...</td>\n      <td>...</td>\n      <td>...</td>\n      <td>...</td>\n      <td>...</td>\n      <td>...</td>\n      <td>...</td>\n      <td>...</td>\n      <td>...</td>\n      <td>...</td>\n      <td>...</td>\n      <td>...</td>\n    </tr>\n    <tr>\n      <th>995</th>\n      <td>0.0</td>\n      <td>0.0</td>\n      <td>0.0</td>\n      <td>0.0</td>\n      <td>0.0</td>\n      <td>1.0</td>\n      <td>1.0</td>\n      <td>0.0</td>\n      <td>0.0</td>\n      <td>0.0</td>\n      <td>0.0</td>\n      <td>0.0</td>\n      <td>0.0</td>\n      <td>1.0</td>\n      <td>0.0</td>\n      <td>0.0</td>\n      <td>0.0</td>\n      <td>0.0</td>\n      <td>0.0</td>\n      <td>0.0</td>\n    </tr>\n    <tr>\n      <th>996</th>\n      <td>0.0</td>\n      <td>0.0</td>\n      <td>0.0</td>\n      <td>0.0</td>\n      <td>0.0</td>\n      <td>0.0</td>\n      <td>0.0</td>\n      <td>0.0</td>\n      <td>0.0</td>\n      <td>0.0</td>\n      <td>1.0</td>\n      <td>0.0</td>\n      <td>0.0</td>\n      <td>0.0</td>\n      <td>0.0</td>\n      <td>0.0</td>\n      <td>0.0</td>\n      <td>0.0</td>\n      <td>0.0</td>\n      <td>0.0</td>\n    </tr>\n    <tr>\n      <th>997</th>\n      <td>0.0</td>\n      <td>0.0</td>\n      <td>0.0</td>\n      <td>0.0</td>\n      <td>0.0</td>\n      <td>0.0</td>\n      <td>1.0</td>\n      <td>0.0</td>\n      <td>0.0</td>\n      <td>0.0</td>\n      <td>0.0</td>\n      <td>1.0</td>\n      <td>0.0</td>\n      <td>0.0</td>\n      <td>1.0</td>\n      <td>0.0</td>\n      <td>0.0</td>\n      <td>0.0</td>\n      <td>0.0</td>\n      <td>0.0</td>\n    </tr>\n    <tr>\n      <th>998</th>\n      <td>0.0</td>\n      <td>1.0</td>\n      <td>0.0</td>\n      <td>0.0</td>\n      <td>1.0</td>\n      <td>0.0</td>\n      <td>0.0</td>\n      <td>0.0</td>\n      <td>0.0</td>\n      <td>0.0</td>\n      <td>0.0</td>\n      <td>0.0</td>\n      <td>0.0</td>\n      <td>0.0</td>\n      <td>0.0</td>\n      <td>0.0</td>\n      <td>0.0</td>\n      <td>0.0</td>\n      <td>0.0</td>\n      <td>0.0</td>\n    </tr>\n    <tr>\n      <th>999</th>\n      <td>0.0</td>\n      <td>0.0</td>\n      <td>0.0</td>\n      <td>0.0</td>\n      <td>1.0</td>\n      <td>0.0</td>\n      <td>0.0</td>\n      <td>1.0</td>\n      <td>1.0</td>\n      <td>0.0</td>\n      <td>0.0</td>\n      <td>0.0</td>\n      <td>0.0</td>\n      <td>0.0</td>\n      <td>0.0</td>\n      <td>0.0</td>\n      <td>0.0</td>\n      <td>0.0</td>\n      <td>0.0</td>\n      <td>0.0</td>\n    </tr>\n  </tbody>\n</table>\n<p>1000 rows × 20 columns</p>\n</div>"
     },
     "execution_count": 205,
     "metadata": {},
     "output_type": "execute_result"
    }
   ],
   "source": [
    "temp_movie"
   ],
   "metadata": {
    "collapsed": false,
    "ExecuteTime": {
     "end_time": "2023-09-02T13:12:53.919789Z",
     "start_time": "2023-09-02T13:12:53.859258600Z"
    }
   },
   "id": "aba64bf709b8fc26"
  },
  {
   "cell_type": "code",
   "execution_count": 206,
   "outputs": [],
   "source": [
    "for i in range(1000):\n",
    "    temp_movie.loc[i,temp_list[i]]=1"
   ],
   "metadata": {
    "collapsed": false,
    "ExecuteTime": {
     "end_time": "2023-09-02T13:12:55.311930400Z",
     "start_time": "2023-09-02T13:12:54.970979300Z"
    }
   },
   "id": "6654ab2d5a163749"
  },
  {
   "cell_type": "code",
   "execution_count": 207,
   "outputs": [
    {
     "data": {
      "text/plain": "     Action  Adventure  Animation  Biography  Comedy  Crime  Drama  Family  \\\n0       1.0        1.0        0.0        0.0     0.0    0.0    0.0     0.0   \n1       0.0        1.0        0.0        0.0     0.0    0.0    0.0     0.0   \n2       0.0        0.0        0.0        0.0     0.0    0.0    0.0     0.0   \n3       0.0        0.0        1.0        0.0     1.0    0.0    0.0     1.0   \n4       1.0        1.0        0.0        0.0     0.0    0.0    0.0     0.0   \n..      ...        ...        ...        ...     ...    ...    ...     ...   \n995     0.0        0.0        0.0        0.0     0.0    1.0    1.0     0.0   \n996     0.0        0.0        0.0        0.0     0.0    0.0    0.0     0.0   \n997     0.0        0.0        0.0        0.0     0.0    0.0    1.0     0.0   \n998     0.0        1.0        0.0        0.0     1.0    0.0    0.0     0.0   \n999     0.0        0.0        0.0        0.0     1.0    0.0    0.0     1.0   \n\n     Fantasy  History  Horror  Music  Musical  Mystery  Romance  Sci-Fi  \\\n0        0.0      0.0     0.0    0.0      0.0      0.0      0.0     1.0   \n1        0.0      0.0     0.0    0.0      0.0      1.0      0.0     1.0   \n2        0.0      0.0     1.0    0.0      0.0      0.0      0.0     0.0   \n3        0.0      0.0     0.0    0.0      0.0      0.0      0.0     0.0   \n4        1.0      0.0     0.0    0.0      0.0      0.0      0.0     0.0   \n..       ...      ...     ...    ...      ...      ...      ...     ...   \n995      0.0      0.0     0.0    0.0      0.0      1.0      0.0     0.0   \n996      0.0      0.0     1.0    0.0      0.0      0.0      0.0     0.0   \n997      0.0      0.0     0.0    1.0      0.0      0.0      1.0     0.0   \n998      0.0      0.0     0.0    0.0      0.0      0.0      0.0     0.0   \n999      1.0      0.0     0.0    0.0      0.0      0.0      0.0     0.0   \n\n     Sport  Thriller  War  Western  \n0      0.0       0.0  0.0      0.0  \n1      0.0       0.0  0.0      0.0  \n2      0.0       1.0  0.0      0.0  \n3      0.0       0.0  0.0      0.0  \n4      0.0       0.0  0.0      0.0  \n..     ...       ...  ...      ...  \n995    0.0       0.0  0.0      0.0  \n996    0.0       0.0  0.0      0.0  \n997    0.0       0.0  0.0      0.0  \n998    0.0       0.0  0.0      0.0  \n999    0.0       0.0  0.0      0.0  \n\n[1000 rows x 20 columns]",
      "text/html": "<div>\n<style scoped>\n    .dataframe tbody tr th:only-of-type {\n        vertical-align: middle;\n    }\n\n    .dataframe tbody tr th {\n        vertical-align: top;\n    }\n\n    .dataframe thead th {\n        text-align: right;\n    }\n</style>\n<table border=\"1\" class=\"dataframe\">\n  <thead>\n    <tr style=\"text-align: right;\">\n      <th></th>\n      <th>Action</th>\n      <th>Adventure</th>\n      <th>Animation</th>\n      <th>Biography</th>\n      <th>Comedy</th>\n      <th>Crime</th>\n      <th>Drama</th>\n      <th>Family</th>\n      <th>Fantasy</th>\n      <th>History</th>\n      <th>Horror</th>\n      <th>Music</th>\n      <th>Musical</th>\n      <th>Mystery</th>\n      <th>Romance</th>\n      <th>Sci-Fi</th>\n      <th>Sport</th>\n      <th>Thriller</th>\n      <th>War</th>\n      <th>Western</th>\n    </tr>\n  </thead>\n  <tbody>\n    <tr>\n      <th>0</th>\n      <td>1.0</td>\n      <td>1.0</td>\n      <td>0.0</td>\n      <td>0.0</td>\n      <td>0.0</td>\n      <td>0.0</td>\n      <td>0.0</td>\n      <td>0.0</td>\n      <td>0.0</td>\n      <td>0.0</td>\n      <td>0.0</td>\n      <td>0.0</td>\n      <td>0.0</td>\n      <td>0.0</td>\n      <td>0.0</td>\n      <td>1.0</td>\n      <td>0.0</td>\n      <td>0.0</td>\n      <td>0.0</td>\n      <td>0.0</td>\n    </tr>\n    <tr>\n      <th>1</th>\n      <td>0.0</td>\n      <td>1.0</td>\n      <td>0.0</td>\n      <td>0.0</td>\n      <td>0.0</td>\n      <td>0.0</td>\n      <td>0.0</td>\n      <td>0.0</td>\n      <td>0.0</td>\n      <td>0.0</td>\n      <td>0.0</td>\n      <td>0.0</td>\n      <td>0.0</td>\n      <td>1.0</td>\n      <td>0.0</td>\n      <td>1.0</td>\n      <td>0.0</td>\n      <td>0.0</td>\n      <td>0.0</td>\n      <td>0.0</td>\n    </tr>\n    <tr>\n      <th>2</th>\n      <td>0.0</td>\n      <td>0.0</td>\n      <td>0.0</td>\n      <td>0.0</td>\n      <td>0.0</td>\n      <td>0.0</td>\n      <td>0.0</td>\n      <td>0.0</td>\n      <td>0.0</td>\n      <td>0.0</td>\n      <td>1.0</td>\n      <td>0.0</td>\n      <td>0.0</td>\n      <td>0.0</td>\n      <td>0.0</td>\n      <td>0.0</td>\n      <td>0.0</td>\n      <td>1.0</td>\n      <td>0.0</td>\n      <td>0.0</td>\n    </tr>\n    <tr>\n      <th>3</th>\n      <td>0.0</td>\n      <td>0.0</td>\n      <td>1.0</td>\n      <td>0.0</td>\n      <td>1.0</td>\n      <td>0.0</td>\n      <td>0.0</td>\n      <td>1.0</td>\n      <td>0.0</td>\n      <td>0.0</td>\n      <td>0.0</td>\n      <td>0.0</td>\n      <td>0.0</td>\n      <td>0.0</td>\n      <td>0.0</td>\n      <td>0.0</td>\n      <td>0.0</td>\n      <td>0.0</td>\n      <td>0.0</td>\n      <td>0.0</td>\n    </tr>\n    <tr>\n      <th>4</th>\n      <td>1.0</td>\n      <td>1.0</td>\n      <td>0.0</td>\n      <td>0.0</td>\n      <td>0.0</td>\n      <td>0.0</td>\n      <td>0.0</td>\n      <td>0.0</td>\n      <td>1.0</td>\n      <td>0.0</td>\n      <td>0.0</td>\n      <td>0.0</td>\n      <td>0.0</td>\n      <td>0.0</td>\n      <td>0.0</td>\n      <td>0.0</td>\n      <td>0.0</td>\n      <td>0.0</td>\n      <td>0.0</td>\n      <td>0.0</td>\n    </tr>\n    <tr>\n      <th>...</th>\n      <td>...</td>\n      <td>...</td>\n      <td>...</td>\n      <td>...</td>\n      <td>...</td>\n      <td>...</td>\n      <td>...</td>\n      <td>...</td>\n      <td>...</td>\n      <td>...</td>\n      <td>...</td>\n      <td>...</td>\n      <td>...</td>\n      <td>...</td>\n      <td>...</td>\n      <td>...</td>\n      <td>...</td>\n      <td>...</td>\n      <td>...</td>\n      <td>...</td>\n    </tr>\n    <tr>\n      <th>995</th>\n      <td>0.0</td>\n      <td>0.0</td>\n      <td>0.0</td>\n      <td>0.0</td>\n      <td>0.0</td>\n      <td>1.0</td>\n      <td>1.0</td>\n      <td>0.0</td>\n      <td>0.0</td>\n      <td>0.0</td>\n      <td>0.0</td>\n      <td>0.0</td>\n      <td>0.0</td>\n      <td>1.0</td>\n      <td>0.0</td>\n      <td>0.0</td>\n      <td>0.0</td>\n      <td>0.0</td>\n      <td>0.0</td>\n      <td>0.0</td>\n    </tr>\n    <tr>\n      <th>996</th>\n      <td>0.0</td>\n      <td>0.0</td>\n      <td>0.0</td>\n      <td>0.0</td>\n      <td>0.0</td>\n      <td>0.0</td>\n      <td>0.0</td>\n      <td>0.0</td>\n      <td>0.0</td>\n      <td>0.0</td>\n      <td>1.0</td>\n      <td>0.0</td>\n      <td>0.0</td>\n      <td>0.0</td>\n      <td>0.0</td>\n      <td>0.0</td>\n      <td>0.0</td>\n      <td>0.0</td>\n      <td>0.0</td>\n      <td>0.0</td>\n    </tr>\n    <tr>\n      <th>997</th>\n      <td>0.0</td>\n      <td>0.0</td>\n      <td>0.0</td>\n      <td>0.0</td>\n      <td>0.0</td>\n      <td>0.0</td>\n      <td>1.0</td>\n      <td>0.0</td>\n      <td>0.0</td>\n      <td>0.0</td>\n      <td>0.0</td>\n      <td>1.0</td>\n      <td>0.0</td>\n      <td>0.0</td>\n      <td>1.0</td>\n      <td>0.0</td>\n      <td>0.0</td>\n      <td>0.0</td>\n      <td>0.0</td>\n      <td>0.0</td>\n    </tr>\n    <tr>\n      <th>998</th>\n      <td>0.0</td>\n      <td>1.0</td>\n      <td>0.0</td>\n      <td>0.0</td>\n      <td>1.0</td>\n      <td>0.0</td>\n      <td>0.0</td>\n      <td>0.0</td>\n      <td>0.0</td>\n      <td>0.0</td>\n      <td>0.0</td>\n      <td>0.0</td>\n      <td>0.0</td>\n      <td>0.0</td>\n      <td>0.0</td>\n      <td>0.0</td>\n      <td>0.0</td>\n      <td>0.0</td>\n      <td>0.0</td>\n      <td>0.0</td>\n    </tr>\n    <tr>\n      <th>999</th>\n      <td>0.0</td>\n      <td>0.0</td>\n      <td>0.0</td>\n      <td>0.0</td>\n      <td>1.0</td>\n      <td>0.0</td>\n      <td>0.0</td>\n      <td>1.0</td>\n      <td>1.0</td>\n      <td>0.0</td>\n      <td>0.0</td>\n      <td>0.0</td>\n      <td>0.0</td>\n      <td>0.0</td>\n      <td>0.0</td>\n      <td>0.0</td>\n      <td>0.0</td>\n      <td>0.0</td>\n      <td>0.0</td>\n      <td>0.0</td>\n    </tr>\n  </tbody>\n</table>\n<p>1000 rows × 20 columns</p>\n</div>"
     },
     "execution_count": 207,
     "metadata": {},
     "output_type": "execute_result"
    }
   ],
   "source": [
    "temp_movie"
   ],
   "metadata": {
    "collapsed": false,
    "ExecuteTime": {
     "end_time": "2023-09-02T13:12:56.883503500Z",
     "start_time": "2023-09-02T13:12:56.816003500Z"
    }
   },
   "id": "efde302c21bbe7dc"
  },
  {
   "cell_type": "code",
   "execution_count": 212,
   "outputs": [
    {
     "data": {
      "text/plain": "Drama        513.0\nAction       303.0\nComedy       279.0\nAdventure    259.0\nThriller     195.0\nCrime        150.0\nRomance      141.0\nSci-Fi       120.0\nHorror       119.0\nMystery      106.0\nFantasy      101.0\nBiography     81.0\nFamily        51.0\nAnimation     49.0\nHistory       29.0\nSport         18.0\nMusic         16.0\nWar           13.0\nWestern        7.0\nMusical        5.0\ndtype: float64"
     },
     "execution_count": 212,
     "metadata": {},
     "output_type": "execute_result"
    }
   ],
   "source": [
    "genre=temp_movie.sum().sort_values(ascending=False)\n",
    "genre"
   ],
   "metadata": {
    "collapsed": false,
    "ExecuteTime": {
     "end_time": "2023-09-02T13:15:02.984109900Z",
     "start_time": "2023-09-02T13:15:02.873979900Z"
    }
   },
   "id": "4345a2277824956f"
  },
  {
   "cell_type": "code",
   "execution_count": 211,
   "outputs": [
    {
     "data": {
      "text/plain": "<Axes: >"
     },
     "execution_count": 211,
     "metadata": {},
     "output_type": "execute_result"
    },
    {
     "data": {
      "text/plain": "<Figure size 2000x800 with 1 Axes>",
      "image/png": "[encoded data removed]"
     },
     "metadata": {},
     "output_type": "display_data"
    }
   ],
   "source": [
    "genre.plot(kind='bar',colormap='cool',figsize=(20,8))"
   ],
   "metadata": {
    "collapsed": false,
    "ExecuteTime": {
     "end_time": "2023-09-02T13:14:48.944409500Z",
     "start_time": "2023-09-02T13:14:48.790434400Z"
    }
   },
   "id": "b9d6b4b466ec3267"
  },
  {
   "cell_type": "code",
   "execution_count": null,
   "outputs": [],
   "source": [],
   "metadata": {
    "collapsed": false
   },
   "id": "9027e1ff4c87fbee"
  }
 ],
 "metadata": {
  "kernelspec": {
   "display_name": "Python 3",
   "language": "python",
   "name": "python3"
  },
  "language_info": {
   "codemirror_mode": {
    "name": "ipython",
    "version": 2
   },
   "file_extension": ".py",
   "mimetype": "text/x-python",
   "name": "python",
   "nbconvert_exporter": "python",
   "pygments_lexer": "ipython2",
   "version": "2.7.6"
  }
 },
 "nbformat": 4,
 "nbformat_minor": 5
}
