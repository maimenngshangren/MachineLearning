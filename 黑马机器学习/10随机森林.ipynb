{
 "cells": [
  {
   "cell_type": "code",
   "execution_count": null,
   "id": "initial_id",
   "metadata": {
    "collapsed": true,
    "is_executing": true
   },
   "outputs": [],
   "source": [
    "import numpy as np\n",
    "import pandas as pd\n",
    "import matplotlib.pyplot as plt\n",
    "import seaborn as sns"
   ]
  },
  {
   "cell_type": "markdown",
   "source": [],
   "metadata": {
    "collapsed": false
   },
   "id": "3ae726f9162a17f7"
  },
  {
   "cell_type": "code",
   "execution_count": null,
   "outputs": [],
   "source": [
    "# 数据获取\n",
    "data=pd.read_csv('./data/otto/train.csv')\n",
    "data.describe()"
   ],
   "metadata": {
    "collapsed": false,
    "is_executing": true
   },
   "id": "467720740b2c9560"
  },
  {
   "cell_type": "code",
   "execution_count": null,
   "outputs": [],
   "source": [
    "data.shape"
   ],
   "metadata": {
    "collapsed": false,
    "is_executing": true
   },
   "id": "7bffad147c22aedd"
  },
  {
   "cell_type": "code",
   "execution_count": null,
   "outputs": [],
   "source": [
    "data.head()"
   ],
   "metadata": {
    "collapsed": false,
    "is_executing": true
   },
   "id": "125782f2b4a2ba81"
  },
  {
   "cell_type": "code",
   "execution_count": null,
   "outputs": [],
   "source": [
    "# 数据可视化\n",
    "sns.countplot(data.target)\n",
    "plt.show()"
   ],
   "metadata": {
    "collapsed": false,
    "is_executing": true
   },
   "id": "9afaa153213ade92"
  },
  {
   "cell_type": "code",
   "execution_count": null,
   "outputs": [],
   "source": [
    "# 数据基本处理"
   ],
   "metadata": {
    "collapsed": false,
    "is_executing": true
   },
   "id": "ac1dc23c65646f8b"
  },
  {
   "cell_type": "code",
   "execution_count": null,
   "outputs": [],
   "source": [
    "new_data = data[:10000]\n",
    "new_data.shape"
   ],
   "metadata": {
    "collapsed": false,
    "is_executing": true
   },
   "id": "8ccef1e955364faa"
  },
  {
   "cell_type": "code",
   "execution_count": null,
   "outputs": [],
   "source": [
    "sns.countplot(new_data.target)\n",
    "plt.show()"
   ],
   "metadata": {
    "collapsed": false,
    "is_executing": true
   },
   "id": "40f718fc3bee40ef"
  },
  {
   "cell_type": "code",
   "execution_count": null,
   "outputs": [],
   "source": [
    "# 随机欠采样获取数据\n",
    "# 首先需要确定特征值\n",
    "\n",
    "y=data['target']\n",
    "x=data.drop(['id', 'target'], axis=1)"
   ],
   "metadata": {
    "collapsed": false,
    "is_executing": true
   },
   "id": "b113ae010b050d76"
  },
  {
   "cell_type": "code",
   "execution_count": null,
   "outputs": [],
   "source": [
    "x.head()"
   ],
   "metadata": {
    "collapsed": false,
    "is_executing": true
   },
   "id": "163503b3d85ae6b0"
  },
  {
   "cell_type": "code",
   "execution_count": null,
   "outputs": [],
   "source": [
    "y.head()"
   ],
   "metadata": {
    "collapsed": false,
    "is_executing": true
   },
   "id": "b7be72a84b0bcf1d"
  },
  {
   "cell_type": "code",
   "execution_count": null,
   "outputs": [],
   "source": [
    "# 欠采样获取数据\n",
    "from imblearn.under_sampling import RandomUnderSampler\n",
    "\n",
    "rus = RandomUnderSampler(random_state=0)\n",
    "\n",
    "x_resampled, y_resampled = rus.fit_resample(x,y)"
   ],
   "metadata": {
    "collapsed": false,
    "is_executing": true
   },
   "id": "a0ec427c994eeb97"
  },
  {
   "cell_type": "code",
   "execution_count": null,
   "outputs": [],
   "source": [
    "x_resampled.shape"
   ],
   "metadata": {
    "collapsed": false,
    "is_executing": true
   },
   "id": "1e34eb6f9023f9a5"
  },
  {
   "cell_type": "code",
   "execution_count": null,
   "outputs": [],
   "source": [
    "y_resampled.shape"
   ],
   "metadata": {
    "collapsed": false,
    "is_executing": true
   },
   "id": "962d8e17ac2ddf8f"
  },
  {
   "cell_type": "code",
   "execution_count": null,
   "outputs": [],
   "source": [
    " sns.countplot(y_resampled)"
   ],
   "metadata": {
    "collapsed": false,
    "is_executing": true
   },
   "id": "2843cd0c30892628"
  },
  {
   "cell_type": "code",
   "execution_count": null,
   "outputs": [],
   "source": [
    "# 把标签值转换为数字\n",
    "from sklearn.preprocessing import LabelEncoder\n",
    "\n",
    "le=LabelEncoder()\n",
    "y_resampled=le.fit_transform(y_resampled)"
   ],
   "metadata": {
    "collapsed": false,
    "is_executing": true
   },
   "id": "c7db07ea34ac2acb"
  },
  {
   "cell_type": "code",
   "execution_count": null,
   "outputs": [],
   "source": [
    "# 分割数据\n",
    "from sklearn.model_selection import train_test_split\n",
    "\n",
    "x_train, x_test, y_train, y_test = train_test_split(x_resampled, y_resampled, test_size=0.2)"
   ],
   "metadata": {
    "collapsed": false,
    "is_executing": true
   },
   "id": "21d4cc6986ed2a7b"
  },
  {
   "cell_type": "code",
   "execution_count": null,
   "outputs": [],
   "source": [
    "# 模型训练\n",
    "# 基本数据处理\n",
    "from sklearn.ensemble import RandomForestClassifier\n",
    "\n",
    "rf=RandomForestClassifier(oob_score=True)\n",
    "rf.fit(x_train, y_train)"
   ],
   "metadata": {
    "collapsed": false,
    "is_executing": true
   },
   "id": "6f021937a3fcefcd"
  },
  {
   "cell_type": "code",
   "execution_count": null,
   "outputs": [],
   "source": [
    "y_pre=rf.predict(x_test)\n",
    "y_pre"
   ],
   "metadata": {
    "collapsed": false,
    "is_executing": true
   },
   "id": "730e23fc92b5ddb6"
  },
  {
   "cell_type": "code",
   "execution_count": null,
   "outputs": [],
   "source": [
    "rf.score(x_test, y_test)"
   ],
   "metadata": {
    "collapsed": false,
    "is_executing": true
   },
   "id": "3f997d48b66c4df2"
  },
  {
   "cell_type": "code",
   "execution_count": null,
   "outputs": [],
   "source": [
    "rf.oob_score_"
   ],
   "metadata": {
    "collapsed": false,
    "is_executing": true
   },
   "id": "b20576a48e115dc4"
  },
  {
   "cell_type": "code",
   "execution_count": null,
   "outputs": [],
   "source": [
    "sns.countplot(y_pre)\n",
    "plt.show()"
   ],
   "metadata": {
    "collapsed": false,
    "is_executing": true
   },
   "id": "be339843d2fecaf6"
  },
  {
   "cell_type": "code",
   "execution_count": null,
   "outputs": [],
   "source": [
    "# logloss模型评估\n",
    "from sklearn.metrics import log_loss\n",
    "\n",
    "log_loss(y_test, y_pre, eps=1e-15, normalize=True)"
   ],
   "metadata": {
    "collapsed": false,
    "is_executing": true
   },
   "id": "9d02ad2cbe8a46c4"
  },
  {
   "cell_type": "markdown",
   "source": [
    "上面报错原因是logloss使用过程要求输出用one-hot表示\n",
    "需要将多类别问题的输出结果通过OneHotEncoder修改为如下："
   ],
   "metadata": {
    "collapsed": false
   },
   "id": "2d9f2dbcd964a02d"
  },
  {
   "cell_type": "code",
   "execution_count": null,
   "outputs": [],
   "source": [
    "from sklearn.preprocessing import OneHotEncoder\n",
    "\n",
    "one_hot = OneHotEncoder(sparse=False)\n",
    "y_test1 = one_hot.fit_transform(y_test.reshape(-1, 1))\n",
    "y_pre1 = one_hot.fit_transform(y_pre.reshape(-1,1))"
   ],
   "metadata": {
    "collapsed": false,
    "is_executing": true
   },
   "id": "dd6b564f00592abd"
  },
  {
   "cell_type": "code",
   "execution_count": null,
   "outputs": [],
   "source": [
    "log_loss(y_test1, y_pre1, eps=1e-15, normalize=True)"
   ],
   "metadata": {
    "collapsed": false,
    "is_executing": true
   },
   "id": "c21c3ff60114505a"
  },
  {
   "cell_type": "code",
   "execution_count": null,
   "outputs": [],
   "source": [
    "# 改变预测值的输出模式，让输出结果为百分占比降低logloss值\n",
    "y_pre_proba = rf.predict_proba(x_test)\n",
    "y_pre_proba"
   ],
   "metadata": {
    "collapsed": false,
    "is_executing": true
   },
   "id": "c7dffdfa7f5613a2"
  },
  {
   "cell_type": "markdown",
   "source": [
    "# 模型调优\n",
    "n_extimators, max_feature, max_depth, min_sample_leaf"
   ],
   "metadata": {
    "collapsed": false
   },
   "id": "72566071e5581a65"
  },
  {
   "cell_type": "code",
   "execution_count": null,
   "outputs": [],
   "source": [
    "# 确定最优的n_estimators\n",
    "tuned_parameters=range(10,200,10)\n",
    "# 创建添加accuracy的numpy\n",
    "accuracy_t = np.zeros(len(tuned_parameters))\n",
    "# 创建添加error的numpy\n",
    "error_t = np.zeros(len(tuned_parameters))\n",
    "\n",
    "# 调优过程实现\n",
    "for j, one_estimator in enumerate(tuned_parameters):\n",
    "    rf2 = RandomForestClassifier(n_estimators=one_estimator, \n",
    "                                 max_depth=10, \n",
    "                                 max_features=10, \n",
    "                                 min_samples_split=10, \n",
    "                                 oob_score=True, \n",
    "                                 random_state=0, \n",
    "                                 n_jobs=-1)\n",
    "    rf2.fit(x_train, y_train)\n",
    "    \n",
    "    # 输出accuracy\n",
    "    accuracy_t[j]=rf2.oob_score_\n",
    "    \n",
    "    # 输出logloss\n",
    "    y_pre = rf2.predict_proba(x_test)\n",
    "    error_t[j] = log_loss(y_test, y_pre, eps=1e-5, normalize=True)\n",
    "    \n",
    "    print(error_t)\n",
    "    "
   ],
   "metadata": {
    "collapsed": false,
    "is_executing": true
   },
   "id": "17fb07b788f3e7a1"
  },
  {
   "cell_type": "code",
   "execution_count": null,
   "outputs": [],
   "source": [
    "fig, axes = plt.subplots(nrows=1, ncols=2, figsize=(20,4), dpi=100)\n",
    "axes[0].plot(tuned_parameters, error_t)\n",
    "axes[1].plot(tuned_parameters, accuracy_t)\n",
    "\n",
    "axes[0].set_xlabel('n_estimators')\n",
    "axes[0].set_ylabel('error_t')\n",
    "axes[1].set_xlabel('n_estimators')\n",
    "axes[1].set_ylabel('accuracy_t')\n",
    "\n",
    "axes[0].grid(True)\n",
    "axes[1].grid(True)\n",
    "\n",
    "plt.show()"
   ],
   "metadata": {
    "collapsed": false,
    "is_executing": true
   },
   "id": "b2ae2dfd5280f222"
  },
  {
   "cell_type": "code",
   "execution_count": null,
   "outputs": [],
   "source": [
    "# 确定最优的max_features的范围\n",
    "tuned_parameters=range(5,40,5)\n",
    "# 创建添加accuracy的numpy\n",
    "accuracy_t = np.zeros(len(tuned_parameters))\n",
    "# 创建添加error的numpy\n",
    "error_t = np.zeros(len(tuned_parameters))\n",
    "\n",
    "# 调优过程实现\n",
    "for j, one_estimator in enumerate(tuned_parameters):\n",
    "    rf2 = RandomForestClassifier(n_estimators=175, \n",
    "                                 max_depth=10, \n",
    "                                 max_features=one_estimator, \n",
    "                                 min_samples_split=10, \n",
    "                                 oob_score=True, \n",
    "                                 random_state=0, \n",
    "                                 n_jobs=-1)\n",
    "    rf2.fit(x_train, y_train)\n",
    "    \n",
    "    # 输出accuracy\n",
    "    accuracy_t[j]=rf2.oob_score_\n",
    "    \n",
    "    # 输出logloss\n",
    "    y_pre = rf2.predict_proba(x_test)\n",
    "    error_t[j] = log_loss(y_test, y_pre, eps=1e-5, normalize=True)\n",
    "    \n",
    "    print(error_t)\n",
    "\n",
    "fig, axes = plt.subplots(nrows=1, ncols=2, figsize=(20, 4), dpi=100)\n",
    "axes[0].plot(tuned_parameters, error_t)\n",
    "axes[1].plot(tuned_parameters, accuracy_t)\n",
    "\n",
    "axes[0].set_xlabel('max_features')\n",
    "axes[0].set_ylabel('error_t')\n",
    "axes[1].set_xlabel('max_features')\n",
    "axes[1].set_ylabel('accuracy_t')\n",
    "\n",
    "axes[0].grid(True)\n",
    "axes[1].grid(True)\n",
    "\n",
    "plt.show()"
   ],
   "metadata": {
    "collapsed": false,
    "is_executing": true
   },
   "id": "3a1a290a236e9e1d"
  },
  {
   "cell_type": "code",
   "execution_count": null,
   "outputs": [],
   "source": [
    "# 确定最优的max_depth的范围\n",
    "tuned_parameters=range(10,100,10)\n",
    "# 创建添加accuracy的numpy\n",
    "accuracy_t = np.zeros(len(tuned_parameters))\n",
    "# 创建添加error的numpy\n",
    "error_t = np.zeros(len(tuned_parameters))\n",
    "\n",
    "# 调优过程实现\n",
    "for j, one_estimator in enumerate(tuned_parameters):\n",
    "    rf2 = RandomForestClassifier(n_estimators=175, \n",
    "                                 max_depth=one_estimator, \n",
    "                                 max_features=15, \n",
    "                                 min_samples_split=10, \n",
    "                                 oob_score=True, \n",
    "                                 random_state=0, \n",
    "                                 n_jobs=-1)\n",
    "    rf2.fit(x_train, y_train)\n",
    "    \n",
    "    # 输出accuracy\n",
    "    accuracy_t[j]=rf2.oob_score_\n",
    "    \n",
    "    # 输出logloss\n",
    "    y_pre = rf2.predict_proba(x_test)\n",
    "    error_t[j] = log_loss(y_test, y_pre, eps=1e-5, normalize=True)\n",
    "    \n",
    "    print(error_t)\n",
    "\n",
    "fig, axes = plt.subplots(nrows=1, ncols=2, figsize=(20, 4), dpi=100)\n",
    "axes[0].plot(tuned_parameters, error_t)\n",
    "axes[1].plot(tuned_parameters, accuracy_t)\n",
    "\n",
    "axes[0].set_xlabel('max_depth')\n",
    "axes[0].set_ylabel('error_t')\n",
    "axes[1].set_xlabel('max_depth')\n",
    "axes[1].set_ylabel('accuracy_t')\n",
    "\n",
    "axes[0].grid(True)\n",
    "axes[1].grid(True)\n",
    "\n",
    "plt.show()"
   ],
   "metadata": {
    "collapsed": false,
    "is_executing": true
   },
   "id": "1a03f47b444d7200"
  },
  {
   "cell_type": "code",
   "execution_count": null,
   "outputs": [],
   "source": [
    "# 确定最优的min_samples_leaf的范围\n",
    "tuned_parameters=range(1,10,2)\n",
    "# 创建添加accuracy的numpy\n",
    "accuracy_t = np.zeros(len(tuned_parameters))\n",
    "# 创建添加error的numpy\n",
    "error_t = np.zeros(len(tuned_parameters))\n",
    "\n",
    "# 调优过程实现\n",
    "for j, one_estimator in enumerate(tuned_parameters):\n",
    "    rf2 = RandomForestClassifier(n_estimators=175, \n",
    "                                 max_depth=10, \n",
    "                                 max_features=30, \n",
    "                                 min_samples_leaf=one_estimator, \n",
    "                                 oob_score=True, \n",
    "                                 random_state=0, \n",
    "                                 n_jobs=-1)\n",
    "    rf2.fit(x_train, y_train)\n",
    "    \n",
    "    # 输出accuracy\n",
    "    accuracy_t[j]=rf2.oob_score_\n",
    "    \n",
    "    # 输出logloss\n",
    "    y_pre = rf2.predict_proba(x_test)\n",
    "    error_t[j] = log_loss(y_test, y_pre, eps=1e-5, normalize=True)\n",
    "    \n",
    "    print(error_t)\n",
    "\n",
    "fig, axes = plt.subplots(nrows=1, ncols=2, figsize=(20, 4), dpi=100)\n",
    "axes[0].plot(tuned_parameters, error_t)\n",
    "axes[1].plot(tuned_parameters, accuracy_t)\n",
    "\n",
    "axes[0].set_xlabel('min_samples_leaf')\n",
    "axes[0].set_ylabel('error_t')\n",
    "axes[1].set_xlabel('min_samples_leaf')\n",
    "axes[1].set_ylabel('accuracy_t')\n",
    "\n",
    "axes[0].grid(True)\n",
    "axes[1].grid(True)\n",
    "\n",
    "plt.show()"
   ],
   "metadata": {
    "collapsed": false,
    "is_executing": true
   },
   "id": "37f171b4a3519c23"
  },
  {
   "cell_type": "code",
   "execution_count": null,
   "outputs": [],
   "source": [
    "# 最优模型\n",
    "rf3 = RandomForestClassifier(n_estimators=175, max_depth=30, max_features=15, min_samples_leaf=1, oob_score=True, random_state=40)\n",
    "\n",
    "rf3.fit(x_train, y_train)\n",
    "rf3.score(x_test, y_test)"
   ],
   "metadata": {
    "collapsed": false,
    "is_executing": true
   },
   "id": "dd52e8f26b68ac26"
  },
  {
   "cell_type": "code",
   "execution_count": null,
   "outputs": [],
   "source": [
    "rf3.oob_score_"
   ],
   "metadata": {
    "collapsed": false,
    "is_executing": true
   },
   "id": "b4ee8aa185ba428a"
  },
  {
   "cell_type": "code",
   "execution_count": null,
   "outputs": [],
   "source": [
    "y_pre_proba1 = rf3.predict_proba(x_test)\n",
    "log_loss(y_test, y_pre_proba1)"
   ],
   "metadata": {
    "collapsed": false,
    "is_executing": true
   },
   "id": "ca1553a153273148"
  },
  {
   "cell_type": "code",
   "execution_count": null,
   "outputs": [],
   "source": [
    " # 生成提交数据\n",
    "test_data = pd.read_csv('./data/otto/test.csv')\n",
    "test_data.head()"
   ],
   "metadata": {
    "collapsed": false,
    "is_executing": true
   },
   "id": "d66466384e5d85d8"
  },
  {
   "cell_type": "code",
   "execution_count": null,
   "outputs": [],
   "source": [
    "test_data = test_data.drop(['id'],axis=1 )\n",
    "y_pre_test = rf3.predict_proba(test_data)\n",
    "y_pre_test"
   ],
   "metadata": {
    "collapsed": false,
    "is_executing": true
   },
   "id": "25119edf5c2d4762"
  },
  {
   "cell_type": "code",
   "execution_count": null,
   "outputs": [],
   "source": [
    "result_data =  pd.DataFrame(y_pre_test, columns=['Class_' + str(i) for i in range(1,10)])\n",
    "result_data.head()"
   ],
   "metadata": {
    "collapsed": false,
    "is_executing": true
   },
   "id": "465fdcef9007c0ce"
  },
  {
   "cell_type": "code",
   "execution_count": null,
   "outputs": [],
   "source": [
    "result_data.insert(loc=0, column='id', value=test_data.id)"
   ],
   "metadata": {
    "collapsed": false,
    "is_executing": true
   },
   "id": "a915cda541b5378e"
  },
  {
   "cell_type": "code",
   "execution_count": null,
   "outputs": [],
   "source": [],
   "metadata": {
    "collapsed": false,
    "is_executing": true
   },
   "id": "6ebcadf9e15243a8"
  },
  {
   "cell_type": "code",
   "execution_count": null,
   "outputs": [],
   "source": [],
   "metadata": {
    "collapsed": false,
    "is_executing": true
   },
   "id": "aa02f967dce4d76e"
  },
  {
   "cell_type": "code",
   "execution_count": null,
   "outputs": [],
   "source": [],
   "metadata": {
    "collapsed": false,
    "is_executing": true
   },
   "id": "ff1c699cfb2d908e"
  }
 ],
 "metadata": {
  "kernelspec": {
   "display_name": "Python 3",
   "language": "python",
   "name": "python3"
  },
  "language_info": {
   "codemirror_mode": {
    "name": "ipython",
    "version": 2
   },
   "file_extension": ".py",
   "mimetype": "text/x-python",
   "name": "python",
   "nbconvert_exporter": "python",
   "pygments_lexer": "ipython2",
   "version": "2.7.6"
  }
 },
 "nbformat": 4,
 "nbformat_minor": 5
}
